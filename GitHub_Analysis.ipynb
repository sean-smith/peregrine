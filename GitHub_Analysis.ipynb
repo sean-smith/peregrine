{
 "cells": [
  {
   "cell_type": "markdown",
   "metadata": {},
   "source": [
    "# Github Data Analysis\n",
    "* Sean Smith <swsmith@bu.edu> \n",
    "* Ann Ming Samborski <asambors@bu.edu>"
   ]
  },
  {
   "cell_type": "markdown",
   "metadata": {},
   "source": [
    "# Differences From Our Initial Report\n",
    "In our initial report submission, we focused on the popularity of languages and spoke mainly about how we'd like to study the rise and fall of different languages as a function of time. However, we realize that while we would love to compare GitHub's data to StackOverflow [1], there was still a lot more that we could do with the data collected. \n",
    "\n",
    "In addition to our desire to study different questions about the GitHub data, we also realized there is a slight skew to our collected data. It is reporting that the most common language is Ruby, but according to Stack Overflow surveys, JavaScript should have been the most popular. We only have a portion of GitHub's repositories so we cannot be certain one way or the other of which language is in fact most popular. Due to this inaccuracy, we decided to focus our efforts in another direction.\n",
    "\n",
    "That being said, we now switch over to a focus on predicting the top language. We would like to see what combination of feature vectors (features shown below) can be used to best predict the top language a repository will have. Clearly, we would like to explore how to best minimize features required."
   ]
  },
  {
   "cell_type": "markdown",
   "metadata": {},
   "source": [
    "# References\n",
    "1. [Stack Overflow Most Popular Languages 2017](https://stackoverflow.com/insights/survey/2017#technology-programming-languages)\n",
    "2. [Pandas Scatter Plot](http://pandas.pydata.org/pandas-docs/stable/visualization.html#scatter-plot)\n",
    "3. [Sampling](http://pandas.pydata.org/pandas-docs/stable/generated/pandas.DataFrame.sample.html)"
   ]
  },
  {
   "cell_type": "markdown",
   "metadata": {},
   "source": [
    "## Dataset\n",
    "We collected `137,100` repositories. We recognize more data would have been ideal, but the GitHub API rate limit, even with that increased thanks to GitHub Support, still restricts the amount of information we can make (especially because 1 repository requires 2 additional API calls). The information collected per repository is below.\n",
    "\n",
    "| Name          | Description   |\n",
    "| ------------- |:--------------|\n",
    "| name          | Owner/Repository name |\n",
    "| owner         | Owner name |\n",
    "| watchers      | Number of watchers |\n",
    "| stars         | Number of stars |\n",
    "| forks         | Number of forks |\n",
    "| type          | Type of account, organization or user |\n",
    "| issues        | Number of issues|\n",
    "| created_at    | Date created |\n",
    "| pushed_at     | Date last pushed |\n",
    "| updated_at    | Date last updated |\n",
    "| size          | Size of repo in KB|\n",
    "| open_issues   | Number of open issues |\n",
    "| description   | Repository description |\n",
    "| num_languages | Number of programming languages |\n",
    "|language_1     | Most popular language |\n",
    "|language_1_size| Most popular language size in bytes |\n",
    "|language_2     | Second most popular language |\n",
    "|language_2_size| Second most popular language size in bytes |\n",
    "|language_3     | Third most popular language |\n",
    "|language_3_size| Third most popular language size in bytes |"
   ]
  },
  {
   "cell_type": "markdown",
   "metadata": {},
   "source": [
    "## Data Collection Code"
   ]
  },
  {
   "cell_type": "markdown",
   "metadata": {
    "collapsed": false
   },
   "source": [
    "Please see our initial report on our data and how we collected it for fleshed out details. "
   ]
  },
  {
   "cell_type": "markdown",
   "metadata": {},
   "source": [
    "## Data"
   ]
  },
  {
   "cell_type": "code",
   "execution_count": 1,
   "metadata": {
    "collapsed": false
   },
   "outputs": [],
   "source": [
    "# INCLUDES\n",
    "import requests\n",
    "from pprint import pprint\n",
    "import collections\n",
    "import pandas as pd\n",
    "import time\n",
    "import matplotlib.pyplot as plt\n",
    "import matplotlib.dates as mdates\n",
    "import math\n",
    "%matplotlib inline\n",
    "\n",
    "import json\n",
    "import random\n",
    "import re\n",
    "import numpy as np \n",
    "from datetime import datetime\n",
    "import warnings\n",
    "import sklearn\n",
    "\n",
    "import matplotlib.cm as cm\n",
    "import seaborn as sns\n",
    "\n",
    "from sklearn.feature_extraction.text import TfidfVectorizer \n",
    "from sklearn.feature_extraction.text import CountVectorizer\n",
    "from nltk.stem.snowball import SnowballStemmer\n",
    "from nltk.tokenize import word_tokenize, sent_tokenize\n",
    "from sklearn.preprocessing import scale\n",
    "from sklearn.preprocessing import Normalizer\n",
    "import sklearn.metrics as metrics\n",
    "import scipy.sparse.linalg as linalg\n",
    "from sklearn import preprocessing\n",
    "\n",
    "from sklearn.metrics import classification_report\n",
    "from sklearn.naive_bayes import MultinomialNB\n",
    "from sklearn.linear_model import LogisticRegression\n",
    "from sklearn.metrics import accuracy_score\n",
    "from sklearn.metrics import roc_curve, auc\n",
    "import statsmodels.api as sm \n",
    "import sklearn.svm as svm\n",
    "\n",
    "from sklearn.neighbors import KNeighborsClassifier\n",
    "from sklearn.model_selection import train_test_split\n",
    "from sklearn import tree\n",
    "import sklearn.model_selection as cross_validation\n",
    "\n",
    "# IGNORE WARNINGS\n",
    "with warnings.catch_warnings():\n",
    "    warnings.filterwarnings(\"ignore\", category=Warning)"
   ]
  },
  {
   "cell_type": "code",
   "execution_count": 2,
   "metadata": {
    "collapsed": false
   },
   "outputs": [],
   "source": [
    "# Read in data\n",
    "df = pd.read_csv('github_data.csv')"
   ]
  },
  {
   "cell_type": "code",
   "execution_count": 3,
   "metadata": {
    "collapsed": false
   },
   "outputs": [
    {
     "name": "stdout",
     "output_type": "stream",
     "text": [
      "Number of entries 20\n",
      "2007-10-29T14:37:16Z\n",
      "2010-06-24T18:49:38Z\n"
     ]
    }
   ],
   "source": [
    "print(\"Number of entries %d\" % df.shape[1])\n",
    "\n",
    "print(min(df.created_at))\n",
    "print(max(df.created_at))"
   ]
  },
  {
   "cell_type": "code",
   "execution_count": 4,
   "metadata": {
    "collapsed": false
   },
   "outputs": [
    {
     "data": {
      "text/plain": [
       "User            130069\n",
       "Organization      7031\n",
       "Name: type, dtype: int64"
      ]
     },
     "execution_count": 4,
     "metadata": {},
     "output_type": "execute_result"
    }
   ],
   "source": [
    "df.type.value_counts()"
   ]
  },
  {
   "cell_type": "markdown",
   "metadata": {},
   "source": [
    "## Most Popular Programming Language\n",
    "Listed by percent of total repositories"
   ]
  },
  {
   "cell_type": "code",
   "execution_count": 5,
   "metadata": {
    "collapsed": false
   },
   "outputs": [
    {
     "data": {
      "text/plain": [
       "Ruby           0.265142\n",
       "JavaScript     0.109643\n",
       "Python         0.082662\n",
       "PHP            0.054588\n",
       "Java           0.046565\n",
       "C              0.044274\n",
       "Perl           0.036667\n",
       "C++            0.032028\n",
       "Objective-C    0.020802\n",
       "C#             0.015740\n",
       "Name: language_1, dtype: float64"
      ]
     },
     "execution_count": 5,
     "metadata": {},
     "output_type": "execute_result"
    }
   ],
   "source": [
    "# Top 20\n",
    "df.language_1.value_counts()[:10] / len(df)"
   ]
  },
  {
   "cell_type": "code",
   "execution_count": 7,
   "metadata": {
    "collapsed": false
   },
   "outputs": [
    {
     "name": "stdout",
     "output_type": "stream",
     "text": [
      "CPU times: user 0 ns, sys: 0 ns, total: 0 ns\n",
      "Wall time: 4.29 µs\n"
     ]
    },
    {
     "data": {
      "text/plain": [
       "<matplotlib.axes._subplots.AxesSubplot at 0x7f2c4d1bb208>"
      ]
     },
     "execution_count": 7,
     "metadata": {},
     "output_type": "execute_result"
    },
    {
     "data": {
      "image/png": "[encoded data removed]",
      "text/plain": [
       "<matplotlib.figure.Figure at 0x7f2c48680ac8>"
      ]
     },
     "metadata": {},
     "output_type": "display_data"
    }
   ],
   "source": [
    "%time\n",
    "df.language_1.value_counts()[:5].plot.bar()"
   ]
  },
  {
   "cell_type": "markdown",
   "metadata": {},
   "source": [
    "# Ruby Popularity over Time"
   ]
  },
  {
   "cell_type": "code",
   "execution_count": 6,
   "metadata": {
    "collapsed": false
   },
   "outputs": [],
   "source": [
    "ruby_popularity = df[df.language_1 == 'Ruby'].filter(['language_1_size', 'created_at'])"
   ]
  },
  {
   "cell_type": "code",
   "execution_count": 7,
   "metadata": {
    "collapsed": false
   },
   "outputs": [
    {
     "name": "stdout",
     "output_type": "stream",
     "text": [
      "Min: 2007-10-29T14:37:16Z\n",
      "Max: 2010-06-24T18:44:50Z\n"
     ]
    },
    {
     "data": {
      "text/plain": [
       "(0, 20000000)"
      ]
     },
     "execution_count": 7,
     "metadata": {},
     "output_type": "execute_result"
    },
    {
     "data": {
      "image/png": "[encoded data removed]",
      "text/plain": [
       "<matplotlib.figure.Figure at 0x1183d6590>"
      ]
     },
     "metadata": {},
     "output_type": "display_data"
    }
   ],
   "source": [
    "# import matplotlib.pyplot as plt\n",
    "# axes = plt.subplot()\n",
    "print(\"Min: %s\" % ruby_popularity.created_at.min())\n",
    "print(\"Max: %s\" % ruby_popularity.created_at.max())\n",
    "\n",
    "# bins = ruby_popularity.created_at.hist(bins=10)\n",
    "# bins[0][0].x_label('created_at')\n",
    "plt = ruby_popularity.plot(x='created_at', y='language_1_size')\n",
    "plt.set_ylim([0,20000000])"
   ]
  },
  {
   "cell_type": "markdown",
   "metadata": {},
   "source": [
    "# Forks vs Stars"
   ]
  },
  {
   "cell_type": "code",
   "execution_count": 8,
   "metadata": {
    "collapsed": false
   },
   "outputs": [
    {
     "data": {
      "text/plain": [
       "<matplotlib.axes._subplots.AxesSubplot at 0x11356c350>"
      ]
     },
     "execution_count": 8,
     "metadata": {},
     "output_type": "execute_result"
    },
    {
     "data": {
      "image/png": "[encoded data removed]",
      "text/plain": [
       "<matplotlib.figure.Figure at 0x1183d6490>"
      ]
     },
     "metadata": {},
     "output_type": "display_data"
    }
   ],
   "source": [
    "df.plot.scatter(x='stars', y='forks', xlim=[-1000,60000], ylim=[-1000,30000])"
   ]
  },
  {
   "cell_type": "markdown",
   "metadata": {
    "collapsed": false
   },
   "source": [
    "# Can we predict the number of stars a repository has?"
   ]
  },
  {
   "cell_type": "code",
   "execution_count": 9,
   "metadata": {
    "collapsed": false
   },
   "outputs": [],
   "source": [
    "# I am dumb, we need the stars"
   ]
  },
  {
   "cell_type": "code",
   "execution_count": 12,
   "metadata": {
    "collapsed": false
   },
   "outputs": [],
   "source": [
    "# Eliminate feature vectors that will not aid in the prediction of stars\n",
    "guess_stars = df[['watchers', 'stars', 'forks', 'type', 'issues', 'size', \n",
    "                  'open_issues_count', 'num_languages', 'language_1', \n",
    "                  'language_1_size', 'language_2', 'language_2_size', \n",
    "                  'language_3', 'language_3_size']]"
   ]
  },
  {
   "cell_type": "code",
   "execution_count": 13,
   "metadata": {
    "collapsed": false
   },
   "outputs": [
    {
     "data": {
      "text/plain": [
       "(45243, 14)"
      ]
     },
     "execution_count": 13,
     "metadata": {},
     "output_type": "execute_result"
    }
   ],
   "source": [
    "# Take a random sampling of the dataframe becuase every time I try to run it on the full dataset, \n",
    "# my kernel crashes and then so does my computer  \n",
    "random_sampling = guess_stars.sample(frac=0.33, replace=True)\n",
    "random_sampling.shape"
   ]
  },
  {
   "cell_type": "code",
   "execution_count": 15,
   "metadata": {
    "collapsed": false
   },
   "outputs": [],
   "source": [
    "# Get rid of Nan's \n",
    "random_sampling = random_sampling.replace(np.NaN, 0)"
   ]
  },
  {
   "cell_type": "code",
   "execution_count": 16,
   "metadata": {
    "collapsed": false
   },
   "outputs": [
    {
     "data": {
      "text/html": [
       "<div>\n",
       "<table border=\"1\" class=\"dataframe\">\n",
       "  <thead>\n",
       "    <tr style=\"text-align: right;\">\n",
       "      <th></th>\n",
       "      <th>watchers</th>\n",
       "      <th>stars</th>\n",
       "      <th>forks</th>\n",
       "      <th>issues</th>\n",
       "      <th>size</th>\n",
       "      <th>open_issues_count</th>\n",
       "      <th>num_languages</th>\n",
       "      <th>language_1_size</th>\n",
       "      <th>language_2_size</th>\n",
       "      <th>language_3_size</th>\n",
       "      <th>...</th>\n",
       "      <th>language_3_Vim script</th>\n",
       "      <th>language_3_VimL</th>\n",
       "      <th>language_3_Visual Basic</th>\n",
       "      <th>language_3_Vue</th>\n",
       "      <th>language_3_Web Ontology Language</th>\n",
       "      <th>language_3_XML</th>\n",
       "      <th>language_3_XProc</th>\n",
       "      <th>language_3_XS</th>\n",
       "      <th>language_3_XSLT</th>\n",
       "      <th>language_3_Yacc</th>\n",
       "    </tr>\n",
       "  </thead>\n",
       "  <tbody>\n",
       "    <tr>\n",
       "      <th>28565</th>\n",
       "      <td>1</td>\n",
       "      <td>1</td>\n",
       "      <td>0</td>\n",
       "      <td>0</td>\n",
       "      <td>188</td>\n",
       "      <td>0</td>\n",
       "      <td>1</td>\n",
       "      <td>1595.0</td>\n",
       "      <td>0.0</td>\n",
       "      <td>0.0</td>\n",
       "      <td>...</td>\n",
       "      <td>0.0</td>\n",
       "      <td>0.0</td>\n",
       "      <td>0.0</td>\n",
       "      <td>0.0</td>\n",
       "      <td>0.0</td>\n",
       "      <td>0.0</td>\n",
       "      <td>0.0</td>\n",
       "      <td>0.0</td>\n",
       "      <td>0.0</td>\n",
       "      <td>0.0</td>\n",
       "    </tr>\n",
       "    <tr>\n",
       "      <th>65264</th>\n",
       "      <td>2</td>\n",
       "      <td>1</td>\n",
       "      <td>0</td>\n",
       "      <td>0</td>\n",
       "      <td>164</td>\n",
       "      <td>0</td>\n",
       "      <td>0</td>\n",
       "      <td>0.0</td>\n",
       "      <td>0.0</td>\n",
       "      <td>0.0</td>\n",
       "      <td>...</td>\n",
       "      <td>0.0</td>\n",
       "      <td>0.0</td>\n",
       "      <td>0.0</td>\n",
       "      <td>0.0</td>\n",
       "      <td>0.0</td>\n",
       "      <td>0.0</td>\n",
       "      <td>0.0</td>\n",
       "      <td>0.0</td>\n",
       "      <td>0.0</td>\n",
       "      <td>0.0</td>\n",
       "    </tr>\n",
       "    <tr>\n",
       "      <th>19944</th>\n",
       "      <td>2</td>\n",
       "      <td>2</td>\n",
       "      <td>0</td>\n",
       "      <td>0</td>\n",
       "      <td>48</td>\n",
       "      <td>0</td>\n",
       "      <td>0</td>\n",
       "      <td>0.0</td>\n",
       "      <td>0.0</td>\n",
       "      <td>0.0</td>\n",
       "      <td>...</td>\n",
       "      <td>0.0</td>\n",
       "      <td>0.0</td>\n",
       "      <td>0.0</td>\n",
       "      <td>0.0</td>\n",
       "      <td>0.0</td>\n",
       "      <td>0.0</td>\n",
       "      <td>0.0</td>\n",
       "      <td>0.0</td>\n",
       "      <td>0.0</td>\n",
       "      <td>0.0</td>\n",
       "    </tr>\n",
       "  </tbody>\n",
       "</table>\n",
       "<p>3 rows × 359 columns</p>\n",
       "</div>"
      ],
      "text/plain": [
       "       watchers  stars  forks  issues  size  open_issues_count  num_languages  \\\n",
       "28565         1      1      0       0   188                  0              1   \n",
       "65264         2      1      0       0   164                  0              0   \n",
       "19944         2      2      0       0    48                  0              0   \n",
       "\n",
       "       language_1_size  language_2_size  language_3_size       ...         \\\n",
       "28565           1595.0              0.0              0.0       ...          \n",
       "65264              0.0              0.0              0.0       ...          \n",
       "19944              0.0              0.0              0.0       ...          \n",
       "\n",
       "       language_3_Vim script  language_3_VimL  language_3_Visual Basic  \\\n",
       "28565                    0.0              0.0                      0.0   \n",
       "65264                    0.0              0.0                      0.0   \n",
       "19944                    0.0              0.0                      0.0   \n",
       "\n",
       "       language_3_Vue  language_3_Web Ontology Language  language_3_XML  \\\n",
       "28565             0.0                               0.0             0.0   \n",
       "65264             0.0                               0.0             0.0   \n",
       "19944             0.0                               0.0             0.0   \n",
       "\n",
       "       language_3_XProc  language_3_XS  language_3_XSLT  language_3_Yacc  \n",
       "28565               0.0            0.0              0.0              0.0  \n",
       "65264               0.0            0.0              0.0              0.0  \n",
       "19944               0.0            0.0              0.0              0.0  \n",
       "\n",
       "[3 rows x 359 columns]"
      ]
     },
     "execution_count": 16,
     "metadata": {},
     "output_type": "execute_result"
    }
   ],
   "source": [
    "# Retrieve dummies\n",
    "to_dummy = ['type', 'language_1', 'language_2', 'language_3']\n",
    "df_dummies = pd.get_dummies(data=random_sampling, columns=to_dummy)\n",
    "df_dummies.head(3)"
   ]
  },
  {
   "cell_type": "code",
   "execution_count": 17,
   "metadata": {
    "collapsed": false
   },
   "outputs": [
    {
     "data": {
      "text/plain": [
       "(45243, 14)"
      ]
     },
     "execution_count": 17,
     "metadata": {},
     "output_type": "execute_result"
    }
   ],
   "source": [
    "random_sampling.shape"
   ]
  },
  {
   "cell_type": "code",
   "execution_count": 20,
   "metadata": {
    "collapsed": false
   },
   "outputs": [],
   "source": [
    "# X Data\n",
    "estimate_stars_sample = df_dummies.drop(['stars'], 1)"
   ]
  },
  {
   "cell_type": "code",
   "execution_count": 21,
   "metadata": {
    "collapsed": false
   },
   "outputs": [],
   "source": [
    "# Y data\n",
    "stars_sample = pd.DataFrame(df_dummies['stars'], columns=['stars'])"
   ]
  },
  {
   "cell_type": "markdown",
   "metadata": {},
   "source": [
    "# Negative Stars?"
   ]
  },
  {
   "cell_type": "code",
   "execution_count": 22,
   "metadata": {
    "collapsed": false
   },
   "outputs": [
    {
     "name": "stdout",
     "output_type": "stream",
     "text": [
      "stars    21087\n",
      "dtype: int64\n",
      "stars    0\n",
      "dtype: int64\n",
      "46378                       sonian/sweat_shop\n",
      "46380                      sonian/is_paranoid\n",
      "66892    ubik86/rspec-haml-scaffold-generator\n",
      "Name: name, dtype: object\n"
     ]
    }
   ],
   "source": [
    "# Some Stats\n",
    "print(stars_sample.max())\n",
    "print(stars_sample.min())\n",
    "\n",
    "print(df.loc[df['stars'] < 0].name) "
   ]
  },
  {
   "cell_type": "markdown",
   "metadata": {},
   "source": [
    "You'll notice that it claims that some of these repositories have negative stars, which we previously believed to be impossible. However, besides `sweat_shop` (where I clicked the star and moved the value from -2 to 1, unstarred and it returned to 0), you can see that the stars truly are in the negatives."
   ]
  },
  {
   "cell_type": "markdown",
   "metadata": {},
   "source": [
    "# Stars Follow a long tail"
   ]
  },
  {
   "cell_type": "code",
   "execution_count": 30,
   "metadata": {
    "collapsed": false
   },
   "outputs": [],
   "source": [
    "# Create histogram bins\n",
    "\n",
    "def histogram(data, bins, max_stars, start):\n",
    "    d = []\n",
    "    for i in range(start, int(math.ceil(max_stars / bins))):\n",
    "        min_stars = i * bins\n",
    "        max_stars = (i + 1) * bins\n",
    "        m = {}\n",
    "        m['Bin'] = \"%d-%d\" % (min_stars, max_stars)\n",
    "        m['Values'] = len(data.loc[(data.stars >= min_stars) & (data.stars < max_stars)])\n",
    "        d.append(m)\n",
    "    return d"
   ]
  },
  {
   "cell_type": "markdown",
   "metadata": {},
   "source": [
    "## From 1 - 10"
   ]
  },
  {
   "cell_type": "code",
   "execution_count": 31,
   "metadata": {
    "collapsed": false
   },
   "outputs": [
    {
     "data": {
      "image/png": "[encoded data removed]",
      "text/plain": [
       "<matplotlib.figure.Figure at 0x1136360d0>"
      ]
     },
     "metadata": {},
     "output_type": "display_data"
    }
   ],
   "source": [
    "d = histogram(stars_sample, 1, 10, 0)\n",
    "stars_hist = pd.DataFrame(d)\n",
    "ax = stars_hist.plot(x='Bin', y='Values', kind='bar')\n",
    "ax.set_title(\"Repository Stars Histogram\")\n",
    "ax.set_xlabel(\"Stars\")\n",
    "ax.set_ylabel(\"Frequency\")\n",
    "\n",
    "# Now make some labels\n",
    "labels = stars_hist.Values\n",
    "\n",
    "rects = ax.patches\n",
    "\n",
    "for rect, label in zip(rects, labels):\n",
    "    height = rect.get_height()\n",
    "    ax.text(rect.get_x() + rect.get_width()/2, height + 5, label, ha='center', va='bottom')\n"
   ]
  },
  {
   "cell_type": "markdown",
   "metadata": {},
   "source": [
    "## Zooming out 10 - 100"
   ]
  },
  {
   "cell_type": "code",
   "execution_count": 32,
   "metadata": {
    "collapsed": false
   },
   "outputs": [
    {
     "data": {
      "image/png": "[encoded data removed]",
      "text/plain": [
       "<matplotlib.figure.Figure at 0x113226390>"
      ]
     },
     "metadata": {},
     "output_type": "display_data"
    }
   ],
   "source": [
    "d = histogram(stars_sample, bins=10, max_stars=100, start=1)\n",
    "stars_hist = pd.DataFrame(d)\n",
    "ax = stars_hist.plot(x='Bin', y='Values', kind='bar')\n",
    "ax.set_title(\"Repository Stars Histogram\")\n",
    "ax.set_xlabel(\"Stars\")\n",
    "ax.set_ylabel(\"Frequency\")\n",
    "\n",
    "# Now make some labels\n",
    "labels = stars_hist.Values\n",
    "\n",
    "rects = ax.patches\n",
    "\n",
    "for rect, label in zip(rects, labels):\n",
    "    height = rect.get_height()\n",
    "    ax.text(rect.get_x() + rect.get_width()/2, height + 5, label, ha='center', va='bottom')"
   ]
  },
  {
   "cell_type": "markdown",
   "metadata": {
    "collapsed": true
   },
   "source": [
    "## Zooming out 100 - 3000"
   ]
  },
  {
   "cell_type": "code",
   "execution_count": 35,
   "metadata": {
    "collapsed": false
   },
   "outputs": [
    {
     "data": {
      "image/png": "[encoded data removed]",
      "text/plain": [
       "<matplotlib.figure.Figure at 0x113631710>"
      ]
     },
     "metadata": {},
     "output_type": "display_data"
    }
   ],
   "source": [
    "d = histogram(stars_sample, bins=100, max_stars=3000, start=1)\n",
    "stars_hist = pd.DataFrame(d)\n",
    "ax = stars_hist.plot(x='Bin', y='Values', kind='bar')\n",
    "ax.set_title(\"Repository Stars Histogram\")\n",
    "ax.set_xlabel(\"Stars\")\n",
    "ax.set_ylabel(\"Frequency\")\n",
    "\n",
    "# Now make some labels\n",
    "labels = stars_hist.Values\n",
    "\n",
    "rects = ax.patches\n",
    "\n",
    "for rect, label in zip(rects, labels):\n",
    "    height = rect.get_height()\n",
    "    ax.text(rect.get_x() + rect.get_width()/2, height + 5, label, ha='center', va='bottom')\n",
    "    "
   ]
  },
  {
   "cell_type": "markdown",
   "metadata": {},
   "source": [
    "Above are the graphs representing the repositories that have 0-3000 stars. Graphs are broken down into different ranges for ease of viewing. "
   ]
  },
  {
   "cell_type": "markdown",
   "metadata": {},
   "source": [
    "## Star Statistics"
   ]
  },
  {
   "cell_type": "code",
   "execution_count": 37,
   "metadata": {
    "collapsed": false
   },
   "outputs": [
    {
     "name": "stdout",
     "output_type": "stream",
     "text": [
      "('Stars Description:\\n', count    45243.000000\n",
      "mean        21.355304\n",
      "std        301.089910\n",
      "min          0.000000\n",
      "25%          1.000000\n",
      "50%          2.000000\n",
      "75%          3.000000\n",
      "max      21087.000000\n",
      "Name: stars, dtype: float64)\n"
     ]
    }
   ],
   "source": [
    "print(\"Stars Description:\\n\", stars_sample['stars'].describe())"
   ]
  },
  {
   "cell_type": "markdown",
   "metadata": {},
   "source": [
    "# SVD for Visualization"
   ]
  },
  {
   "cell_type": "code",
   "execution_count": 25,
   "metadata": {
    "collapsed": false
   },
   "outputs": [],
   "source": [
    "# Save current stars_sample \n",
    "random_sampling.to_csv('random_sampling.csv')"
   ]
  },
  {
   "cell_type": "code",
   "execution_count": 3,
   "metadata": {
    "collapsed": false
   },
   "outputs": [],
   "source": [
    "# Load current random_sampling if doesn't exist\n",
    "try:\n",
    "    print(len(random_sampling))\n",
    "except:\n",
    "    random_sampling = pd.read_csv('random_sampling.csv')"
   ]
  },
  {
   "cell_type": "code",
   "execution_count": 4,
   "metadata": {
    "collapsed": true
   },
   "outputs": [],
   "source": [
    "# Get a subset of the columns\n",
    "guess_primary_language = df[['watchers', 'stars', 'forks', 'type', 'issues', 'size', \n",
    "                  'open_issues_count', 'num_languages', 'language_1']]"
   ]
  },
  {
   "cell_type": "code",
   "execution_count": 5,
   "metadata": {
    "collapsed": false
   },
   "outputs": [],
   "source": [
    "# Eliminate the NaN\n",
    "guess_primary_language_no_na = guess_primary_language.dropna(axis=0)"
   ]
  },
  {
   "cell_type": "code",
   "execution_count": 6,
   "metadata": {
    "collapsed": false
   },
   "outputs": [],
   "source": [
    "# Unique values of the languages\n",
    "langs = {}\n",
    "for i, lang in enumerate(guess_primary_language_no_na.language_1.unique()):\n",
    "    langs[lang] = i"
   ]
  },
  {
   "cell_type": "code",
   "execution_count": 7,
   "metadata": {
    "collapsed": true
   },
   "outputs": [],
   "source": [
    "# Retrieve dummies\n",
    "df_dummies_lang = pd.get_dummies(data=guess_primary_language_no_na, columns=['type'])"
   ]
  },
  {
   "cell_type": "code",
   "execution_count": 8,
   "metadata": {
    "collapsed": false
   },
   "outputs": [],
   "source": [
    "# Substitue int for language\n",
    "df_dummies_lang['language_1_value'] = df_dummies_lang.language_1.map(langs)"
   ]
  },
  {
   "cell_type": "code",
   "execution_count": 10,
   "metadata": {
    "collapsed": false
   },
   "outputs": [],
   "source": [
    "mine = df_dummies_lang.drop(['language_1'], 1)"
   ]
  },
  {
   "cell_type": "code",
   "execution_count": 45,
   "metadata": {
    "collapsed": false
   },
   "outputs": [
    {
     "name": "stdout",
     "output_type": "stream",
     "text": [
      "------ Took 4.487625 seconds ------\n"
     ]
    }
   ],
   "source": [
    "start = time.time()\n",
    "u, s, vt = np.linalg.svd(mine[:10000])\n",
    "print(\"------ Took %f seconds ------\" % (time.time() - start))"
   ]
  },
  {
   "cell_type": "code",
   "execution_count": 13,
   "metadata": {
    "collapsed": false
   },
   "outputs": [
    {
     "name": "stdout",
     "output_type": "stream",
     "text": [
      "------ Took 17.422467 seconds ------\n"
     ]
    },
    {
     "data": {
      "image/png": "[encoded data removed]",
      "text/plain": [
       "<matplotlib.figure.Figure at 0x7f25382231d0>"
      ]
     },
     "metadata": {},
     "output_type": "display_data"
    }
   ],
   "source": [
    "start = time.time()\n",
    "k = 5\n",
    "Xk = u[:,:k] @ np.diag(s[:k])\n",
    "X_df = pd.DataFrame(Xk)\n",
    "g = sns.PairGrid(X_df)\n",
    "def pltColor(x,y,label,color):\n",
    "    cmap = sns.hls_palette(n_colors=len(langs), h=0.35, l=0.4, s=0.9)\n",
    "    for i in range(len(langs)):\n",
    "        point_indices = np.where(mine.language_1_value == i)[0]\n",
    "        point_indices = point_indices.tolist()\n",
    "        plt.scatter(x[point_indices], y[point_indices], c=cmap[i])\n",
    "    sns.despine()\n",
    "g.map(pltColor)\n",
    "print(\"------ Took %f seconds ------\" % (time.time() - start))"
   ]
  },
  {
   "cell_type": "markdown",
   "metadata": {},
   "source": [
    "# Silhoutte Score"
   ]
  },
  {
   "cell_type": "code",
   "execution_count": 13,
   "metadata": {
    "collapsed": false
   },
   "outputs": [
    {
     "data": {
      "text/plain": [
       "-0.9076579919140445"
      ]
     },
     "execution_count": 13,
     "metadata": {},
     "output_type": "execute_result"
    }
   ],
   "source": [
    "metrics.silhouette_score(X_train, y_train)"
   ]
  },
  {
   "cell_type": "markdown",
   "metadata": {},
   "source": [
    "# SVM"
   ]
  },
  {
   "cell_type": "code",
   "execution_count": 12,
   "metadata": {
    "collapsed": false
   },
   "outputs": [
    {
     "name": "stdout",
     "output_type": "stream",
     "text": [
      "('Accuracy of SVM test set:', 0.9415)\n",
      "------ Took 282.100266 seconds ------\n"
     ]
    }
   ],
   "source": [
    "start = time.time()\n",
    "X_train, X_test, y_train, y_test = train_test_split(mine[:10000], df_dummies_lang.language_1[:10000], test_size=0.4, random_state=0)\n",
    "svc = svm.SVC(kernel='rbf', C=10**9, gamma=10**-8)\n",
    "svc.fit(X_train, y_train)\n",
    "y_pred_test = svc.predict(X_test)\n",
    "print(\"Accuracy of SVM test set:\", svc.score(X_test, y_test))\n",
    "print(\"------ Took %f seconds ------\" % (time.time() - start))"
   ]
  },
  {
   "cell_type": "code",
   "execution_count": 35,
   "metadata": {
    "collapsed": true
   },
   "outputs": [],
   "source": [
    "y_pred_test = svc.predict(mine)"
   ]
  },
  {
   "cell_type": "code",
   "execution_count": 36,
   "metadata": {
    "collapsed": false
   },
   "outputs": [
    {
     "name": "stdout",
     "output_type": "stream",
     "text": [
      "0.902095077376\n"
     ]
    }
   ],
   "source": [
    "print(svc.score(mine, df_dummies_lang.language_1))"
   ]
  },
  {
   "cell_type": "markdown",
   "metadata": {},
   "source": [
    "## K-Nearest Neighbors"
   ]
  },
  {
   "cell_type": "code",
   "execution_count": 141,
   "metadata": {
    "collapsed": true
   },
   "outputs": [],
   "source": [
    "X_train, X_test, y_train, y_test = train_test_split(estimate_stars_sample, stars_sample, test_size=0.4, random_state=0)"
   ]
  },
  {
   "cell_type": "code",
   "execution_count": 174,
   "metadata": {
    "collapsed": false
   },
   "outputs": [
    {
     "name": "stdout",
     "output_type": "stream",
     "text": [
      "stars    55540\n",
      "dtype: int64\n",
      "stars    0\n",
      "dtype: int64\n"
     ]
    }
   ],
   "source": [
    "print(stars_sample.max())\n",
    "print(stars_sample.min())"
   ]
  },
  {
   "cell_type": "code",
   "execution_count": 144,
   "metadata": {
    "collapsed": false
   },
   "outputs": [
    {
     "name": "stdout",
     "output_type": "stream",
     "text": [
      "KNN test accuracy on prediction >50K, k = 15, acc = 0.4398276052602498: \n",
      "KNN test accuracy on prediction >50K, k = 16, acc = 0.4398276052602498: \n",
      "KNN test accuracy on prediction >50K, k = 17, acc = 0.4397170958116919: \n",
      "KNN test accuracy on prediction >50K, k = 18, acc = 0.44004862415736545: \n",
      "KNN test accuracy on prediction >50K, k = 19, acc = 0.4409879544701072: \n",
      "KNN test accuracy on prediction >50K, k = 20, acc = 0.442645596198475: \n",
      "KNN test accuracy on prediction >50K, k = 21, acc = 0.44347441706265883: \n",
      "KNN test accuracy on prediction >50K, k = 22, acc = 0.4435849265112167: \n",
      "KNN test accuracy on prediction >50K, k = 23, acc = 0.44347441706265883: \n",
      "KNN test accuracy on prediction >50K, k = 24, acc = 0.4449662946181899: \n",
      "KNN test accuracy on prediction >50K, k = 25, acc = 0.4473975024864626: \n",
      "KNN test accuracy on prediction >50K, k = 26, acc = 0.4490551442148304: \n",
      "KNN test accuracy on prediction >50K, k = 27, acc = 0.4491103989391093: \n",
      "KNN test accuracy on prediction >50K, k = 28, acc = 0.44833683279920433: \n",
      "KNN test accuracy on prediction >50K, k = 29, acc = 0.4487236158691568: \n",
      "KNN test accuracy on prediction >50K, k = 30, acc = 0.4486683611448779: \n",
      "KNN test accuracy on prediction >50K, k = 31, acc = 0.449331417836225: \n",
      "KNN test accuracy on prediction >50K, k = 32, acc = 0.45004972925185105: \n",
      "KNN test accuracy on prediction >50K, k = 33, acc = 0.4498287103547353: \n",
      "KNN test accuracy on prediction >50K, k = 34, acc = 0.45093380484031387: \n",
      "KNN test accuracy on prediction >50K, k = 35, acc = 0.45237042767156593: \n",
      "KNN test accuracy on prediction >50K, k = 36, acc = 0.45203889932589236: \n",
      "KNN test accuracy on prediction >50K, k = 37, acc = 0.4509890595645928: \n",
      "KNN test accuracy on prediction >50K, k = 38, acc = 0.4509890595645928: \n",
      "KNN test accuracy on prediction >50K, k = 39, acc = 0.4517073709802188: \n",
      "KNN test accuracy on prediction >50K, k = 40, acc = 0.45154160680738203: \n",
      "KNN test accuracy on prediction >50K, k = 41, acc = 0.4514310973588242: \n",
      "KNN test accuracy on prediction >50K, k = 42, acc = 0.4512653331859874: \n",
      "KNN test accuracy on prediction >50K, k = 43, acc = 0.4518178804287767: \n",
      "KNN test accuracy on prediction >50K, k = 44, acc = 0.4522046634987291: \n",
      "KNN test accuracy on prediction >50K, k = 45, acc = 0.453033484362913: \n",
      "KNN test accuracy on prediction >50K, k = 46, acc = 0.453033484362913: \n",
      "KNN test accuracy on prediction >50K, k = 47, acc = 0.4537517957785391: \n",
      "KNN test accuracy on prediction >50K, k = 48, acc = 0.45308873908719194: \n",
      "KNN test accuracy on prediction >50K, k = 49, acc = 0.45242568239584485: \n"
     ]
    }
   ],
   "source": [
    "acc = []\n",
    "for k in range(15,50):\n",
    "    knn_digits = KNeighborsClassifier(n_neighbors=k)\n",
    "    knn_digits.fit(X_train, pd.Series.ravel(y_train))\n",
    "    y_digits_test_pred = knn_digits.predict(X_test)\n",
    "    print(\"KNN test accuracy on prediction >50K, k = {}, acc = {}: \".format(\n",
    "            k,knn_digits.score(X_test, y_test)))\n",
    "    acc.append(knn_digits.score(X_test, y_test))"
   ]
  },
  {
   "cell_type": "code",
   "execution_count": 169,
   "metadata": {
    "collapsed": false
   },
   "outputs": [
    {
     "data": {
      "image/png": "[encoded data removed]",
      "text/plain": [
       "<matplotlib.figure.Figure at 0x12280cac8>"
      ]
     },
     "metadata": {},
     "output_type": "display_data"
    }
   ],
   "source": [
    "# ACCURACY PLOT OF KNEIGHBORS\n",
    "x_data = [i for i in range(15,50)]\n",
    "plt.plot(x_data, acc,'.')\n",
    "plt.xlabel('k')\n",
    "_=plt.ylabel('Accuracy')\n",
    "plt.title(\"Accuracy of KNeighborsClassifier\")\n",
    "plt.savefig('knn_acc.png')\n",
    "plt.show()"
   ]
  },
  {
   "cell_type": "code",
   "execution_count": 171,
   "metadata": {
    "collapsed": false
   },
   "outputs": [
    {
     "data": {
      "text/plain": [
       "0.45375179577853908"
      ]
     },
     "execution_count": 171,
     "metadata": {},
     "output_type": "execute_result"
    }
   ],
   "source": [
    "max(acc)"
   ]
  },
  {
   "cell_type": "code",
   "execution_count": 172,
   "metadata": {
    "collapsed": false
   },
   "outputs": [
    {
     "name": "stdout",
     "output_type": "stream",
     "text": [
      "Accuracy on test data: 0.4537517957785391\n"
     ]
    }
   ],
   "source": [
    "knneighbors = KNeighborsClassifier(n_neighbors=47)\n",
    "knneighbors.fit(X_train, pd.Series.ravel(y_train))\n",
    "y_pred_test = knneighbors.predict(X_test)\n",
    "\n",
    "print('Accuracy on test data: {}'.format(knneighbors.score(X_test, y_test)))"
   ]
  },
  {
   "cell_type": "code",
   "execution_count": 173,
   "metadata": {
    "collapsed": false
   },
   "outputs": [
    {
     "name": "stdout",
     "output_type": "stream",
     "text": [
      "Accuracy on training data: 0.4638054890403389\n"
     ]
    }
   ],
   "source": [
    "y_pred_train = knneighbors.predict(X_train)\n",
    "print('Accuracy on training data: {}'.format(knneighbors.score(X_train, y_train)))"
   ]
  },
  {
   "cell_type": "markdown",
   "metadata": {},
   "source": [
    "## Discussion of Results on K-Nearest Neighbors \n",
    "While the accuracy of the test data appears to be low (coming in at only 45.4%), it is actually higher than we anticipated. If you consider what we are asking the algorithm to predict, it is solidly more impressive. The number of stars has no hard maximum. The minimum in this particular subset of the data is 0, and the maximum is 55540. The size of this space is large, and having an algorithm predict the correct integer star amount with 45.4% accuracy is in fact quite good."
   ]
  },
  {
   "cell_type": "markdown",
   "metadata": {},
   "source": [
    "## Decision Tree"
   ]
  },
  {
   "cell_type": "code",
   "execution_count": 176,
   "metadata": {
    "collapsed": false
   },
   "outputs": [
    {
     "name": "stdout",
     "output_type": "stream",
     "text": [
      "DT accuracy on test data:  0.485965300033\n",
      "DT accuracy on training data:  0.960250506539\n"
     ]
    }
   ],
   "source": [
    "dtc = tree.DecisionTreeClassifier()\n",
    "dtc.fit(X_train,y_train)\n",
    "y_pred_test = dtc.predict(X_test)\n",
    "print('DT accuracy on test data: ', dtc.score(X_test, y_test))\n",
    "y_pred_train = dtc.predict(X_train)\n",
    "print('DT accuracy on training data: ', dtc.score(X_train, y_train))"
   ]
  },
  {
   "cell_type": "code",
   "execution_count": 186,
   "metadata": {
    "collapsed": false
   },
   "outputs": [],
   "source": [
    "# LITERALLY RAN FOR OVER 30 MIN AND NOTHING\n",
    "# JUST TOO BIG TO CREATE IMAGE\n",
    "# import pydotplus\n",
    "# start = time.time()\n",
    "# dot_data = tree.export_graphviz(dtc, out_file=None) \n",
    "# graph = pydotplus.graph_from_dot_data(dot_data) \n",
    "# graph.write_pdf(\"dtc.pdf\") \n",
    "# print(\"finished in %d seconds\" % (time.time()-start))"
   ]
  },
  {
   "cell_type": "markdown",
   "metadata": {},
   "source": [
    "## Decision Tree Regressor"
   ]
  },
  {
   "cell_type": "code",
   "execution_count": 220,
   "metadata": {
    "collapsed": false
   },
   "outputs": [
    {
     "name": "stderr",
     "output_type": "stream",
     "text": [
      "Exception ignored in: 'zmq.backend.cython.message.Frame.__dealloc__'\n",
      "Traceback (most recent call last):\n",
      "  File \"zmq/backend/cython/checkrc.pxd\", line 12, in zmq.backend.cython.checkrc._check_rc (zmq/backend/cython/message.c:4018)\n",
      "KeyboardInterrupt\n",
      "/Users/asambors/anaconda3/envs/pyv3.2/lib/python3.5/site-packages/pandas/core/generic.py:2701: SettingWithCopyWarning: \n",
      "A value is trying to be set on a copy of a slice from a DataFrame.\n",
      "Try using .loc[row_indexer,col_indexer] = value instead\n",
      "\n",
      "See the caveats in the documentation: http://pandas.pydata.org/pandas-docs/stable/indexing.html#indexing-view-versus-copy\n",
      "  self[name] = value\n"
     ]
    }
   ],
   "source": [
    "# Need to transform to floats for regression for some reason\n",
    "y_train.stars = y_train.stars.astype(float)"
   ]
  },
  {
   "cell_type": "code",
   "execution_count": 231,
   "metadata": {
    "collapsed": false
   },
   "outputs": [
    {
     "data": {
      "text/html": [
       "<div>\n",
       "<table border=\"1\" class=\"dataframe\">\n",
       "  <thead>\n",
       "    <tr style=\"text-align: right;\">\n",
       "      <th></th>\n",
       "      <th>stars</th>\n",
       "    </tr>\n",
       "  </thead>\n",
       "  <tbody>\n",
       "    <tr>\n",
       "      <th>18794</th>\n",
       "      <td>4.0</td>\n",
       "    </tr>\n",
       "    <tr>\n",
       "      <th>128871</th>\n",
       "      <td>1.0</td>\n",
       "    </tr>\n",
       "    <tr>\n",
       "      <th>38463</th>\n",
       "      <td>3.0</td>\n",
       "    </tr>\n",
       "    <tr>\n",
       "      <th>65380</th>\n",
       "      <td>1.0</td>\n",
       "    </tr>\n",
       "    <tr>\n",
       "      <th>110229</th>\n",
       "      <td>1.0</td>\n",
       "    </tr>\n",
       "  </tbody>\n",
       "</table>\n",
       "</div>"
      ],
      "text/plain": [
       "        stars\n",
       "18794     4.0\n",
       "128871    1.0\n",
       "38463     3.0\n",
       "65380     1.0\n",
       "110229    1.0"
      ]
     },
     "execution_count": 231,
     "metadata": {},
     "output_type": "execute_result"
    }
   ],
   "source": [
    "y_train.head()"
   ]
  },
  {
   "cell_type": "code",
   "execution_count": 232,
   "metadata": {
    "collapsed": false
   },
   "outputs": [
    {
     "name": "stdout",
     "output_type": "stream",
     "text": [
      "DT accuracy on test data:  0.473880075464\n",
      "DT accuracy on training data:  0.999996042305\n"
     ]
    }
   ],
   "source": [
    "clf = tree.DecisionTreeRegressor()\n",
    "clf = clf.fit(X_train, y_train)\n",
    "y_pred_test = clf.predict(X_test)\n",
    "print('DT accuracy on test data: ', clf.score(X_test, y_test))\n",
    "y_pred_train = dtc.predict(X_train)\n",
    "print('DT accuracy on training data: ', clf.score(X_train, y_train))"
   ]
  },
  {
   "cell_type": "markdown",
   "metadata": {},
   "source": [
    "## Logistical Regression Model"
   ]
  },
  {
   "cell_type": "code",
   "execution_count": 241,
   "metadata": {
    "collapsed": false
   },
   "outputs": [],
   "source": [
    "# Label encode stars as labels to be predicted\n",
    "label_encoder = preprocessing.LabelEncoder()\n",
    "encoded_stars = label_encoder.fit_transform(stars_sample['stars'])\n",
    "\n",
    "# Split training and test\n",
    "X_train, X_test, y_train, y_test = train_test_split(estimate_stars_sample, encoded_stars, test_size = 0.3, random_state = 0)"
   ]
  },
  {
   "cell_type": "code",
   "execution_count": 242,
   "metadata": {
    "collapsed": false
   },
   "outputs": [
    {
     "name": "stdout",
     "output_type": "stream",
     "text": [
      "31670\n",
      "31670\n"
     ]
    }
   ],
   "source": [
    "print(len(X_train))\n",
    "print(len(y_train))"
   ]
  },
  {
   "cell_type": "code",
   "execution_count": 243,
   "metadata": {
    "collapsed": false
   },
   "outputs": [
    {
     "name": "stderr",
     "output_type": "stream",
     "text": [
      "/Users/asambors/anaconda3/envs/pyv3.2/lib/python3.5/site-packages/ipykernel/__main__.py:2: SettingWithCopyWarning: \n",
      "A value is trying to be set on a copy of a slice from a DataFrame.\n",
      "Try using .loc[row_indexer,col_indexer] = value instead\n",
      "\n",
      "See the caveats in the documentation: http://pandas.pydata.org/pandas-docs/stable/indexing.html#indexing-view-versus-copy\n",
      "  from ipykernel import kernelapp as app\n",
      "/Users/asambors/anaconda3/envs/pyv3.2/lib/python3.5/site-packages/ipykernel/__main__.py:3: SettingWithCopyWarning: \n",
      "A value is trying to be set on a copy of a slice from a DataFrame.\n",
      "Try using .loc[row_indexer,col_indexer] = value instead\n",
      "\n",
      "See the caveats in the documentation: http://pandas.pydata.org/pandas-docs/stable/indexing.html#indexing-view-versus-copy\n",
      "  app.launch_new_instance()\n"
     ]
    },
    {
     "name": "stdout",
     "output_type": "stream",
     "text": [
      "Logistic Regression Accuracy (70/30 split):\n",
      " Accuracy:  0.443232888823\n"
     ]
    }
   ],
   "source": [
    "# Logistic Regression\n",
    "X_train['Intercept'] = 1.0\n",
    "X_test['Intercept'] = 1.0\n",
    "\n",
    "log_reg = LogisticRegression().fit(X_train, y_train)\n",
    "log_reg_preds = log_reg.predict(X_test)\n",
    "    \n",
    "print(\"Logistic Regression Accuracy (70/30 split):\\n Accuracy: \", metrics.accuracy_score(y_test, log_reg_preds))"
   ]
  },
  {
   "cell_type": "code",
   "execution_count": 244,
   "metadata": {
    "collapsed": false
   },
   "outputs": [
    {
     "name": "stdout",
     "output_type": "stream",
     "text": [
      "Logistic Regression Confusion Matrix:\n",
      " [[   0  550    0 ...,    0    0    0]\n",
      " [   0 6016    4 ...,    0    0    0]\n",
      " [   0 2373    0 ...,    0    0    0]\n",
      " ..., \n",
      " [   0    0    0 ...,    0    0    0]\n",
      " [   0    1    0 ...,    0    0    0]\n",
      " [   0    1    0 ...,    0    0    0]]\n"
     ]
    }
   ],
   "source": [
    "print(\"Logistic Regression Confusion Matrix:\\n\", metrics.confusion_matrix(Y_test, log_reg_preds))"
   ]
  },
  {
   "cell_type": "code",
   "execution_count": 245,
   "metadata": {
    "collapsed": false
   },
   "outputs": [
    {
     "name": "stdout",
     "output_type": "stream",
     "text": [
      "Logistic Regression report:\n",
      "              precision    recall  f1-score   support\n",
      "\n",
      "          0       0.00      0.00      0.00       569\n",
      "          1       0.46      0.97      0.62      6210\n",
      "          2       0.00      0.00      0.00      2436\n",
      "          3       0.00      0.00      0.00      1107\n",
      "          4       0.00      0.00      0.00       610\n",
      "          5       0.00      0.00      0.00       404\n",
      "          6       0.00      0.00      0.00       281\n",
      "          7       0.00      0.00      0.00       187\n",
      "          8       0.00      0.00      0.00       156\n",
      "          9       0.00      0.00      0.00       129\n",
      "         10       0.00      0.00      0.00       101\n",
      "         11       0.00      0.00      0.00        90\n",
      "         12       0.00      0.00      0.00        89\n",
      "         13       0.00      0.00      0.00        60\n",
      "         14       0.00      0.00      0.00        56\n",
      "         15       0.00      0.00      0.00        54\n",
      "         16       0.00      0.00      0.00        43\n",
      "         17       0.00      0.00      0.00        36\n",
      "         18       0.00      0.00      0.00        43\n",
      "         19       0.00      0.00      0.00        34\n",
      "         20       0.00      0.00      0.00        34\n",
      "         21       0.00      0.00      0.00        23\n",
      "         22       0.00      0.00      0.00        14\n",
      "         23       0.00      0.00      0.00        18\n",
      "         24       0.00      0.00      0.00        14\n",
      "         25       0.00      0.00      0.00        17\n",
      "         26       0.00      0.00      0.00        14\n",
      "         27       0.00      0.00      0.00        17\n",
      "         28       0.00      0.00      0.00        17\n",
      "         29       0.00      0.00      0.00        23\n",
      "         30       0.00      0.00      0.00        16\n",
      "         31       0.00      0.00      0.00        13\n",
      "         32       0.00      0.00      0.00        13\n",
      "         33       0.00      0.00      0.00        10\n",
      "         34       0.00      0.00      0.00        12\n",
      "         35       0.00      0.00      0.00        12\n",
      "         36       0.00      0.00      0.00         8\n",
      "         37       0.00      0.00      0.00        13\n",
      "         38       0.00      0.00      0.00        13\n",
      "         39       0.00      0.00      0.00        10\n",
      "         40       0.00      0.00      0.00        14\n",
      "         41       0.00      0.00      0.00        10\n",
      "         42       0.00      0.00      0.00        10\n",
      "         43       0.00      0.00      0.00         2\n",
      "         44       0.00      0.00      0.00         5\n",
      "         45       0.00      0.00      0.00         5\n",
      "         46       0.00      0.00      0.00         9\n",
      "         47       0.00      0.00      0.00         2\n",
      "         48       0.00      0.00      0.00         5\n",
      "         49       0.00      0.00      0.00         6\n",
      "         50       0.00      0.00      0.00         4\n",
      "         51       0.00      0.00      0.00         6\n",
      "         52       0.00      0.00      0.00         6\n",
      "         53       0.00      0.00      0.00         4\n",
      "         54       0.00      0.00      0.00         4\n",
      "         55       0.00      0.00      0.00         9\n",
      "         56       0.00      0.00      0.00         5\n",
      "         57       0.00      0.00      0.00         8\n",
      "         58       0.00      0.00      0.00         8\n",
      "         59       0.00      0.00      0.00         5\n",
      "         60       0.00      0.00      0.00         2\n",
      "         61       0.00      0.00      0.00         8\n",
      "         62       0.00      0.00      0.00         5\n",
      "         63       0.00      0.00      0.00         7\n",
      "         64       0.00      0.00      0.00         2\n",
      "         65       0.00      0.00      0.00         8\n",
      "         66       0.00      0.00      0.00         2\n",
      "         67       0.00      0.00      0.00         8\n",
      "         68       0.00      0.00      0.00         1\n",
      "         69       0.00      0.00      0.00         6\n",
      "         70       0.00      0.00      0.00         6\n",
      "         71       0.00      0.00      0.00         8\n",
      "         72       0.00      0.00      0.00         2\n",
      "         73       0.00      0.00      0.00         3\n",
      "         74       0.00      0.00      0.00         8\n",
      "         75       0.00      0.00      0.00         4\n",
      "         76       0.00      0.00      0.00         3\n",
      "         78       0.00      0.00      0.00         4\n",
      "         79       0.00      0.00      0.00         2\n",
      "         80       0.00      0.00      0.00         4\n",
      "         81       0.00      0.00      0.00         5\n",
      "         82       0.00      0.00      0.00         1\n",
      "         83       0.00      0.00      0.00         1\n",
      "         84       0.00      0.00      0.00         2\n",
      "         85       0.00      0.00      0.00         6\n",
      "         86       0.00      0.00      0.00         4\n",
      "         88       0.00      0.00      0.00         3\n",
      "         89       0.00      0.00      0.00         1\n",
      "         90       0.00      0.00      0.00         2\n",
      "         91       0.00      0.00      0.00         3\n",
      "         92       0.00      0.00      0.00         1\n",
      "         93       0.00      0.00      0.00         1\n",
      "         95       0.00      0.00      0.00         1\n",
      "         96       0.00      0.00      0.00         3\n",
      "         99       0.00      0.00      0.00         3\n",
      "        100       0.00      0.00      0.00         1\n",
      "        101       0.00      0.00      0.00         2\n",
      "        102       0.00      0.00      0.00         2\n",
      "        104       0.00      0.00      0.00         2\n",
      "        106       0.00      0.00      0.00         1\n",
      "        107       0.00      0.00      0.00         1\n",
      "        108       0.00      0.00      0.00         1\n",
      "        109       0.00      0.00      0.00         2\n",
      "        112       0.00      0.00      0.00         4\n",
      "        114       0.00      0.00      0.00         3\n",
      "        115       0.00      0.00      0.00         1\n",
      "        116       0.00      0.00      0.00         3\n",
      "        117       0.00      0.00      0.00         3\n",
      "        118       0.00      0.00      0.00         4\n",
      "        119       0.00      0.00      0.00         2\n",
      "        121       0.00      0.00      0.00         2\n",
      "        122       0.00      0.00      0.00         5\n",
      "        123       0.00      0.00      0.00         1\n",
      "        125       0.00      0.00      0.00         3\n",
      "        126       0.00      0.00      0.00         1\n",
      "        127       0.00      0.00      0.00         3\n",
      "        129       0.00      0.00      0.00         4\n",
      "        130       0.00      0.00      0.00         3\n",
      "        132       0.00      0.00      0.00         1\n",
      "        133       0.00      0.00      0.00         3\n",
      "        134       0.00      0.00      0.00         2\n",
      "        135       0.00      0.00      0.00         4\n",
      "        136       0.00      0.00      0.00         2\n",
      "        137       0.00      0.00      0.00         1\n",
      "        139       0.00      0.00      0.00         1\n",
      "        141       0.00      0.00      0.00         1\n",
      "        142       0.00      0.00      0.00         1\n",
      "        143       0.00      0.00      0.00         2\n",
      "        144       0.00      0.00      0.00         2\n",
      "        146       0.00      0.00      0.00         1\n",
      "        147       0.00      0.00      0.00         1\n",
      "        148       0.00      0.00      0.00         2\n",
      "        149       0.00      0.00      0.00         1\n",
      "        150       0.00      0.00      0.00         1\n",
      "        151       0.00      0.00      0.00         1\n",
      "        152       0.00      0.00      0.00         2\n",
      "        153       0.00      0.00      0.00         2\n",
      "        154       0.00      0.00      0.00         3\n",
      "        155       0.00      0.00      0.00         1\n",
      "        156       0.00      0.00      0.00         2\n",
      "        157       0.00      0.00      0.00         1\n",
      "        159       0.00      0.00      0.00         2\n",
      "        162       0.00      0.00      0.00         1\n",
      "        163       0.00      0.00      0.00         1\n",
      "        164       0.00      0.00      0.00         2\n",
      "        165       0.00      0.00      0.00         2\n",
      "        167       0.00      0.00      0.00         1\n",
      "        168       0.00      0.00      0.00         1\n",
      "        169       0.00      0.00      0.00         1\n",
      "        171       0.00      0.00      0.00         2\n",
      "        172       0.00      0.00      0.00         1\n",
      "        176       0.00      0.00      0.00         2\n",
      "        177       0.00      0.00      0.00         2\n",
      "        178       0.00      0.00      0.00         2\n",
      "        180       0.00      0.00      0.00         1\n",
      "        181       0.00      0.00      0.00         1\n",
      "        184       0.00      0.00      0.00         1\n",
      "        185       0.00      0.00      0.00         2\n",
      "        186       0.00      0.00      0.00         2\n",
      "        187       0.00      0.00      0.00         1\n",
      "        188       0.00      0.00      0.00         3\n",
      "        189       0.00      0.00      0.00         2\n",
      "        190       0.00      0.00      0.00         2\n",
      "        192       0.00      0.00      0.00         2\n",
      "        194       0.00      0.00      0.00         3\n",
      "        195       0.00      0.00      0.00         1\n",
      "        196       0.00      0.00      0.00         1\n",
      "        198       0.00      0.00      0.00         2\n",
      "        200       0.00      0.00      0.00         2\n",
      "        201       0.00      0.00      0.00         1\n",
      "        202       0.00      0.00      0.00         1\n",
      "        204       0.00      0.00      0.00         2\n",
      "        205       0.00      0.00      0.00         2\n",
      "        206       0.00      0.00      0.00         1\n",
      "        207       0.00      0.00      0.00         1\n",
      "        208       0.00      0.00      0.00         0\n",
      "        209       0.00      0.00      0.00         1\n",
      "        210       0.00      0.00      0.00         2\n",
      "        211       0.00      0.00      0.00         1\n",
      "        212       0.00      0.00      0.00         1\n",
      "        213       0.00      0.00      0.00         1\n",
      "        217       0.00      0.00      0.00         4\n",
      "        220       0.00      0.00      0.00         1\n",
      "        221       0.00      0.00      0.00         2\n",
      "        222       0.00      0.00      0.00         1\n",
      "        223       0.00      0.00      0.00         1\n",
      "        225       0.00      0.00      0.00         1\n",
      "        226       0.00      0.00      0.00         1\n",
      "        229       0.00      0.00      0.00         1\n",
      "        230       0.00      0.00      0.00         1\n",
      "        231       0.00      0.00      0.00         1\n",
      "        235       0.00      0.00      0.00         1\n",
      "        237       0.00      0.00      0.00         1\n",
      "        238       0.00      0.00      0.00         0\n",
      "        239       0.00      0.00      0.00         1\n",
      "        240       0.00      0.00      0.00         1\n",
      "        243       0.00      0.00      0.00         1\n",
      "        247       0.00      0.00      0.00         1\n",
      "        248       0.00      0.00      0.00         1\n",
      "        250       0.00      0.00      0.00         1\n",
      "        252       0.00      0.00      0.00         0\n",
      "        254       0.00      0.00      0.00         1\n",
      "        255       0.00      0.00      0.00         1\n",
      "        256       0.00      0.00      0.00         1\n",
      "        257       0.00      0.00      0.00         2\n",
      "        258       0.00      0.00      0.00         1\n",
      "        259       0.00      0.00      0.00         2\n",
      "        262       0.00      0.00      0.00         1\n",
      "        263       0.00      0.00      0.00         1\n",
      "        267       0.00      0.00      0.00         2\n",
      "        268       0.00      0.00      0.00         1\n",
      "        273       0.00      0.00      0.00         1\n",
      "        275       0.00      0.00      0.00         1\n",
      "        277       0.00      0.00      0.00         1\n",
      "        279       0.00      0.00      0.00         1\n",
      "        280       0.00      0.00      0.00         1\n",
      "        281       0.00      0.00      0.00         0\n",
      "        282       0.00      0.00      0.00         1\n",
      "        284       0.00      0.00      0.00         1\n",
      "        287       0.00      0.00      0.00         0\n",
      "        288       0.00      0.00      0.00         1\n",
      "        289       0.00      0.00      0.00         1\n",
      "        290       0.00      0.00      0.00         1\n",
      "        291       0.00      0.00      0.00         2\n",
      "        295       0.00      0.00      0.00         1\n",
      "        296       0.00      0.00      0.00         1\n",
      "        305       0.00      0.00      0.00         1\n",
      "        307       0.00      0.00      0.00         1\n",
      "        309       0.00      0.00      0.00         1\n",
      "        311       0.00      0.00      0.00         1\n",
      "        314       0.00      0.00      0.00         1\n",
      "        315       0.00      0.00      0.00         1\n",
      "        318       0.00      0.00      0.00         1\n",
      "        319       0.00      0.00      0.00         1\n",
      "        324       0.00      0.00      0.00         1\n",
      "        325       0.00      0.00      0.00         1\n",
      "        327       0.00      0.00      0.00         1\n",
      "        329       0.00      0.00      0.00         2\n",
      "        333       0.00      0.00      0.00         1\n",
      "        334       0.00      0.00      0.00         1\n",
      "        335       0.00      0.00      0.00         1\n",
      "        337       0.00      0.00      0.00         1\n",
      "        338       0.00      0.00      0.00         1\n",
      "        340       0.00      0.00      0.00         1\n",
      "        342       0.00      0.00      0.00         2\n",
      "        343       0.00      0.00      0.00         1\n",
      "        350       0.00      0.00      0.00         1\n",
      "        351       0.00      0.00      0.00         1\n",
      "        352       0.00      0.00      0.00         1\n",
      "        353       0.00      0.00      0.00         1\n",
      "        354       0.00      0.00      0.00         1\n",
      "        355       0.00      0.00      0.00         2\n",
      "        357       0.00      0.00      0.00         1\n",
      "        359       0.00      0.00      0.00         1\n",
      "        363       0.00      0.00      0.00         1\n",
      "        367       0.00      0.00      0.00         1\n",
      "        368       0.00      0.00      0.00         1\n",
      "        370       0.00      0.00      0.00         1\n",
      "        374       0.00      0.00      0.00         1\n",
      "        381       0.00      0.00      0.00         1\n",
      "        383       0.00      0.00      0.00         1\n",
      "        384       0.00      0.00      0.00         1\n",
      "        390       0.00      0.00      0.00         1\n",
      "        391       0.00      0.00      0.00         1\n",
      "        394       0.00      0.00      0.00         1\n",
      "        397       0.00      0.00      0.00         1\n",
      "        398       0.00      0.00      0.00         1\n",
      "        399       0.00      0.00      0.00         1\n",
      "        400       0.00      0.00      0.00         1\n",
      "        401       0.00      0.00      0.00         1\n",
      "        402       0.00      0.00      0.00         1\n",
      "        403       0.00      0.00      0.00         1\n",
      "        405       0.00      0.00      0.00         0\n",
      "        408       0.00      0.00      0.00         1\n",
      "        411       0.00      0.00      0.00         0\n",
      "        413       0.00      0.00      0.00         1\n",
      "        414       0.00      0.00      0.00         1\n",
      "        417       0.00      0.00      0.00         1\n",
      "        420       0.00      0.00      0.00         1\n",
      "        421       0.00      0.00      0.00         1\n",
      "        423       0.00      0.00      0.00         1\n",
      "        425       0.00      0.00      0.00         0\n",
      "        427       0.00      0.00      0.00         1\n",
      "        430       0.00      0.00      0.00         1\n",
      "        431       0.00      0.00      0.00         1\n",
      "        435       0.00      0.00      0.00         1\n",
      "        436       0.00      0.00      0.00         0\n",
      "        441       0.00      0.00      0.00         1\n",
      "        445       0.00      0.00      0.00         1\n",
      "        448       0.00      0.00      0.00         1\n",
      "        450       0.00      0.00      0.00         1\n",
      "        451       0.00      0.00      0.00         1\n",
      "        455       0.00      0.00      0.00         1\n",
      "        464       0.00      0.00      0.00         1\n",
      "        465       0.00      0.00      0.00         1\n",
      "        466       0.00      0.00      0.00         1\n",
      "        468       0.00      0.00      0.00         1\n",
      "        473       0.00      0.00      0.00         1\n",
      "        482       0.00      0.00      0.00         2\n",
      "        483       0.00      0.00      0.00         2\n",
      "        487       0.00      0.00      0.00         1\n",
      "        491       0.00      0.00      0.00         1\n",
      "        493       0.00      0.00      0.00         1\n",
      "        494       0.00      0.00      0.00         2\n",
      "        498       0.00      0.00      0.00         2\n",
      "        500       0.00      0.00      0.00         1\n",
      "        501       0.00      0.00      0.00         0\n",
      "        502       0.00      0.00      0.00         1\n",
      "        503       0.00      0.00      0.00         2\n",
      "        510       0.00      0.00      0.00         1\n",
      "        516       0.00      0.00      0.00         0\n",
      "        519       0.00      0.00      0.00         1\n",
      "        520       0.00      0.00      0.00         1\n",
      "        521       0.00      0.00      0.00         1\n",
      "        524       0.00      0.00      0.00         1\n",
      "        525       0.00      0.00      0.00         1\n",
      "        526       0.00      0.00      0.00         1\n",
      "        531       0.00      0.00      0.00         1\n",
      "        532       0.00      0.00      0.00         0\n",
      "        534       0.00      0.00      0.00         1\n",
      "        541       0.00      0.00      0.00         2\n",
      "        542       0.00      0.00      0.00         2\n",
      "        544       0.00      0.00      0.00         1\n",
      "        545       0.00      0.00      0.00         0\n",
      "        551       0.00      0.00      0.00         2\n",
      "        553       0.00      0.00      0.00         0\n",
      "        558       0.00      0.00      0.00         0\n",
      "        559       0.00      0.00      0.00         1\n",
      "        561       0.00      0.00      0.00         2\n",
      "        564       0.00      0.00      0.00         1\n",
      "        565       0.00      0.00      0.00         1\n",
      "        566       0.00      0.00      0.00         0\n",
      "        568       0.00      0.00      0.00         1\n",
      "        570       0.00      0.00      0.00         1\n",
      "\n",
      "avg / total       0.21      0.44      0.28     13573\n",
      "\n"
     ]
    },
    {
     "name": "stderr",
     "output_type": "stream",
     "text": [
      "/Users/asambors/anaconda3/envs/pyv3.2/lib/python3.5/site-packages/sklearn/metrics/classification.py:1113: UndefinedMetricWarning: Precision and F-score are ill-defined and being set to 0.0 in labels with no predicted samples.\n",
      "  'precision', 'predicted', average, warn_for)\n",
      "/Users/asambors/anaconda3/envs/pyv3.2/lib/python3.5/site-packages/sklearn/metrics/classification.py:1115: UndefinedMetricWarning: Recall and F-score are ill-defined and being set to 0.0 in labels with no true samples.\n",
      "  'recall', 'true', average, warn_for)\n"
     ]
    }
   ],
   "source": [
    "print(\"Logistic Regression report:\\n\", metrics.classification_report(Y_test, log_reg_preds))"
   ]
  },
  {
   "cell_type": "markdown",
   "metadata": {},
   "source": [
    "# Subset of Feature Vectors: Can it produce the same accuracy if not better than the previous? "
   ]
  },
  {
   "cell_type": "markdown",
   "metadata": {},
   "source": [
    "We want to explore if there is any change without the presence of languages. We hypothesize that the removal of these feature vectors will not make a huge difference. In fact, we would claim that the most important features are watchers and forks. We will test this theory further below on a few less computationally intensive prediction algorithms (decision tree and KNN)."
   ]
  },
  {
   "cell_type": "code",
   "execution_count": 4,
   "metadata": {
    "collapsed": false
   },
   "outputs": [],
   "source": [
    "without_languages = df[['watchers', 'stars', 'forks', 'type', 'issues', 'size', 'open_issues_count']]"
   ]
  },
  {
   "cell_type": "markdown",
   "metadata": {},
   "source": [
    "# Using the Amount of Stars from a Repository to Predict its Top Language "
   ]
  },
  {
   "cell_type": "code",
   "execution_count": 6,
   "metadata": {
    "collapsed": false
   },
   "outputs": [
    {
     "data": {
      "text/html": [
       "<div>\n",
       "<table border=\"1\" class=\"dataframe\">\n",
       "  <thead>\n",
       "    <tr style=\"text-align: right;\">\n",
       "      <th></th>\n",
       "      <th>watchers</th>\n",
       "      <th>stars</th>\n",
       "      <th>forks</th>\n",
       "      <th>type</th>\n",
       "      <th>issues</th>\n",
       "      <th>size</th>\n",
       "      <th>open_issues_count</th>\n",
       "      <th>num_languages</th>\n",
       "      <th>language_1</th>\n",
       "    </tr>\n",
       "  </thead>\n",
       "  <tbody>\n",
       "    <tr>\n",
       "      <th>0</th>\n",
       "      <td>59</td>\n",
       "      <td>1883</td>\n",
       "      <td>451</td>\n",
       "      <td>User</td>\n",
       "      <td>3</td>\n",
       "      <td>7954</td>\n",
       "      <td>3</td>\n",
       "      <td>1</td>\n",
       "      <td>Ruby</td>\n",
       "    </tr>\n",
       "    <tr>\n",
       "      <th>1</th>\n",
       "      <td>3</td>\n",
       "      <td>407</td>\n",
       "      <td>54</td>\n",
       "      <td>User</td>\n",
       "      <td>0</td>\n",
       "      <td>3462</td>\n",
       "      <td>0</td>\n",
       "      <td>2</td>\n",
       "      <td>Ruby</td>\n",
       "    </tr>\n",
       "    <tr>\n",
       "      <th>2</th>\n",
       "      <td>120</td>\n",
       "      <td>2692</td>\n",
       "      <td>612</td>\n",
       "      <td>Organization</td>\n",
       "      <td>211</td>\n",
       "      <td>162886</td>\n",
       "      <td>211</td>\n",
       "      <td>13</td>\n",
       "      <td>Ruby</td>\n",
       "    </tr>\n",
       "    <tr>\n",
       "      <th>3</th>\n",
       "      <td>104</td>\n",
       "      <td>2036</td>\n",
       "      <td>479</td>\n",
       "      <td>User</td>\n",
       "      <td>112</td>\n",
       "      <td>2639</td>\n",
       "      <td>112</td>\n",
       "      <td>6</td>\n",
       "      <td>Ruby</td>\n",
       "    </tr>\n",
       "    <tr>\n",
       "      <th>4</th>\n",
       "      <td>2</td>\n",
       "      <td>36</td>\n",
       "      <td>2</td>\n",
       "      <td>User</td>\n",
       "      <td>0</td>\n",
       "      <td>192</td>\n",
       "      <td>0</td>\n",
       "      <td>2</td>\n",
       "      <td>JavaScript</td>\n",
       "    </tr>\n",
       "    <tr>\n",
       "      <th>5</th>\n",
       "      <td>2</td>\n",
       "      <td>66</td>\n",
       "      <td>5</td>\n",
       "      <td>User</td>\n",
       "      <td>0</td>\n",
       "      <td>156</td>\n",
       "      <td>0</td>\n",
       "      <td>1</td>\n",
       "      <td>JavaScript</td>\n",
       "    </tr>\n",
       "    <tr>\n",
       "      <th>6</th>\n",
       "      <td>1</td>\n",
       "      <td>239</td>\n",
       "      <td>86</td>\n",
       "      <td>User</td>\n",
       "      <td>2</td>\n",
       "      <td>232</td>\n",
       "      <td>2</td>\n",
       "      <td>2</td>\n",
       "      <td>Ruby</td>\n",
       "    </tr>\n",
       "    <tr>\n",
       "      <th>7</th>\n",
       "      <td>2</td>\n",
       "      <td>151</td>\n",
       "      <td>16</td>\n",
       "      <td>User</td>\n",
       "      <td>1</td>\n",
       "      <td>473</td>\n",
       "      <td>1</td>\n",
       "      <td>2</td>\n",
       "      <td>Ruby</td>\n",
       "    </tr>\n",
       "    <tr>\n",
       "      <th>8</th>\n",
       "      <td>16</td>\n",
       "      <td>1629</td>\n",
       "      <td>283</td>\n",
       "      <td>User</td>\n",
       "      <td>27</td>\n",
       "      <td>1208</td>\n",
       "      <td>27</td>\n",
       "      <td>1</td>\n",
       "      <td>Ruby</td>\n",
       "    </tr>\n",
       "    <tr>\n",
       "      <th>9</th>\n",
       "      <td>7</td>\n",
       "      <td>1036</td>\n",
       "      <td>309</td>\n",
       "      <td>User</td>\n",
       "      <td>37</td>\n",
       "      <td>1008</td>\n",
       "      <td>37</td>\n",
       "      <td>1</td>\n",
       "      <td>Ruby</td>\n",
       "    </tr>\n",
       "  </tbody>\n",
       "</table>\n",
       "</div>"
      ],
      "text/plain": [
       "   watchers  stars  forks          type  issues    size  open_issues_count  \\\n",
       "0        59   1883    451          User       3    7954                  3   \n",
       "1         3    407     54          User       0    3462                  0   \n",
       "2       120   2692    612  Organization     211  162886                211   \n",
       "3       104   2036    479          User     112    2639                112   \n",
       "4         2     36      2          User       0     192                  0   \n",
       "5         2     66      5          User       0     156                  0   \n",
       "6         1    239     86          User       2     232                  2   \n",
       "7         2    151     16          User       1     473                  1   \n",
       "8        16   1629    283          User      27    1208                 27   \n",
       "9         7   1036    309          User      37    1008                 37   \n",
       "\n",
       "   num_languages  language_1  \n",
       "0              1        Ruby  \n",
       "1              2        Ruby  \n",
       "2             13        Ruby  \n",
       "3              6        Ruby  \n",
       "4              2  JavaScript  \n",
       "5              1  JavaScript  \n",
       "6              2        Ruby  \n",
       "7              2        Ruby  \n",
       "8              1        Ruby  \n",
       "9              1        Ruby  "
      ]
     },
     "execution_count": 6,
     "metadata": {},
     "output_type": "execute_result"
    }
   ],
   "source": [
    "\n",
    "guess_primary_language.head(10)"
   ]
  },
  {
   "cell_type": "code",
   "execution_count": 25,
   "metadata": {
    "collapsed": false
   },
   "outputs": [
    {
     "data": {
      "text/plain": [
       "(137100, 9)"
      ]
     },
     "execution_count": 25,
     "metadata": {},
     "output_type": "execute_result"
    }
   ],
   "source": [
    "guess_primary_language.shape"
   ]
  },
  {
   "cell_type": "code",
   "execution_count": 27,
   "metadata": {
    "collapsed": false
   },
   "outputs": [],
   "source": [
    "unique_1st_languages = guess_primary_language_no_na['language_1'].unique()"
   ]
  },
  {
   "cell_type": "code",
   "execution_count": 29,
   "metadata": {
    "collapsed": false
   },
   "outputs": [
    {
     "data": {
      "text/html": [
       "<div>\n",
       "<table border=\"1\" class=\"dataframe\">\n",
       "  <thead>\n",
       "    <tr style=\"text-align: right;\">\n",
       "      <th></th>\n",
       "      <th>language</th>\n",
       "    </tr>\n",
       "  </thead>\n",
       "  <tbody>\n",
       "    <tr>\n",
       "      <th>0</th>\n",
       "      <td>Ruby</td>\n",
       "    </tr>\n",
       "    <tr>\n",
       "      <th>1</th>\n",
       "      <td>JavaScript</td>\n",
       "    </tr>\n",
       "    <tr>\n",
       "      <th>2</th>\n",
       "      <td>ActionScript</td>\n",
       "    </tr>\n",
       "    <tr>\n",
       "      <th>3</th>\n",
       "      <td>C</td>\n",
       "    </tr>\n",
       "    <tr>\n",
       "      <th>4</th>\n",
       "      <td>Erlang</td>\n",
       "    </tr>\n",
       "  </tbody>\n",
       "</table>\n",
       "</div>"
      ],
      "text/plain": [
       "       language\n",
       "0          Ruby\n",
       "1    JavaScript\n",
       "2  ActionScript\n",
       "3             C\n",
       "4        Erlang"
      ]
     },
     "execution_count": 29,
     "metadata": {},
     "output_type": "execute_result"
    }
   ],
   "source": [
    "unique_lang_df = pd.DataFrame(unique_1st_languages)\n",
    "unique_lang_df.columns = ['language']\n",
    "unique_lang_df.head()"
   ]
  },
  {
   "cell_type": "code",
   "execution_count": 30,
   "metadata": {
    "collapsed": false
   },
   "outputs": [
    {
     "data": {
      "text/plain": [
       "(143, 1)"
      ]
     },
     "execution_count": 30,
     "metadata": {},
     "output_type": "execute_result"
    }
   ],
   "source": [
    "unique_lang_df.shape"
   ]
  },
  {
   "cell_type": "code",
   "execution_count": 32,
   "metadata": {
    "collapsed": false
   },
   "outputs": [
    {
     "data": {
      "text/html": [
       "<div>\n",
       "<table border=\"1\" class=\"dataframe\">\n",
       "  <thead>\n",
       "    <tr style=\"text-align: right;\">\n",
       "      <th></th>\n",
       "      <th>watchers</th>\n",
       "      <th>stars</th>\n",
       "      <th>forks</th>\n",
       "      <th>issues</th>\n",
       "      <th>size</th>\n",
       "      <th>open_issues_count</th>\n",
       "      <th>num_languages</th>\n",
       "      <th>type_Organization</th>\n",
       "      <th>type_User</th>\n",
       "    </tr>\n",
       "  </thead>\n",
       "  <tbody>\n",
       "    <tr>\n",
       "      <th>0</th>\n",
       "      <td>59</td>\n",
       "      <td>1883</td>\n",
       "      <td>451</td>\n",
       "      <td>3</td>\n",
       "      <td>7954</td>\n",
       "      <td>3</td>\n",
       "      <td>1</td>\n",
       "      <td>0</td>\n",
       "      <td>1</td>\n",
       "    </tr>\n",
       "    <tr>\n",
       "      <th>1</th>\n",
       "      <td>3</td>\n",
       "      <td>407</td>\n",
       "      <td>54</td>\n",
       "      <td>0</td>\n",
       "      <td>3462</td>\n",
       "      <td>0</td>\n",
       "      <td>2</td>\n",
       "      <td>0</td>\n",
       "      <td>1</td>\n",
       "    </tr>\n",
       "    <tr>\n",
       "      <th>2</th>\n",
       "      <td>120</td>\n",
       "      <td>2692</td>\n",
       "      <td>612</td>\n",
       "      <td>211</td>\n",
       "      <td>162886</td>\n",
       "      <td>211</td>\n",
       "      <td>13</td>\n",
       "      <td>1</td>\n",
       "      <td>0</td>\n",
       "    </tr>\n",
       "    <tr>\n",
       "      <th>3</th>\n",
       "      <td>104</td>\n",
       "      <td>2036</td>\n",
       "      <td>479</td>\n",
       "      <td>112</td>\n",
       "      <td>2639</td>\n",
       "      <td>112</td>\n",
       "      <td>6</td>\n",
       "      <td>0</td>\n",
       "      <td>1</td>\n",
       "    </tr>\n",
       "  </tbody>\n",
       "</table>\n",
       "</div>"
      ],
      "text/plain": [
       "   watchers  stars  forks  issues    size  open_issues_count  num_languages  \\\n",
       "0        59   1883    451       3    7954                  3              1   \n",
       "1         3    407     54       0    3462                  0              2   \n",
       "2       120   2692    612     211  162886                211             13   \n",
       "3       104   2036    479     112    2639                112              6   \n",
       "\n",
       "   type_Organization  type_User  \n",
       "0                  0          1  \n",
       "1                  0          1  \n",
       "2                  1          0  \n",
       "3                  0          1  "
      ]
     },
     "execution_count": 32,
     "metadata": {},
     "output_type": "execute_result"
    }
   ],
   "source": [
    "# Data to predict on\n",
    "estimate_primary_sample = df_dummies_lang.drop(['language_1'], 1)\n",
    "estimate_primary_sample.head(4)"
   ]
  },
  {
   "cell_type": "code",
   "execution_count": 33,
   "metadata": {
    "collapsed": false
   },
   "outputs": [],
   "source": [
    "# Turn language into unique integers\n",
    "df_dummies_lang['language_1_value'] = df_dummies_lang.language_1.map(langs)"
   ]
  },
  {
   "cell_type": "code",
   "execution_count": 34,
   "metadata": {
    "collapsed": false
   },
   "outputs": [
    {
     "data": {
      "text/html": [
       "<div>\n",
       "<table border=\"1\" class=\"dataframe\">\n",
       "  <thead>\n",
       "    <tr style=\"text-align: right;\">\n",
       "      <th></th>\n",
       "      <th>watchers</th>\n",
       "      <th>stars</th>\n",
       "      <th>forks</th>\n",
       "      <th>issues</th>\n",
       "      <th>size</th>\n",
       "      <th>open_issues_count</th>\n",
       "      <th>num_languages</th>\n",
       "      <th>language_1</th>\n",
       "      <th>type_Organization</th>\n",
       "      <th>type_User</th>\n",
       "      <th>language_1_value</th>\n",
       "    </tr>\n",
       "  </thead>\n",
       "  <tbody>\n",
       "    <tr>\n",
       "      <th>0</th>\n",
       "      <td>59</td>\n",
       "      <td>1883</td>\n",
       "      <td>451</td>\n",
       "      <td>3</td>\n",
       "      <td>7954</td>\n",
       "      <td>3</td>\n",
       "      <td>1</td>\n",
       "      <td>Ruby</td>\n",
       "      <td>0</td>\n",
       "      <td>1</td>\n",
       "      <td>0</td>\n",
       "    </tr>\n",
       "    <tr>\n",
       "      <th>1</th>\n",
       "      <td>3</td>\n",
       "      <td>407</td>\n",
       "      <td>54</td>\n",
       "      <td>0</td>\n",
       "      <td>3462</td>\n",
       "      <td>0</td>\n",
       "      <td>2</td>\n",
       "      <td>Ruby</td>\n",
       "      <td>0</td>\n",
       "      <td>1</td>\n",
       "      <td>0</td>\n",
       "    </tr>\n",
       "    <tr>\n",
       "      <th>2</th>\n",
       "      <td>120</td>\n",
       "      <td>2692</td>\n",
       "      <td>612</td>\n",
       "      <td>211</td>\n",
       "      <td>162886</td>\n",
       "      <td>211</td>\n",
       "      <td>13</td>\n",
       "      <td>Ruby</td>\n",
       "      <td>1</td>\n",
       "      <td>0</td>\n",
       "      <td>0</td>\n",
       "    </tr>\n",
       "    <tr>\n",
       "      <th>3</th>\n",
       "      <td>104</td>\n",
       "      <td>2036</td>\n",
       "      <td>479</td>\n",
       "      <td>112</td>\n",
       "      <td>2639</td>\n",
       "      <td>112</td>\n",
       "      <td>6</td>\n",
       "      <td>Ruby</td>\n",
       "      <td>0</td>\n",
       "      <td>1</td>\n",
       "      <td>0</td>\n",
       "    </tr>\n",
       "    <tr>\n",
       "      <th>4</th>\n",
       "      <td>2</td>\n",
       "      <td>36</td>\n",
       "      <td>2</td>\n",
       "      <td>0</td>\n",
       "      <td>192</td>\n",
       "      <td>0</td>\n",
       "      <td>2</td>\n",
       "      <td>JavaScript</td>\n",
       "      <td>0</td>\n",
       "      <td>1</td>\n",
       "      <td>1</td>\n",
       "    </tr>\n",
       "  </tbody>\n",
       "</table>\n",
       "</div>"
      ],
      "text/plain": [
       "   watchers  stars  forks  issues    size  open_issues_count  num_languages  \\\n",
       "0        59   1883    451       3    7954                  3              1   \n",
       "1         3    407     54       0    3462                  0              2   \n",
       "2       120   2692    612     211  162886                211             13   \n",
       "3       104   2036    479     112    2639                112              6   \n",
       "4         2     36      2       0     192                  0              2   \n",
       "\n",
       "   language_1  type_Organization  type_User  language_1_value  \n",
       "0        Ruby                  0          1                 0  \n",
       "1        Ruby                  0          1                 0  \n",
       "2        Ruby                  1          0                 0  \n",
       "3        Ruby                  0          1                 0  \n",
       "4  JavaScript                  0          1                 1  "
      ]
     },
     "execution_count": 34,
     "metadata": {},
     "output_type": "execute_result"
    }
   ],
   "source": [
    "df_dummies_lang.head(5)"
   ]
  },
  {
   "cell_type": "code",
   "execution_count": 35,
   "metadata": {
    "collapsed": false
   },
   "outputs": [
    {
     "data": {
      "text/html": [
       "<div>\n",
       "<table border=\"1\" class=\"dataframe\">\n",
       "  <thead>\n",
       "    <tr style=\"text-align: right;\">\n",
       "      <th></th>\n",
       "      <th>language_1</th>\n",
       "    </tr>\n",
       "  </thead>\n",
       "  <tbody>\n",
       "    <tr>\n",
       "      <th>0</th>\n",
       "      <td>0</td>\n",
       "    </tr>\n",
       "    <tr>\n",
       "      <th>1</th>\n",
       "      <td>0</td>\n",
       "    </tr>\n",
       "    <tr>\n",
       "      <th>2</th>\n",
       "      <td>0</td>\n",
       "    </tr>\n",
       "    <tr>\n",
       "      <th>3</th>\n",
       "      <td>0</td>\n",
       "    </tr>\n",
       "    <tr>\n",
       "      <th>4</th>\n",
       "      <td>1</td>\n",
       "    </tr>\n",
       "  </tbody>\n",
       "</table>\n",
       "</div>"
      ],
      "text/plain": [
       "   language_1\n",
       "0           0\n",
       "1           0\n",
       "2           0\n",
       "3           0\n",
       "4           1"
      ]
     },
     "execution_count": 35,
     "metadata": {},
     "output_type": "execute_result"
    }
   ],
   "source": [
    "language_sample = pd.DataFrame(df_dummies_lang['language_1_value'])\n",
    "language_sample.columns = ['language_1']\n",
    "language_sample.head(5)"
   ]
  },
  {
   "cell_type": "code",
   "execution_count": 22,
   "metadata": {
    "collapsed": false
   },
   "outputs": [
    {
     "name": "stdout",
     "output_type": "stream",
     "text": [
      "(111404, 9)\n",
      "Index(['language_1'], dtype='object')\n"
     ]
    }
   ],
   "source": [
    "print(estimate_primary_sample.shape)\n",
    "print(language_sample.columns)"
   ]
  },
  {
   "cell_type": "code",
   "execution_count": 23,
   "metadata": {
    "collapsed": false
   },
   "outputs": [],
   "source": [
    "estimate_primary_sample = df_dummies_lang.drop(['language_1_value'], 1)\n",
    "estimate_primary_sample = estimate_primary_sample.drop(['language_1'], 1)"
   ]
  },
  {
   "cell_type": "code",
   "execution_count": 24,
   "metadata": {
    "collapsed": false
   },
   "outputs": [
    {
     "data": {
      "text/html": [
       "<div>\n",
       "<table border=\"1\" class=\"dataframe\">\n",
       "  <thead>\n",
       "    <tr style=\"text-align: right;\">\n",
       "      <th></th>\n",
       "      <th>watchers</th>\n",
       "      <th>stars</th>\n",
       "      <th>forks</th>\n",
       "      <th>issues</th>\n",
       "      <th>size</th>\n",
       "      <th>open_issues_count</th>\n",
       "      <th>num_languages</th>\n",
       "      <th>type_Organization</th>\n",
       "      <th>type_User</th>\n",
       "    </tr>\n",
       "  </thead>\n",
       "  <tbody>\n",
       "    <tr>\n",
       "      <th>0</th>\n",
       "      <td>59</td>\n",
       "      <td>1883</td>\n",
       "      <td>451</td>\n",
       "      <td>3</td>\n",
       "      <td>7954</td>\n",
       "      <td>3</td>\n",
       "      <td>1</td>\n",
       "      <td>0</td>\n",
       "      <td>1</td>\n",
       "    </tr>\n",
       "    <tr>\n",
       "      <th>1</th>\n",
       "      <td>3</td>\n",
       "      <td>407</td>\n",
       "      <td>54</td>\n",
       "      <td>0</td>\n",
       "      <td>3462</td>\n",
       "      <td>0</td>\n",
       "      <td>2</td>\n",
       "      <td>0</td>\n",
       "      <td>1</td>\n",
       "    </tr>\n",
       "    <tr>\n",
       "      <th>2</th>\n",
       "      <td>120</td>\n",
       "      <td>2692</td>\n",
       "      <td>612</td>\n",
       "      <td>211</td>\n",
       "      <td>162886</td>\n",
       "      <td>211</td>\n",
       "      <td>13</td>\n",
       "      <td>1</td>\n",
       "      <td>0</td>\n",
       "    </tr>\n",
       "    <tr>\n",
       "      <th>3</th>\n",
       "      <td>104</td>\n",
       "      <td>2036</td>\n",
       "      <td>479</td>\n",
       "      <td>112</td>\n",
       "      <td>2639</td>\n",
       "      <td>112</td>\n",
       "      <td>6</td>\n",
       "      <td>0</td>\n",
       "      <td>1</td>\n",
       "    </tr>\n",
       "    <tr>\n",
       "      <th>4</th>\n",
       "      <td>2</td>\n",
       "      <td>36</td>\n",
       "      <td>2</td>\n",
       "      <td>0</td>\n",
       "      <td>192</td>\n",
       "      <td>0</td>\n",
       "      <td>2</td>\n",
       "      <td>0</td>\n",
       "      <td>1</td>\n",
       "    </tr>\n",
       "    <tr>\n",
       "      <th>5</th>\n",
       "      <td>2</td>\n",
       "      <td>66</td>\n",
       "      <td>5</td>\n",
       "      <td>0</td>\n",
       "      <td>156</td>\n",
       "      <td>0</td>\n",
       "      <td>1</td>\n",
       "      <td>0</td>\n",
       "      <td>1</td>\n",
       "    </tr>\n",
       "    <tr>\n",
       "      <th>6</th>\n",
       "      <td>1</td>\n",
       "      <td>239</td>\n",
       "      <td>86</td>\n",
       "      <td>2</td>\n",
       "      <td>232</td>\n",
       "      <td>2</td>\n",
       "      <td>2</td>\n",
       "      <td>0</td>\n",
       "      <td>1</td>\n",
       "    </tr>\n",
       "    <tr>\n",
       "      <th>7</th>\n",
       "      <td>2</td>\n",
       "      <td>151</td>\n",
       "      <td>16</td>\n",
       "      <td>1</td>\n",
       "      <td>473</td>\n",
       "      <td>1</td>\n",
       "      <td>2</td>\n",
       "      <td>0</td>\n",
       "      <td>1</td>\n",
       "    </tr>\n",
       "    <tr>\n",
       "      <th>8</th>\n",
       "      <td>16</td>\n",
       "      <td>1629</td>\n",
       "      <td>283</td>\n",
       "      <td>27</td>\n",
       "      <td>1208</td>\n",
       "      <td>27</td>\n",
       "      <td>1</td>\n",
       "      <td>0</td>\n",
       "      <td>1</td>\n",
       "    </tr>\n",
       "    <tr>\n",
       "      <th>9</th>\n",
       "      <td>7</td>\n",
       "      <td>1036</td>\n",
       "      <td>309</td>\n",
       "      <td>37</td>\n",
       "      <td>1008</td>\n",
       "      <td>37</td>\n",
       "      <td>1</td>\n",
       "      <td>0</td>\n",
       "      <td>1</td>\n",
       "    </tr>\n",
       "  </tbody>\n",
       "</table>\n",
       "</div>"
      ],
      "text/plain": [
       "   watchers  stars  forks  issues    size  open_issues_count  num_languages  \\\n",
       "0        59   1883    451       3    7954                  3              1   \n",
       "1         3    407     54       0    3462                  0              2   \n",
       "2       120   2692    612     211  162886                211             13   \n",
       "3       104   2036    479     112    2639                112              6   \n",
       "4         2     36      2       0     192                  0              2   \n",
       "5         2     66      5       0     156                  0              1   \n",
       "6         1    239     86       2     232                  2              2   \n",
       "7         2    151     16       1     473                  1              2   \n",
       "8        16   1629    283      27    1208                 27              1   \n",
       "9         7   1036    309      37    1008                 37              1   \n",
       "\n",
       "   type_Organization  type_User  \n",
       "0                  0          1  \n",
       "1                  0          1  \n",
       "2                  1          0  \n",
       "3                  0          1  \n",
       "4                  0          1  \n",
       "5                  0          1  \n",
       "6                  0          1  \n",
       "7                  0          1  \n",
       "8                  0          1  \n",
       "9                  0          1  "
      ]
     },
     "execution_count": 24,
     "metadata": {},
     "output_type": "execute_result"
    }
   ],
   "source": [
    "estimate_primary_sample.head(10)"
   ]
  },
  {
   "cell_type": "code",
   "execution_count": 25,
   "metadata": {
    "collapsed": false
   },
   "outputs": [
    {
     "data": {
      "text/html": [
       "<div>\n",
       "<table border=\"1\" class=\"dataframe\">\n",
       "  <thead>\n",
       "    <tr style=\"text-align: right;\">\n",
       "      <th></th>\n",
       "      <th>language_1</th>\n",
       "    </tr>\n",
       "  </thead>\n",
       "  <tbody>\n",
       "    <tr>\n",
       "      <th>0</th>\n",
       "      <td>0</td>\n",
       "    </tr>\n",
       "    <tr>\n",
       "      <th>1</th>\n",
       "      <td>0</td>\n",
       "    </tr>\n",
       "    <tr>\n",
       "      <th>2</th>\n",
       "      <td>0</td>\n",
       "    </tr>\n",
       "    <tr>\n",
       "      <th>3</th>\n",
       "      <td>0</td>\n",
       "    </tr>\n",
       "    <tr>\n",
       "      <th>4</th>\n",
       "      <td>1</td>\n",
       "    </tr>\n",
       "    <tr>\n",
       "      <th>5</th>\n",
       "      <td>1</td>\n",
       "    </tr>\n",
       "    <tr>\n",
       "      <th>6</th>\n",
       "      <td>0</td>\n",
       "    </tr>\n",
       "    <tr>\n",
       "      <th>7</th>\n",
       "      <td>0</td>\n",
       "    </tr>\n",
       "    <tr>\n",
       "      <th>8</th>\n",
       "      <td>0</td>\n",
       "    </tr>\n",
       "    <tr>\n",
       "      <th>9</th>\n",
       "      <td>0</td>\n",
       "    </tr>\n",
       "  </tbody>\n",
       "</table>\n",
       "</div>"
      ],
      "text/plain": [
       "   language_1\n",
       "0           0\n",
       "1           0\n",
       "2           0\n",
       "3           0\n",
       "4           1\n",
       "5           1\n",
       "6           0\n",
       "7           0\n",
       "8           0\n",
       "9           0"
      ]
     },
     "execution_count": 25,
     "metadata": {},
     "output_type": "execute_result"
    }
   ],
   "source": [
    "language_sample.head(10)"
   ]
  },
  {
   "cell_type": "code",
   "execution_count": null,
   "metadata": {
    "collapsed": false
   },
   "outputs": [],
   "source": [
    "X_train, X_test, y_train, y_test = train_test_split(estimate_primary_sample, language_sample, test_size=0.4, random_state=0)"
   ]
  },
  {
   "cell_type": "code",
   "execution_count": 415,
   "metadata": {
    "collapsed": false
   },
   "outputs": [
    {
     "name": "stdout",
     "output_type": "stream",
     "text": [
      "KNN test accuracy on prediction of primary language, k = 50, acc = 0.3274314438310668: \n",
      "KNN test accuracy on prediction of primary language, k = 51, acc = 0.3267133432072169: \n",
      "KNN test accuracy on prediction of primary language, k = 52, acc = 0.3273416812530856: \n",
      "KNN test accuracy on prediction of primary language, k = 53, acc = 0.32767829092051526: \n",
      "KNN test accuracy on prediction of primary language, k = 54, acc = 0.3276334096315246: \n",
      "KNN test accuracy on prediction of primary language, k = 55, acc = 0.32788025672097304: \n",
      "KNN test accuracy on prediction of primary language, k = 56, acc = 0.3283066289663839: \n",
      "KNN test accuracy on prediction of primary language, k = 57, acc = 0.3289125263677573: \n",
      "KNN test accuracy on prediction of primary language, k = 58, acc = 0.32889008572326195: \n",
      "KNN test accuracy on prediction of primary language, k = 59, acc = 0.3289574076567479: \n",
      "KNN test accuracy on prediction of primary language, k = 60, acc = 0.32886764507876665: \n",
      "KNN test accuracy on prediction of primary language, k = 61, acc = 0.3289574076567479: \n",
      "KNN test accuracy on prediction of primary language, k = 62, acc = 0.32866567927830886: \n",
      "KNN test accuracy on prediction of primary language, k = 63, acc = 0.3284861541223464: \n",
      "KNN test accuracy on prediction of primary language, k = 64, acc = 0.32875544185629013: \n",
      "KNN test accuracy on prediction of primary language, k = 65, acc = 0.32873300121179483: \n",
      "KNN test accuracy on prediction of primary language, k = 66, acc = 0.32862079798931826: \n",
      "KNN test accuracy on prediction of primary language, k = 67, acc = 0.32886764507876665: \n",
      "KNN test accuracy on prediction of primary language, k = 68, acc = 0.32877788250078543: \n",
      "KNN test accuracy on prediction of primary language, k = 69, acc = 0.3293613392576635: \n",
      "KNN test accuracy on prediction of primary language, k = 70, acc = 0.3293388986131682: \n",
      "KNN test accuracy on prediction of primary language, k = 71, acc = 0.3294286611911494: \n",
      "KNN test accuracy on prediction of primary language, k = 72, acc = 0.32889008572326195: \n",
      "KNN test accuracy on prediction of primary language, k = 73, acc = 0.3292266953906916: \n",
      "KNN test accuracy on prediction of primary language, k = 74, acc = 0.3293388986131682: \n"
     ]
    }
   ],
   "source": [
    "acc_2 = []\n",
    "for k in range(50,75):\n",
    "    knn_digits = KNeighborsClassifier(n_neighbors=k)\n",
    "    knn_digits.fit(X_train, pd.Series.ravel(y_train))\n",
    "    y_digits_test_pred = knn_digits.predict(X_test)\n",
    "    print(\"KNN test accuracy on prediction of primary language, k = {}, acc = {}: \".format(\n",
    "            k,knn_digits.score(X_test, y_test)))\n",
    "    acc_2.append(knn_digits.score(X_test, y_test))"
   ]
  },
  {
   "cell_type": "code",
   "execution_count": 390,
   "metadata": {
    "collapsed": false
   },
   "outputs": [
    {
     "data": {
      "image/png": "[encoded data removed]",
      "text/plain": [
       "<matplotlib.figure.Figure at 0x45f082f98>"
      ]
     },
     "metadata": {},
     "output_type": "display_data"
    }
   ],
   "source": [
    "x_labels = [i for i in range(35)]\n",
    "plt.plot(x_labels, acc, '.')\n",
    "plt.xlabel('k')\n",
    "_=plt.ylabel('Accuracy')\n",
    "plt.title(\"Accuracy of KNeighborsClassifier\")\n",
    "plt.savefig('knn_acc_lang.png')\n",
    "plt.show()"
   ]
  },
  {
   "cell_type": "markdown",
   "metadata": {},
   "source": [
    "# Decision Tree"
   ]
  },
  {
   "cell_type": "code",
   "execution_count": 416,
   "metadata": {
    "collapsed": false
   },
   "outputs": [
    {
     "name": "stdout",
     "output_type": "stream",
     "text": [
      "DT accuracy on test data:  0.262892150263\n",
      "DT accuracy on training data:  0.782651626223\n"
     ]
    }
   ],
   "source": [
    "dtc = tree.DecisionTreeClassifier()\n",
    "dtc.fit(X_train,y_train)\n",
    "y_pred_test = dtc.predict(X_test)\n",
    "print('DT accuracy on test data: ', dtc.score(X_test, y_test))\n",
    "y_pred_train = dtc.predict(X_train)\n",
    "print('DT accuracy on training data: ', dtc.score(X_train, y_train))"
   ]
  },
  {
   "cell_type": "code",
   "execution_count": 446,
   "metadata": {
    "collapsed": false
   },
   "outputs": [
    {
     "name": "stdout",
     "output_type": "stream",
     "text": [
      "emacsmirror\t 1 stars\t459 repos\n",
      "emacsattic\t 1 stars\t184 repos\n",
      "bitweaver\t 5 stars\t156 repos\n",
      "albertobraschi\t 1 stars\t96 repos\n",
      "rafl\t 4 stars\t91 repos\n",
      "nothingmuch\t 6 stars\t90 repos\n",
      "apache\t 172 stars\t85 repos\n",
      "drnic\t 35 stars\t85 repos\n",
      "textmate\t 14 stars\t84 repos\n",
      "edavis10\t 40 stars\t84 repos\n",
      "tokuhirom\t 5 stars\t83 repos\n",
      "rjbs\t 5 stars\t80 repos\n",
      "endevver\t 2 stars\t75 repos\n",
      "kristianmandrup\t 2 stars\t73 repos\n",
      "jrockway\t 7 stars\t72 repos\n",
      "smtlaissezfaire\t 7 stars\t72 repos\n",
      "dustin\t 28 stars\t69 repos\n",
      "avar\t 2 stars\t69 repos\n",
      "bestpractical\t 3 stars\t68 repos\n",
      "miyagawa\t 28 stars\t65 repos\n"
     ]
    },
    {
     "data": {
      "text/plain": [
       "<matplotlib.axes._subplots.AxesSubplot at 0x4678344e0>"
      ]
     },
     "execution_count": 446,
     "metadata": {},
     "output_type": "execute_result"
    },
    {
     "data": {
      "image/png": "[encoded data removed]",
      "text/plain": [
       "<matplotlib.figure.Figure at 0x468342eb8>"
      ]
     },
     "metadata": {},
     "output_type": "display_data"
    }
   ],
   "source": [
    "most_repos = df.owner.value_counts()[:20]\n",
    "d = []\n",
    "for person, repos in zip(most_repos.index, most_repos.values):\n",
    "    print(\"%s\\t %d stars\\t%d repos\" % (person, np.mean(df[df.owner == person].stars), repos))\n",
    "    d.append({'stars': np.mean(df[df.owner == person].stars), 'repos': repos})\n",
    "new_df = pd.DataFrame(d)\n",
    "new_df.plot(x='repos', y='stars')"
   ]
  }
 ],
 "metadata": {
  "anaconda-cloud": {},
  "kernelspec": {
   "display_name": "Python [conda root]",
   "language": "python",
   "name": "conda-root-py"
  },
  "language_info": {
   "codemirror_mode": {
    "name": "ipython",
    "version": 2
   },
   "file_extension": ".py",
   "mimetype": "text/x-python",
   "name": "python",
   "nbconvert_exporter": "python",
   "pygments_lexer": "ipython2",
   "version": "2.7.12"
  }
 },
 "nbformat": 4,
 "nbformat_minor": 1
}
