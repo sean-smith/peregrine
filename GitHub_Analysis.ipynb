{
 "cells": [
  {
   "cell_type": "markdown",
   "metadata": {},
   "source": [
    "# Github Data Analysis\n",
    "* Sean Smith <swsmith@bu.edu> \n",
    "* Ann Ming Samborski <asambors@bu.edu>"
   ]
  },
  {
   "cell_type": "markdown",
   "metadata": {},
   "source": [
    "# Questions We Strive to Address\n",
    "1. What are the most popular coding languages? How has this changed over time? How does this data compare to StackOverflow?\n",
    "2. Given the features shown below, can we predict number of stars? \n",
    "3. Is there a specific subset of the features below (besides the entirety) that optimizes the accuracy of star prediction? \n",
    "4. Does lines of code correlate with number of stars?\n",
    "5. Do number of contributors correlate with number of stars?"
   ]
  },
  {
   "cell_type": "markdown",
   "metadata": {},
   "source": [
    "# Differences From Our Initial Report\n",
    "In our initial report submission, we focused on the popularity of languages and spoke mainly about how we'd like to study the rise and fall of different languages as a function of time. However, we realize that while we would love to compare GitHub's data to StackOverflow [1], there was still a lot more that we could do with the data collected. \n",
    "\n",
    "In addition to our desire to study different questions about the GitHub data, we also realized there is a slight skew to our collected data. It is reporting that the most common language is Ruby, but according to Stack Overflow surveys, JavaScript should have been the most popular. We only have a portion of GitHub's repositories so we cannot be certain one way or the other of which language is in fact most popular. Due to this inaccuracy, we decided to focus our efforts in another direction.\n",
    "\n",
    "That being said, we now switch over to a focus on stars. We would like to see what combination of feature vectors (features shown below) can be used to best predict the number of stars a repository will have. Clearly, we would like to explore how to best minimize features required (i.e. is a question like (**2**) above a fair one to ask? Is it possible that one feature can be enough information to predict on?)."
   ]
  },
  {
   "cell_type": "markdown",
   "metadata": {},
   "source": [
    "# References\n",
    "1. [Stack Overflow Most Popular Languages 2017](https://stackoverflow.com/insights/survey/2017#technology-programming-languages)\n",
    "2. [Pandas Scatter Plot](http://pandas.pydata.org/pandas-docs/stable/visualization.html#scatter-plot)\n",
    "3. [Sampling](http://pandas.pydata.org/pandas-docs/stable/generated/pandas.DataFrame.sample.html)"
   ]
  },
  {
   "cell_type": "markdown",
   "metadata": {},
   "source": [
    "## Dataset\n",
    "We collected `137,100` repositories. We recognize more data would have been ideal, but the GitHub API rate limit, even with that increased thanks to GitHub Support, still restricts the amount of information we can make (especially because 1 repository requires 2 additional API calls). The information collected per repository is below.\n",
    "\n",
    "| Name          | Description   |\n",
    "| ------------- |:--------------|\n",
    "| name          | Owner/Repository name |\n",
    "| owner         | Owner name |\n",
    "| watchers      | Number of watchers |\n",
    "| stars         | Number of stars |\n",
    "| forks         | Number of forks |\n",
    "| type          | Type of account, organization or user |\n",
    "| issues        | Number of issues|\n",
    "| created_at    | Date created |\n",
    "| pushed_at     | Date last pushed |\n",
    "| updated_at    | Date last updated |\n",
    "| size          | Size of repo in KB|\n",
    "| open_issues   | Number of open issues |\n",
    "| description   | Repository description |\n",
    "| num_languages | Number of programming languages |\n",
    "|language_1     | Most popular language |\n",
    "|language_1_size| Most popular language size in bytes |\n",
    "|language_2     | Second most popular language |\n",
    "|language_2_size| Second most popular language size in bytes |\n",
    "|language_3     | Third most popular language |\n",
    "|language_3_size| Third most popular language size in bytes |"
   ]
  },
  {
   "cell_type": "markdown",
   "metadata": {},
   "source": [
    "## Data Collection Code"
   ]
  },
  {
   "cell_type": "markdown",
   "metadata": {
    "collapsed": false
   },
   "source": [
    "Please see our initial report on our data and how we collected it for fleshed out details. "
   ]
  },
  {
   "cell_type": "markdown",
   "metadata": {},
   "source": [
    "## Data"
   ]
  },
  {
   "cell_type": "code",
   "execution_count": 27,
   "metadata": {
    "collapsed": true
   },
   "outputs": [],
   "source": [
    "# INCLUDES\n",
    "import requests\n",
    "from pprint import pprint\n",
    "import collections\n",
    "import pandas as pd\n",
    "import time\n",
    "import matplotlib.pyplot as plt\n",
    "import matplotlib.dates as mdates\n",
    "import math\n",
    "%matplotlib inline\n",
    "\n",
    "import json\n",
    "import random\n",
    "import re\n",
    "import numpy as np \n",
    "from datetime import datetime\n",
    "import warnings\n",
    "\n",
    "import matplotlib.cm as cm\n",
    "import seaborn as sns\n",
    "\n",
    "from sklearn.feature_extraction.text import TfidfVectorizer \n",
    "from sklearn.feature_extraction.text import CountVectorizer\n",
    "from nltk.stem.snowball import SnowballStemmer\n",
    "from nltk.tokenize import word_tokenize, sent_tokenize\n",
    "from sklearn.preprocessing import scale\n",
    "from sklearn.preprocessing import Normalizer\n",
    "import sklearn.metrics as metrics\n",
    "import scipy.sparse.linalg as linalg\n",
    "\n",
    "from sklearn.metrics import classification_report\n",
    "from sklearn.naive_bayes import MultinomialNB\n",
    "from sklearn.linear_model import LogisticRegression\n",
    "from sklearn.metrics import accuracy_score\n",
    "from sklearn.metrics import roc_curve, auc\n",
    "import statsmodels.api as sm \n",
    "\n",
    "from sklearn.neighbors import KNeighborsClassifier\n",
    "from sklearn.model_selection import train_test_split\n",
    "\n",
    "# IGNORE WARNINGS\n",
    "with warnings.catch_warnings():\n",
    "    warnings.filterwarnings(\"ignore\", category=Warning)"
   ]
  },
  {
   "cell_type": "code",
   "execution_count": 3,
   "metadata": {
    "collapsed": false
   },
   "outputs": [],
   "source": [
    "# Read in data\n",
    "df = pd.read_csv('github_data.csv')"
   ]
  },
  {
   "cell_type": "code",
   "execution_count": 4,
   "metadata": {
    "collapsed": false
   },
   "outputs": [
    {
     "data": {
      "text/html": [
       "<div>\n",
       "<table border=\"1\" class=\"dataframe\">\n",
       "  <thead>\n",
       "    <tr style=\"text-align: right;\">\n",
       "      <th></th>\n",
       "      <th>name</th>\n",
       "      <th>owner</th>\n",
       "      <th>watchers</th>\n",
       "      <th>stars</th>\n",
       "      <th>forks</th>\n",
       "      <th>type</th>\n",
       "      <th>issues</th>\n",
       "      <th>created_at</th>\n",
       "      <th>pushed_at</th>\n",
       "      <th>updated_at</th>\n",
       "      <th>size</th>\n",
       "      <th>open_issues_count</th>\n",
       "      <th>description</th>\n",
       "      <th>num_languages</th>\n",
       "      <th>language_1</th>\n",
       "      <th>language_1_size</th>\n",
       "      <th>language_2</th>\n",
       "      <th>language_2_size</th>\n",
       "      <th>language_3</th>\n",
       "      <th>language_3_size</th>\n",
       "    </tr>\n",
       "  </thead>\n",
       "  <tbody>\n",
       "    <tr>\n",
       "      <th>0</th>\n",
       "      <td>mojombo/grit</td>\n",
       "      <td>mojombo</td>\n",
       "      <td>59</td>\n",
       "      <td>1883</td>\n",
       "      <td>451</td>\n",
       "      <td>User</td>\n",
       "      <td>3</td>\n",
       "      <td>2007-10-29T14:37:16Z</td>\n",
       "      <td>2016-08-01T15:17:38Z</td>\n",
       "      <td>2017-04-19T11:01:12Z</td>\n",
       "      <td>7954</td>\n",
       "      <td>3</td>\n",
       "      <td>**Grit is no longer maintained. Check out libg...</td>\n",
       "      <td>1</td>\n",
       "      <td>Ruby</td>\n",
       "      <td>219981.0</td>\n",
       "      <td>NaN</td>\n",
       "      <td>NaN</td>\n",
       "      <td>NaN</td>\n",
       "      <td>NaN</td>\n",
       "    </tr>\n",
       "    <tr>\n",
       "      <th>1</th>\n",
       "      <td>wycats/merb-core</td>\n",
       "      <td>wycats</td>\n",
       "      <td>3</td>\n",
       "      <td>407</td>\n",
       "      <td>54</td>\n",
       "      <td>User</td>\n",
       "      <td>0</td>\n",
       "      <td>2008-01-12T05:50:53Z</td>\n",
       "      <td>2008-10-13T02:31:34Z</td>\n",
       "      <td>2017-04-23T16:05:54Z</td>\n",
       "      <td>3462</td>\n",
       "      <td>0</td>\n",
       "      <td>Merb Core: All you need. None you don't.</td>\n",
       "      <td>2</td>\n",
       "      <td>Ruby</td>\n",
       "      <td>948883.0</td>\n",
       "      <td>JavaScript</td>\n",
       "      <td>8925.0</td>\n",
       "      <td>NaN</td>\n",
       "      <td>NaN</td>\n",
       "    </tr>\n",
       "    <tr>\n",
       "      <th>2</th>\n",
       "      <td>rubinius/rubinius</td>\n",
       "      <td>rubinius</td>\n",
       "      <td>120</td>\n",
       "      <td>2692</td>\n",
       "      <td>612</td>\n",
       "      <td>Organization</td>\n",
       "      <td>211</td>\n",
       "      <td>2008-01-12T16:46:52Z</td>\n",
       "      <td>2017-04-22T23:00:00Z</td>\n",
       "      <td>2017-04-23T09:34:21Z</td>\n",
       "      <td>162886</td>\n",
       "      <td>211</td>\n",
       "      <td>The Rubinius Language Platform</td>\n",
       "      <td>13</td>\n",
       "      <td>Ruby</td>\n",
       "      <td>7352918.0</td>\n",
       "      <td>C++</td>\n",
       "      <td>2917738.0</td>\n",
       "      <td>C</td>\n",
       "      <td>522111.0</td>\n",
       "    </tr>\n",
       "    <tr>\n",
       "      <th>3</th>\n",
       "      <td>mojombo/god</td>\n",
       "      <td>mojombo</td>\n",
       "      <td>104</td>\n",
       "      <td>2036</td>\n",
       "      <td>479</td>\n",
       "      <td>User</td>\n",
       "      <td>112</td>\n",
       "      <td>2008-01-13T05:16:23Z</td>\n",
       "      <td>2017-03-01T00:00:23Z</td>\n",
       "      <td>2017-04-23T14:44:01Z</td>\n",
       "      <td>2639</td>\n",
       "      <td>112</td>\n",
       "      <td>Ruby process monitor</td>\n",
       "      <td>6</td>\n",
       "      <td>Ruby</td>\n",
       "      <td>283939.0</td>\n",
       "      <td>C</td>\n",
       "      <td>9261.0</td>\n",
       "      <td>CSS</td>\n",
       "      <td>6486.0</td>\n",
       "    </tr>\n",
       "    <tr>\n",
       "      <th>4</th>\n",
       "      <td>vanpelt/jsawesome</td>\n",
       "      <td>vanpelt</td>\n",
       "      <td>2</td>\n",
       "      <td>36</td>\n",
       "      <td>2</td>\n",
       "      <td>User</td>\n",
       "      <td>0</td>\n",
       "      <td>2008-01-13T06:04:19Z</td>\n",
       "      <td>2008-05-29T20:09:36Z</td>\n",
       "      <td>2017-03-29T18:09:21Z</td>\n",
       "      <td>192</td>\n",
       "      <td>0</td>\n",
       "      <td>Awesome JSON</td>\n",
       "      <td>2</td>\n",
       "      <td>JavaScript</td>\n",
       "      <td>126588.0</td>\n",
       "      <td>Ruby</td>\n",
       "      <td>9677.0</td>\n",
       "      <td>NaN</td>\n",
       "      <td>NaN</td>\n",
       "    </tr>\n",
       "  </tbody>\n",
       "</table>\n",
       "</div>"
      ],
      "text/plain": [
       "                name     owner  watchers  stars  forks          type  issues  \\\n",
       "0       mojombo/grit   mojombo        59   1883    451          User       3   \n",
       "1   wycats/merb-core    wycats         3    407     54          User       0   \n",
       "2  rubinius/rubinius  rubinius       120   2692    612  Organization     211   \n",
       "3        mojombo/god   mojombo       104   2036    479          User     112   \n",
       "4  vanpelt/jsawesome   vanpelt         2     36      2          User       0   \n",
       "\n",
       "             created_at             pushed_at            updated_at    size  \\\n",
       "0  2007-10-29T14:37:16Z  2016-08-01T15:17:38Z  2017-04-19T11:01:12Z    7954   \n",
       "1  2008-01-12T05:50:53Z  2008-10-13T02:31:34Z  2017-04-23T16:05:54Z    3462   \n",
       "2  2008-01-12T16:46:52Z  2017-04-22T23:00:00Z  2017-04-23T09:34:21Z  162886   \n",
       "3  2008-01-13T05:16:23Z  2017-03-01T00:00:23Z  2017-04-23T14:44:01Z    2639   \n",
       "4  2008-01-13T06:04:19Z  2008-05-29T20:09:36Z  2017-03-29T18:09:21Z     192   \n",
       "\n",
       "   open_issues_count                                        description  \\\n",
       "0                  3  **Grit is no longer maintained. Check out libg...   \n",
       "1                  0           Merb Core: All you need. None you don't.   \n",
       "2                211                     The Rubinius Language Platform   \n",
       "3                112                               Ruby process monitor   \n",
       "4                  0                                       Awesome JSON   \n",
       "\n",
       "   num_languages  language_1  language_1_size  language_2  language_2_size  \\\n",
       "0              1        Ruby         219981.0         NaN              NaN   \n",
       "1              2        Ruby         948883.0  JavaScript           8925.0   \n",
       "2             13        Ruby        7352918.0         C++        2917738.0   \n",
       "3              6        Ruby         283939.0           C           9261.0   \n",
       "4              2  JavaScript         126588.0        Ruby           9677.0   \n",
       "\n",
       "  language_3  language_3_size  \n",
       "0        NaN              NaN  \n",
       "1        NaN              NaN  \n",
       "2          C         522111.0  \n",
       "3        CSS           6486.0  \n",
       "4        NaN              NaN  "
      ]
     },
     "execution_count": 4,
     "metadata": {},
     "output_type": "execute_result"
    }
   ],
   "source": [
    "df.head(5)"
   ]
  },
  {
   "cell_type": "code",
   "execution_count": 5,
   "metadata": {
    "collapsed": false
   },
   "outputs": [
    {
     "data": {
      "text/plain": [
       "(137100, 20)"
      ]
     },
     "execution_count": 5,
     "metadata": {},
     "output_type": "execute_result"
    }
   ],
   "source": [
    "df.shape"
   ]
  },
  {
   "cell_type": "code",
   "execution_count": 6,
   "metadata": {
    "collapsed": false
   },
   "outputs": [
    {
     "data": {
      "text/plain": [
       "User            130069\n",
       "Organization      7031\n",
       "Name: type, dtype: int64"
      ]
     },
     "execution_count": 6,
     "metadata": {},
     "output_type": "execute_result"
    }
   ],
   "source": [
    "df.type.value_counts()"
   ]
  },
  {
   "cell_type": "markdown",
   "metadata": {},
   "source": [
    "## Most Popular Programming Language"
   ]
  },
  {
   "cell_type": "code",
   "execution_count": 7,
   "metadata": {
    "collapsed": false
   },
   "outputs": [
    {
     "data": {
      "text/plain": [
       "Ruby            36351\n",
       "JavaScript      15032\n",
       "Python          11333\n",
       "PHP              7484\n",
       "Java             6384\n",
       "C                6070\n",
       "Perl             5027\n",
       "C++              4391\n",
       "Objective-C      2852\n",
       "C#               2158\n",
       "Shell            1999\n",
       "Emacs Lisp       1802\n",
       "VimL             1254\n",
       "ActionScript     1072\n",
       "Erlang            976\n",
       "Haskell           900\n",
       "Scala             774\n",
       "Clojure           718\n",
       "Lua               677\n",
       "Common Lisp       520\n",
       "Name: language_1, dtype: int64"
      ]
     },
     "execution_count": 7,
     "metadata": {},
     "output_type": "execute_result"
    }
   ],
   "source": [
    "# Top 20\n",
    "df.language_1.value_counts()[:20]"
   ]
  },
  {
   "cell_type": "code",
   "execution_count": 8,
   "metadata": {
    "collapsed": false
   },
   "outputs": [
    {
     "data": {
      "text/plain": [
       "<matplotlib.axes._subplots.AxesSubplot at 0x1183fd438>"
      ]
     },
     "execution_count": 8,
     "metadata": {},
     "output_type": "execute_result"
    },
    {
     "data": {
      "image/png": "[encoded data removed]",
      "text/plain": [
       "<matplotlib.figure.Figure at 0x114dddc88>"
      ]
     },
     "metadata": {},
     "output_type": "display_data"
    }
   ],
   "source": [
    "df.language_1.value_counts()[:5].plot.bar()"
   ]
  },
  {
   "cell_type": "code",
   "execution_count": 9,
   "metadata": {
    "collapsed": false
   },
   "outputs": [],
   "source": [
    "ruby_popularity = df[df.language_1 == 'Ruby'].filter(['language_1_size', 'created_at'])"
   ]
  },
  {
   "cell_type": "code",
   "execution_count": 10,
   "metadata": {
    "collapsed": false
   },
   "outputs": [
    {
     "name": "stdout",
     "output_type": "stream",
     "text": [
      "Min: 2007-10-29T14:37:16Z\n",
      "Max: 2010-06-24T18:44:50Z\n"
     ]
    },
    {
     "data": {
      "text/plain": [
       "(0, 20000000)"
      ]
     },
     "execution_count": 10,
     "metadata": {},
     "output_type": "execute_result"
    },
    {
     "data": {
      "image/png": "[encoded data removed]",
      "text/plain": [
       "<matplotlib.figure.Figure at 0x1121a7ac8>"
      ]
     },
     "metadata": {},
     "output_type": "display_data"
    }
   ],
   "source": [
    "# import matplotlib.pyplot as plt\n",
    "# axes = plt.subplot()\n",
    "print(\"Min: %s\" % ruby_popularity.created_at.min())\n",
    "print(\"Max: %s\" % ruby_popularity.created_at.max())\n",
    "\n",
    "# bins = ruby_popularity.created_at.hist(bins=10)\n",
    "# bins[0][0].x_label('created_at')\n",
    "plt = ruby_popularity.plot(x='created_at', y='language_1_size')\n",
    "plt.set_ylim([0,20000000])"
   ]
  },
  {
   "cell_type": "markdown",
   "metadata": {},
   "source": [
    "# Forks vs Stars"
   ]
  },
  {
   "cell_type": "code",
   "execution_count": 11,
   "metadata": {
    "collapsed": false
   },
   "outputs": [
    {
     "data": {
      "text/plain": [
       "<matplotlib.axes._subplots.AxesSubplot at 0x112351d68>"
      ]
     },
     "execution_count": 11,
     "metadata": {},
     "output_type": "execute_result"
    },
    {
     "data": {
      "image/png": "[encoded data removed]",
      "text/plain": [
       "<matplotlib.figure.Figure at 0x111df4358>"
      ]
     },
     "metadata": {},
     "output_type": "display_data"
    }
   ],
   "source": [
    "df.plot.scatter(x='stars', y='forks', xlim=[-1000,60000], ylim=[-1000,30000])"
   ]
  },
  {
   "cell_type": "markdown",
   "metadata": {
    "collapsed": false
   },
   "source": [
    "# Can we predict the number of stars a repository has?"
   ]
  },
  {
   "cell_type": "code",
   "execution_count": 12,
   "metadata": {
    "collapsed": false
   },
   "outputs": [],
   "source": [
    "# I am dumb, we need the stars"
   ]
  },
  {
   "cell_type": "code",
   "execution_count": 13,
   "metadata": {
    "collapsed": false
   },
   "outputs": [
    {
     "data": {
      "text/html": [
       "<div>\n",
       "<table border=\"1\" class=\"dataframe\">\n",
       "  <thead>\n",
       "    <tr style=\"text-align: right;\">\n",
       "      <th></th>\n",
       "      <th>watchers</th>\n",
       "      <th>stars</th>\n",
       "      <th>forks</th>\n",
       "      <th>type</th>\n",
       "      <th>issues</th>\n",
       "      <th>size</th>\n",
       "      <th>open_issues_count</th>\n",
       "      <th>num_languages</th>\n",
       "      <th>language_1</th>\n",
       "      <th>language_1_size</th>\n",
       "      <th>language_2</th>\n",
       "      <th>language_2_size</th>\n",
       "      <th>language_3</th>\n",
       "      <th>language_3_size</th>\n",
       "    </tr>\n",
       "  </thead>\n",
       "  <tbody>\n",
       "    <tr>\n",
       "      <th>0</th>\n",
       "      <td>59</td>\n",
       "      <td>1883</td>\n",
       "      <td>451</td>\n",
       "      <td>User</td>\n",
       "      <td>3</td>\n",
       "      <td>7954</td>\n",
       "      <td>3</td>\n",
       "      <td>1</td>\n",
       "      <td>Ruby</td>\n",
       "      <td>219981.0</td>\n",
       "      <td>NaN</td>\n",
       "      <td>NaN</td>\n",
       "      <td>NaN</td>\n",
       "      <td>NaN</td>\n",
       "    </tr>\n",
       "    <tr>\n",
       "      <th>1</th>\n",
       "      <td>3</td>\n",
       "      <td>407</td>\n",
       "      <td>54</td>\n",
       "      <td>User</td>\n",
       "      <td>0</td>\n",
       "      <td>3462</td>\n",
       "      <td>0</td>\n",
       "      <td>2</td>\n",
       "      <td>Ruby</td>\n",
       "      <td>948883.0</td>\n",
       "      <td>JavaScript</td>\n",
       "      <td>8925.0</td>\n",
       "      <td>NaN</td>\n",
       "      <td>NaN</td>\n",
       "    </tr>\n",
       "    <tr>\n",
       "      <th>2</th>\n",
       "      <td>120</td>\n",
       "      <td>2692</td>\n",
       "      <td>612</td>\n",
       "      <td>Organization</td>\n",
       "      <td>211</td>\n",
       "      <td>162886</td>\n",
       "      <td>211</td>\n",
       "      <td>13</td>\n",
       "      <td>Ruby</td>\n",
       "      <td>7352918.0</td>\n",
       "      <td>C++</td>\n",
       "      <td>2917738.0</td>\n",
       "      <td>C</td>\n",
       "      <td>522111.0</td>\n",
       "    </tr>\n",
       "    <tr>\n",
       "      <th>3</th>\n",
       "      <td>104</td>\n",
       "      <td>2036</td>\n",
       "      <td>479</td>\n",
       "      <td>User</td>\n",
       "      <td>112</td>\n",
       "      <td>2639</td>\n",
       "      <td>112</td>\n",
       "      <td>6</td>\n",
       "      <td>Ruby</td>\n",
       "      <td>283939.0</td>\n",
       "      <td>C</td>\n",
       "      <td>9261.0</td>\n",
       "      <td>CSS</td>\n",
       "      <td>6486.0</td>\n",
       "    </tr>\n",
       "    <tr>\n",
       "      <th>4</th>\n",
       "      <td>2</td>\n",
       "      <td>36</td>\n",
       "      <td>2</td>\n",
       "      <td>User</td>\n",
       "      <td>0</td>\n",
       "      <td>192</td>\n",
       "      <td>0</td>\n",
       "      <td>2</td>\n",
       "      <td>JavaScript</td>\n",
       "      <td>126588.0</td>\n",
       "      <td>Ruby</td>\n",
       "      <td>9677.0</td>\n",
       "      <td>NaN</td>\n",
       "      <td>NaN</td>\n",
       "    </tr>\n",
       "    <tr>\n",
       "      <th>5</th>\n",
       "      <td>2</td>\n",
       "      <td>66</td>\n",
       "      <td>5</td>\n",
       "      <td>User</td>\n",
       "      <td>0</td>\n",
       "      <td>156</td>\n",
       "      <td>0</td>\n",
       "      <td>1</td>\n",
       "      <td>JavaScript</td>\n",
       "      <td>48977.0</td>\n",
       "      <td>NaN</td>\n",
       "      <td>NaN</td>\n",
       "      <td>NaN</td>\n",
       "      <td>NaN</td>\n",
       "    </tr>\n",
       "    <tr>\n",
       "      <th>6</th>\n",
       "      <td>1</td>\n",
       "      <td>239</td>\n",
       "      <td>86</td>\n",
       "      <td>User</td>\n",
       "      <td>2</td>\n",
       "      <td>232</td>\n",
       "      <td>2</td>\n",
       "      <td>2</td>\n",
       "      <td>Ruby</td>\n",
       "      <td>10936.0</td>\n",
       "      <td>JavaScript</td>\n",
       "      <td>1531.0</td>\n",
       "      <td>NaN</td>\n",
       "      <td>NaN</td>\n",
       "    </tr>\n",
       "    <tr>\n",
       "      <th>7</th>\n",
       "      <td>2</td>\n",
       "      <td>151</td>\n",
       "      <td>16</td>\n",
       "      <td>User</td>\n",
       "      <td>1</td>\n",
       "      <td>473</td>\n",
       "      <td>1</td>\n",
       "      <td>2</td>\n",
       "      <td>Ruby</td>\n",
       "      <td>21237.0</td>\n",
       "      <td>JavaScript</td>\n",
       "      <td>2032.0</td>\n",
       "      <td>NaN</td>\n",
       "      <td>NaN</td>\n",
       "    </tr>\n",
       "    <tr>\n",
       "      <th>8</th>\n",
       "      <td>16</td>\n",
       "      <td>1629</td>\n",
       "      <td>283</td>\n",
       "      <td>User</td>\n",
       "      <td>27</td>\n",
       "      <td>1208</td>\n",
       "      <td>27</td>\n",
       "      <td>1</td>\n",
       "      <td>Ruby</td>\n",
       "      <td>145649.0</td>\n",
       "      <td>NaN</td>\n",
       "      <td>NaN</td>\n",
       "      <td>NaN</td>\n",
       "      <td>NaN</td>\n",
       "    </tr>\n",
       "    <tr>\n",
       "      <th>9</th>\n",
       "      <td>7</td>\n",
       "      <td>1036</td>\n",
       "      <td>309</td>\n",
       "      <td>User</td>\n",
       "      <td>37</td>\n",
       "      <td>1008</td>\n",
       "      <td>37</td>\n",
       "      <td>1</td>\n",
       "      <td>Ruby</td>\n",
       "      <td>132960.0</td>\n",
       "      <td>NaN</td>\n",
       "      <td>NaN</td>\n",
       "      <td>NaN</td>\n",
       "      <td>NaN</td>\n",
       "    </tr>\n",
       "  </tbody>\n",
       "</table>\n",
       "</div>"
      ],
      "text/plain": [
       "   watchers  stars  forks          type  issues    size  open_issues_count  \\\n",
       "0        59   1883    451          User       3    7954                  3   \n",
       "1         3    407     54          User       0    3462                  0   \n",
       "2       120   2692    612  Organization     211  162886                211   \n",
       "3       104   2036    479          User     112    2639                112   \n",
       "4         2     36      2          User       0     192                  0   \n",
       "5         2     66      5          User       0     156                  0   \n",
       "6         1    239     86          User       2     232                  2   \n",
       "7         2    151     16          User       1     473                  1   \n",
       "8        16   1629    283          User      27    1208                 27   \n",
       "9         7   1036    309          User      37    1008                 37   \n",
       "\n",
       "   num_languages  language_1  language_1_size  language_2  language_2_size  \\\n",
       "0              1        Ruby         219981.0         NaN              NaN   \n",
       "1              2        Ruby         948883.0  JavaScript           8925.0   \n",
       "2             13        Ruby        7352918.0         C++        2917738.0   \n",
       "3              6        Ruby         283939.0           C           9261.0   \n",
       "4              2  JavaScript         126588.0        Ruby           9677.0   \n",
       "5              1  JavaScript          48977.0         NaN              NaN   \n",
       "6              2        Ruby          10936.0  JavaScript           1531.0   \n",
       "7              2        Ruby          21237.0  JavaScript           2032.0   \n",
       "8              1        Ruby         145649.0         NaN              NaN   \n",
       "9              1        Ruby         132960.0         NaN              NaN   \n",
       "\n",
       "  language_3  language_3_size  \n",
       "0        NaN              NaN  \n",
       "1        NaN              NaN  \n",
       "2          C         522111.0  \n",
       "3        CSS           6486.0  \n",
       "4        NaN              NaN  \n",
       "5        NaN              NaN  \n",
       "6        NaN              NaN  \n",
       "7        NaN              NaN  \n",
       "8        NaN              NaN  \n",
       "9        NaN              NaN  "
      ]
     },
     "execution_count": 13,
     "metadata": {},
     "output_type": "execute_result"
    }
   ],
   "source": [
    "# Eliminate feature vectors that will not aid in the prediction of stars\n",
    "guess_stars = df[['watchers', 'stars', 'forks', 'type', 'issues', 'size', \n",
    "                  'open_issues_count', 'num_languages', 'language_1', \n",
    "                  'language_1_size', 'language_2', 'language_2_size', \n",
    "                  'language_3', 'language_3_size']]\n",
    "guess_stars.head(10)"
   ]
  },
  {
   "cell_type": "code",
   "execution_count": 14,
   "metadata": {
    "collapsed": false
   },
   "outputs": [
    {
     "data": {
      "text/plain": [
       "(45243, 14)"
      ]
     },
     "execution_count": 14,
     "metadata": {},
     "output_type": "execute_result"
    }
   ],
   "source": [
    "# Take a random sampling of the dataframe becuase every time I try to run it on the full dataset, \n",
    "# my kernel crashes and then so does my computer  \n",
    "random_sampling = guess_stars.sample(frac=0.33, replace=True)\n",
    "random_sampling.shape"
   ]
  },
  {
   "cell_type": "code",
   "execution_count": 21,
   "metadata": {
    "collapsed": false
   },
   "outputs": [
    {
     "data": {
      "text/html": [
       "<div>\n",
       "<table border=\"1\" class=\"dataframe\">\n",
       "  <thead>\n",
       "    <tr style=\"text-align: right;\">\n",
       "      <th></th>\n",
       "      <th>watchers</th>\n",
       "      <th>stars</th>\n",
       "      <th>forks</th>\n",
       "      <th>type</th>\n",
       "      <th>issues</th>\n",
       "      <th>size</th>\n",
       "      <th>open_issues_count</th>\n",
       "      <th>num_languages</th>\n",
       "      <th>language_1</th>\n",
       "      <th>language_1_size</th>\n",
       "      <th>language_2</th>\n",
       "      <th>language_2_size</th>\n",
       "      <th>language_3</th>\n",
       "      <th>language_3_size</th>\n",
       "    </tr>\n",
       "  </thead>\n",
       "  <tbody>\n",
       "    <tr>\n",
       "      <th>96697</th>\n",
       "      <td>1</td>\n",
       "      <td>1</td>\n",
       "      <td>1</td>\n",
       "      <td>User</td>\n",
       "      <td>0</td>\n",
       "      <td>146</td>\n",
       "      <td>0</td>\n",
       "      <td>0</td>\n",
       "      <td>Ruby</td>\n",
       "      <td>0.0</td>\n",
       "      <td>0</td>\n",
       "      <td>0.0</td>\n",
       "      <td>0</td>\n",
       "      <td>0.0</td>\n",
       "    </tr>\n",
       "    <tr>\n",
       "      <th>66721</th>\n",
       "      <td>2</td>\n",
       "      <td>2</td>\n",
       "      <td>1</td>\n",
       "      <td>User</td>\n",
       "      <td>1</td>\n",
       "      <td>132</td>\n",
       "      <td>1</td>\n",
       "      <td>1</td>\n",
       "      <td>Perl</td>\n",
       "      <td>10561.0</td>\n",
       "      <td>0</td>\n",
       "      <td>0.0</td>\n",
       "      <td>0</td>\n",
       "      <td>0.0</td>\n",
       "    </tr>\n",
       "    <tr>\n",
       "      <th>14173</th>\n",
       "      <td>3</td>\n",
       "      <td>8</td>\n",
       "      <td>2</td>\n",
       "      <td>User</td>\n",
       "      <td>0</td>\n",
       "      <td>270</td>\n",
       "      <td>0</td>\n",
       "      <td>2</td>\n",
       "      <td>Ruby</td>\n",
       "      <td>16419.0</td>\n",
       "      <td>Objective-C</td>\n",
       "      <td>290.0</td>\n",
       "      <td>0</td>\n",
       "      <td>0.0</td>\n",
       "    </tr>\n",
       "    <tr>\n",
       "      <th>6353</th>\n",
       "      <td>2</td>\n",
       "      <td>2</td>\n",
       "      <td>0</td>\n",
       "      <td>User</td>\n",
       "      <td>0</td>\n",
       "      <td>89</td>\n",
       "      <td>0</td>\n",
       "      <td>1</td>\n",
       "      <td>Ruby</td>\n",
       "      <td>246.0</td>\n",
       "      <td>0</td>\n",
       "      <td>0.0</td>\n",
       "      <td>0</td>\n",
       "      <td>0.0</td>\n",
       "    </tr>\n",
       "    <tr>\n",
       "      <th>44984</th>\n",
       "      <td>2</td>\n",
       "      <td>1</td>\n",
       "      <td>1</td>\n",
       "      <td>User</td>\n",
       "      <td>0</td>\n",
       "      <td>190</td>\n",
       "      <td>0</td>\n",
       "      <td>0</td>\n",
       "      <td>Ruby</td>\n",
       "      <td>0.0</td>\n",
       "      <td>0</td>\n",
       "      <td>0.0</td>\n",
       "      <td>0</td>\n",
       "      <td>0.0</td>\n",
       "    </tr>\n",
       "    <tr>\n",
       "      <th>30530</th>\n",
       "      <td>2</td>\n",
       "      <td>1</td>\n",
       "      <td>0</td>\n",
       "      <td>User</td>\n",
       "      <td>0</td>\n",
       "      <td>116</td>\n",
       "      <td>0</td>\n",
       "      <td>0</td>\n",
       "      <td>0</td>\n",
       "      <td>0.0</td>\n",
       "      <td>0</td>\n",
       "      <td>0.0</td>\n",
       "      <td>0</td>\n",
       "      <td>0.0</td>\n",
       "    </tr>\n",
       "    <tr>\n",
       "      <th>102939</th>\n",
       "      <td>0</td>\n",
       "      <td>1</td>\n",
       "      <td>1</td>\n",
       "      <td>User</td>\n",
       "      <td>0</td>\n",
       "      <td>810</td>\n",
       "      <td>0</td>\n",
       "      <td>0</td>\n",
       "      <td>Ruby</td>\n",
       "      <td>0.0</td>\n",
       "      <td>0</td>\n",
       "      <td>0.0</td>\n",
       "      <td>0</td>\n",
       "      <td>0.0</td>\n",
       "    </tr>\n",
       "    <tr>\n",
       "      <th>12886</th>\n",
       "      <td>2</td>\n",
       "      <td>2</td>\n",
       "      <td>1</td>\n",
       "      <td>User</td>\n",
       "      <td>0</td>\n",
       "      <td>2741</td>\n",
       "      <td>0</td>\n",
       "      <td>0</td>\n",
       "      <td>Ruby</td>\n",
       "      <td>0.0</td>\n",
       "      <td>0</td>\n",
       "      <td>0.0</td>\n",
       "      <td>0</td>\n",
       "      <td>0.0</td>\n",
       "    </tr>\n",
       "    <tr>\n",
       "      <th>47604</th>\n",
       "      <td>2</td>\n",
       "      <td>1</td>\n",
       "      <td>0</td>\n",
       "      <td>User</td>\n",
       "      <td>0</td>\n",
       "      <td>184</td>\n",
       "      <td>0</td>\n",
       "      <td>2</td>\n",
       "      <td>Ruby</td>\n",
       "      <td>29416.0</td>\n",
       "      <td>JavaScript</td>\n",
       "      <td>148.0</td>\n",
       "      <td>0</td>\n",
       "      <td>0.0</td>\n",
       "    </tr>\n",
       "    <tr>\n",
       "      <th>33987</th>\n",
       "      <td>1</td>\n",
       "      <td>2</td>\n",
       "      <td>0</td>\n",
       "      <td>User</td>\n",
       "      <td>0</td>\n",
       "      <td>76</td>\n",
       "      <td>0</td>\n",
       "      <td>0</td>\n",
       "      <td>0</td>\n",
       "      <td>0.0</td>\n",
       "      <td>0</td>\n",
       "      <td>0.0</td>\n",
       "      <td>0</td>\n",
       "      <td>0.0</td>\n",
       "    </tr>\n",
       "  </tbody>\n",
       "</table>\n",
       "</div>"
      ],
      "text/plain": [
       "        watchers  stars  forks  type  issues  size  open_issues_count  \\\n",
       "96697          1      1      1  User       0   146                  0   \n",
       "66721          2      2      1  User       1   132                  1   \n",
       "14173          3      8      2  User       0   270                  0   \n",
       "6353           2      2      0  User       0    89                  0   \n",
       "44984          2      1      1  User       0   190                  0   \n",
       "30530          2      1      0  User       0   116                  0   \n",
       "102939         0      1      1  User       0   810                  0   \n",
       "12886          2      2      1  User       0  2741                  0   \n",
       "47604          2      1      0  User       0   184                  0   \n",
       "33987          1      2      0  User       0    76                  0   \n",
       "\n",
       "        num_languages language_1  language_1_size   language_2  \\\n",
       "96697               0       Ruby              0.0            0   \n",
       "66721               1       Perl          10561.0            0   \n",
       "14173               2       Ruby          16419.0  Objective-C   \n",
       "6353                1       Ruby            246.0            0   \n",
       "44984               0       Ruby              0.0            0   \n",
       "30530               0          0              0.0            0   \n",
       "102939              0       Ruby              0.0            0   \n",
       "12886               0       Ruby              0.0            0   \n",
       "47604               2       Ruby          29416.0   JavaScript   \n",
       "33987               0          0              0.0            0   \n",
       "\n",
       "        language_2_size language_3  language_3_size  \n",
       "96697               0.0          0              0.0  \n",
       "66721               0.0          0              0.0  \n",
       "14173             290.0          0              0.0  \n",
       "6353                0.0          0              0.0  \n",
       "44984               0.0          0              0.0  \n",
       "30530               0.0          0              0.0  \n",
       "102939              0.0          0              0.0  \n",
       "12886               0.0          0              0.0  \n",
       "47604             148.0          0              0.0  \n",
       "33987               0.0          0              0.0  "
      ]
     },
     "execution_count": 21,
     "metadata": {},
     "output_type": "execute_result"
    }
   ],
   "source": [
    "random_sampling = random_sampling.replace(np.NaN, 0)\n",
    "random_sampling.head(10)"
   ]
  },
  {
   "cell_type": "code",
   "execution_count": 22,
   "metadata": {
    "collapsed": false
   },
   "outputs": [
    {
     "data": {
      "text/html": [
       "<div>\n",
       "<table border=\"1\" class=\"dataframe\">\n",
       "  <thead>\n",
       "    <tr style=\"text-align: right;\">\n",
       "      <th></th>\n",
       "      <th>watchers</th>\n",
       "      <th>stars</th>\n",
       "      <th>forks</th>\n",
       "      <th>issues</th>\n",
       "      <th>size</th>\n",
       "      <th>open_issues_count</th>\n",
       "      <th>num_languages</th>\n",
       "      <th>language_1_size</th>\n",
       "      <th>language_2_size</th>\n",
       "      <th>language_3_size</th>\n",
       "      <th>...</th>\n",
       "      <th>language_3_Verilog</th>\n",
       "      <th>language_3_Vim script</th>\n",
       "      <th>language_3_VimL</th>\n",
       "      <th>language_3_Visual Basic</th>\n",
       "      <th>language_3_Vue</th>\n",
       "      <th>language_3_XML</th>\n",
       "      <th>language_3_XS</th>\n",
       "      <th>language_3_XSLT</th>\n",
       "      <th>language_3_Yacc</th>\n",
       "      <th>language_3_ooc</th>\n",
       "    </tr>\n",
       "  </thead>\n",
       "  <tbody>\n",
       "    <tr>\n",
       "      <th>96697</th>\n",
       "      <td>1</td>\n",
       "      <td>1</td>\n",
       "      <td>1</td>\n",
       "      <td>0</td>\n",
       "      <td>146</td>\n",
       "      <td>0</td>\n",
       "      <td>0</td>\n",
       "      <td>0.0</td>\n",
       "      <td>0.0</td>\n",
       "      <td>0.0</td>\n",
       "      <td>...</td>\n",
       "      <td>0.0</td>\n",
       "      <td>0.0</td>\n",
       "      <td>0.0</td>\n",
       "      <td>0.0</td>\n",
       "      <td>0.0</td>\n",
       "      <td>0.0</td>\n",
       "      <td>0.0</td>\n",
       "      <td>0.0</td>\n",
       "      <td>0.0</td>\n",
       "      <td>0.0</td>\n",
       "    </tr>\n",
       "    <tr>\n",
       "      <th>66721</th>\n",
       "      <td>2</td>\n",
       "      <td>2</td>\n",
       "      <td>1</td>\n",
       "      <td>1</td>\n",
       "      <td>132</td>\n",
       "      <td>1</td>\n",
       "      <td>1</td>\n",
       "      <td>10561.0</td>\n",
       "      <td>0.0</td>\n",
       "      <td>0.0</td>\n",
       "      <td>...</td>\n",
       "      <td>0.0</td>\n",
       "      <td>0.0</td>\n",
       "      <td>0.0</td>\n",
       "      <td>0.0</td>\n",
       "      <td>0.0</td>\n",
       "      <td>0.0</td>\n",
       "      <td>0.0</td>\n",
       "      <td>0.0</td>\n",
       "      <td>0.0</td>\n",
       "      <td>0.0</td>\n",
       "    </tr>\n",
       "    <tr>\n",
       "      <th>14173</th>\n",
       "      <td>3</td>\n",
       "      <td>8</td>\n",
       "      <td>2</td>\n",
       "      <td>0</td>\n",
       "      <td>270</td>\n",
       "      <td>0</td>\n",
       "      <td>2</td>\n",
       "      <td>16419.0</td>\n",
       "      <td>290.0</td>\n",
       "      <td>0.0</td>\n",
       "      <td>...</td>\n",
       "      <td>0.0</td>\n",
       "      <td>0.0</td>\n",
       "      <td>0.0</td>\n",
       "      <td>0.0</td>\n",
       "      <td>0.0</td>\n",
       "      <td>0.0</td>\n",
       "      <td>0.0</td>\n",
       "      <td>0.0</td>\n",
       "      <td>0.0</td>\n",
       "      <td>0.0</td>\n",
       "    </tr>\n",
       "  </tbody>\n",
       "</table>\n",
       "<p>3 rows × 357 columns</p>\n",
       "</div>"
      ],
      "text/plain": [
       "       watchers  stars  forks  issues  size  open_issues_count  num_languages  \\\n",
       "96697         1      1      1       0   146                  0              0   \n",
       "66721         2      2      1       1   132                  1              1   \n",
       "14173         3      8      2       0   270                  0              2   \n",
       "\n",
       "       language_1_size  language_2_size  language_3_size       ...        \\\n",
       "96697              0.0              0.0              0.0       ...         \n",
       "66721          10561.0              0.0              0.0       ...         \n",
       "14173          16419.0            290.0              0.0       ...         \n",
       "\n",
       "       language_3_Verilog  language_3_Vim script  language_3_VimL  \\\n",
       "96697                 0.0                    0.0              0.0   \n",
       "66721                 0.0                    0.0              0.0   \n",
       "14173                 0.0                    0.0              0.0   \n",
       "\n",
       "       language_3_Visual Basic  language_3_Vue  language_3_XML  language_3_XS  \\\n",
       "96697                      0.0             0.0             0.0            0.0   \n",
       "66721                      0.0             0.0             0.0            0.0   \n",
       "14173                      0.0             0.0             0.0            0.0   \n",
       "\n",
       "       language_3_XSLT  language_3_Yacc  language_3_ooc  \n",
       "96697              0.0              0.0             0.0  \n",
       "66721              0.0              0.0             0.0  \n",
       "14173              0.0              0.0             0.0  \n",
       "\n",
       "[3 rows x 357 columns]"
      ]
     },
     "execution_count": 22,
     "metadata": {},
     "output_type": "execute_result"
    }
   ],
   "source": [
    "# Retrieve dummies\n",
    "to_dummy = ['type', 'language_1', 'language_2', 'language_3']\n",
    "df_dummies = pd.get_dummies(data=random_sampling, columns=to_dummy)\n",
    "df_dummies.head(3)"
   ]
  },
  {
   "cell_type": "code",
   "execution_count": 23,
   "metadata": {
    "collapsed": false
   },
   "outputs": [
    {
     "data": {
      "text/html": [
       "<div>\n",
       "<table border=\"1\" class=\"dataframe\">\n",
       "  <thead>\n",
       "    <tr style=\"text-align: right;\">\n",
       "      <th></th>\n",
       "      <th>watchers</th>\n",
       "      <th>forks</th>\n",
       "      <th>issues</th>\n",
       "      <th>size</th>\n",
       "      <th>open_issues_count</th>\n",
       "      <th>num_languages</th>\n",
       "      <th>language_1_size</th>\n",
       "      <th>language_2_size</th>\n",
       "      <th>language_3_size</th>\n",
       "      <th>type_Organization</th>\n",
       "      <th>...</th>\n",
       "      <th>language_3_Verilog</th>\n",
       "      <th>language_3_Vim script</th>\n",
       "      <th>language_3_VimL</th>\n",
       "      <th>language_3_Visual Basic</th>\n",
       "      <th>language_3_Vue</th>\n",
       "      <th>language_3_XML</th>\n",
       "      <th>language_3_XS</th>\n",
       "      <th>language_3_XSLT</th>\n",
       "      <th>language_3_Yacc</th>\n",
       "      <th>language_3_ooc</th>\n",
       "    </tr>\n",
       "  </thead>\n",
       "  <tbody>\n",
       "    <tr>\n",
       "      <th>96697</th>\n",
       "      <td>1</td>\n",
       "      <td>1</td>\n",
       "      <td>0</td>\n",
       "      <td>146</td>\n",
       "      <td>0</td>\n",
       "      <td>0</td>\n",
       "      <td>0.0</td>\n",
       "      <td>0.0</td>\n",
       "      <td>0.0</td>\n",
       "      <td>0.0</td>\n",
       "      <td>...</td>\n",
       "      <td>0.0</td>\n",
       "      <td>0.0</td>\n",
       "      <td>0.0</td>\n",
       "      <td>0.0</td>\n",
       "      <td>0.0</td>\n",
       "      <td>0.0</td>\n",
       "      <td>0.0</td>\n",
       "      <td>0.0</td>\n",
       "      <td>0.0</td>\n",
       "      <td>0.0</td>\n",
       "    </tr>\n",
       "    <tr>\n",
       "      <th>66721</th>\n",
       "      <td>2</td>\n",
       "      <td>1</td>\n",
       "      <td>1</td>\n",
       "      <td>132</td>\n",
       "      <td>1</td>\n",
       "      <td>1</td>\n",
       "      <td>10561.0</td>\n",
       "      <td>0.0</td>\n",
       "      <td>0.0</td>\n",
       "      <td>0.0</td>\n",
       "      <td>...</td>\n",
       "      <td>0.0</td>\n",
       "      <td>0.0</td>\n",
       "      <td>0.0</td>\n",
       "      <td>0.0</td>\n",
       "      <td>0.0</td>\n",
       "      <td>0.0</td>\n",
       "      <td>0.0</td>\n",
       "      <td>0.0</td>\n",
       "      <td>0.0</td>\n",
       "      <td>0.0</td>\n",
       "    </tr>\n",
       "    <tr>\n",
       "      <th>14173</th>\n",
       "      <td>3</td>\n",
       "      <td>2</td>\n",
       "      <td>0</td>\n",
       "      <td>270</td>\n",
       "      <td>0</td>\n",
       "      <td>2</td>\n",
       "      <td>16419.0</td>\n",
       "      <td>290.0</td>\n",
       "      <td>0.0</td>\n",
       "      <td>0.0</td>\n",
       "      <td>...</td>\n",
       "      <td>0.0</td>\n",
       "      <td>0.0</td>\n",
       "      <td>0.0</td>\n",
       "      <td>0.0</td>\n",
       "      <td>0.0</td>\n",
       "      <td>0.0</td>\n",
       "      <td>0.0</td>\n",
       "      <td>0.0</td>\n",
       "      <td>0.0</td>\n",
       "      <td>0.0</td>\n",
       "    </tr>\n",
       "    <tr>\n",
       "      <th>6353</th>\n",
       "      <td>2</td>\n",
       "      <td>0</td>\n",
       "      <td>0</td>\n",
       "      <td>89</td>\n",
       "      <td>0</td>\n",
       "      <td>1</td>\n",
       "      <td>246.0</td>\n",
       "      <td>0.0</td>\n",
       "      <td>0.0</td>\n",
       "      <td>0.0</td>\n",
       "      <td>...</td>\n",
       "      <td>0.0</td>\n",
       "      <td>0.0</td>\n",
       "      <td>0.0</td>\n",
       "      <td>0.0</td>\n",
       "      <td>0.0</td>\n",
       "      <td>0.0</td>\n",
       "      <td>0.0</td>\n",
       "      <td>0.0</td>\n",
       "      <td>0.0</td>\n",
       "      <td>0.0</td>\n",
       "    </tr>\n",
       "    <tr>\n",
       "      <th>44984</th>\n",
       "      <td>2</td>\n",
       "      <td>1</td>\n",
       "      <td>0</td>\n",
       "      <td>190</td>\n",
       "      <td>0</td>\n",
       "      <td>0</td>\n",
       "      <td>0.0</td>\n",
       "      <td>0.0</td>\n",
       "      <td>0.0</td>\n",
       "      <td>0.0</td>\n",
       "      <td>...</td>\n",
       "      <td>0.0</td>\n",
       "      <td>0.0</td>\n",
       "      <td>0.0</td>\n",
       "      <td>0.0</td>\n",
       "      <td>0.0</td>\n",
       "      <td>0.0</td>\n",
       "      <td>0.0</td>\n",
       "      <td>0.0</td>\n",
       "      <td>0.0</td>\n",
       "      <td>0.0</td>\n",
       "    </tr>\n",
       "  </tbody>\n",
       "</table>\n",
       "<p>5 rows × 356 columns</p>\n",
       "</div>"
      ],
      "text/plain": [
       "       watchers  forks  issues  size  open_issues_count  num_languages  \\\n",
       "96697         1      1       0   146                  0              0   \n",
       "66721         2      1       1   132                  1              1   \n",
       "14173         3      2       0   270                  0              2   \n",
       "6353          2      0       0    89                  0              1   \n",
       "44984         2      1       0   190                  0              0   \n",
       "\n",
       "       language_1_size  language_2_size  language_3_size  type_Organization  \\\n",
       "96697              0.0              0.0              0.0                0.0   \n",
       "66721          10561.0              0.0              0.0                0.0   \n",
       "14173          16419.0            290.0              0.0                0.0   \n",
       "6353             246.0              0.0              0.0                0.0   \n",
       "44984              0.0              0.0              0.0                0.0   \n",
       "\n",
       "            ...        language_3_Verilog  language_3_Vim script  \\\n",
       "96697       ...                       0.0                    0.0   \n",
       "66721       ...                       0.0                    0.0   \n",
       "14173       ...                       0.0                    0.0   \n",
       "6353        ...                       0.0                    0.0   \n",
       "44984       ...                       0.0                    0.0   \n",
       "\n",
       "       language_3_VimL  language_3_Visual Basic  language_3_Vue  \\\n",
       "96697              0.0                      0.0             0.0   \n",
       "66721              0.0                      0.0             0.0   \n",
       "14173              0.0                      0.0             0.0   \n",
       "6353               0.0                      0.0             0.0   \n",
       "44984              0.0                      0.0             0.0   \n",
       "\n",
       "       language_3_XML  language_3_XS  language_3_XSLT  language_3_Yacc  \\\n",
       "96697             0.0            0.0              0.0              0.0   \n",
       "66721             0.0            0.0              0.0              0.0   \n",
       "14173             0.0            0.0              0.0              0.0   \n",
       "6353              0.0            0.0              0.0              0.0   \n",
       "44984             0.0            0.0              0.0              0.0   \n",
       "\n",
       "       language_3_ooc  \n",
       "96697             0.0  \n",
       "66721             0.0  \n",
       "14173             0.0  \n",
       "6353              0.0  \n",
       "44984             0.0  \n",
       "\n",
       "[5 rows x 356 columns]"
      ]
     },
     "execution_count": 23,
     "metadata": {},
     "output_type": "execute_result"
    }
   ],
   "source": [
    "estimate_stars_sample = df_dummies.drop(['stars'], 1)\n",
    "estimate_stars_sample.head(5)"
   ]
  },
  {
   "cell_type": "code",
   "execution_count": 24,
   "metadata": {
    "collapsed": false
   },
   "outputs": [
    {
     "data": {
      "text/html": [
       "<div>\n",
       "<table border=\"1\" class=\"dataframe\">\n",
       "  <thead>\n",
       "    <tr style=\"text-align: right;\">\n",
       "      <th></th>\n",
       "      <th>stars</th>\n",
       "    </tr>\n",
       "  </thead>\n",
       "  <tbody>\n",
       "    <tr>\n",
       "      <th>96697</th>\n",
       "      <td>1</td>\n",
       "    </tr>\n",
       "    <tr>\n",
       "      <th>66721</th>\n",
       "      <td>2</td>\n",
       "    </tr>\n",
       "    <tr>\n",
       "      <th>14173</th>\n",
       "      <td>8</td>\n",
       "    </tr>\n",
       "    <tr>\n",
       "      <th>6353</th>\n",
       "      <td>2</td>\n",
       "    </tr>\n",
       "    <tr>\n",
       "      <th>44984</th>\n",
       "      <td>1</td>\n",
       "    </tr>\n",
       "  </tbody>\n",
       "</table>\n",
       "</div>"
      ],
      "text/plain": [
       "       stars\n",
       "96697      1\n",
       "66721      2\n",
       "14173      8\n",
       "6353       2\n",
       "44984      1"
      ]
     },
     "execution_count": 24,
     "metadata": {},
     "output_type": "execute_result"
    }
   ],
   "source": [
    "stars_sample = pd.DataFrame(df_dummies['stars'], columns=['stars'])\n",
    "stars_sample.head(5)"
   ]
  },
  {
   "cell_type": "code",
   "execution_count": 25,
   "metadata": {
    "collapsed": false
   },
   "outputs": [
    {
     "name": "stdout",
     "output_type": "stream",
     "text": [
      "stars    55540\n",
      "dtype: int64\n",
      "stars    0\n",
      "dtype: int64\n",
      "46378                       sonian/sweat_shop\n",
      "46380                      sonian/is_paranoid\n",
      "66892    ubik86/rspec-haml-scaffold-generator\n",
      "Name: name, dtype: object\n"
     ]
    }
   ],
   "source": [
    "print(stars_sample.max())\n",
    "print(stars_sample.min())\n",
    "print(df.loc[df['stars'] < 0].name) "
   ]
  },
  {
   "cell_type": "markdown",
   "metadata": {},
   "source": [
    "You'll notice that it claims that some of these repositories have negative stars, which we previously believed to be impossible. However, besides `sweat_shop` (where I clicked the star and moved the value from -2 to 1, unstarred and it returned to 0), you can see that the stars truly are in the negatives."
   ]
  },
  {
   "cell_type": "markdown",
   "metadata": {},
   "source": [
    "## Visualizations "
   ]
  },
  {
   "cell_type": "code",
   "execution_count": 106,
   "metadata": {
    "collapsed": false
   },
   "outputs": [],
   "source": [
    "# Create histogram bins\n",
    "\n",
    "def histogram(data, bins, max_stars, start):\n",
    "    d = []\n",
    "    for i in range(start, math.ceil(max_stars / bins)):\n",
    "        min_stars = i * bins\n",
    "        max_stars = (i + 1) * bins\n",
    "        m = {}\n",
    "        m['Bin'] = \"%d-%d\" % (min_stars, max_stars)\n",
    "        m['Values'] = len(data.loc[(data.stars >= min_stars) & (data.stars < max_stars)])\n",
    "        d.append(m)\n",
    "    return d"
   ]
  },
  {
   "cell_type": "code",
   "execution_count": 107,
   "metadata": {
    "collapsed": false
   },
   "outputs": [
    {
     "data": {
      "image/png": "[encoded data removed]",
      "text/plain": [
       "<matplotlib.figure.Figure at 0x122bef8d0>"
      ]
     },
     "metadata": {},
     "output_type": "display_data"
    }
   ],
   "source": [
    "d = histogram(stars_sample, 1, 10, 0)\n",
    "stars_hist = pd.DataFrame(d)\n",
    "ax = stars_hist.plot(x='Bin', y='Values', kind='bar')\n",
    "ax.set_title(\"Repository Stars Histogram\")\n",
    "ax.set_xlabel(\"Stars\")\n",
    "ax.set_ylabel(\"Frequency\")\n",
    "\n",
    "# Now make some labels\n",
    "labels = stars_hist.Values\n",
    "\n",
    "rects = ax.patches\n",
    "\n",
    "for rect, label in zip(rects, labels):\n",
    "    height = rect.get_height()\n",
    "    ax.text(rect.get_x() + rect.get_width()/2, height + 5, label, ha='center', va='bottom')"
   ]
  },
  {
   "cell_type": "code",
   "execution_count": 108,
   "metadata": {
    "collapsed": false
   },
   "outputs": [
    {
     "data": {
      "image/png": "[encoded data removed]",
      "text/plain": [
       "<matplotlib.figure.Figure at 0x122955748>"
      ]
     },
     "metadata": {},
     "output_type": "display_data"
    }
   ],
   "source": [
    "d = histogram(stars_sample, bins=10, max_stars=100, start=1)\n",
    "stars_hist = pd.DataFrame(d)\n",
    "ax = stars_hist.plot(x='Bin', y='Values', kind='bar')\n",
    "ax.set_title(\"Repository Stars Histogram\")\n",
    "ax.set_xlabel(\"Stars\")\n",
    "ax.set_ylabel(\"Frequency\")\n",
    "\n",
    "# Now make some labels\n",
    "labels = stars_hist.Values\n",
    "\n",
    "rects = ax.patches\n",
    "\n",
    "for rect, label in zip(rects, labels):\n",
    "    height = rect.get_height()\n",
    "    ax.text(rect.get_x() + rect.get_width()/2, height + 5, label, ha='center', va='bottom')\n"
   ]
  },
  {
   "cell_type": "code",
   "execution_count": 103,
   "metadata": {
    "collapsed": false
   },
   "outputs": [
    {
     "data": {
      "image/png": "[encoded data removed]",
      "text/plain": [
       "<matplotlib.figure.Figure at 0x123cf0240>"
      ]
     },
     "metadata": {},
     "output_type": "display_data"
    }
   ],
   "source": [
    "d = histogram(stars_sample, bins=100, max_stars=3000, start=1)\n",
    "stars_hist = pd.DataFrame(d)\n",
    "ax = stars_hist.plot(x='Bin', y='Values', kind='bar')\n",
    "ax.set_title(\"Repository Stars Histogram\")\n",
    "ax.set_xlabel(\"Stars\")\n",
    "ax.set_ylabel(\"Frequency\")\n",
    "\n",
    "# Now make some labels\n",
    "labels = stars_hist.Values\n",
    "\n",
    "rects = ax.patches\n",
    "\n",
    "for rect, label in zip(rects, labels):\n",
    "    height = rect.get_height()\n",
    "    ax.text(rect.get_x() + rect.get_width()/2, height + 5, label, ha='center', va='bottom')"
   ]
  },
  {
   "cell_type": "markdown",
   "metadata": {},
   "source": [
    "Above are the graphs representing the repositories that have 0-3000 stars. Graphs are broken down into different ranges for ease of viewing. "
   ]
  },
  {
   "cell_type": "markdown",
   "metadata": {},
   "source": [
    "## K-Nearest Neighbors"
   ]
  },
  {
   "cell_type": "code",
   "execution_count": 67,
   "metadata": {
    "collapsed": true
   },
   "outputs": [],
   "source": [
    "X_train, X_test, y_train, y_test = train_test_split(estimate_stars_sample, stars_sample, test_size=0.4, random_state=0)"
   ]
  },
  {
   "cell_type": "code",
   "execution_count": 68,
   "metadata": {
    "collapsed": false
   },
   "outputs": [
    {
     "name": "stdout",
     "output_type": "stream",
     "text": [
      "KNN test accuracy on prediction >50K, k = 1, acc = 0.4188308100342579: \n",
      "KNN test accuracy on prediction >50K, k = 2, acc = 0.4170626588573323: \n",
      "KNN test accuracy on prediction >50K, k = 3, acc = 0.4108188750138137: \n",
      "KNN test accuracy on prediction >50K, k = 4, acc = 0.41164769587799754: \n",
      "KNN test accuracy on prediction >50K, k = 5, acc = 0.41413415847054924: \n",
      "KNN test accuracy on prediction >50K, k = 6, acc = 0.4198806497955575: \n",
      "KNN test accuracy on prediction >50K, k = 7, acc = 0.42722952812465465: \n",
      "KNN test accuracy on prediction >50K, k = 8, acc = 0.4298817548900431: \n",
      "KNN test accuracy on prediction >50K, k = 9, acc = 0.4334733119681733: \n",
      "KNN test accuracy on prediction >50K, k = 10, acc = 0.4337495855895679: \n",
      "KNN test accuracy on prediction >50K, k = 11, acc = 0.43772792573765057: \n",
      "KNN test accuracy on prediction >50K, k = 12, acc = 0.4391092938446237: \n",
      "KNN test accuracy on prediction >50K, k = 13, acc = 0.43960658636313404: \n",
      "KNN test accuracy on prediction >50K, k = 14, acc = 0.44115371864294395: \n",
      "KNN test accuracy on prediction >50K, k = 15, acc = 0.4425350867499171: \n",
      "KNN test accuracy on prediction >50K, k = 16, acc = 0.4423140678528014: \n",
      "KNN test accuracy on prediction >50K, k = 17, acc = 0.44446900209967954: \n",
      "KNN test accuracy on prediction >50K, k = 18, acc = 0.4450768040667477: \n",
      "KNN test accuracy on prediction >50K, k = 19, acc = 0.4455188418609791: \n",
      "KNN test accuracy on prediction >50K, k = 20, acc = 0.446347662725163: \n",
      "KNN test accuracy on prediction >50K, k = 21, acc = 0.44761852138357827: \n",
      "KNN test accuracy on prediction >50K, k = 22, acc = 0.44678970051939443: \n",
      "KNN test accuracy on prediction >50K, k = 23, acc = 0.44728699303790476: \n",
      "KNN test accuracy on prediction >50K, k = 24, acc = 0.4478947950049729: \n",
      "KNN test accuracy on prediction >50K, k = 25, acc = 0.44717648358934686: \n",
      "KNN test accuracy on prediction >50K, k = 26, acc = 0.44839208752348325: \n",
      "KNN test accuracy on prediction >50K, k = 27, acc = 0.4489998894905514: \n",
      "KNN test accuracy on prediction >50K, k = 28, acc = 0.449331417836225: \n",
      "KNN test accuracy on prediction >50K, k = 29, acc = 0.4505470217703614: \n",
      "KNN test accuracy on prediction >50K, k = 30, acc = 0.4505470217703614: \n",
      "KNN test accuracy on prediction >50K, k = 31, acc = 0.44988396507901424: \n",
      "KNN test accuracy on prediction >50K, k = 32, acc = 0.45010498397612997: \n",
      "KNN test accuracy on prediction >50K, k = 33, acc = 0.4497182009061775: \n",
      "KNN test accuracy on prediction >50K, k = 34, acc = 0.44877887059343574: \n",
      "KNN test accuracy on prediction >50K, k = 35, acc = 0.4491103989391093: \n",
      "KNN test accuracy on prediction >50K, k = 36, acc = 0.4488893800419936: \n",
      "KNN test accuracy on prediction >50K, k = 37, acc = 0.45004972925185105: \n",
      "KNN test accuracy on prediction >50K, k = 38, acc = 0.4509890595645928: \n",
      "KNN test accuracy on prediction >50K, k = 39, acc = 0.4517626257044977: \n",
      "KNN test accuracy on prediction >50K, k = 40, acc = 0.4510995690131506: \n",
      "KNN test accuracy on prediction >50K, k = 41, acc = 0.4518731351530556: \n",
      "KNN test accuracy on prediction >50K, k = 42, acc = 0.4513205879102663: \n",
      "KNN test accuracy on prediction >50K, k = 43, acc = 0.4516521162559399: \n",
      "KNN test accuracy on prediction >50K, k = 44, acc = 0.45076804066747705: \n",
      "KNN test accuracy on prediction >50K, k = 45, acc = 0.4519283898773345: \n",
      "KNN test accuracy on prediction >50K, k = 46, acc = 0.45093380484031387: \n",
      "KNN test accuracy on prediction >50K, k = 47, acc = 0.4512653331859874: \n",
      "KNN test accuracy on prediction >50K, k = 48, acc = 0.4519283898773345: \n",
      "KNN test accuracy on prediction >50K, k = 49, acc = 0.4525361918444027: \n",
      "KNN test accuracy on prediction >50K, k = 50, acc = 0.45264670129296053: \n",
      "KNN test accuracy on prediction >50K, k = 51, acc = 0.45270195601723945: \n",
      "KNN test accuracy on prediction >50K, k = 52, acc = 0.4533650127085866: \n",
      "KNN test accuracy on prediction >50K, k = 53, acc = 0.45369654105426016: \n",
      "KNN test accuracy on prediction >50K, k = 54, acc = 0.45347552215714443: \n",
      "KNN test accuracy on prediction >50K, k = 55, acc = 0.45225991822300804: \n",
      "KNN test accuracy on prediction >50K, k = 56, acc = 0.4527572107415184: \n",
      "KNN test accuracy on prediction >50K, k = 57, acc = 0.45325450326002875: \n",
      "KNN test accuracy on prediction >50K, k = 58, acc = 0.4537517957785391: \n",
      "KNN test accuracy on prediction >50K, k = 59, acc = 0.45413857884849157: \n",
      "KNN test accuracy on prediction >50K, k = 60, acc = 0.45413857884849157: \n",
      "KNN test accuracy on prediction >50K, k = 61, acc = 0.45397281467565476: \n",
      "KNN test accuracy on prediction >50K, k = 62, acc = 0.45480163553983866: \n",
      "KNN test accuracy on prediction >50K, k = 63, acc = 0.4554094375069068: \n",
      "KNN test accuracy on prediction >50K, k = 64, acc = 0.4549673997126754: \n",
      "KNN test accuracy on prediction >50K, k = 65, acc = 0.45518841860979115: \n",
      "KNN test accuracy on prediction >50K, k = 66, acc = 0.4557962205768593: \n",
      "KNN test accuracy on prediction >50K, k = 67, acc = 0.45629351309536964: \n",
      "KNN test accuracy on prediction >50K, k = 68, acc = 0.45585147530113823: \n",
      "KNN test accuracy on prediction >50K, k = 69, acc = 0.45563045640402255: \n",
      "KNN test accuracy on prediction >50K, k = 70, acc = 0.45563045640402255: \n",
      "KNN test accuracy on prediction >50K, k = 71, acc = 0.45557520167974364: \n",
      "KNN test accuracy on prediction >50K, k = 72, acc = 0.4551331638855122: \n",
      "KNN test accuracy on prediction >50K, k = 73, acc = 0.45502265443695433: \n",
      "KNN test accuracy on prediction >50K, k = 74, acc = 0.4551331638855122: \n"
     ]
    }
   ],
   "source": [
    "acc = []\n",
    "for k in range(1,75):\n",
    "    knn_digits = KNeighborsClassifier(n_neighbors=k)\n",
    "    knn_digits.fit(X_train, pd.Series.ravel(y_train))\n",
    "    y_digits_test_pred = knn_digits.predict(X_test)\n",
    "    print(\"KNN test accuracy on prediction >50K, k = {}, acc = {}: \".format(\n",
    "            k,knn_digits.score(X_test, y_test)))\n",
    "    acc.append(knn_digits.score(X_test, y_test))"
   ]
  },
  {
   "cell_type": "code",
   "execution_count": 69,
   "metadata": {
    "collapsed": false
   },
   "outputs": [
    {
     "data": {
      "image/png": "[encoded data removed]",
      "text/plain": [
       "<matplotlib.figure.Figure at 0x11dd97a90>"
      ]
     },
     "metadata": {},
     "output_type": "display_data"
    }
   ],
   "source": [
    "# ACCURACY PLOT OF KNEIGHBORS\n",
    "plt.plot(acc,'.')\n",
    "plt.xlabel('k')\n",
    "_=plt.ylabel('Accuracy')\n",
    "plt.title(\"Accuracy of KNeighborsClassifier\")\n",
    "plt.show()"
   ]
  },
  {
   "cell_type": "code",
   "execution_count": 71,
   "metadata": {
    "collapsed": false
   },
   "outputs": [
    {
     "data": {
      "text/plain": [
       "0.45629351309536964"
      ]
     },
     "execution_count": 71,
     "metadata": {},
     "output_type": "execute_result"
    }
   ],
   "source": [
    "max(acc)"
   ]
  },
  {
   "cell_type": "code",
   "execution_count": 72,
   "metadata": {
    "collapsed": false
   },
   "outputs": [
    {
     "name": "stdout",
     "output_type": "stream",
     "text": [
      "Accuracy on test data: 0.45629351309536964\n"
     ]
    }
   ],
   "source": [
    "knneighbors = KNeighborsClassifier(n_neighbors=67)\n",
    "knneighbors.fit(X_train, pd.Series.ravel(y_train))\n",
    "y_pred_test = knneighbors.predict(X_test)\n",
    "\n",
    "print('Accuracy on test data: {}'.format(knneighbors.score(X_test, y_test)))"
   ]
  },
  {
   "cell_type": "code",
   "execution_count": 73,
   "metadata": {
    "collapsed": false
   },
   "outputs": [
    {
     "name": "stdout",
     "output_type": "stream",
     "text": [
      "Accuracy on training data: 0.45905323263952846\n"
     ]
    }
   ],
   "source": [
    "y_pred_train = knneighbors.predict(X_train)\n",
    "print('Accuracy on training data: {}'.format(knneighbors.score(X_train, y_train)))"
   ]
  },
  {
   "cell_type": "markdown",
   "metadata": {},
   "source": [
    "## Discussion of Results on K-Nearest Neighbors \n",
    "While the accuracy of the test data appears to be low (coming in at only 45.6%), it is actually higher than we anticipated. If you consider what we are asking the algorithm to predict, it is solidly more impressive. The number of stars has no hard maximum. The minimum in this particular subset of the data is -2, and the maximum is 20533. The size of this space is large, and having an algorithm predict the correct integer star amount with 45.6% accuracy is in fact quite good."
   ]
  },
  {
   "cell_type": "markdown",
   "metadata": {},
   "source": [
    "## Decision Tree"
   ]
  },
  {
   "cell_type": "code",
   "execution_count": null,
   "metadata": {
    "collapsed": true
   },
   "outputs": [],
   "source": []
  },
  {
   "cell_type": "code",
   "execution_count": null,
   "metadata": {
    "collapsed": true
   },
   "outputs": [],
   "source": []
  },
  {
   "cell_type": "code",
   "execution_count": null,
   "metadata": {
    "collapsed": true
   },
   "outputs": [],
   "source": []
  },
  {
   "cell_type": "code",
   "execution_count": null,
   "metadata": {
    "collapsed": true
   },
   "outputs": [],
   "source": []
  },
  {
   "cell_type": "code",
   "execution_count": null,
   "metadata": {
    "collapsed": true
   },
   "outputs": [],
   "source": []
  },
  {
   "cell_type": "code",
   "execution_count": null,
   "metadata": {
    "collapsed": true
   },
   "outputs": [],
   "source": []
  },
  {
   "cell_type": "code",
   "execution_count": null,
   "metadata": {
    "collapsed": true
   },
   "outputs": [],
   "source": []
  },
  {
   "cell_type": "code",
   "execution_count": null,
   "metadata": {
    "collapsed": true
   },
   "outputs": [],
   "source": []
  },
  {
   "cell_type": "code",
   "execution_count": null,
   "metadata": {
    "collapsed": true
   },
   "outputs": [],
   "source": []
  },
  {
   "cell_type": "code",
   "execution_count": null,
   "metadata": {
    "collapsed": true
   },
   "outputs": [],
   "source": []
  }
 ],
 "metadata": {
  "anaconda-cloud": {},
  "kernelspec": {
   "display_name": "Python [conda env:pyv3.2]",
   "language": "python",
   "name": "conda-env-pyv3.2-py"
  },
  "language_info": {
   "codemirror_mode": {
    "name": "ipython",
    "version": 3
   },
   "file_extension": ".py",
   "mimetype": "text/x-python",
   "name": "python",
   "nbconvert_exporter": "python",
   "pygments_lexer": "ipython3",
   "version": "3.5.2"
  }
 },
 "nbformat": 4,
 "nbformat_minor": 1
}
