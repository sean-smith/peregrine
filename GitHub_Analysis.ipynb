{
 "cells": [
  {
   "cell_type": "markdown",
   "metadata": {},
   "source": [
    "# Github Data Analysis\n",
    "* Sean Smith <swsmith@bu.edu> \n",
    "* Ann Ming Samborski <asambors@bu.edu>"
   ]
  },
  {
   "cell_type": "markdown",
   "metadata": {},
   "source": [
    "# Questions We Strive to Address\n",
    "1. What are the most popular coding languages? How has this changed over time? How does this data compare to StackOverflow?\n",
    "2. Given the features shown below, can we predict number of stars? \n",
    "3. Is there a specific subset of the features below (besides the entirety) that optimizes the accuracy of star prediction? \n",
    "4. Does lines of code correlate with number of stars?\n",
    "5. Do number of contributors correlate with number of stars?"
   ]
  },
  {
   "cell_type": "markdown",
   "metadata": {},
   "source": [
    "# Differences From Our Initial Report\n",
    "In our initial report submission, we focused on the popularity of languages and spoke mainly about how we'd like to study the rise and fall of different languages as a function of time. However, we realize that while we would love to compare GitHub's data to StackOverflow [1], there was still a lot more that we could do with the data collected. \n",
    "\n",
    "In addition to our desire to study different questions about the GitHub data, we also realized there is a slight skew to our collected data. It is reporting that the most common language is Ruby, but according to Stack Overflow surveys, JavaScript should have been the most popular. We only have a portion of GitHub's repositories so we cannot be certain one way or the other of which language is in fact most popular. Due to this inaccuracy, we decided to focus our efforts in another direction.\n",
    "\n",
    "That being said, we now switch over to a focus on stars. We would like to see what combination of feature vectors (features shown below) can be used to best predict the number of stars a repository will have. Clearly, we would like to explore how to best minimize features required (i.e. is a question like (**2**) above a fair one to ask? Is it possible that one feature can be enough information to predict on?)."
   ]
  },
  {
   "cell_type": "markdown",
   "metadata": {},
   "source": [
    "# References\n",
    "1. [Stack Overflow Most Popular Languages 2017](https://stackoverflow.com/insights/survey/2017#technology-programming-languages)\n",
    "2. [Pandas Scatter Plot](http://pandas.pydata.org/pandas-docs/stable/visualization.html#scatter-plot)"
   ]
  },
  {
   "cell_type": "markdown",
   "metadata": {},
   "source": [
    "## Dataset\n",
    "We collected `137,100` repositories. We recognize more data would have been ideal, but the GitHub API rate limit, even with that increased thanks to GitHub Support, still restricts the amount of information we can make (especially because 1 repository requires 2 additional API calls). The information collected per repository is below.\n",
    "\n",
    "| Name          | Description   |\n",
    "| ------------- |:--------------|\n",
    "| name          | Owner/Repository name |\n",
    "| owner         | Owner name |\n",
    "| watchers      | Number of watchers |\n",
    "| stars         | Number of stars |\n",
    "| forks         | Number of forks |\n",
    "| type          | Type of account, organization or user |\n",
    "| issues        | Number of issues|\n",
    "| created_at    | Date created |\n",
    "| pushed_at     | Date last pushed |\n",
    "| updated_at    | Date last updated |\n",
    "| size          | Size of repo in KB|\n",
    "| open_issues   | Number of open issues |\n",
    "| description   | Repositry description |\n",
    "| num_languages | Number of programming languages |\n",
    "|language_1     | Most popular language |\n",
    "|language_1_size| Most popular language size in bytes |\n",
    "|language_2     | Second most popular language |\n",
    "|language_2_size| Second most popular language size in bytes |\n",
    "|language_3     | Third most popular language |\n",
    "|language_3_size| Third most popular language size in bytes |"
   ]
  },
  {
   "cell_type": "markdown",
   "metadata": {},
   "source": [
    "## Data Collection Code"
   ]
  },
  {
   "cell_type": "markdown",
   "metadata": {
    "collapsed": false
   },
   "source": [
    "Please see our initial report on our data and how we collected it for fleshed out details. "
   ]
  },
  {
   "cell_type": "markdown",
   "metadata": {},
   "source": [
    "## Data"
   ]
  },
  {
   "cell_type": "code",
   "execution_count": 38,
   "metadata": {
    "collapsed": true
   },
   "outputs": [],
   "source": [
    "# INCLUDES\n",
    "import requests\n",
    "from pprint import pprint\n",
    "import collections\n",
    "import pandas as pd\n",
    "import time\n",
    "import matplotlib.pyplot as plt\n",
    "import matplotlib.dates as mdates\n",
    "%matplotlib inline\n",
    "\n",
    "import json\n",
    "import random\n",
    "import re\n",
    "import numpy as np \n",
    "from datetime import datetime\n",
    "import warnings\n",
    "\n",
    "import matplotlib.cm as cm\n",
    "import seaborn as sns\n",
    "\n",
    "from sklearn.feature_extraction.text import TfidfVectorizer \n",
    "from sklearn.feature_extraction.text import CountVectorizer\n",
    "from nltk.stem.snowball import SnowballStemmer\n",
    "from nltk.tokenize import word_tokenize, sent_tokenize\n",
    "from sklearn.preprocessing import scale\n",
    "from sklearn.preprocessing import Normalizer\n",
    "import sklearn.metrics as metrics\n",
    "import scipy.sparse.linalg as linalg\n",
    "\n",
    "from sklearn.metrics import classification_report\n",
    "from sklearn.naive_bayes import MultinomialNB\n",
    "from sklearn.linear_model import LogisticRegression\n",
    "from sklearn.metrics import accuracy_score\n",
    "from sklearn.metrics import roc_curve, auc\n",
    "import statsmodels.api as sm \n",
    "\n",
    "# IGNORE WARNINGS\n",
    "with warnings.catch_warnings():\n",
    "    warnings.filterwarnings(\"ignore\", category=Warning)"
   ]
  },
  {
   "cell_type": "code",
   "execution_count": 23,
   "metadata": {
    "collapsed": false
   },
   "outputs": [],
   "source": [
    "# Read in data\n",
    "df = pd.read_csv('github_data.csv')"
   ]
  },
  {
   "cell_type": "code",
   "execution_count": 24,
   "metadata": {
    "collapsed": false
   },
   "outputs": [
    {
     "data": {
      "text/html": [
       "<div>\n",
       "<table border=\"1\" class=\"dataframe\">\n",
       "  <thead>\n",
       "    <tr style=\"text-align: right;\">\n",
       "      <th></th>\n",
       "      <th>name</th>\n",
       "      <th>owner</th>\n",
       "      <th>watchers</th>\n",
       "      <th>stars</th>\n",
       "      <th>forks</th>\n",
       "      <th>type</th>\n",
       "      <th>issues</th>\n",
       "      <th>created_at</th>\n",
       "      <th>pushed_at</th>\n",
       "      <th>updated_at</th>\n",
       "      <th>size</th>\n",
       "      <th>open_issues_count</th>\n",
       "      <th>description</th>\n",
       "      <th>num_languages</th>\n",
       "      <th>language_1</th>\n",
       "      <th>language_1_size</th>\n",
       "      <th>language_2</th>\n",
       "      <th>language_2_size</th>\n",
       "      <th>language_3</th>\n",
       "      <th>language_3_size</th>\n",
       "    </tr>\n",
       "  </thead>\n",
       "  <tbody>\n",
       "    <tr>\n",
       "      <th>0</th>\n",
       "      <td>mojombo/grit</td>\n",
       "      <td>mojombo</td>\n",
       "      <td>59</td>\n",
       "      <td>1883</td>\n",
       "      <td>451</td>\n",
       "      <td>User</td>\n",
       "      <td>3</td>\n",
       "      <td>2007-10-29T14:37:16Z</td>\n",
       "      <td>2016-08-01T15:17:38Z</td>\n",
       "      <td>2017-04-19T11:01:12Z</td>\n",
       "      <td>7954</td>\n",
       "      <td>3</td>\n",
       "      <td>**Grit is no longer maintained. Check out libg...</td>\n",
       "      <td>1</td>\n",
       "      <td>Ruby</td>\n",
       "      <td>219981.0</td>\n",
       "      <td>NaN</td>\n",
       "      <td>NaN</td>\n",
       "      <td>NaN</td>\n",
       "      <td>NaN</td>\n",
       "    </tr>\n",
       "    <tr>\n",
       "      <th>1</th>\n",
       "      <td>wycats/merb-core</td>\n",
       "      <td>wycats</td>\n",
       "      <td>3</td>\n",
       "      <td>407</td>\n",
       "      <td>54</td>\n",
       "      <td>User</td>\n",
       "      <td>0</td>\n",
       "      <td>2008-01-12T05:50:53Z</td>\n",
       "      <td>2008-10-13T02:31:34Z</td>\n",
       "      <td>2017-04-23T16:05:54Z</td>\n",
       "      <td>3462</td>\n",
       "      <td>0</td>\n",
       "      <td>Merb Core: All you need. None you don't.</td>\n",
       "      <td>2</td>\n",
       "      <td>Ruby</td>\n",
       "      <td>948883.0</td>\n",
       "      <td>JavaScript</td>\n",
       "      <td>8925.0</td>\n",
       "      <td>NaN</td>\n",
       "      <td>NaN</td>\n",
       "    </tr>\n",
       "    <tr>\n",
       "      <th>2</th>\n",
       "      <td>rubinius/rubinius</td>\n",
       "      <td>rubinius</td>\n",
       "      <td>120</td>\n",
       "      <td>2692</td>\n",
       "      <td>612</td>\n",
       "      <td>Organization</td>\n",
       "      <td>211</td>\n",
       "      <td>2008-01-12T16:46:52Z</td>\n",
       "      <td>2017-04-22T23:00:00Z</td>\n",
       "      <td>2017-04-23T09:34:21Z</td>\n",
       "      <td>162886</td>\n",
       "      <td>211</td>\n",
       "      <td>The Rubinius Language Platform</td>\n",
       "      <td>13</td>\n",
       "      <td>Ruby</td>\n",
       "      <td>7352918.0</td>\n",
       "      <td>C++</td>\n",
       "      <td>2917738.0</td>\n",
       "      <td>C</td>\n",
       "      <td>522111.0</td>\n",
       "    </tr>\n",
       "    <tr>\n",
       "      <th>3</th>\n",
       "      <td>mojombo/god</td>\n",
       "      <td>mojombo</td>\n",
       "      <td>104</td>\n",
       "      <td>2036</td>\n",
       "      <td>479</td>\n",
       "      <td>User</td>\n",
       "      <td>112</td>\n",
       "      <td>2008-01-13T05:16:23Z</td>\n",
       "      <td>2017-03-01T00:00:23Z</td>\n",
       "      <td>2017-04-23T14:44:01Z</td>\n",
       "      <td>2639</td>\n",
       "      <td>112</td>\n",
       "      <td>Ruby process monitor</td>\n",
       "      <td>6</td>\n",
       "      <td>Ruby</td>\n",
       "      <td>283939.0</td>\n",
       "      <td>C</td>\n",
       "      <td>9261.0</td>\n",
       "      <td>CSS</td>\n",
       "      <td>6486.0</td>\n",
       "    </tr>\n",
       "    <tr>\n",
       "      <th>4</th>\n",
       "      <td>vanpelt/jsawesome</td>\n",
       "      <td>vanpelt</td>\n",
       "      <td>2</td>\n",
       "      <td>36</td>\n",
       "      <td>2</td>\n",
       "      <td>User</td>\n",
       "      <td>0</td>\n",
       "      <td>2008-01-13T06:04:19Z</td>\n",
       "      <td>2008-05-29T20:09:36Z</td>\n",
       "      <td>2017-03-29T18:09:21Z</td>\n",
       "      <td>192</td>\n",
       "      <td>0</td>\n",
       "      <td>Awesome JSON</td>\n",
       "      <td>2</td>\n",
       "      <td>JavaScript</td>\n",
       "      <td>126588.0</td>\n",
       "      <td>Ruby</td>\n",
       "      <td>9677.0</td>\n",
       "      <td>NaN</td>\n",
       "      <td>NaN</td>\n",
       "    </tr>\n",
       "  </tbody>\n",
       "</table>\n",
       "</div>"
      ],
      "text/plain": [
       "                name     owner  watchers  stars  forks          type  issues  \\\n",
       "0       mojombo/grit   mojombo        59   1883    451          User       3   \n",
       "1   wycats/merb-core    wycats         3    407     54          User       0   \n",
       "2  rubinius/rubinius  rubinius       120   2692    612  Organization     211   \n",
       "3        mojombo/god   mojombo       104   2036    479          User     112   \n",
       "4  vanpelt/jsawesome   vanpelt         2     36      2          User       0   \n",
       "\n",
       "             created_at             pushed_at            updated_at    size  \\\n",
       "0  2007-10-29T14:37:16Z  2016-08-01T15:17:38Z  2017-04-19T11:01:12Z    7954   \n",
       "1  2008-01-12T05:50:53Z  2008-10-13T02:31:34Z  2017-04-23T16:05:54Z    3462   \n",
       "2  2008-01-12T16:46:52Z  2017-04-22T23:00:00Z  2017-04-23T09:34:21Z  162886   \n",
       "3  2008-01-13T05:16:23Z  2017-03-01T00:00:23Z  2017-04-23T14:44:01Z    2639   \n",
       "4  2008-01-13T06:04:19Z  2008-05-29T20:09:36Z  2017-03-29T18:09:21Z     192   \n",
       "\n",
       "   open_issues_count                                        description  \\\n",
       "0                  3  **Grit is no longer maintained. Check out libg...   \n",
       "1                  0           Merb Core: All you need. None you don't.   \n",
       "2                211                     The Rubinius Language Platform   \n",
       "3                112                               Ruby process monitor   \n",
       "4                  0                                       Awesome JSON   \n",
       "\n",
       "   num_languages  language_1  language_1_size  language_2  language_2_size  \\\n",
       "0              1        Ruby         219981.0         NaN              NaN   \n",
       "1              2        Ruby         948883.0  JavaScript           8925.0   \n",
       "2             13        Ruby        7352918.0         C++        2917738.0   \n",
       "3              6        Ruby         283939.0           C           9261.0   \n",
       "4              2  JavaScript         126588.0        Ruby           9677.0   \n",
       "\n",
       "  language_3  language_3_size  \n",
       "0        NaN              NaN  \n",
       "1        NaN              NaN  \n",
       "2          C         522111.0  \n",
       "3        CSS           6486.0  \n",
       "4        NaN              NaN  "
      ]
     },
     "execution_count": 24,
     "metadata": {},
     "output_type": "execute_result"
    }
   ],
   "source": [
    "df.head(5)"
   ]
  },
  {
   "cell_type": "code",
   "execution_count": 25,
   "metadata": {
    "collapsed": false
   },
   "outputs": [
    {
     "data": {
      "text/plain": [
       "(137100, 20)"
      ]
     },
     "execution_count": 25,
     "metadata": {},
     "output_type": "execute_result"
    }
   ],
   "source": [
    "df.shape"
   ]
  },
  {
   "cell_type": "code",
   "execution_count": 26,
   "metadata": {
    "collapsed": false
   },
   "outputs": [
    {
     "data": {
      "text/plain": [
       "User            130069\n",
       "Organization      7031\n",
       "Name: type, dtype: int64"
      ]
     },
     "execution_count": 26,
     "metadata": {},
     "output_type": "execute_result"
    }
   ],
   "source": [
    "df.type.value_counts()"
   ]
  },
  {
   "cell_type": "markdown",
   "metadata": {},
   "source": [
    "## Most Popular Programming Language"
   ]
  },
  {
   "cell_type": "code",
   "execution_count": 27,
   "metadata": {
    "collapsed": false
   },
   "outputs": [
    {
     "data": {
      "text/plain": [
       "Ruby            36351\n",
       "JavaScript      15032\n",
       "Python          11333\n",
       "PHP              7484\n",
       "Java             6384\n",
       "C                6070\n",
       "Perl             5027\n",
       "C++              4391\n",
       "Objective-C      2852\n",
       "C#               2158\n",
       "Shell            1999\n",
       "Emacs Lisp       1802\n",
       "VimL             1254\n",
       "ActionScript     1072\n",
       "Erlang            976\n",
       "Haskell           900\n",
       "Scala             774\n",
       "Clojure           718\n",
       "Lua               677\n",
       "Common Lisp       520\n",
       "Name: language_1, dtype: int64"
      ]
     },
     "execution_count": 27,
     "metadata": {},
     "output_type": "execute_result"
    }
   ],
   "source": [
    "# Top 20\n",
    "df.language_1.value_counts()[:20]"
   ]
  },
  {
   "cell_type": "code",
   "execution_count": 28,
   "metadata": {
    "collapsed": false
   },
   "outputs": [
    {
     "data": {
      "text/plain": [
       "<matplotlib.axes._subplots.AxesSubplot at 0x1239cfeb8>"
      ]
     },
     "execution_count": 28,
     "metadata": {},
     "output_type": "execute_result"
    },
    {
     "data": {
      "image/png": "[encoded data removed]",
      "text/plain": [
       "<matplotlib.figure.Figure at 0x1239d2208>"
      ]
     },
     "metadata": {},
     "output_type": "display_data"
    }
   ],
   "source": [
    "df.language_1.value_counts()[:5].plot.bar()"
   ]
  },
  {
   "cell_type": "code",
   "execution_count": 29,
   "metadata": {
    "collapsed": false
   },
   "outputs": [],
   "source": [
    "ruby_popularity = df[df.language_1 == 'Ruby'].filter(['language_1_size', 'created_at'])"
   ]
  },
  {
   "cell_type": "code",
   "execution_count": 30,
   "metadata": {
    "collapsed": false
   },
   "outputs": [
    {
     "name": "stdout",
     "output_type": "stream",
     "text": [
      "Min: 2007-10-29T14:37:16Z\n",
      "Max: 2010-06-24T18:44:50Z\n"
     ]
    },
    {
     "data": {
      "text/plain": [
       "(0, 20000000)"
      ]
     },
     "execution_count": 30,
     "metadata": {},
     "output_type": "execute_result"
    },
    {
     "data": {
      "image/png": "[encoded data removed]",
      "text/plain": [
       "<matplotlib.figure.Figure at 0x118800828>"
      ]
     },
     "metadata": {},
     "output_type": "display_data"
    }
   ],
   "source": [
    "# import matplotlib.pyplot as plt\n",
    "# axes = plt.subplot()\n",
    "print(\"Min: %s\" % ruby_popularity.created_at.min())\n",
    "print(\"Max: %s\" % ruby_popularity.created_at.max())\n",
    "\n",
    "# bins = ruby_popularity.created_at.hist(bins=10)\n",
    "# bins[0][0].x_label('created_at')\n",
    "plt = ruby_popularity.plot(x='created_at', y='language_1_size')\n",
    "plt.set_ylim([0,20000000])"
   ]
  },
  {
   "cell_type": "markdown",
   "metadata": {},
   "source": [
    "# Forks vs Stars"
   ]
  },
  {
   "cell_type": "code",
   "execution_count": 31,
   "metadata": {
    "collapsed": false
   },
   "outputs": [
    {
     "data": {
      "text/plain": [
       "<matplotlib.axes._subplots.AxesSubplot at 0x11881fdd8>"
      ]
     },
     "execution_count": 31,
     "metadata": {},
     "output_type": "execute_result"
    },
    {
     "data": {
      "image/png": "[encoded data removed]",
      "text/plain": [
       "<matplotlib.figure.Figure at 0x118833048>"
      ]
     },
     "metadata": {},
     "output_type": "display_data"
    }
   ],
   "source": [
    "df.plot.scatter(x='stars', y='forks', xlim=[-1000,60000], ylim=[-1000,30000])"
   ]
  },
  {
   "cell_type": "markdown",
   "metadata": {
    "collapsed": false
   },
   "source": [
    "# Can we predict the number of stars a repository has?"
   ]
  },
  {
   "cell_type": "code",
   "execution_count": 35,
   "metadata": {
    "collapsed": false
   },
   "outputs": [
    {
     "name": "stdout",
     "output_type": "stream",
     "text": [
      "20\n",
      "19\n"
     ]
    }
   ],
   "source": [
    "# Find the feature vectors I should be interested in\n",
    "original_columns = df.columns.values \n",
    "wo_stars = [i for i in original_columns if not i == 'stars']\n",
    "print(len(original_columns))\n",
    "print(len(wo_stars))"
   ]
  },
  {
   "cell_type": "code",
   "execution_count": 37,
   "metadata": {
    "collapsed": false
   },
   "outputs": [
    {
     "data": {
      "text/html": [
       "<div>\n",
       "<table border=\"1\" class=\"dataframe\">\n",
       "  <thead>\n",
       "    <tr style=\"text-align: right;\">\n",
       "      <th></th>\n",
       "      <th>name</th>\n",
       "      <th>owner</th>\n",
       "      <th>watchers</th>\n",
       "      <th>forks</th>\n",
       "      <th>type</th>\n",
       "      <th>issues</th>\n",
       "      <th>created_at</th>\n",
       "      <th>pushed_at</th>\n",
       "      <th>updated_at</th>\n",
       "      <th>size</th>\n",
       "      <th>open_issues_count</th>\n",
       "      <th>description</th>\n",
       "      <th>num_languages</th>\n",
       "      <th>language_1</th>\n",
       "      <th>language_1_size</th>\n",
       "      <th>language_2</th>\n",
       "      <th>language_2_size</th>\n",
       "      <th>language_3</th>\n",
       "      <th>language_3_size</th>\n",
       "    </tr>\n",
       "  </thead>\n",
       "  <tbody>\n",
       "    <tr>\n",
       "      <th>0</th>\n",
       "      <td>mojombo/grit</td>\n",
       "      <td>mojombo</td>\n",
       "      <td>59</td>\n",
       "      <td>451</td>\n",
       "      <td>User</td>\n",
       "      <td>3</td>\n",
       "      <td>2007-10-29T14:37:16Z</td>\n",
       "      <td>2016-08-01T15:17:38Z</td>\n",
       "      <td>2017-04-19T11:01:12Z</td>\n",
       "      <td>7954</td>\n",
       "      <td>3</td>\n",
       "      <td>**Grit is no longer maintained. Check out libg...</td>\n",
       "      <td>1</td>\n",
       "      <td>Ruby</td>\n",
       "      <td>219981.0</td>\n",
       "      <td>NaN</td>\n",
       "      <td>NaN</td>\n",
       "      <td>NaN</td>\n",
       "      <td>NaN</td>\n",
       "    </tr>\n",
       "    <tr>\n",
       "      <th>1</th>\n",
       "      <td>wycats/merb-core</td>\n",
       "      <td>wycats</td>\n",
       "      <td>3</td>\n",
       "      <td>54</td>\n",
       "      <td>User</td>\n",
       "      <td>0</td>\n",
       "      <td>2008-01-12T05:50:53Z</td>\n",
       "      <td>2008-10-13T02:31:34Z</td>\n",
       "      <td>2017-04-23T16:05:54Z</td>\n",
       "      <td>3462</td>\n",
       "      <td>0</td>\n",
       "      <td>Merb Core: All you need. None you don't.</td>\n",
       "      <td>2</td>\n",
       "      <td>Ruby</td>\n",
       "      <td>948883.0</td>\n",
       "      <td>JavaScript</td>\n",
       "      <td>8925.0</td>\n",
       "      <td>NaN</td>\n",
       "      <td>NaN</td>\n",
       "    </tr>\n",
       "  </tbody>\n",
       "</table>\n",
       "</div>"
      ],
      "text/plain": [
       "               name    owner  watchers  forks  type  issues  \\\n",
       "0      mojombo/grit  mojombo        59    451  User       3   \n",
       "1  wycats/merb-core   wycats         3     54  User       0   \n",
       "\n",
       "             created_at             pushed_at            updated_at  size  \\\n",
       "0  2007-10-29T14:37:16Z  2016-08-01T15:17:38Z  2017-04-19T11:01:12Z  7954   \n",
       "1  2008-01-12T05:50:53Z  2008-10-13T02:31:34Z  2017-04-23T16:05:54Z  3462   \n",
       "\n",
       "   open_issues_count                                        description  \\\n",
       "0                  3  **Grit is no longer maintained. Check out libg...   \n",
       "1                  0           Merb Core: All you need. None you don't.   \n",
       "\n",
       "   num_languages language_1  language_1_size  language_2  language_2_size  \\\n",
       "0              1       Ruby         219981.0         NaN              NaN   \n",
       "1              2       Ruby         948883.0  JavaScript           8925.0   \n",
       "\n",
       "  language_3  language_3_size  \n",
       "0        NaN              NaN  \n",
       "1        NaN              NaN  "
      ]
     },
     "execution_count": 37,
     "metadata": {},
     "output_type": "execute_result"
    }
   ],
   "source": [
    "# Create the new dataframe without the stars feature vector (i.e. the feature we want to predict)\n",
    "wo_stars_df = df[wo_stars]\n",
    "wo_stars_df.head(2)"
   ]
  },
  {
   "cell_type": "code",
   "execution_count": 40,
   "metadata": {
    "collapsed": false
   },
   "outputs": [
    {
     "name": "stdout",
     "output_type": "stream",
     "text": [
      "['name', 'owner', 'watchers', 'forks', 'type', 'issues', 'created_at', 'pushed_at', 'updated_at', 'size', 'open_issues_count', 'description', 'num_languages', 'language_1', 'language_1_size', 'language_2', 'language_2_size', 'language_3', 'language_3_size']\n"
     ]
    }
   ],
   "source": [
    "print(wo_stars)"
   ]
  },
  {
   "cell_type": "code",
   "execution_count": null,
   "metadata": {
    "collapsed": true
   },
   "outputs": [],
   "source": [
    "# Retrieve dummies for \n",
    "to_dummy = ['name', 'owner', 'type', 'created_at', \n",
    "            'pushed_at', 'updated_at', 'description', \n",
    "            'language_1', 'language_1_size', 'language_2', \n",
    "            'language_2_size', 'language_3', 'language_3_size']\n",
    "df_dummies = pd.get_dummies(data=wo_stars_df, columns=to_dummy)\n",
    "df_dummies.head(3)"
   ]
  },
  {
   "cell_type": "code",
   "execution_count": null,
   "metadata": {
    "collapsed": true
   },
   "outputs": [],
   "source": []
  }
 ],
 "metadata": {
  "anaconda-cloud": {},
  "kernelspec": {
   "display_name": "Python [conda env:pyv3.2]",
   "language": "python",
   "name": "conda-env-pyv3.2-py"
  },
  "language_info": {
   "codemirror_mode": {
    "name": "ipython",
    "version": 3
   },
   "file_extension": ".py",
   "mimetype": "text/x-python",
   "name": "python",
   "nbconvert_exporter": "python",
   "pygments_lexer": "ipython3",
   "version": "3.5.2"
  }
 },
 "nbformat": 4,
 "nbformat_minor": 1
}
