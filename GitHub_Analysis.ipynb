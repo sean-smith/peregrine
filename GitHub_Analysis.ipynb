{
 "cells": [
  {
   "cell_type": "markdown",
   "metadata": {},
   "source": [
    "# Github Data Analysis\n",
    "* Sean Smith <swsmith@bu.edu> \n",
    "* Ann Ming Samborski <asambors@bu.edu>"
   ]
  },
  {
   "cell_type": "markdown",
   "metadata": {},
   "source": [
    "# Questions We Strive to Address\n",
    "1. What are the most popular coding languages? How has this changed over time? How does this data compare to StackOverflow?\n",
    "2. Given the features shown below, can we predict number of stars? \n",
    "3. Is there a specific subset of the features below (besides the entirety) that optimizes the accuracy of star prediction? \n",
    "4. Does lines of code correlate with number of stars?\n",
    "5. Do number of contributors correlate with number of stars?"
   ]
  },
  {
   "cell_type": "markdown",
   "metadata": {},
   "source": [
    "# Differences From Our Initial Report\n",
    "In our initial report submission, we focused on the popularity of languages and spoke mainly about how we'd like to study the rise and fall of different languages as a function of time. However, we realize that while we would love to compare GitHub's data to StackOverflow [1], there was still a lot more that we could do with the data collected. \n",
    "\n",
    "In addition to our desire to study different questions about the GitHub data, we also realized there is a slight skew to our collected data. It is reporting that the most common language is Ruby, but according to Stack Overflow surveys, JavaScript should have been the most popular. We only have a portion of GitHub's repositories so we cannot be certain one way or the other of which language is in fact most popular. Due to this inaccuracy, we decided to focus our efforts in another direction.\n",
    "\n",
    "That being said, we now switch over to a focus on stars. We would like to see what combination of feature vectors (features shown below) can be used to best predict the number of stars a repository will have. Clearly, we would like to explore how to best minimize features required (i.e. is a question like (**2**) above a fair one to ask? Is it possible that one feature can be enough information to predict on?)."
   ]
  },
  {
   "cell_type": "markdown",
   "metadata": {},
   "source": [
    "# References\n",
    "1. [Stack Overflow Most Popular Languages 2017](https://stackoverflow.com/insights/survey/2017#technology-programming-languages)\n",
    "2. [Pandas Scatter Plot](http://pandas.pydata.org/pandas-docs/stable/visualization.html#scatter-plot)\n",
    "3. [Sampling](http://pandas.pydata.org/pandas-docs/stable/generated/pandas.DataFrame.sample.html)"
   ]
  },
  {
   "cell_type": "markdown",
   "metadata": {},
   "source": [
    "## Dataset\n",
    "We collected `137,100` repositories. We recognize more data would have been ideal, but the GitHub API rate limit, even with that increased thanks to GitHub Support, still restricts the amount of information we can make (especially because 1 repository requires 2 additional API calls). The information collected per repository is below.\n",
    "\n",
    "| Name          | Description   |\n",
    "| ------------- |:--------------|\n",
    "| name          | Owner/Repository name |\n",
    "| owner         | Owner name |\n",
    "| watchers      | Number of watchers |\n",
    "| stars         | Number of stars |\n",
    "| forks         | Number of forks |\n",
    "| type          | Type of account, organization or user |\n",
    "| issues        | Number of issues|\n",
    "| created_at    | Date created |\n",
    "| pushed_at     | Date last pushed |\n",
    "| updated_at    | Date last updated |\n",
    "| size          | Size of repo in KB|\n",
    "| open_issues   | Number of open issues |\n",
    "| description   | Repository description |\n",
    "| num_languages | Number of programming languages |\n",
    "|language_1     | Most popular language |\n",
    "|language_1_size| Most popular language size in bytes |\n",
    "|language_2     | Second most popular language |\n",
    "|language_2_size| Second most popular language size in bytes |\n",
    "|language_3     | Third most popular language |\n",
    "|language_3_size| Third most popular language size in bytes |"
   ]
  },
  {
   "cell_type": "markdown",
   "metadata": {},
   "source": [
    "## Data Collection Code"
   ]
  },
  {
   "cell_type": "markdown",
   "metadata": {
    "collapsed": false
   },
   "source": [
    "Please see our initial report on our data and how we collected it for fleshed out details. "
   ]
  },
  {
   "cell_type": "markdown",
   "metadata": {},
   "source": [
    "## Data"
   ]
  },
  {
   "cell_type": "code",
   "execution_count": 3,
   "metadata": {
    "collapsed": false
   },
   "outputs": [
    {
     "ename": "ImportError",
     "evalue": "No module named model_selection",
     "output_type": "error",
     "traceback": [
      "\u001b[0;31m---------------------------------------------------------------\u001b[0m",
      "\u001b[0;31mImportError\u001b[0m                   Traceback (most recent call last)",
      "\u001b[0;32m<ipython-input-2-7f8d5ff86615>\u001b[0m in \u001b[0;36m<module>\u001b[0;34m()\u001b[0m\n\u001b[1;32m     39\u001b[0m \u001b[0;34m\u001b[0m\u001b[0m\n\u001b[1;32m     40\u001b[0m \u001b[0;32mfrom\u001b[0m \u001b[0msklearn\u001b[0m\u001b[0;34m.\u001b[0m\u001b[0mneighbors\u001b[0m \u001b[0;32mimport\u001b[0m \u001b[0mKNeighborsClassifier\u001b[0m\u001b[0;34m\u001b[0m\u001b[0m\n\u001b[0;32m---> 41\u001b[0;31m \u001b[0;32mfrom\u001b[0m \u001b[0msklearn\u001b[0m\u001b[0;34m.\u001b[0m\u001b[0mmodel_selection\u001b[0m \u001b[0;32mimport\u001b[0m \u001b[0mtrain_test_split\u001b[0m\u001b[0;34m\u001b[0m\u001b[0m\n\u001b[0m\u001b[1;32m     42\u001b[0m \u001b[0;32mfrom\u001b[0m \u001b[0msklearn\u001b[0m \u001b[0;32mimport\u001b[0m \u001b[0mtree\u001b[0m\u001b[0;34m\u001b[0m\u001b[0m\n\u001b[1;32m     43\u001b[0m \u001b[0;32mimport\u001b[0m \u001b[0msklearn\u001b[0m\u001b[0;34m.\u001b[0m\u001b[0mmodel_selection\u001b[0m \u001b[0;32mas\u001b[0m \u001b[0mcross_validation\u001b[0m\u001b[0;34m\u001b[0m\u001b[0m\n",
      "\u001b[0;31mImportError\u001b[0m: No module named model_selection"
     ]
    }
   ],
   "source": [
    "# INCLUDES\n",
    "import requests\n",
    "from pprint import pprint\n",
    "import collections\n",
    "import pandas as pd\n",
    "import time\n",
    "import matplotlib.pyplot as plt\n",
    "import matplotlib.dates as mdates\n",
    "import math\n",
    "%matplotlib inline\n",
    "\n",
    "import json\n",
    "import random\n",
    "import re\n",
    "import numpy as np \n",
    "from datetime import datetime\n",
    "import warnings\n",
    "import sklearn\n",
    "\n",
    "import matplotlib.cm as cm\n",
    "import seaborn as sns\n",
    "\n",
    "from sklearn.feature_extraction.text import TfidfVectorizer \n",
    "from sklearn.feature_extraction.text import CountVectorizer\n",
    "from nltk.stem.snowball import SnowballStemmer\n",
    "from nltk.tokenize import word_tokenize, sent_tokenize\n",
    "from sklearn.preprocessing import scale\n",
    "from sklearn.preprocessing import Normalizer\n",
    "import sklearn.metrics as metrics\n",
    "import scipy.sparse.linalg as linalg\n",
    "from sklearn import preprocessing\n",
    "\n",
    "from sklearn.metrics import classification_report\n",
    "from sklearn.naive_bayes import MultinomialNB\n",
    "from sklearn.linear_model import LogisticRegression\n",
    "from sklearn.metrics import accuracy_score\n",
    "from sklearn.metrics import roc_curve, auc\n",
    "import statsmodels.api as sm \n",
    "import sklearn.svm as svm\n",
    "\n",
    "from sklearn.neighbors import KNeighborsClassifier\n",
    "from sklearn.model_selection import train_test_split\n",
    "from sklearn import tree\n",
    "import sklearn.model_selection as cross_validation\n",
    "\n",
    "# IGNORE WARNINGS\n",
    "with warnings.catch_warnings():\n",
    "    warnings.filterwarnings(\"ignore\", category=Warning)"
   ]
  },
  {
   "cell_type": "code",
   "execution_count": 4,
   "metadata": {
    "collapsed": false
   },
   "outputs": [],
   "source": [
    "# Read in data\n",
    "df = pd.read_csv('github_data.csv')"
   ]
  },
  {
   "cell_type": "code",
   "execution_count": 5,
   "metadata": {
    "collapsed": false
   },
   "outputs": [
    {
     "name": "stdout",
     "output_type": "stream",
     "text": [
      "Number of entries 20\n",
      "2007-10-29T14:37:16Z\n",
      "2010-06-24T18:49:38Z\n"
     ]
    }
   ],
   "source": [
    "print(\"Number of entries %d\" % df.shape[1])\n",
    "\n",
    "print(min(df.created_at))\n",
    "print(max(df.created_at))"
   ]
  },
  {
   "cell_type": "code",
   "execution_count": 6,
   "metadata": {
    "collapsed": false
   },
   "outputs": [
    {
     "data": {
      "text/plain": [
       "User            130069\n",
       "Organization      7031\n",
       "Name: type, dtype: int64"
      ]
     },
     "execution_count": 6,
     "metadata": {},
     "output_type": "execute_result"
    }
   ],
   "source": [
    "df.type.value_counts()"
   ]
  },
  {
   "cell_type": "markdown",
   "metadata": {},
   "source": [
    "## Most Popular Programming Language"
   ]
  },
  {
   "cell_type": "code",
   "execution_count": 7,
   "metadata": {
    "collapsed": false
   },
   "outputs": [
    {
     "data": {
      "text/plain": [
       "Ruby            0.265142\n",
       "JavaScript      0.109643\n",
       "Python          0.082662\n",
       "PHP             0.054588\n",
       "Java            0.046565\n",
       "C               0.044274\n",
       "Perl            0.036667\n",
       "C++             0.032028\n",
       "Objective-C     0.020802\n",
       "C#              0.015740\n",
       "Shell           0.014581\n",
       "Emacs Lisp      0.013144\n",
       "VimL            0.009147\n",
       "ActionScript    0.007819\n",
       "Erlang          0.007119\n",
       "Haskell         0.006565\n",
       "Scala           0.005646\n",
       "Clojure         0.005237\n",
       "Lua             0.004938\n",
       "Common Lisp     0.003793\n",
       "Name: language_1, dtype: float64"
      ]
     },
     "execution_count": 7,
     "metadata": {},
     "output_type": "execute_result"
    }
   ],
   "source": [
    "# Top 20\n",
    "df.language_1.value_counts()[:20] / len(df)"
   ]
  },
  {
   "cell_type": "code",
   "execution_count": 8,
   "metadata": {
    "collapsed": false
   },
   "outputs": [
    {
     "name": "stdout",
     "output_type": "stream",
     "text": [
      "CPU times: user 0 ns, sys: 0 ns, total: 0 ns\n",
      "Wall time: 4.53 µs\n"
     ]
    },
    {
     "data": {
      "image/png": "iVBORw0KGgoAAAANSUhEUgAAAe8AAAFuCAYAAACoZZCwAAAABHNCSVQICAgIfAhkiAAAAAlwSFlz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\nAAAAAElFTkSuQmCC\n",
      "text/plain": [
       "<matplotlib.figure.Figure at 0x7fef5fce2b70>"
      ]
     },
     "metadata": {},
     "output_type": "display_data"
    }
   ],
   "source": [
    "%time\n",
    "df.language_1.value_counts()[:5].plot.bar()\n",
    "plt.savefig('langs.png')"
   ]
  },
  {
   "cell_type": "code",
   "execution_count": 9,
   "metadata": {
    "collapsed": false
   },
   "outputs": [],
   "source": [
    "ruby_popularity = df[df.language_1 == 'Ruby'].filter(['language_1_size', 'created_at'])"
   ]
  },
  {
   "cell_type": "code",
   "execution_count": 10,
   "metadata": {
    "collapsed": false
   },
   "outputs": [
    {
     "name": "stdout",
     "output_type": "stream",
     "text": [
      "Min: 2007-10-29T14:37:16Z\n",
      "Max: 2010-06-24T18:44:50Z\n"
     ]
    },
    {
     "data": {
      "text/plain": [
       "(0, 20000000)"
      ]
     },
     "execution_count": 10,
     "metadata": {},
     "output_type": "execute_result"
    },
    {
     "data": {
      "image/png": "iVBORw0KGgoAAAANSUhEUgAAAiMAAAFjCAYAAADvmgtAAAAABHNCSVQICAgIfAhkiAAAAAlwSFlz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\nDAaD8UxhjREGg8FgMBjPlP8BHhkYBclgFE8AAAAASUVORK5CYII=\n",
      "text/plain": [
       "<matplotlib.figure.Figure at 0x7fef6420f208>"
      ]
     },
     "metadata": {},
     "output_type": "display_data"
    }
   ],
   "source": [
    "# import matplotlib.pyplot as plt\n",
    "# axes = plt.subplot()\n",
    "print(\"Min: %s\" % ruby_popularity.created_at.min())\n",
    "print(\"Max: %s\" % ruby_popularity.created_at.max())\n",
    "\n",
    "# bins = ruby_popularity.created_at.hist(bins=10)\n",
    "# bins[0][0].x_label('created_at')\n",
    "plt = ruby_popularity.plot(x='created_at', y='language_1_size')\n",
    "plt.set_ylim([0,20000000])"
   ]
  },
  {
   "cell_type": "markdown",
   "metadata": {},
   "source": [
    "# Forks vs Stars"
   ]
  },
  {
   "cell_type": "code",
   "execution_count": 11,
   "metadata": {
    "collapsed": false
   },
   "outputs": [
    {
     "data": {
      "text/plain": [
       "<matplotlib.axes._subplots.AxesSubplot at 0x7fef6457b908>"
      ]
     },
     "execution_count": 11,
     "metadata": {},
     "output_type": "execute_result"
    },
    {
     "data": {
      "image/png": "iVBORw0KGgoAAAANSUhEUgAAAgsAAAFcCAYAAABGPP0cAAAABHNCSVQICAgIfAhkiAAAAAlwSFlz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\nAEwRFgAAgCnCAgAAMEVYAAAApv4/ytZ5ztZ/L7sAAAAASUVORK5CYII=\n",
      "text/plain": [
       "<matplotlib.figure.Figure at 0x7fef64053d68>"
      ]
     },
     "metadata": {},
     "output_type": "display_data"
    }
   ],
   "source": [
    "df.plot.scatter(x='stars', y='forks', xlim=[-1000,60000], ylim=[-1000,30000])"
   ]
  },
  {
   "cell_type": "markdown",
   "metadata": {
    "collapsed": false
   },
   "source": [
    "# Can we predict the number of stars a repository has?"
   ]
  },
  {
   "cell_type": "code",
   "execution_count": 12,
   "metadata": {
    "collapsed": false
   },
   "outputs": [],
   "source": [
    "# I am dumb, we need the stars"
   ]
  },
  {
   "cell_type": "code",
   "execution_count": 13,
   "metadata": {
    "collapsed": false
   },
   "outputs": [
    {
     "data": {
      "text/html": [
       "<div>\n",
       "<table border=\"1\" class=\"dataframe\">\n",
       "  <thead>\n",
       "    <tr style=\"text-align: right;\">\n",
       "      <th></th>\n",
       "      <th>watchers</th>\n",
       "      <th>stars</th>\n",
       "      <th>forks</th>\n",
       "      <th>type</th>\n",
       "      <th>issues</th>\n",
       "      <th>size</th>\n",
       "      <th>open_issues_count</th>\n",
       "      <th>num_languages</th>\n",
       "      <th>language_1</th>\n",
       "      <th>language_1_size</th>\n",
       "      <th>language_2</th>\n",
       "      <th>language_2_size</th>\n",
       "      <th>language_3</th>\n",
       "      <th>language_3_size</th>\n",
       "    </tr>\n",
       "  </thead>\n",
       "  <tbody>\n",
       "    <tr>\n",
       "      <th>0</th>\n",
       "      <td>59</td>\n",
       "      <td>1883</td>\n",
       "      <td>451</td>\n",
       "      <td>User</td>\n",
       "      <td>3</td>\n",
       "      <td>7954</td>\n",
       "      <td>3</td>\n",
       "      <td>1</td>\n",
       "      <td>Ruby</td>\n",
       "      <td>219981.0</td>\n",
       "      <td>NaN</td>\n",
       "      <td>NaN</td>\n",
       "      <td>NaN</td>\n",
       "      <td>NaN</td>\n",
       "    </tr>\n",
       "    <tr>\n",
       "      <th>1</th>\n",
       "      <td>3</td>\n",
       "      <td>407</td>\n",
       "      <td>54</td>\n",
       "      <td>User</td>\n",
       "      <td>0</td>\n",
       "      <td>3462</td>\n",
       "      <td>0</td>\n",
       "      <td>2</td>\n",
       "      <td>Ruby</td>\n",
       "      <td>948883.0</td>\n",
       "      <td>JavaScript</td>\n",
       "      <td>8925.0</td>\n",
       "      <td>NaN</td>\n",
       "      <td>NaN</td>\n",
       "    </tr>\n",
       "    <tr>\n",
       "      <th>2</th>\n",
       "      <td>120</td>\n",
       "      <td>2692</td>\n",
       "      <td>612</td>\n",
       "      <td>Organization</td>\n",
       "      <td>211</td>\n",
       "      <td>162886</td>\n",
       "      <td>211</td>\n",
       "      <td>13</td>\n",
       "      <td>Ruby</td>\n",
       "      <td>7352918.0</td>\n",
       "      <td>C++</td>\n",
       "      <td>2917738.0</td>\n",
       "      <td>C</td>\n",
       "      <td>522111.0</td>\n",
       "    </tr>\n",
       "    <tr>\n",
       "      <th>3</th>\n",
       "      <td>104</td>\n",
       "      <td>2036</td>\n",
       "      <td>479</td>\n",
       "      <td>User</td>\n",
       "      <td>112</td>\n",
       "      <td>2639</td>\n",
       "      <td>112</td>\n",
       "      <td>6</td>\n",
       "      <td>Ruby</td>\n",
       "      <td>283939.0</td>\n",
       "      <td>C</td>\n",
       "      <td>9261.0</td>\n",
       "      <td>CSS</td>\n",
       "      <td>6486.0</td>\n",
       "    </tr>\n",
       "    <tr>\n",
       "      <th>4</th>\n",
       "      <td>2</td>\n",
       "      <td>36</td>\n",
       "      <td>2</td>\n",
       "      <td>User</td>\n",
       "      <td>0</td>\n",
       "      <td>192</td>\n",
       "      <td>0</td>\n",
       "      <td>2</td>\n",
       "      <td>JavaScript</td>\n",
       "      <td>126588.0</td>\n",
       "      <td>Ruby</td>\n",
       "      <td>9677.0</td>\n",
       "      <td>NaN</td>\n",
       "      <td>NaN</td>\n",
       "    </tr>\n",
       "    <tr>\n",
       "      <th>5</th>\n",
       "      <td>2</td>\n",
       "      <td>66</td>\n",
       "      <td>5</td>\n",
       "      <td>User</td>\n",
       "      <td>0</td>\n",
       "      <td>156</td>\n",
       "      <td>0</td>\n",
       "      <td>1</td>\n",
       "      <td>JavaScript</td>\n",
       "      <td>48977.0</td>\n",
       "      <td>NaN</td>\n",
       "      <td>NaN</td>\n",
       "      <td>NaN</td>\n",
       "      <td>NaN</td>\n",
       "    </tr>\n",
       "    <tr>\n",
       "      <th>6</th>\n",
       "      <td>1</td>\n",
       "      <td>239</td>\n",
       "      <td>86</td>\n",
       "      <td>User</td>\n",
       "      <td>2</td>\n",
       "      <td>232</td>\n",
       "      <td>2</td>\n",
       "      <td>2</td>\n",
       "      <td>Ruby</td>\n",
       "      <td>10936.0</td>\n",
       "      <td>JavaScript</td>\n",
       "      <td>1531.0</td>\n",
       "      <td>NaN</td>\n",
       "      <td>NaN</td>\n",
       "    </tr>\n",
       "    <tr>\n",
       "      <th>7</th>\n",
       "      <td>2</td>\n",
       "      <td>151</td>\n",
       "      <td>16</td>\n",
       "      <td>User</td>\n",
       "      <td>1</td>\n",
       "      <td>473</td>\n",
       "      <td>1</td>\n",
       "      <td>2</td>\n",
       "      <td>Ruby</td>\n",
       "      <td>21237.0</td>\n",
       "      <td>JavaScript</td>\n",
       "      <td>2032.0</td>\n",
       "      <td>NaN</td>\n",
       "      <td>NaN</td>\n",
       "    </tr>\n",
       "    <tr>\n",
       "      <th>8</th>\n",
       "      <td>16</td>\n",
       "      <td>1629</td>\n",
       "      <td>283</td>\n",
       "      <td>User</td>\n",
       "      <td>27</td>\n",
       "      <td>1208</td>\n",
       "      <td>27</td>\n",
       "      <td>1</td>\n",
       "      <td>Ruby</td>\n",
       "      <td>145649.0</td>\n",
       "      <td>NaN</td>\n",
       "      <td>NaN</td>\n",
       "      <td>NaN</td>\n",
       "      <td>NaN</td>\n",
       "    </tr>\n",
       "    <tr>\n",
       "      <th>9</th>\n",
       "      <td>7</td>\n",
       "      <td>1036</td>\n",
       "      <td>309</td>\n",
       "      <td>User</td>\n",
       "      <td>37</td>\n",
       "      <td>1008</td>\n",
       "      <td>37</td>\n",
       "      <td>1</td>\n",
       "      <td>Ruby</td>\n",
       "      <td>132960.0</td>\n",
       "      <td>NaN</td>\n",
       "      <td>NaN</td>\n",
       "      <td>NaN</td>\n",
       "      <td>NaN</td>\n",
       "    </tr>\n",
       "  </tbody>\n",
       "</table>\n",
       "</div>"
      ],
      "text/plain": [
       "   watchers  stars  forks          type  issues    size  open_issues_count  \\\n",
       "0        59   1883    451          User       3    7954                  3   \n",
       "1         3    407     54          User       0    3462                  0   \n",
       "2       120   2692    612  Organization     211  162886                211   \n",
       "3       104   2036    479          User     112    2639                112   \n",
       "4         2     36      2          User       0     192                  0   \n",
       "5         2     66      5          User       0     156                  0   \n",
       "6         1    239     86          User       2     232                  2   \n",
       "7         2    151     16          User       1     473                  1   \n",
       "8        16   1629    283          User      27    1208                 27   \n",
       "9         7   1036    309          User      37    1008                 37   \n",
       "\n",
       "   num_languages  language_1  language_1_size  language_2  language_2_size  \\\n",
       "0              1        Ruby         219981.0         NaN              NaN   \n",
       "1              2        Ruby         948883.0  JavaScript           8925.0   \n",
       "2             13        Ruby        7352918.0         C++        2917738.0   \n",
       "3              6        Ruby         283939.0           C           9261.0   \n",
       "4              2  JavaScript         126588.0        Ruby           9677.0   \n",
       "5              1  JavaScript          48977.0         NaN              NaN   \n",
       "6              2        Ruby          10936.0  JavaScript           1531.0   \n",
       "7              2        Ruby          21237.0  JavaScript           2032.0   \n",
       "8              1        Ruby         145649.0         NaN              NaN   \n",
       "9              1        Ruby         132960.0         NaN              NaN   \n",
       "\n",
       "  language_3  language_3_size  \n",
       "0        NaN              NaN  \n",
       "1        NaN              NaN  \n",
       "2          C         522111.0  \n",
       "3        CSS           6486.0  \n",
       "4        NaN              NaN  \n",
       "5        NaN              NaN  \n",
       "6        NaN              NaN  \n",
       "7        NaN              NaN  \n",
       "8        NaN              NaN  \n",
       "9        NaN              NaN  "
      ]
     },
     "execution_count": 13,
     "metadata": {},
     "output_type": "execute_result"
    }
   ],
   "source": [
    "# Eliminate feature vectors that will not aid in the prediction of stars\n",
    "guess_stars = df[['watchers', 'stars', 'forks', 'type', 'issues', 'size', \n",
    "                  'open_issues_count', 'num_languages', 'language_1', \n",
    "                  'language_1_size', 'language_2', 'language_2_size', \n",
    "                  'language_3', 'language_3_size']]\n",
    "guess_stars.head(10)"
   ]
  },
  {
   "cell_type": "code",
   "execution_count": 14,
   "metadata": {
    "collapsed": false
   },
   "outputs": [
    {
     "data": {
      "text/plain": [
       "(45243, 14)"
      ]
     },
     "execution_count": 14,
     "metadata": {},
     "output_type": "execute_result"
    }
   ],
   "source": [
    "# Take a random sampling of the dataframe becuase every time I try to run it on the full dataset, \n",
    "# my kernel crashes and then so does my computer  \n",
    "random_sampling = guess_stars.sample(frac=0.33, replace=True)\n",
    "random_sampling.shape"
   ]
  },
  {
   "cell_type": "code",
   "execution_count": 15,
   "metadata": {
    "collapsed": false
   },
   "outputs": [
    {
     "data": {
      "text/html": [
       "<div>\n",
       "<table border=\"1\" class=\"dataframe\">\n",
       "  <thead>\n",
       "    <tr style=\"text-align: right;\">\n",
       "      <th></th>\n",
       "      <th>watchers</th>\n",
       "      <th>stars</th>\n",
       "      <th>forks</th>\n",
       "      <th>type</th>\n",
       "      <th>issues</th>\n",
       "      <th>size</th>\n",
       "      <th>open_issues_count</th>\n",
       "      <th>num_languages</th>\n",
       "      <th>language_1</th>\n",
       "      <th>language_1_size</th>\n",
       "      <th>language_2</th>\n",
       "      <th>language_2_size</th>\n",
       "      <th>language_3</th>\n",
       "      <th>language_3_size</th>\n",
       "    </tr>\n",
       "  </thead>\n",
       "  <tbody>\n",
       "    <tr>\n",
       "      <th>27607</th>\n",
       "      <td>2</td>\n",
       "      <td>1</td>\n",
       "      <td>1</td>\n",
       "      <td>User</td>\n",
       "      <td>0</td>\n",
       "      <td>2175</td>\n",
       "      <td>0</td>\n",
       "      <td>0</td>\n",
       "      <td>JavaScript</td>\n",
       "      <td>0.0</td>\n",
       "      <td>0</td>\n",
       "      <td>0.0</td>\n",
       "      <td>0</td>\n",
       "      <td>0.0</td>\n",
       "    </tr>\n",
       "    <tr>\n",
       "      <th>123074</th>\n",
       "      <td>2</td>\n",
       "      <td>2</td>\n",
       "      <td>0</td>\n",
       "      <td>Organization</td>\n",
       "      <td>0</td>\n",
       "      <td>840</td>\n",
       "      <td>0</td>\n",
       "      <td>2</td>\n",
       "      <td>Ruby</td>\n",
       "      <td>160038.0</td>\n",
       "      <td>JavaScript</td>\n",
       "      <td>9374.0</td>\n",
       "      <td>0</td>\n",
       "      <td>0.0</td>\n",
       "    </tr>\n",
       "    <tr>\n",
       "      <th>118714</th>\n",
       "      <td>1</td>\n",
       "      <td>1</td>\n",
       "      <td>1</td>\n",
       "      <td>User</td>\n",
       "      <td>0</td>\n",
       "      <td>18342</td>\n",
       "      <td>0</td>\n",
       "      <td>0</td>\n",
       "      <td>Java</td>\n",
       "      <td>0.0</td>\n",
       "      <td>0</td>\n",
       "      <td>0.0</td>\n",
       "      <td>0</td>\n",
       "      <td>0.0</td>\n",
       "    </tr>\n",
       "    <tr>\n",
       "      <th>14514</th>\n",
       "      <td>3</td>\n",
       "      <td>2</td>\n",
       "      <td>0</td>\n",
       "      <td>User</td>\n",
       "      <td>0</td>\n",
       "      <td>2478</td>\n",
       "      <td>0</td>\n",
       "      <td>3</td>\n",
       "      <td>Vim script</td>\n",
       "      <td>20687.0</td>\n",
       "      <td>Shell</td>\n",
       "      <td>13656.0</td>\n",
       "      <td>Ruby</td>\n",
       "      <td>117.0</td>\n",
       "    </tr>\n",
       "    <tr>\n",
       "      <th>26208</th>\n",
       "      <td>2</td>\n",
       "      <td>1</td>\n",
       "      <td>0</td>\n",
       "      <td>User</td>\n",
       "      <td>0</td>\n",
       "      <td>296</td>\n",
       "      <td>0</td>\n",
       "      <td>0</td>\n",
       "      <td>0</td>\n",
       "      <td>0.0</td>\n",
       "      <td>0</td>\n",
       "      <td>0.0</td>\n",
       "      <td>0</td>\n",
       "      <td>0.0</td>\n",
       "    </tr>\n",
       "    <tr>\n",
       "      <th>106763</th>\n",
       "      <td>1</td>\n",
       "      <td>1</td>\n",
       "      <td>1</td>\n",
       "      <td>User</td>\n",
       "      <td>0</td>\n",
       "      <td>224</td>\n",
       "      <td>0</td>\n",
       "      <td>0</td>\n",
       "      <td>Haskell</td>\n",
       "      <td>0.0</td>\n",
       "      <td>0</td>\n",
       "      <td>0.0</td>\n",
       "      <td>0</td>\n",
       "      <td>0.0</td>\n",
       "    </tr>\n",
       "    <tr>\n",
       "      <th>18448</th>\n",
       "      <td>5</td>\n",
       "      <td>7</td>\n",
       "      <td>2</td>\n",
       "      <td>User</td>\n",
       "      <td>0</td>\n",
       "      <td>86</td>\n",
       "      <td>0</td>\n",
       "      <td>0</td>\n",
       "      <td>0</td>\n",
       "      <td>0.0</td>\n",
       "      <td>0</td>\n",
       "      <td>0.0</td>\n",
       "      <td>0</td>\n",
       "      <td>0.0</td>\n",
       "    </tr>\n",
       "    <tr>\n",
       "      <th>56152</th>\n",
       "      <td>2</td>\n",
       "      <td>1</td>\n",
       "      <td>1</td>\n",
       "      <td>User</td>\n",
       "      <td>0</td>\n",
       "      <td>179</td>\n",
       "      <td>0</td>\n",
       "      <td>1</td>\n",
       "      <td>PHP</td>\n",
       "      <td>216997.0</td>\n",
       "      <td>0</td>\n",
       "      <td>0.0</td>\n",
       "      <td>0</td>\n",
       "      <td>0.0</td>\n",
       "    </tr>\n",
       "    <tr>\n",
       "      <th>62165</th>\n",
       "      <td>2</td>\n",
       "      <td>1</td>\n",
       "      <td>1</td>\n",
       "      <td>User</td>\n",
       "      <td>0</td>\n",
       "      <td>79</td>\n",
       "      <td>0</td>\n",
       "      <td>1</td>\n",
       "      <td>Ruby</td>\n",
       "      <td>3824.0</td>\n",
       "      <td>0</td>\n",
       "      <td>0.0</td>\n",
       "      <td>0</td>\n",
       "      <td>0.0</td>\n",
       "    </tr>\n",
       "    <tr>\n",
       "      <th>82524</th>\n",
       "      <td>1</td>\n",
       "      <td>2</td>\n",
       "      <td>2</td>\n",
       "      <td>User</td>\n",
       "      <td>0</td>\n",
       "      <td>5486</td>\n",
       "      <td>0</td>\n",
       "      <td>1</td>\n",
       "      <td>Ruby</td>\n",
       "      <td>1269845.0</td>\n",
       "      <td>0</td>\n",
       "      <td>0.0</td>\n",
       "      <td>0</td>\n",
       "      <td>0.0</td>\n",
       "    </tr>\n",
       "  </tbody>\n",
       "</table>\n",
       "</div>"
      ],
      "text/plain": [
       "        watchers  stars  forks          type  issues   size  \\\n",
       "27607          2      1      1          User       0   2175   \n",
       "123074         2      2      0  Organization       0    840   \n",
       "118714         1      1      1          User       0  18342   \n",
       "14514          3      2      0          User       0   2478   \n",
       "26208          2      1      0          User       0    296   \n",
       "106763         1      1      1          User       0    224   \n",
       "18448          5      7      2          User       0     86   \n",
       "56152          2      1      1          User       0    179   \n",
       "62165          2      1      1          User       0     79   \n",
       "82524          1      2      2          User       0   5486   \n",
       "\n",
       "        open_issues_count  num_languages  language_1  language_1_size  \\\n",
       "27607                   0              0  JavaScript              0.0   \n",
       "123074                  0              2        Ruby         160038.0   \n",
       "118714                  0              0        Java              0.0   \n",
       "14514                   0              3  Vim script          20687.0   \n",
       "26208                   0              0           0              0.0   \n",
       "106763                  0              0     Haskell              0.0   \n",
       "18448                   0              0           0              0.0   \n",
       "56152                   0              1         PHP         216997.0   \n",
       "62165                   0              1        Ruby           3824.0   \n",
       "82524                   0              1        Ruby        1269845.0   \n",
       "\n",
       "        language_2  language_2_size language_3  language_3_size  \n",
       "27607            0              0.0          0              0.0  \n",
       "123074  JavaScript           9374.0          0              0.0  \n",
       "118714           0              0.0          0              0.0  \n",
       "14514        Shell          13656.0       Ruby            117.0  \n",
       "26208            0              0.0          0              0.0  \n",
       "106763           0              0.0          0              0.0  \n",
       "18448            0              0.0          0              0.0  \n",
       "56152            0              0.0          0              0.0  \n",
       "62165            0              0.0          0              0.0  \n",
       "82524            0              0.0          0              0.0  "
      ]
     },
     "execution_count": 15,
     "metadata": {},
     "output_type": "execute_result"
    }
   ],
   "source": [
    "random_sampling = random_sampling.replace(np.NaN, 0)\n",
    "random_sampling.head(10)"
   ]
  },
  {
   "cell_type": "code",
   "execution_count": 16,
   "metadata": {
    "collapsed": false
   },
   "outputs": [
    {
     "data": {
      "text/html": [
       "<div>\n",
       "<table border=\"1\" class=\"dataframe\">\n",
       "  <thead>\n",
       "    <tr style=\"text-align: right;\">\n",
       "      <th></th>\n",
       "      <th>watchers</th>\n",
       "      <th>stars</th>\n",
       "      <th>forks</th>\n",
       "      <th>issues</th>\n",
       "      <th>size</th>\n",
       "      <th>open_issues_count</th>\n",
       "      <th>num_languages</th>\n",
       "      <th>language_1_size</th>\n",
       "      <th>language_2_size</th>\n",
       "      <th>language_3_size</th>\n",
       "      <th>...</th>\n",
       "      <th>language_3_Visual Basic</th>\n",
       "      <th>language_3_Vue</th>\n",
       "      <th>language_3_XML</th>\n",
       "      <th>language_3_XProc</th>\n",
       "      <th>language_3_XQuery</th>\n",
       "      <th>language_3_XS</th>\n",
       "      <th>language_3_XSLT</th>\n",
       "      <th>language_3_Yacc</th>\n",
       "      <th>language_3_ooc</th>\n",
       "      <th>language_3_xBase</th>\n",
       "    </tr>\n",
       "  </thead>\n",
       "  <tbody>\n",
       "    <tr>\n",
       "      <th>27607</th>\n",
       "      <td>2</td>\n",
       "      <td>1</td>\n",
       "      <td>1</td>\n",
       "      <td>0</td>\n",
       "      <td>2175</td>\n",
       "      <td>0</td>\n",
       "      <td>0</td>\n",
       "      <td>0.0</td>\n",
       "      <td>0.0</td>\n",
       "      <td>0.0</td>\n",
       "      <td>...</td>\n",
       "      <td>0</td>\n",
       "      <td>0</td>\n",
       "      <td>0</td>\n",
       "      <td>0</td>\n",
       "      <td>0</td>\n",
       "      <td>0</td>\n",
       "      <td>0</td>\n",
       "      <td>0</td>\n",
       "      <td>0</td>\n",
       "      <td>0</td>\n",
       "    </tr>\n",
       "    <tr>\n",
       "      <th>123074</th>\n",
       "      <td>2</td>\n",
       "      <td>2</td>\n",
       "      <td>0</td>\n",
       "      <td>0</td>\n",
       "      <td>840</td>\n",
       "      <td>0</td>\n",
       "      <td>2</td>\n",
       "      <td>160038.0</td>\n",
       "      <td>9374.0</td>\n",
       "      <td>0.0</td>\n",
       "      <td>...</td>\n",
       "      <td>0</td>\n",
       "      <td>0</td>\n",
       "      <td>0</td>\n",
       "      <td>0</td>\n",
       "      <td>0</td>\n",
       "      <td>0</td>\n",
       "      <td>0</td>\n",
       "      <td>0</td>\n",
       "      <td>0</td>\n",
       "      <td>0</td>\n",
       "    </tr>\n",
       "    <tr>\n",
       "      <th>118714</th>\n",
       "      <td>1</td>\n",
       "      <td>1</td>\n",
       "      <td>1</td>\n",
       "      <td>0</td>\n",
       "      <td>18342</td>\n",
       "      <td>0</td>\n",
       "      <td>0</td>\n",
       "      <td>0.0</td>\n",
       "      <td>0.0</td>\n",
       "      <td>0.0</td>\n",
       "      <td>...</td>\n",
       "      <td>0</td>\n",
       "      <td>0</td>\n",
       "      <td>0</td>\n",
       "      <td>0</td>\n",
       "      <td>0</td>\n",
       "      <td>0</td>\n",
       "      <td>0</td>\n",
       "      <td>0</td>\n",
       "      <td>0</td>\n",
       "      <td>0</td>\n",
       "    </tr>\n",
       "  </tbody>\n",
       "</table>\n",
       "<p>3 rows × 354 columns</p>\n",
       "</div>"
      ],
      "text/plain": [
       "        watchers  stars  forks  issues   size  open_issues_count  \\\n",
       "27607          2      1      1       0   2175                  0   \n",
       "123074         2      2      0       0    840                  0   \n",
       "118714         1      1      1       0  18342                  0   \n",
       "\n",
       "        num_languages  language_1_size  language_2_size  language_3_size  \\\n",
       "27607               0              0.0              0.0              0.0   \n",
       "123074              2         160038.0           9374.0              0.0   \n",
       "118714              0              0.0              0.0              0.0   \n",
       "\n",
       "              ...         language_3_Visual Basic  language_3_Vue  \\\n",
       "27607         ...                               0               0   \n",
       "123074        ...                               0               0   \n",
       "118714        ...                               0               0   \n",
       "\n",
       "        language_3_XML  language_3_XProc  language_3_XQuery  language_3_XS  \\\n",
       "27607                0                 0                  0              0   \n",
       "123074               0                 0                  0              0   \n",
       "118714               0                 0                  0              0   \n",
       "\n",
       "        language_3_XSLT  language_3_Yacc  language_3_ooc  language_3_xBase  \n",
       "27607                 0                0               0                 0  \n",
       "123074                0                0               0                 0  \n",
       "118714                0                0               0                 0  \n",
       "\n",
       "[3 rows x 354 columns]"
      ]
     },
     "execution_count": 16,
     "metadata": {},
     "output_type": "execute_result"
    }
   ],
   "source": [
    "# Retrieve dummies\n",
    "to_dummy = ['type', 'language_1', 'language_2', 'language_3']\n",
    "df_dummies = pd.get_dummies(data=random_sampling, columns=to_dummy)\n",
    "df_dummies.head(3)"
   ]
  },
  {
   "cell_type": "code",
   "execution_count": 17,
   "metadata": {
    "collapsed": false
   },
   "outputs": [
    {
     "data": {
      "text/plain": [
       "(45243, 14)"
      ]
     },
     "execution_count": 17,
     "metadata": {},
     "output_type": "execute_result"
    }
   ],
   "source": [
    "random_sampling.shape"
   ]
  },
  {
   "cell_type": "code",
   "execution_count": 18,
   "metadata": {
    "collapsed": false
   },
   "outputs": [
    {
     "data": {
      "text/html": [
       "<div>\n",
       "<table border=\"1\" class=\"dataframe\">\n",
       "  <thead>\n",
       "    <tr style=\"text-align: right;\">\n",
       "      <th></th>\n",
       "      <th>watchers</th>\n",
       "      <th>forks</th>\n",
       "      <th>issues</th>\n",
       "      <th>size</th>\n",
       "      <th>open_issues_count</th>\n",
       "      <th>num_languages</th>\n",
       "      <th>language_1_size</th>\n",
       "      <th>language_2_size</th>\n",
       "      <th>language_3_size</th>\n",
       "      <th>type_Organization</th>\n",
       "      <th>...</th>\n",
       "      <th>language_3_Visual Basic</th>\n",
       "      <th>language_3_Vue</th>\n",
       "      <th>language_3_XML</th>\n",
       "      <th>language_3_XProc</th>\n",
       "      <th>language_3_XQuery</th>\n",
       "      <th>language_3_XS</th>\n",
       "      <th>language_3_XSLT</th>\n",
       "      <th>language_3_Yacc</th>\n",
       "      <th>language_3_ooc</th>\n",
       "      <th>language_3_xBase</th>\n",
       "    </tr>\n",
       "  </thead>\n",
       "  <tbody>\n",
       "    <tr>\n",
       "      <th>27607</th>\n",
       "      <td>2</td>\n",
       "      <td>1</td>\n",
       "      <td>0</td>\n",
       "      <td>2175</td>\n",
       "      <td>0</td>\n",
       "      <td>0</td>\n",
       "      <td>0.0</td>\n",
       "      <td>0.0</td>\n",
       "      <td>0.0</td>\n",
       "      <td>0</td>\n",
       "      <td>...</td>\n",
       "      <td>0</td>\n",
       "      <td>0</td>\n",
       "      <td>0</td>\n",
       "      <td>0</td>\n",
       "      <td>0</td>\n",
       "      <td>0</td>\n",
       "      <td>0</td>\n",
       "      <td>0</td>\n",
       "      <td>0</td>\n",
       "      <td>0</td>\n",
       "    </tr>\n",
       "    <tr>\n",
       "      <th>123074</th>\n",
       "      <td>2</td>\n",
       "      <td>0</td>\n",
       "      <td>0</td>\n",
       "      <td>840</td>\n",
       "      <td>0</td>\n",
       "      <td>2</td>\n",
       "      <td>160038.0</td>\n",
       "      <td>9374.0</td>\n",
       "      <td>0.0</td>\n",
       "      <td>1</td>\n",
       "      <td>...</td>\n",
       "      <td>0</td>\n",
       "      <td>0</td>\n",
       "      <td>0</td>\n",
       "      <td>0</td>\n",
       "      <td>0</td>\n",
       "      <td>0</td>\n",
       "      <td>0</td>\n",
       "      <td>0</td>\n",
       "      <td>0</td>\n",
       "      <td>0</td>\n",
       "    </tr>\n",
       "    <tr>\n",
       "      <th>118714</th>\n",
       "      <td>1</td>\n",
       "      <td>1</td>\n",
       "      <td>0</td>\n",
       "      <td>18342</td>\n",
       "      <td>0</td>\n",
       "      <td>0</td>\n",
       "      <td>0.0</td>\n",
       "      <td>0.0</td>\n",
       "      <td>0.0</td>\n",
       "      <td>0</td>\n",
       "      <td>...</td>\n",
       "      <td>0</td>\n",
       "      <td>0</td>\n",
       "      <td>0</td>\n",
       "      <td>0</td>\n",
       "      <td>0</td>\n",
       "      <td>0</td>\n",
       "      <td>0</td>\n",
       "      <td>0</td>\n",
       "      <td>0</td>\n",
       "      <td>0</td>\n",
       "    </tr>\n",
       "    <tr>\n",
       "      <th>14514</th>\n",
       "      <td>3</td>\n",
       "      <td>0</td>\n",
       "      <td>0</td>\n",
       "      <td>2478</td>\n",
       "      <td>0</td>\n",
       "      <td>3</td>\n",
       "      <td>20687.0</td>\n",
       "      <td>13656.0</td>\n",
       "      <td>117.0</td>\n",
       "      <td>0</td>\n",
       "      <td>...</td>\n",
       "      <td>0</td>\n",
       "      <td>0</td>\n",
       "      <td>0</td>\n",
       "      <td>0</td>\n",
       "      <td>0</td>\n",
       "      <td>0</td>\n",
       "      <td>0</td>\n",
       "      <td>0</td>\n",
       "      <td>0</td>\n",
       "      <td>0</td>\n",
       "    </tr>\n",
       "    <tr>\n",
       "      <th>26208</th>\n",
       "      <td>2</td>\n",
       "      <td>0</td>\n",
       "      <td>0</td>\n",
       "      <td>296</td>\n",
       "      <td>0</td>\n",
       "      <td>0</td>\n",
       "      <td>0.0</td>\n",
       "      <td>0.0</td>\n",
       "      <td>0.0</td>\n",
       "      <td>0</td>\n",
       "      <td>...</td>\n",
       "      <td>0</td>\n",
       "      <td>0</td>\n",
       "      <td>0</td>\n",
       "      <td>0</td>\n",
       "      <td>0</td>\n",
       "      <td>0</td>\n",
       "      <td>0</td>\n",
       "      <td>0</td>\n",
       "      <td>0</td>\n",
       "      <td>0</td>\n",
       "    </tr>\n",
       "  </tbody>\n",
       "</table>\n",
       "<p>5 rows × 353 columns</p>\n",
       "</div>"
      ],
      "text/plain": [
       "        watchers  forks  issues   size  open_issues_count  num_languages  \\\n",
       "27607          2      1       0   2175                  0              0   \n",
       "123074         2      0       0    840                  0              2   \n",
       "118714         1      1       0  18342                  0              0   \n",
       "14514          3      0       0   2478                  0              3   \n",
       "26208          2      0       0    296                  0              0   \n",
       "\n",
       "        language_1_size  language_2_size  language_3_size  type_Organization  \\\n",
       "27607               0.0              0.0              0.0                  0   \n",
       "123074         160038.0           9374.0              0.0                  1   \n",
       "118714              0.0              0.0              0.0                  0   \n",
       "14514           20687.0          13656.0            117.0                  0   \n",
       "26208               0.0              0.0              0.0                  0   \n",
       "\n",
       "              ...         language_3_Visual Basic  language_3_Vue  \\\n",
       "27607         ...                               0               0   \n",
       "123074        ...                               0               0   \n",
       "118714        ...                               0               0   \n",
       "14514         ...                               0               0   \n",
       "26208         ...                               0               0   \n",
       "\n",
       "        language_3_XML  language_3_XProc  language_3_XQuery  language_3_XS  \\\n",
       "27607                0                 0                  0              0   \n",
       "123074               0                 0                  0              0   \n",
       "118714               0                 0                  0              0   \n",
       "14514                0                 0                  0              0   \n",
       "26208                0                 0                  0              0   \n",
       "\n",
       "        language_3_XSLT  language_3_Yacc  language_3_ooc  language_3_xBase  \n",
       "27607                 0                0               0                 0  \n",
       "123074                0                0               0                 0  \n",
       "118714                0                0               0                 0  \n",
       "14514                 0                0               0                 0  \n",
       "26208                 0                0               0                 0  \n",
       "\n",
       "[5 rows x 353 columns]"
      ]
     },
     "execution_count": 18,
     "metadata": {},
     "output_type": "execute_result"
    }
   ],
   "source": [
    "estimate_stars_sample = df_dummies.drop(['stars'], 1)\n",
    "estimate_stars_sample.head(5)"
   ]
  },
  {
   "cell_type": "code",
   "execution_count": 19,
   "metadata": {
    "collapsed": false
   },
   "outputs": [
    {
     "data": {
      "text/html": [
       "<div>\n",
       "<table border=\"1\" class=\"dataframe\">\n",
       "  <thead>\n",
       "    <tr style=\"text-align: right;\">\n",
       "      <th></th>\n",
       "      <th>stars</th>\n",
       "    </tr>\n",
       "  </thead>\n",
       "  <tbody>\n",
       "    <tr>\n",
       "      <th>27607</th>\n",
       "      <td>1</td>\n",
       "    </tr>\n",
       "    <tr>\n",
       "      <th>123074</th>\n",
       "      <td>2</td>\n",
       "    </tr>\n",
       "    <tr>\n",
       "      <th>118714</th>\n",
       "      <td>1</td>\n",
       "    </tr>\n",
       "    <tr>\n",
       "      <th>14514</th>\n",
       "      <td>2</td>\n",
       "    </tr>\n",
       "    <tr>\n",
       "      <th>26208</th>\n",
       "      <td>1</td>\n",
       "    </tr>\n",
       "  </tbody>\n",
       "</table>\n",
       "</div>"
      ],
      "text/plain": [
       "        stars\n",
       "27607       1\n",
       "123074      2\n",
       "118714      1\n",
       "14514       2\n",
       "26208       1"
      ]
     },
     "execution_count": 19,
     "metadata": {},
     "output_type": "execute_result"
    }
   ],
   "source": [
    "stars_sample = pd.DataFrame(df_dummies['stars'], columns=['stars'])\n",
    "stars_sample.head(5)"
   ]
  },
  {
   "cell_type": "code",
   "execution_count": 20,
   "metadata": {
    "collapsed": false
   },
   "outputs": [
    {
     "name": "stdout",
     "output_type": "stream",
     "text": [
      "stars    55540\n",
      "dtype: int64\n",
      "stars    0\n",
      "dtype: int64\n",
      "46378                       sonian/sweat_shop\n",
      "46380                      sonian/is_paranoid\n",
      "66892    ubik86/rspec-haml-scaffold-generator\n",
      "Name: name, dtype: object\n"
     ]
    }
   ],
   "source": [
    "print(stars_sample.max())\n",
    "print(stars_sample.min())\n",
    "print(df.loc[df['stars'] < 0].name) "
   ]
  },
  {
   "cell_type": "markdown",
   "metadata": {},
   "source": [
    "You'll notice that it claims that some of these repositories have negative stars, which we previously believed to be impossible. However, besides `sweat_shop` (where I clicked the star and moved the value from -2 to 1, unstarred and it returned to 0), you can see that the stars truly are in the negatives."
   ]
  },
  {
   "cell_type": "markdown",
   "metadata": {},
   "source": [
    "## Visualizations "
   ]
  },
  {
   "cell_type": "code",
   "execution_count": 21,
   "metadata": {
    "collapsed": false
   },
   "outputs": [],
   "source": [
    "# Create histogram bins\n",
    "\n",
    "def histogram(data, bins, max_stars, start):\n",
    "    d = []\n",
    "    for i in range(start, math.ceil(max_stars / bins)):\n",
    "        min_stars = i * bins\n",
    "        max_stars = (i + 1) * bins\n",
    "        m = {}\n",
    "        m['Bin'] = \"%d-%d\" % (min_stars, max_stars)\n",
    "        m['Values'] = len(data.loc[(data.stars >= min_stars) & (data.stars < max_stars)])\n",
    "        d.append(m)\n",
    "    return d"
   ]
  },
  {
   "cell_type": "code",
   "execution_count": 22,
   "metadata": {
    "collapsed": false
   },
   "outputs": [
    {
     "ename": "AttributeError",
     "evalue": "'AxesSubplot' object has no attribute 'show'",
     "output_type": "error",
     "traceback": [
      "\u001b[0;31m---------------------------------------------------------------------------\u001b[0m",
      "\u001b[0;31mAttributeError\u001b[0m                            Traceback (most recent call last)",
      "\u001b[0;32m<ipython-input-22-a3a6cfec785a>\u001b[0m in \u001b[0;36m<module>\u001b[0;34m()\u001b[0m\n\u001b[1;32m     15\u001b[0m     \u001b[0max\u001b[0m\u001b[0;34m.\u001b[0m\u001b[0mtext\u001b[0m\u001b[0;34m(\u001b[0m\u001b[0mrect\u001b[0m\u001b[0;34m.\u001b[0m\u001b[0mget_x\u001b[0m\u001b[0;34m(\u001b[0m\u001b[0;34m)\u001b[0m \u001b[0;34m+\u001b[0m \u001b[0mrect\u001b[0m\u001b[0;34m.\u001b[0m\u001b[0mget_width\u001b[0m\u001b[0;34m(\u001b[0m\u001b[0;34m)\u001b[0m\u001b[0;34m/\u001b[0m\u001b[0;36m2\u001b[0m\u001b[0;34m,\u001b[0m \u001b[0mheight\u001b[0m \u001b[0;34m+\u001b[0m \u001b[0;36m5\u001b[0m\u001b[0;34m,\u001b[0m \u001b[0mlabel\u001b[0m\u001b[0;34m,\u001b[0m \u001b[0mha\u001b[0m\u001b[0;34m=\u001b[0m\u001b[0;34m'center'\u001b[0m\u001b[0;34m,\u001b[0m \u001b[0mva\u001b[0m\u001b[0;34m=\u001b[0m\u001b[0;34m'bottom'\u001b[0m\u001b[0;34m)\u001b[0m\u001b[0;34m\u001b[0m\u001b[0m\n\u001b[1;32m     16\u001b[0m \u001b[0;34m\u001b[0m\u001b[0m\n\u001b[0;32m---> 17\u001b[0;31m \u001b[0mplt\u001b[0m\u001b[0;34m.\u001b[0m\u001b[0mshow\u001b[0m\u001b[0;34m(\u001b[0m\u001b[0;34m)\u001b[0m\u001b[0;34m\u001b[0m\u001b[0m\n\u001b[0m",
      "\u001b[0;31mAttributeError\u001b[0m: 'AxesSubplot' object has no attribute 'show'"
     ]
    },
    {
     "data": {
      "image/png": "iVBORw0KGgoAAAANSUhEUgAAAf0AAAFxCAYAAAB5vnErAAAABHNCSVQICAgIfAhkiAAAAAlwSFlz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\nTn/xvVa3lAAAAABJRU5ErkJggg==\n",
      "text/plain": [
       "<matplotlib.figure.Figure at 0x7fef64026978>"
      ]
     },
     "metadata": {},
     "output_type": "display_data"
    }
   ],
   "source": [
    "d = histogram(stars_sample, 1, 10, 0)\n",
    "stars_hist = pd.DataFrame(d)\n",
    "ax = stars_hist.plot(x='Bin', y='Values', kind='bar')\n",
    "ax.set_title(\"Repository Stars Histogram\")\n",
    "ax.set_xlabel(\"Stars\")\n",
    "ax.set_ylabel(\"Frequency\")\n",
    "\n",
    "# Now make some labels\n",
    "labels = stars_hist.Values\n",
    "\n",
    "rects = ax.patches\n",
    "\n",
    "for rect, label in zip(rects, labels):\n",
    "    height = rect.get_height()\n",
    "    ax.text(rect.get_x() + rect.get_width()/2, height + 5, label, ha='center', va='bottom')\n",
    "\n",
    "plt.show()"
   ]
  },
  {
   "cell_type": "code",
   "execution_count": null,
   "metadata": {
    "collapsed": false
   },
   "outputs": [],
   "source": [
    "d = histogram(stars_sample, bins=10, max_stars=100, start=1)\n",
    "stars_hist = pd.DataFrame(d)\n",
    "ax = stars_hist.plot(x='Bin', y='Values', kind='bar')\n",
    "ax.set_title(\"Repository Stars Histogram\")\n",
    "ax.set_xlabel(\"Stars\")\n",
    "ax.set_ylabel(\"Frequency\")\n",
    "\n",
    "# Now make some labels\n",
    "labels = stars_hist.Values\n",
    "\n",
    "rects = ax.patches\n",
    "\n",
    "for rect, label in zip(rects, labels):\n",
    "    height = rect.get_height()\n",
    "    ax.text(rect.get_x() + rect.get_width()/2, height + 5, label, ha='center', va='bottom')\n",
    "\n",
    "plt.savefig('hist_1000.png')"
   ]
  },
  {
   "cell_type": "code",
   "execution_count": 23,
   "metadata": {
    "collapsed": false
   },
   "outputs": [
    {
     "ename": "AttributeError",
     "evalue": "'AxesSubplot' object has no attribute 'savefig'",
     "output_type": "error",
     "traceback": [
      "\u001b[0;31m---------------------------------------------------------------------------\u001b[0m",
      "\u001b[0;31mAttributeError\u001b[0m                            Traceback (most recent call last)",
      "\u001b[0;32m<ipython-input-23-b383672584c6>\u001b[0m in \u001b[0;36m<module>\u001b[0;34m()\u001b[0m\n\u001b[1;32m     15\u001b[0m     \u001b[0max\u001b[0m\u001b[0;34m.\u001b[0m\u001b[0mtext\u001b[0m\u001b[0;34m(\u001b[0m\u001b[0mrect\u001b[0m\u001b[0;34m.\u001b[0m\u001b[0mget_x\u001b[0m\u001b[0;34m(\u001b[0m\u001b[0;34m)\u001b[0m \u001b[0;34m+\u001b[0m \u001b[0mrect\u001b[0m\u001b[0;34m.\u001b[0m\u001b[0mget_width\u001b[0m\u001b[0;34m(\u001b[0m\u001b[0;34m)\u001b[0m\u001b[0;34m/\u001b[0m\u001b[0;36m2\u001b[0m\u001b[0;34m,\u001b[0m \u001b[0mheight\u001b[0m \u001b[0;34m+\u001b[0m \u001b[0;36m5\u001b[0m\u001b[0;34m,\u001b[0m \u001b[0mlabel\u001b[0m\u001b[0;34m,\u001b[0m \u001b[0mha\u001b[0m\u001b[0;34m=\u001b[0m\u001b[0;34m'center'\u001b[0m\u001b[0;34m,\u001b[0m \u001b[0mva\u001b[0m\u001b[0;34m=\u001b[0m\u001b[0;34m'bottom'\u001b[0m\u001b[0;34m)\u001b[0m\u001b[0;34m\u001b[0m\u001b[0m\n\u001b[1;32m     16\u001b[0m \u001b[0;34m\u001b[0m\u001b[0m\n\u001b[0;32m---> 17\u001b[0;31m \u001b[0mplt\u001b[0m\u001b[0;34m.\u001b[0m\u001b[0msavefig\u001b[0m\u001b[0;34m(\u001b[0m\u001b[0;34m'hist_3000.png'\u001b[0m\u001b[0;34m)\u001b[0m\u001b[0;34m\u001b[0m\u001b[0m\n\u001b[0m",
      "\u001b[0;31mAttributeError\u001b[0m: 'AxesSubplot' object has no attribute 'savefig'"
     ]
    },
    {
     "data": {
      "image/png": "iVBORw0KGgoAAAANSUhEUgAAAfIAAAGNCAYAAADq5fPEAAAABHNCSVQICAgIfAhkiAAAAAlwSFlz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\ncgaDwWAw1Bh2IWcwGAwGQ435Pxw3uxRJPDTKAAAAAElFTkSuQmCC\n",
      "text/plain": [
       "<matplotlib.figure.Figure at 0x7fef640b9c18>"
      ]
     },
     "metadata": {},
     "output_type": "display_data"
    }
   ],
   "source": [
    "d = histogram(stars_sample, bins=100, max_stars=3000, start=1)\n",
    "stars_hist = pd.DataFrame(d)\n",
    "ax = stars_hist.plot(x='Bin', y='Values', kind='bar')\n",
    "ax.set_title(\"Repository Stars Histogram\")\n",
    "ax.set_xlabel(\"Stars\")\n",
    "ax.set_ylabel(\"Frequency\")\n",
    "\n",
    "# Now make some labels\n",
    "labels = stars_hist.Values\n",
    "\n",
    "rects = ax.patches\n",
    "\n",
    "for rect, label in zip(rects, labels):\n",
    "    height = rect.get_height()\n",
    "    ax.text(rect.get_x() + rect.get_width()/2, height + 5, label, ha='center', va='bottom')\n",
    "    \n",
    "plt.savefig('hist_3000.png')"
   ]
  },
  {
   "cell_type": "markdown",
   "metadata": {},
   "source": [
    "Above are the graphs representing the repositories that have 0-3000 stars. Graphs are broken down into different ranges for ease of viewing. "
   ]
  },
  {
   "cell_type": "code",
   "execution_count": 24,
   "metadata": {
    "collapsed": false
   },
   "outputs": [
    {
     "name": "stdout",
     "output_type": "stream",
     "text": [
      "Stars Description:\n",
      " count    45243.000000\n",
      "mean        22.581106\n",
      "std        442.739569\n",
      "min          0.000000\n",
      "25%          1.000000\n",
      "50%          2.000000\n",
      "75%          3.000000\n",
      "max      55540.000000\n",
      "Name: stars, dtype: float64\n"
     ]
    }
   ],
   "source": [
    "print(\"Stars Description:\\n\", stars_sample['stars'].describe())"
   ]
  },
  {
   "cell_type": "markdown",
   "metadata": {},
   "source": [
    "# RELOAD SAMPLE SET HERE FOR CONSISTENCY"
   ]
  },
  {
   "cell_type": "code",
   "execution_count": 25,
   "metadata": {
    "collapsed": false
   },
   "outputs": [],
   "source": [
    "# Save current stars_sample \n",
    "random_sampling.to_csv('random_sampling.csv')"
   ]
  },
  {
   "cell_type": "code",
<<<<<<< HEAD
   "execution_count": 30,
=======
   "execution_count": 4,
>>>>>>> 318d6753bb545f4de90ba3459fd6d78dd0eb8c11
   "metadata": {
    "collapsed": false
   },
   "outputs": [
    {
     "name": "stdout",
     "output_type": "stream",
     "text": [
      "45243\n"
     ]
    }
   ],
   "source": [
    "# Load current random_sampling if doesn't exist\n",
    "try:\n",
    "    print(len(random_sampling))\n",
    "except:\n",
    "    random_sampling = pd.read_csv('random_sampling.csv')"
   ]
  },
  {
   "cell_type": "code",
<<<<<<< HEAD
   "execution_count": 26,
   "metadata": {
    "collapsed": true
   },
   "outputs": [],
   "source": [
    "# Get a subset of the columns\n",
    "guess_primary_language = df[['watchers', 'stars', 'forks', 'type', 'issues', 'size', \n",
    "                  'open_issues_count', 'num_languages', 'language_1']]"
   ]
  },
  {
   "cell_type": "code",
   "execution_count": 27,
   "metadata": {
    "collapsed": true
   },
   "outputs": [],
   "source": [
    "# Eliminate the NaN\n",
    "guess_primary_language_no_na = guess_primary_language.dropna(axis=0)"
   ]
  },
  {
   "cell_type": "code",
   "execution_count": 28,
   "metadata": {
    "collapsed": false
   },
   "outputs": [],
   "source": [
    "# Unique values of the languages\n",
    "langs = {}\n",
    "for i, lang in enumerate(guess_primary_language_no_na.language_1.unique()):\n",
    "    langs[lang] = i"
   ]
  },
  {
   "cell_type": "code",
   "execution_count": 29,
   "metadata": {
    "collapsed": true
   },
   "outputs": [],
   "source": [
    "# Retrieve dummies\n",
    "df_dummies_lang = pd.get_dummies(data=guess_primary_language_no_na, columns=['type'])"
   ]
  },
  {
   "cell_type": "code",
   "execution_count": 30,
   "metadata": {
    "collapsed": false
   },
   "outputs": [],
   "source": [
    "# Substitue int for language\n",
    "df_dummies_lang['language_1_value'] = df_dummies_lang.language_1.map(langs)"
   ]
  },
  {
   "cell_type": "code",
   "execution_count": 33,
   "metadata": {
    "collapsed": false
   },
   "outputs": [],
   "source": [
    "mine = df_dummies_lang.drop(['language_1'], 1)"
   ]
  },
  {
   "cell_type": "code",
   "execution_count": null,
   "metadata": {
    "collapsed": false
   },
   "outputs": [],
=======
   "execution_count": 1,
   "metadata": {
    "collapsed": false
   },
   "outputs": [
    {
     "ename": "NameError",
     "evalue": "name 'df_dummies_lang' is not defined",
     "output_type": "error",
     "traceback": [
      "\u001b[0;31m---------------------------------------------------------------------------\u001b[0m",
      "\u001b[0;31mNameError\u001b[0m                                 Traceback (most recent call last)",
      "\u001b[0;32m<ipython-input-1-ff27c6190e94>\u001b[0m in \u001b[0;36m<module>\u001b[0;34m()\u001b[0m\n\u001b[1;32m      1\u001b[0m \u001b[0;31m# df_dummies[:10]\u001b[0m\u001b[0;34m\u001b[0m\u001b[0;34m\u001b[0m\u001b[0m\n\u001b[0;32m----> 2\u001b[0;31m \u001b[0mmine\u001b[0m \u001b[0;34m=\u001b[0m \u001b[0mdf_dummies_lang\u001b[0m\u001b[0;34m.\u001b[0m\u001b[0mdrop\u001b[0m\u001b[0;34m(\u001b[0m\u001b[0;34m[\u001b[0m\u001b[0;34m'language_1'\u001b[0m\u001b[0;34m]\u001b[0m\u001b[0;34m,\u001b[0m \u001b[0;36m1\u001b[0m\u001b[0;34m)\u001b[0m\u001b[0;34m\u001b[0m\u001b[0m\n\u001b[0m\u001b[1;32m      3\u001b[0m \u001b[0mmine\u001b[0m\u001b[0;34m.\u001b[0m\u001b[0mhead\u001b[0m\u001b[0;34m(\u001b[0m\u001b[0;34m)\u001b[0m\u001b[0;34m\u001b[0m\u001b[0m\n\u001b[1;32m      4\u001b[0m \u001b[0mget_ipython\u001b[0m\u001b[0;34m(\u001b[0m\u001b[0;34m)\u001b[0m\u001b[0;34m.\u001b[0m\u001b[0mmagic\u001b[0m\u001b[0;34m(\u001b[0m\u001b[0;34mu'time'\u001b[0m\u001b[0;34m)\u001b[0m\u001b[0;34m\u001b[0m\u001b[0m\n\u001b[1;32m      5\u001b[0m \u001b[0mu\u001b[0m\u001b[0;34m,\u001b[0m \u001b[0ms\u001b[0m\u001b[0;34m,\u001b[0m \u001b[0mvt\u001b[0m \u001b[0;34m=\u001b[0m \u001b[0mnp\u001b[0m\u001b[0;34m.\u001b[0m\u001b[0mlinalg\u001b[0m\u001b[0;34m.\u001b[0m\u001b[0msvd\u001b[0m\u001b[0;34m(\u001b[0m\u001b[0mmine\u001b[0m\u001b[0;34m)\u001b[0m\u001b[0;34m\u001b[0m\u001b[0m\n",
      "\u001b[0;31mNameError\u001b[0m: name 'df_dummies_lang' is not defined"
     ]
    }
   ],
>>>>>>> 318d6753bb545f4de90ba3459fd6d78dd0eb8c11
   "source": [
    "start = time.time()\n",
    "u, s, vt = np.linalg.svd(mine[:10000])\n",
    "print(\"------ Took %f seconds ------\" % (time.time() - start))"
   ]
  },
  {
   "cell_type": "code",
   "execution_count": 45,
   "metadata": {
    "collapsed": false
   },
   "outputs": [
    {
     "name": "stdout",
     "output_type": "stream",
     "text": [
      "------ Took 29.938302 seconds ------\n"
     ]
    },
    {
     "data": {
      "image/png": "iVBORw0KGgoAAAANSUhEUgAAA3gAAAN4CAYAAACRbkpOAAAABHNCSVQICAgIfAhkiAAAAAlwSFlz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\n",
      "text/plain": [
       "<matplotlib.figure.Figure at 0x7f5a8492ce10>"
      ]
     },
     "metadata": {},
     "output_type": "display_data"
    }
   ],
   "source": [
    "start = time.time()\n",
    "k = 5\n",
    "Xk = u[:,:k] @ np.diag(s[:k])\n",
    "X_df = pd.DataFrame(Xk)\n",
    "g = sns.PairGrid(X_df)\n",
    "def pltColor(x,y,label,color):\n",
    "    cmap = sns.hls_palette(n_colors=len(langs), h=0.35, l=0.4, s=0.9)\n",
    "    for i in range(len(langs)):\n",
    "        point_indices = np.where(mine.language_1_value == i)[0]\n",
    "        point_indices = point_indices.tolist()\n",
    "        plt.scatter(x[point_indices], y[point_indices], c=cmap[i])\n",
    "    sns.despine()\n",
    "g.map(pltColor)\n",
    "print(\"------ Took %f seconds ------\" % (time.time() - start))"
   ]
  },
  {
   "cell_type": "markdown",
   "metadata": {},
   "source": [
    "# SVM"
   ]
  },
  {
   "cell_type": "code",
   "execution_count": 48,
   "metadata": {
    "collapsed": false
   },
   "outputs": [
    {
     "name": "stdout",
     "output_type": "stream",
     "text": [
      "Accuracy of SVM test set: 0.9415\n",
      "------ Took 202.132297 seconds ------\n"
     ]
    }
   ],
   "source": [
    "start = time.time()\n",
    "X_train, X_test, y_train, y_test = train_test_split(mine[:10000], df_dummies_lang.language_1[:10000], test_size=0.4, random_state=0)\n",
    "svc = svm.SVC(kernel='rbf', C=10**9, gamma=10**-8)\n",
    "svc.fit(X_train, y_train)\n",
    "y_pred_test = svc.predict(X_test)\n",
    "print(\"Accuracy of SVM test set:\", svc.score(X_test, y_test))\n",
    "print(\"------ Took %f seconds ------\" % (time.time() - start))"
   ]
  },
  {
   "cell_type": "code",
   "execution_count": 49,
   "metadata": {
    "collapsed": true
   },
   "outputs": [],
   "source": [
    "y_pred_test = svc.predict(mine)"
   ]
  },
  {
   "cell_type": "code",
   "execution_count": 50,
   "metadata": {
    "collapsed": false
   },
   "outputs": [
    {
     "name": "stdout",
     "output_type": "stream",
     "text": [
      "0.902095077376\n"
     ]
    }
   ],
   "source": [
    "print(svc.score(mine, df_dummies_lang.language_1))"
   ]
  },
  {
   "cell_type": "markdown",
   "metadata": {},
   "source": [
    "## K-Nearest Neighbors"
   ]
  },
  {
   "cell_type": "code",
   "execution_count": 141,
   "metadata": {
    "collapsed": true
   },
   "outputs": [],
   "source": [
    "X_train, X_test, y_train, y_test = train_test_split(estimate_stars_sample, stars_sample, test_size=0.4, random_state=0)"
   ]
  },
  {
   "cell_type": "code",
   "execution_count": 174,
   "metadata": {
    "collapsed": false
   },
   "outputs": [
    {
     "name": "stdout",
     "output_type": "stream",
     "text": [
      "stars    55540\n",
      "dtype: int64\n",
      "stars    0\n",
      "dtype: int64\n"
     ]
    }
   ],
   "source": [
    "print(stars_sample.max())\n",
    "print(stars_sample.min())"
   ]
  },
  {
   "cell_type": "code",
   "execution_count": 144,
   "metadata": {
    "collapsed": false
   },
   "outputs": [
    {
     "name": "stdout",
     "output_type": "stream",
     "text": [
      "KNN test accuracy on prediction >50K, k = 15, acc = 0.4398276052602498: \n",
      "KNN test accuracy on prediction >50K, k = 16, acc = 0.4398276052602498: \n",
      "KNN test accuracy on prediction >50K, k = 17, acc = 0.4397170958116919: \n",
      "KNN test accuracy on prediction >50K, k = 18, acc = 0.44004862415736545: \n",
      "KNN test accuracy on prediction >50K, k = 19, acc = 0.4409879544701072: \n",
      "KNN test accuracy on prediction >50K, k = 20, acc = 0.442645596198475: \n",
      "KNN test accuracy on prediction >50K, k = 21, acc = 0.44347441706265883: \n",
      "KNN test accuracy on prediction >50K, k = 22, acc = 0.4435849265112167: \n",
      "KNN test accuracy on prediction >50K, k = 23, acc = 0.44347441706265883: \n",
      "KNN test accuracy on prediction >50K, k = 24, acc = 0.4449662946181899: \n",
      "KNN test accuracy on prediction >50K, k = 25, acc = 0.4473975024864626: \n",
      "KNN test accuracy on prediction >50K, k = 26, acc = 0.4490551442148304: \n",
      "KNN test accuracy on prediction >50K, k = 27, acc = 0.4491103989391093: \n",
      "KNN test accuracy on prediction >50K, k = 28, acc = 0.44833683279920433: \n",
      "KNN test accuracy on prediction >50K, k = 29, acc = 0.4487236158691568: \n",
      "KNN test accuracy on prediction >50K, k = 30, acc = 0.4486683611448779: \n",
      "KNN test accuracy on prediction >50K, k = 31, acc = 0.449331417836225: \n",
      "KNN test accuracy on prediction >50K, k = 32, acc = 0.45004972925185105: \n",
      "KNN test accuracy on prediction >50K, k = 33, acc = 0.4498287103547353: \n",
      "KNN test accuracy on prediction >50K, k = 34, acc = 0.45093380484031387: \n",
      "KNN test accuracy on prediction >50K, k = 35, acc = 0.45237042767156593: \n",
      "KNN test accuracy on prediction >50K, k = 36, acc = 0.45203889932589236: \n",
      "KNN test accuracy on prediction >50K, k = 37, acc = 0.4509890595645928: \n",
      "KNN test accuracy on prediction >50K, k = 38, acc = 0.4509890595645928: \n",
      "KNN test accuracy on prediction >50K, k = 39, acc = 0.4517073709802188: \n",
      "KNN test accuracy on prediction >50K, k = 40, acc = 0.45154160680738203: \n",
      "KNN test accuracy on prediction >50K, k = 41, acc = 0.4514310973588242: \n",
      "KNN test accuracy on prediction >50K, k = 42, acc = 0.4512653331859874: \n",
      "KNN test accuracy on prediction >50K, k = 43, acc = 0.4518178804287767: \n",
      "KNN test accuracy on prediction >50K, k = 44, acc = 0.4522046634987291: \n",
      "KNN test accuracy on prediction >50K, k = 45, acc = 0.453033484362913: \n",
      "KNN test accuracy on prediction >50K, k = 46, acc = 0.453033484362913: \n",
      "KNN test accuracy on prediction >50K, k = 47, acc = 0.4537517957785391: \n",
      "KNN test accuracy on prediction >50K, k = 48, acc = 0.45308873908719194: \n",
      "KNN test accuracy on prediction >50K, k = 49, acc = 0.45242568239584485: \n"
     ]
    }
   ],
   "source": [
    "acc = []\n",
    "for k in range(15,50):\n",
    "    knn_digits = KNeighborsClassifier(n_neighbors=k)\n",
    "    knn_digits.fit(X_train, pd.Series.ravel(y_train))\n",
    "    y_digits_test_pred = knn_digits.predict(X_test)\n",
    "    print(\"KNN test accuracy on prediction >50K, k = {}, acc = {}: \".format(\n",
    "            k,knn_digits.score(X_test, y_test)))\n",
    "    acc.append(knn_digits.score(X_test, y_test))"
   ]
  },
  {
   "cell_type": "code",
   "execution_count": 169,
   "metadata": {
    "collapsed": false
   },
   "outputs": [
    {
     "data": {
      "image/png": "iVBORw0KGgoAAAANSUhEUgAAAi4AAAGJCAYAAACtu7gUAAAABHNCSVQICAgIfAhkiAAAAAlwSFlz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\nhuACAHRDcAEAuiG4AADdEFwAgG78ApLXA3vZ7P6wAAAAAElFTkSuQmCC\n",
      "text/plain": [
       "<matplotlib.figure.Figure at 0x12280cac8>"
      ]
     },
     "metadata": {},
     "output_type": "display_data"
    }
   ],
   "source": [
    "# ACCURACY PLOT OF KNEIGHBORS\n",
    "x_data = [i for i in range(15,50)]\n",
    "plt.plot(x_data, acc,'.')\n",
    "plt.xlabel('k')\n",
    "_=plt.ylabel('Accuracy')\n",
    "plt.title(\"Accuracy of KNeighborsClassifier\")\n",
    "plt.savefig('knn_acc.png')\n",
    "plt.show()"
   ]
  },
  {
   "cell_type": "code",
   "execution_count": 171,
   "metadata": {
    "collapsed": false
   },
   "outputs": [
    {
     "data": {
      "text/plain": [
       "0.45375179577853908"
      ]
     },
     "execution_count": 171,
     "metadata": {},
     "output_type": "execute_result"
    }
   ],
   "source": [
    "max(acc)"
   ]
  },
  {
   "cell_type": "code",
   "execution_count": 172,
   "metadata": {
    "collapsed": false
   },
   "outputs": [
    {
     "name": "stdout",
     "output_type": "stream",
     "text": [
      "Accuracy on test data: 0.4537517957785391\n"
     ]
    }
   ],
   "source": [
    "knneighbors = KNeighborsClassifier(n_neighbors=47)\n",
    "knneighbors.fit(X_train, pd.Series.ravel(y_train))\n",
    "y_pred_test = knneighbors.predict(X_test)\n",
    "\n",
    "print('Accuracy on test data: {}'.format(knneighbors.score(X_test, y_test)))"
   ]
  },
  {
   "cell_type": "code",
   "execution_count": 173,
   "metadata": {
    "collapsed": false
   },
   "outputs": [
    {
     "name": "stdout",
     "output_type": "stream",
     "text": [
      "Accuracy on training data: 0.4638054890403389\n"
     ]
    }
   ],
   "source": [
    "y_pred_train = knneighbors.predict(X_train)\n",
    "print('Accuracy on training data: {}'.format(knneighbors.score(X_train, y_train)))"
   ]
  },
  {
   "cell_type": "markdown",
   "metadata": {},
   "source": [
    "## Discussion of Results on K-Nearest Neighbors \n",
    "While the accuracy of the test data appears to be low (coming in at only 45.4%), it is actually higher than we anticipated. If you consider what we are asking the algorithm to predict, it is solidly more impressive. The number of stars has no hard maximum. The minimum in this particular subset of the data is 0, and the maximum is 55540. The size of this space is large, and having an algorithm predict the correct integer star amount with 45.4% accuracy is in fact quite good."
   ]
  },
  {
   "cell_type": "markdown",
   "metadata": {},
   "source": [
    "## Decision Tree"
   ]
  },
  {
   "cell_type": "code",
   "execution_count": 176,
   "metadata": {
    "collapsed": false
   },
   "outputs": [
    {
     "name": "stdout",
     "output_type": "stream",
     "text": [
      "DT accuracy on test data:  0.485965300033\n",
      "DT accuracy on training data:  0.960250506539\n"
     ]
    }
   ],
   "source": [
    "dtc = tree.DecisionTreeClassifier()\n",
    "dtc.fit(X_train,y_train)\n",
    "y_pred_test = dtc.predict(X_test)\n",
    "print('DT accuracy on test data: ', dtc.score(X_test, y_test))\n",
    "y_pred_train = dtc.predict(X_train)\n",
    "print('DT accuracy on training data: ', dtc.score(X_train, y_train))"
   ]
  },
  {
   "cell_type": "code",
   "execution_count": 186,
   "metadata": {
    "collapsed": false
   },
   "outputs": [],
   "source": [
    "# LITERALLY RAN FOR OVER 30 MIN AND NOTHING\n",
    "# JUST TOO BIG TO CREATE IMAGE\n",
    "# import pydotplus\n",
    "# start = time.time()\n",
    "# dot_data = tree.export_graphviz(dtc, out_file=None) \n",
    "# graph = pydotplus.graph_from_dot_data(dot_data) \n",
    "# graph.write_pdf(\"dtc.pdf\") \n",
    "# print(\"finished in %d seconds\" % (time.time()-start))"
   ]
  },
  {
   "cell_type": "markdown",
   "metadata": {},
   "source": [
    "## Decision Tree Regressor"
   ]
  },
  {
   "cell_type": "code",
   "execution_count": 220,
   "metadata": {
    "collapsed": false
   },
   "outputs": [
    {
     "name": "stderr",
     "output_type": "stream",
     "text": [
      "Exception ignored in: 'zmq.backend.cython.message.Frame.__dealloc__'\n",
      "Traceback (most recent call last):\n",
      "  File \"zmq/backend/cython/checkrc.pxd\", line 12, in zmq.backend.cython.checkrc._check_rc (zmq/backend/cython/message.c:4018)\n",
      "KeyboardInterrupt\n",
      "/Users/asambors/anaconda3/envs/pyv3.2/lib/python3.5/site-packages/pandas/core/generic.py:2701: SettingWithCopyWarning: \n",
      "A value is trying to be set on a copy of a slice from a DataFrame.\n",
      "Try using .loc[row_indexer,col_indexer] = value instead\n",
      "\n",
      "See the caveats in the documentation: http://pandas.pydata.org/pandas-docs/stable/indexing.html#indexing-view-versus-copy\n",
      "  self[name] = value\n"
     ]
    }
   ],
   "source": [
    "# Need to transform to floats for regression for some reason\n",
    "y_train.stars = y_train.stars.astype(float)"
   ]
  },
  {
   "cell_type": "code",
   "execution_count": 231,
   "metadata": {
    "collapsed": false
   },
   "outputs": [
    {
     "data": {
      "text/html": [
       "<div>\n",
       "<table border=\"1\" class=\"dataframe\">\n",
       "  <thead>\n",
       "    <tr style=\"text-align: right;\">\n",
       "      <th></th>\n",
       "      <th>stars</th>\n",
       "    </tr>\n",
       "  </thead>\n",
       "  <tbody>\n",
       "    <tr>\n",
       "      <th>18794</th>\n",
       "      <td>4.0</td>\n",
       "    </tr>\n",
       "    <tr>\n",
       "      <th>128871</th>\n",
       "      <td>1.0</td>\n",
       "    </tr>\n",
       "    <tr>\n",
       "      <th>38463</th>\n",
       "      <td>3.0</td>\n",
       "    </tr>\n",
       "    <tr>\n",
       "      <th>65380</th>\n",
       "      <td>1.0</td>\n",
       "    </tr>\n",
       "    <tr>\n",
       "      <th>110229</th>\n",
       "      <td>1.0</td>\n",
       "    </tr>\n",
       "  </tbody>\n",
       "</table>\n",
       "</div>"
      ],
      "text/plain": [
       "        stars\n",
       "18794     4.0\n",
       "128871    1.0\n",
       "38463     3.0\n",
       "65380     1.0\n",
       "110229    1.0"
      ]
     },
     "execution_count": 231,
     "metadata": {},
     "output_type": "execute_result"
    }
   ],
   "source": [
    "y_train.head()"
   ]
  },
  {
   "cell_type": "code",
   "execution_count": 232,
   "metadata": {
    "collapsed": false
   },
   "outputs": [
    {
     "name": "stdout",
     "output_type": "stream",
     "text": [
      "DT accuracy on test data:  0.473880075464\n",
      "DT accuracy on training data:  0.999996042305\n"
     ]
    }
   ],
   "source": [
    "clf = tree.DecisionTreeRegressor()\n",
    "clf = clf.fit(X_train, y_train)\n",
    "y_pred_test = clf.predict(X_test)\n",
    "print('DT accuracy on test data: ', clf.score(X_test, y_test))\n",
    "y_pred_train = dtc.predict(X_train)\n",
    "print('DT accuracy on training data: ', clf.score(X_train, y_train))"
   ]
  },
  {
   "cell_type": "markdown",
   "metadata": {},
   "source": [
    "## Logistical Regression Model"
   ]
  },
  {
   "cell_type": "code",
   "execution_count": 241,
   "metadata": {
    "collapsed": false
   },
   "outputs": [],
   "source": [
    "# Label encode stars as labels to be predicted\n",
    "label_encoder = preprocessing.LabelEncoder()\n",
    "encoded_stars = label_encoder.fit_transform(stars_sample['stars'])\n",
    "\n",
    "# Split training and test\n",
    "X_train, X_test, y_train, y_test = train_test_split(estimate_stars_sample, encoded_stars, test_size = 0.3, random_state = 0)"
   ]
  },
  {
   "cell_type": "code",
   "execution_count": 242,
   "metadata": {
    "collapsed": false
   },
   "outputs": [
    {
     "name": "stdout",
     "output_type": "stream",
     "text": [
      "31670\n",
      "31670\n"
     ]
    }
   ],
   "source": [
    "print(len(X_train))\n",
    "print(len(y_train))"
   ]
  },
  {
   "cell_type": "code",
   "execution_count": 243,
   "metadata": {
    "collapsed": false
   },
   "outputs": [
    {
     "name": "stderr",
     "output_type": "stream",
     "text": [
      "/Users/asambors/anaconda3/envs/pyv3.2/lib/python3.5/site-packages/ipykernel/__main__.py:2: SettingWithCopyWarning: \n",
      "A value is trying to be set on a copy of a slice from a DataFrame.\n",
      "Try using .loc[row_indexer,col_indexer] = value instead\n",
      "\n",
      "See the caveats in the documentation: http://pandas.pydata.org/pandas-docs/stable/indexing.html#indexing-view-versus-copy\n",
      "  from ipykernel import kernelapp as app\n",
      "/Users/asambors/anaconda3/envs/pyv3.2/lib/python3.5/site-packages/ipykernel/__main__.py:3: SettingWithCopyWarning: \n",
      "A value is trying to be set on a copy of a slice from a DataFrame.\n",
      "Try using .loc[row_indexer,col_indexer] = value instead\n",
      "\n",
      "See the caveats in the documentation: http://pandas.pydata.org/pandas-docs/stable/indexing.html#indexing-view-versus-copy\n",
      "  app.launch_new_instance()\n"
     ]
    },
    {
     "name": "stdout",
     "output_type": "stream",
     "text": [
      "Logistic Regression Accuracy (70/30 split):\n",
      " Accuracy:  0.443232888823\n"
     ]
    }
   ],
   "source": [
    "# Logistic Regression\n",
    "X_train['Intercept'] = 1.0\n",
    "X_test['Intercept'] = 1.0\n",
    "\n",
    "log_reg = LogisticRegression().fit(X_train, y_train)\n",
    "log_reg_preds = log_reg.predict(X_test)\n",
    "    \n",
    "print(\"Logistic Regression Accuracy (70/30 split):\\n Accuracy: \", metrics.accuracy_score(y_test, log_reg_preds))"
   ]
  },
  {
   "cell_type": "code",
   "execution_count": 244,
   "metadata": {
    "collapsed": false
   },
   "outputs": [
    {
     "name": "stdout",
     "output_type": "stream",
     "text": [
      "Logistic Regression Confusion Matrix:\n",
      " [[   0  550    0 ...,    0    0    0]\n",
      " [   0 6016    4 ...,    0    0    0]\n",
      " [   0 2373    0 ...,    0    0    0]\n",
      " ..., \n",
      " [   0    0    0 ...,    0    0    0]\n",
      " [   0    1    0 ...,    0    0    0]\n",
      " [   0    1    0 ...,    0    0    0]]\n"
     ]
    }
   ],
   "source": [
    "print(\"Logistic Regression Confusion Matrix:\\n\", metrics.confusion_matrix(Y_test, log_reg_preds))"
   ]
  },
  {
   "cell_type": "code",
   "execution_count": 245,
   "metadata": {
    "collapsed": false
   },
   "outputs": [
    {
     "name": "stdout",
     "output_type": "stream",
     "text": [
      "Logistic Regression report:\n",
      "              precision    recall  f1-score   support\n",
      "\n",
      "          0       0.00      0.00      0.00       569\n",
      "          1       0.46      0.97      0.62      6210\n",
      "          2       0.00      0.00      0.00      2436\n",
      "          3       0.00      0.00      0.00      1107\n",
      "          4       0.00      0.00      0.00       610\n",
      "          5       0.00      0.00      0.00       404\n",
      "          6       0.00      0.00      0.00       281\n",
      "          7       0.00      0.00      0.00       187\n",
      "          8       0.00      0.00      0.00       156\n",
      "          9       0.00      0.00      0.00       129\n",
      "         10       0.00      0.00      0.00       101\n",
      "         11       0.00      0.00      0.00        90\n",
      "         12       0.00      0.00      0.00        89\n",
      "         13       0.00      0.00      0.00        60\n",
      "         14       0.00      0.00      0.00        56\n",
      "         15       0.00      0.00      0.00        54\n",
      "         16       0.00      0.00      0.00        43\n",
      "         17       0.00      0.00      0.00        36\n",
      "         18       0.00      0.00      0.00        43\n",
      "         19       0.00      0.00      0.00        34\n",
      "         20       0.00      0.00      0.00        34\n",
      "         21       0.00      0.00      0.00        23\n",
      "         22       0.00      0.00      0.00        14\n",
      "         23       0.00      0.00      0.00        18\n",
      "         24       0.00      0.00      0.00        14\n",
      "         25       0.00      0.00      0.00        17\n",
      "         26       0.00      0.00      0.00        14\n",
      "         27       0.00      0.00      0.00        17\n",
      "         28       0.00      0.00      0.00        17\n",
      "         29       0.00      0.00      0.00        23\n",
      "         30       0.00      0.00      0.00        16\n",
      "         31       0.00      0.00      0.00        13\n",
      "         32       0.00      0.00      0.00        13\n",
      "         33       0.00      0.00      0.00        10\n",
      "         34       0.00      0.00      0.00        12\n",
      "         35       0.00      0.00      0.00        12\n",
      "         36       0.00      0.00      0.00         8\n",
      "         37       0.00      0.00      0.00        13\n",
      "         38       0.00      0.00      0.00        13\n",
      "         39       0.00      0.00      0.00        10\n",
      "         40       0.00      0.00      0.00        14\n",
      "         41       0.00      0.00      0.00        10\n",
      "         42       0.00      0.00      0.00        10\n",
      "         43       0.00      0.00      0.00         2\n",
      "         44       0.00      0.00      0.00         5\n",
      "         45       0.00      0.00      0.00         5\n",
      "         46       0.00      0.00      0.00         9\n",
      "         47       0.00      0.00      0.00         2\n",
      "         48       0.00      0.00      0.00         5\n",
      "         49       0.00      0.00      0.00         6\n",
      "         50       0.00      0.00      0.00         4\n",
      "         51       0.00      0.00      0.00         6\n",
      "         52       0.00      0.00      0.00         6\n",
      "         53       0.00      0.00      0.00         4\n",
      "         54       0.00      0.00      0.00         4\n",
      "         55       0.00      0.00      0.00         9\n",
      "         56       0.00      0.00      0.00         5\n",
      "         57       0.00      0.00      0.00         8\n",
      "         58       0.00      0.00      0.00         8\n",
      "         59       0.00      0.00      0.00         5\n",
      "         60       0.00      0.00      0.00         2\n",
      "         61       0.00      0.00      0.00         8\n",
      "         62       0.00      0.00      0.00         5\n",
      "         63       0.00      0.00      0.00         7\n",
      "         64       0.00      0.00      0.00         2\n",
      "         65       0.00      0.00      0.00         8\n",
      "         66       0.00      0.00      0.00         2\n",
      "         67       0.00      0.00      0.00         8\n",
      "         68       0.00      0.00      0.00         1\n",
      "         69       0.00      0.00      0.00         6\n",
      "         70       0.00      0.00      0.00         6\n",
      "         71       0.00      0.00      0.00         8\n",
      "         72       0.00      0.00      0.00         2\n",
      "         73       0.00      0.00      0.00         3\n",
      "         74       0.00      0.00      0.00         8\n",
      "         75       0.00      0.00      0.00         4\n",
      "         76       0.00      0.00      0.00         3\n",
      "         78       0.00      0.00      0.00         4\n",
      "         79       0.00      0.00      0.00         2\n",
      "         80       0.00      0.00      0.00         4\n",
      "         81       0.00      0.00      0.00         5\n",
      "         82       0.00      0.00      0.00         1\n",
      "         83       0.00      0.00      0.00         1\n",
      "         84       0.00      0.00      0.00         2\n",
      "         85       0.00      0.00      0.00         6\n",
      "         86       0.00      0.00      0.00         4\n",
      "         88       0.00      0.00      0.00         3\n",
      "         89       0.00      0.00      0.00         1\n",
      "         90       0.00      0.00      0.00         2\n",
      "         91       0.00      0.00      0.00         3\n",
      "         92       0.00      0.00      0.00         1\n",
      "         93       0.00      0.00      0.00         1\n",
      "         95       0.00      0.00      0.00         1\n",
      "         96       0.00      0.00      0.00         3\n",
      "         99       0.00      0.00      0.00         3\n",
      "        100       0.00      0.00      0.00         1\n",
      "        101       0.00      0.00      0.00         2\n",
      "        102       0.00      0.00      0.00         2\n",
      "        104       0.00      0.00      0.00         2\n",
      "        106       0.00      0.00      0.00         1\n",
      "        107       0.00      0.00      0.00         1\n",
      "        108       0.00      0.00      0.00         1\n",
      "        109       0.00      0.00      0.00         2\n",
      "        112       0.00      0.00      0.00         4\n",
      "        114       0.00      0.00      0.00         3\n",
      "        115       0.00      0.00      0.00         1\n",
      "        116       0.00      0.00      0.00         3\n",
      "        117       0.00      0.00      0.00         3\n",
      "        118       0.00      0.00      0.00         4\n",
      "        119       0.00      0.00      0.00         2\n",
      "        121       0.00      0.00      0.00         2\n",
      "        122       0.00      0.00      0.00         5\n",
      "        123       0.00      0.00      0.00         1\n",
      "        125       0.00      0.00      0.00         3\n",
      "        126       0.00      0.00      0.00         1\n",
      "        127       0.00      0.00      0.00         3\n",
      "        129       0.00      0.00      0.00         4\n",
      "        130       0.00      0.00      0.00         3\n",
      "        132       0.00      0.00      0.00         1\n",
      "        133       0.00      0.00      0.00         3\n",
      "        134       0.00      0.00      0.00         2\n",
      "        135       0.00      0.00      0.00         4\n",
      "        136       0.00      0.00      0.00         2\n",
      "        137       0.00      0.00      0.00         1\n",
      "        139       0.00      0.00      0.00         1\n",
      "        141       0.00      0.00      0.00         1\n",
      "        142       0.00      0.00      0.00         1\n",
      "        143       0.00      0.00      0.00         2\n",
      "        144       0.00      0.00      0.00         2\n",
      "        146       0.00      0.00      0.00         1\n",
      "        147       0.00      0.00      0.00         1\n",
      "        148       0.00      0.00      0.00         2\n",
      "        149       0.00      0.00      0.00         1\n",
      "        150       0.00      0.00      0.00         1\n",
      "        151       0.00      0.00      0.00         1\n",
      "        152       0.00      0.00      0.00         2\n",
      "        153       0.00      0.00      0.00         2\n",
      "        154       0.00      0.00      0.00         3\n",
      "        155       0.00      0.00      0.00         1\n",
      "        156       0.00      0.00      0.00         2\n",
      "        157       0.00      0.00      0.00         1\n",
      "        159       0.00      0.00      0.00         2\n",
      "        162       0.00      0.00      0.00         1\n",
      "        163       0.00      0.00      0.00         1\n",
      "        164       0.00      0.00      0.00         2\n",
      "        165       0.00      0.00      0.00         2\n",
      "        167       0.00      0.00      0.00         1\n",
      "        168       0.00      0.00      0.00         1\n",
      "        169       0.00      0.00      0.00         1\n",
      "        171       0.00      0.00      0.00         2\n",
      "        172       0.00      0.00      0.00         1\n",
      "        176       0.00      0.00      0.00         2\n",
      "        177       0.00      0.00      0.00         2\n",
      "        178       0.00      0.00      0.00         2\n",
      "        180       0.00      0.00      0.00         1\n",
      "        181       0.00      0.00      0.00         1\n",
      "        184       0.00      0.00      0.00         1\n",
      "        185       0.00      0.00      0.00         2\n",
      "        186       0.00      0.00      0.00         2\n",
      "        187       0.00      0.00      0.00         1\n",
      "        188       0.00      0.00      0.00         3\n",
      "        189       0.00      0.00      0.00         2\n",
      "        190       0.00      0.00      0.00         2\n",
      "        192       0.00      0.00      0.00         2\n",
      "        194       0.00      0.00      0.00         3\n",
      "        195       0.00      0.00      0.00         1\n",
      "        196       0.00      0.00      0.00         1\n",
      "        198       0.00      0.00      0.00         2\n",
      "        200       0.00      0.00      0.00         2\n",
      "        201       0.00      0.00      0.00         1\n",
      "        202       0.00      0.00      0.00         1\n",
      "        204       0.00      0.00      0.00         2\n",
      "        205       0.00      0.00      0.00         2\n",
      "        206       0.00      0.00      0.00         1\n",
      "        207       0.00      0.00      0.00         1\n",
      "        208       0.00      0.00      0.00         0\n",
      "        209       0.00      0.00      0.00         1\n",
      "        210       0.00      0.00      0.00         2\n",
      "        211       0.00      0.00      0.00         1\n",
      "        212       0.00      0.00      0.00         1\n",
      "        213       0.00      0.00      0.00         1\n",
      "        217       0.00      0.00      0.00         4\n",
      "        220       0.00      0.00      0.00         1\n",
      "        221       0.00      0.00      0.00         2\n",
      "        222       0.00      0.00      0.00         1\n",
      "        223       0.00      0.00      0.00         1\n",
      "        225       0.00      0.00      0.00         1\n",
      "        226       0.00      0.00      0.00         1\n",
      "        229       0.00      0.00      0.00         1\n",
      "        230       0.00      0.00      0.00         1\n",
      "        231       0.00      0.00      0.00         1\n",
      "        235       0.00      0.00      0.00         1\n",
      "        237       0.00      0.00      0.00         1\n",
      "        238       0.00      0.00      0.00         0\n",
      "        239       0.00      0.00      0.00         1\n",
      "        240       0.00      0.00      0.00         1\n",
      "        243       0.00      0.00      0.00         1\n",
      "        247       0.00      0.00      0.00         1\n",
      "        248       0.00      0.00      0.00         1\n",
      "        250       0.00      0.00      0.00         1\n",
      "        252       0.00      0.00      0.00         0\n",
      "        254       0.00      0.00      0.00         1\n",
      "        255       0.00      0.00      0.00         1\n",
      "        256       0.00      0.00      0.00         1\n",
      "        257       0.00      0.00      0.00         2\n",
      "        258       0.00      0.00      0.00         1\n",
      "        259       0.00      0.00      0.00         2\n",
      "        262       0.00      0.00      0.00         1\n",
      "        263       0.00      0.00      0.00         1\n",
      "        267       0.00      0.00      0.00         2\n",
      "        268       0.00      0.00      0.00         1\n",
      "        273       0.00      0.00      0.00         1\n",
      "        275       0.00      0.00      0.00         1\n",
      "        277       0.00      0.00      0.00         1\n",
      "        279       0.00      0.00      0.00         1\n",
      "        280       0.00      0.00      0.00         1\n",
      "        281       0.00      0.00      0.00         0\n",
      "        282       0.00      0.00      0.00         1\n",
      "        284       0.00      0.00      0.00         1\n",
      "        287       0.00      0.00      0.00         0\n",
      "        288       0.00      0.00      0.00         1\n",
      "        289       0.00      0.00      0.00         1\n",
      "        290       0.00      0.00      0.00         1\n",
      "        291       0.00      0.00      0.00         2\n",
      "        295       0.00      0.00      0.00         1\n",
      "        296       0.00      0.00      0.00         1\n",
      "        305       0.00      0.00      0.00         1\n",
      "        307       0.00      0.00      0.00         1\n",
      "        309       0.00      0.00      0.00         1\n",
      "        311       0.00      0.00      0.00         1\n",
      "        314       0.00      0.00      0.00         1\n",
      "        315       0.00      0.00      0.00         1\n",
      "        318       0.00      0.00      0.00         1\n",
      "        319       0.00      0.00      0.00         1\n",
      "        324       0.00      0.00      0.00         1\n",
      "        325       0.00      0.00      0.00         1\n",
      "        327       0.00      0.00      0.00         1\n",
      "        329       0.00      0.00      0.00         2\n",
      "        333       0.00      0.00      0.00         1\n",
      "        334       0.00      0.00      0.00         1\n",
      "        335       0.00      0.00      0.00         1\n",
      "        337       0.00      0.00      0.00         1\n",
      "        338       0.00      0.00      0.00         1\n",
      "        340       0.00      0.00      0.00         1\n",
      "        342       0.00      0.00      0.00         2\n",
      "        343       0.00      0.00      0.00         1\n",
      "        350       0.00      0.00      0.00         1\n",
      "        351       0.00      0.00      0.00         1\n",
      "        352       0.00      0.00      0.00         1\n",
      "        353       0.00      0.00      0.00         1\n",
      "        354       0.00      0.00      0.00         1\n",
      "        355       0.00      0.00      0.00         2\n",
      "        357       0.00      0.00      0.00         1\n",
      "        359       0.00      0.00      0.00         1\n",
      "        363       0.00      0.00      0.00         1\n",
      "        367       0.00      0.00      0.00         1\n",
      "        368       0.00      0.00      0.00         1\n",
      "        370       0.00      0.00      0.00         1\n",
      "        374       0.00      0.00      0.00         1\n",
      "        381       0.00      0.00      0.00         1\n",
      "        383       0.00      0.00      0.00         1\n",
      "        384       0.00      0.00      0.00         1\n",
      "        390       0.00      0.00      0.00         1\n",
      "        391       0.00      0.00      0.00         1\n",
      "        394       0.00      0.00      0.00         1\n",
      "        397       0.00      0.00      0.00         1\n",
      "        398       0.00      0.00      0.00         1\n",
      "        399       0.00      0.00      0.00         1\n",
      "        400       0.00      0.00      0.00         1\n",
      "        401       0.00      0.00      0.00         1\n",
      "        402       0.00      0.00      0.00         1\n",
      "        403       0.00      0.00      0.00         1\n",
      "        405       0.00      0.00      0.00         0\n",
      "        408       0.00      0.00      0.00         1\n",
      "        411       0.00      0.00      0.00         0\n",
      "        413       0.00      0.00      0.00         1\n",
      "        414       0.00      0.00      0.00         1\n",
      "        417       0.00      0.00      0.00         1\n",
      "        420       0.00      0.00      0.00         1\n",
      "        421       0.00      0.00      0.00         1\n",
      "        423       0.00      0.00      0.00         1\n",
      "        425       0.00      0.00      0.00         0\n",
      "        427       0.00      0.00      0.00         1\n",
      "        430       0.00      0.00      0.00         1\n",
      "        431       0.00      0.00      0.00         1\n",
      "        435       0.00      0.00      0.00         1\n",
      "        436       0.00      0.00      0.00         0\n",
      "        441       0.00      0.00      0.00         1\n",
      "        445       0.00      0.00      0.00         1\n",
      "        448       0.00      0.00      0.00         1\n",
      "        450       0.00      0.00      0.00         1\n",
      "        451       0.00      0.00      0.00         1\n",
      "        455       0.00      0.00      0.00         1\n",
      "        464       0.00      0.00      0.00         1\n",
      "        465       0.00      0.00      0.00         1\n",
      "        466       0.00      0.00      0.00         1\n",
      "        468       0.00      0.00      0.00         1\n",
      "        473       0.00      0.00      0.00         1\n",
      "        482       0.00      0.00      0.00         2\n",
      "        483       0.00      0.00      0.00         2\n",
      "        487       0.00      0.00      0.00         1\n",
      "        491       0.00      0.00      0.00         1\n",
      "        493       0.00      0.00      0.00         1\n",
      "        494       0.00      0.00      0.00         2\n",
      "        498       0.00      0.00      0.00         2\n",
      "        500       0.00      0.00      0.00         1\n",
      "        501       0.00      0.00      0.00         0\n",
      "        502       0.00      0.00      0.00         1\n",
      "        503       0.00      0.00      0.00         2\n",
      "        510       0.00      0.00      0.00         1\n",
      "        516       0.00      0.00      0.00         0\n",
      "        519       0.00      0.00      0.00         1\n",
      "        520       0.00      0.00      0.00         1\n",
      "        521       0.00      0.00      0.00         1\n",
      "        524       0.00      0.00      0.00         1\n",
      "        525       0.00      0.00      0.00         1\n",
      "        526       0.00      0.00      0.00         1\n",
      "        531       0.00      0.00      0.00         1\n",
      "        532       0.00      0.00      0.00         0\n",
      "        534       0.00      0.00      0.00         1\n",
      "        541       0.00      0.00      0.00         2\n",
      "        542       0.00      0.00      0.00         2\n",
      "        544       0.00      0.00      0.00         1\n",
      "        545       0.00      0.00      0.00         0\n",
      "        551       0.00      0.00      0.00         2\n",
      "        553       0.00      0.00      0.00         0\n",
      "        558       0.00      0.00      0.00         0\n",
      "        559       0.00      0.00      0.00         1\n",
      "        561       0.00      0.00      0.00         2\n",
      "        564       0.00      0.00      0.00         1\n",
      "        565       0.00      0.00      0.00         1\n",
      "        566       0.00      0.00      0.00         0\n",
      "        568       0.00      0.00      0.00         1\n",
      "        570       0.00      0.00      0.00         1\n",
      "\n",
      "avg / total       0.21      0.44      0.28     13573\n",
      "\n"
     ]
    },
    {
     "name": "stderr",
     "output_type": "stream",
     "text": [
      "/Users/asambors/anaconda3/envs/pyv3.2/lib/python3.5/site-packages/sklearn/metrics/classification.py:1113: UndefinedMetricWarning: Precision and F-score are ill-defined and being set to 0.0 in labels with no predicted samples.\n",
      "  'precision', 'predicted', average, warn_for)\n",
      "/Users/asambors/anaconda3/envs/pyv3.2/lib/python3.5/site-packages/sklearn/metrics/classification.py:1115: UndefinedMetricWarning: Recall and F-score are ill-defined and being set to 0.0 in labels with no true samples.\n",
      "  'recall', 'true', average, warn_for)\n"
     ]
    }
   ],
   "source": [
    "print(\"Logistic Regression report:\\n\", metrics.classification_report(Y_test, log_reg_preds))"
   ]
  },
  {
   "cell_type": "code",
   "execution_count": 249,
   "metadata": {
    "collapsed": false
   },
   "outputs": [],
   "source": [
    "# Cross Validation\n",
    "# It takes forever to run I don't know why D: \n",
    "# log_scores = cross_validation.cross_val_score(LogisticRegression(), estimate_stars_sample, \n",
    "#                                               encoded_stars, scoring='accuracy', cv=10)\n",
    "# print(\"Logistic Regression Log Scores: %d\" % log_scores)\n",
    "# print(\"Logistic Regression Log Scores Mean: %d\" % log_scores.mean())"
   ]
  },
  {
   "cell_type": "markdown",
   "metadata": {},
   "source": [
    "# Subset of Feature Vectors: Can it produce the same accuracy if not better than the previous? "
   ]
  },
  {
   "cell_type": "markdown",
   "metadata": {},
   "source": [
    "We want to explore if there is any change without the presence of languages. We hypothesize that the removal of these feature vectors will not make a huge difference. In fact, we would claim that the most important features are watchers and forks. We will test this theory further below on a few less computationally intensive prediction algorithms (decision tree and KNN)."
   ]
  },
  {
   "cell_type": "code",
<<<<<<< HEAD
   "execution_count": 4,
=======
   "execution_count": 7,
>>>>>>> 318d6753bb545f4de90ba3459fd6d78dd0eb8c11
   "metadata": {
    "collapsed": false
   },
   "outputs": [
    {
     "ename": "NameError",
     "evalue": "name 'df' is not defined",
     "output_type": "error",
     "traceback": [
      "\u001b[0;31m---------------------------------------------------------------------------\u001b[0m",
      "\u001b[0;31mNameError\u001b[0m                                 Traceback (most recent call last)",
      "\u001b[0;32m<ipython-input-7-c3ed12e077af>\u001b[0m in \u001b[0;36m<module>\u001b[0;34m()\u001b[0m\n\u001b[0;32m----> 1\u001b[0;31m \u001b[0mwithout_languages\u001b[0m \u001b[0;34m=\u001b[0m \u001b[0mdf\u001b[0m\u001b[0;34m[\u001b[0m\u001b[0;34m[\u001b[0m\u001b[0;34m'watchers'\u001b[0m\u001b[0;34m,\u001b[0m \u001b[0;34m'stars'\u001b[0m\u001b[0;34m,\u001b[0m \u001b[0;34m'forks'\u001b[0m\u001b[0;34m,\u001b[0m \u001b[0;34m'type'\u001b[0m\u001b[0;34m,\u001b[0m \u001b[0;34m'issues'\u001b[0m\u001b[0;34m,\u001b[0m \u001b[0;34m'size'\u001b[0m\u001b[0;34m,\u001b[0m \u001b[0;34m'open_issues_count'\u001b[0m\u001b[0;34m]\u001b[0m\u001b[0;34m]\u001b[0m\u001b[0;34m\u001b[0m\u001b[0m\n\u001b[0m",
      "\u001b[0;31mNameError\u001b[0m: name 'df' is not defined"
     ]
    }
   ],
   "source": [
    "without_languages = df[['watchers', 'stars', 'forks', 'type', 'issues', 'size', 'open_issues_count']]"
   ]
  },
  {
   "cell_type": "code",
   "execution_count": 5,
   "metadata": {
    "collapsed": true
   },
   "outputs": [],
   "source": [
    "# Will return to this if study below is not fruitful"
   ]
  },
  {
   "cell_type": "markdown",
   "metadata": {},
   "source": [
    "# Using the Amount of Stars from a Repository to Predict its Top Language "
   ]
  },
  {
   "cell_type": "code",
<<<<<<< HEAD
   "execution_count": 6,
=======
   "execution_count": 5,
>>>>>>> 318d6753bb545f4de90ba3459fd6d78dd0eb8c11
   "metadata": {
    "collapsed": false
   },
   "outputs": [
    {
<<<<<<< HEAD
     "data": {
      "text/html": [
       "<div>\n",
       "<table border=\"1\" class=\"dataframe\">\n",
       "  <thead>\n",
       "    <tr style=\"text-align: right;\">\n",
       "      <th></th>\n",
       "      <th>watchers</th>\n",
       "      <th>stars</th>\n",
       "      <th>forks</th>\n",
       "      <th>type</th>\n",
       "      <th>issues</th>\n",
       "      <th>size</th>\n",
       "      <th>open_issues_count</th>\n",
       "      <th>num_languages</th>\n",
       "      <th>language_1</th>\n",
       "    </tr>\n",
       "  </thead>\n",
       "  <tbody>\n",
       "    <tr>\n",
       "      <th>0</th>\n",
       "      <td>59</td>\n",
       "      <td>1883</td>\n",
       "      <td>451</td>\n",
       "      <td>User</td>\n",
       "      <td>3</td>\n",
       "      <td>7954</td>\n",
       "      <td>3</td>\n",
       "      <td>1</td>\n",
       "      <td>Ruby</td>\n",
       "    </tr>\n",
       "    <tr>\n",
       "      <th>1</th>\n",
       "      <td>3</td>\n",
       "      <td>407</td>\n",
       "      <td>54</td>\n",
       "      <td>User</td>\n",
       "      <td>0</td>\n",
       "      <td>3462</td>\n",
       "      <td>0</td>\n",
       "      <td>2</td>\n",
       "      <td>Ruby</td>\n",
       "    </tr>\n",
       "    <tr>\n",
       "      <th>2</th>\n",
       "      <td>120</td>\n",
       "      <td>2692</td>\n",
       "      <td>612</td>\n",
       "      <td>Organization</td>\n",
       "      <td>211</td>\n",
       "      <td>162886</td>\n",
       "      <td>211</td>\n",
       "      <td>13</td>\n",
       "      <td>Ruby</td>\n",
       "    </tr>\n",
       "    <tr>\n",
       "      <th>3</th>\n",
       "      <td>104</td>\n",
       "      <td>2036</td>\n",
       "      <td>479</td>\n",
       "      <td>User</td>\n",
       "      <td>112</td>\n",
       "      <td>2639</td>\n",
       "      <td>112</td>\n",
       "      <td>6</td>\n",
       "      <td>Ruby</td>\n",
       "    </tr>\n",
       "    <tr>\n",
       "      <th>4</th>\n",
       "      <td>2</td>\n",
       "      <td>36</td>\n",
       "      <td>2</td>\n",
       "      <td>User</td>\n",
       "      <td>0</td>\n",
       "      <td>192</td>\n",
       "      <td>0</td>\n",
       "      <td>2</td>\n",
       "      <td>JavaScript</td>\n",
       "    </tr>\n",
       "    <tr>\n",
       "      <th>5</th>\n",
       "      <td>2</td>\n",
       "      <td>66</td>\n",
       "      <td>5</td>\n",
       "      <td>User</td>\n",
       "      <td>0</td>\n",
       "      <td>156</td>\n",
       "      <td>0</td>\n",
       "      <td>1</td>\n",
       "      <td>JavaScript</td>\n",
       "    </tr>\n",
       "    <tr>\n",
       "      <th>6</th>\n",
       "      <td>1</td>\n",
       "      <td>239</td>\n",
       "      <td>86</td>\n",
       "      <td>User</td>\n",
       "      <td>2</td>\n",
       "      <td>232</td>\n",
       "      <td>2</td>\n",
       "      <td>2</td>\n",
       "      <td>Ruby</td>\n",
       "    </tr>\n",
       "    <tr>\n",
       "      <th>7</th>\n",
       "      <td>2</td>\n",
       "      <td>151</td>\n",
       "      <td>16</td>\n",
       "      <td>User</td>\n",
       "      <td>1</td>\n",
       "      <td>473</td>\n",
       "      <td>1</td>\n",
       "      <td>2</td>\n",
       "      <td>Ruby</td>\n",
       "    </tr>\n",
       "    <tr>\n",
       "      <th>8</th>\n",
       "      <td>16</td>\n",
       "      <td>1629</td>\n",
       "      <td>283</td>\n",
       "      <td>User</td>\n",
       "      <td>27</td>\n",
       "      <td>1208</td>\n",
       "      <td>27</td>\n",
       "      <td>1</td>\n",
       "      <td>Ruby</td>\n",
       "    </tr>\n",
       "    <tr>\n",
       "      <th>9</th>\n",
       "      <td>7</td>\n",
       "      <td>1036</td>\n",
       "      <td>309</td>\n",
       "      <td>User</td>\n",
       "      <td>37</td>\n",
       "      <td>1008</td>\n",
       "      <td>37</td>\n",
       "      <td>1</td>\n",
       "      <td>Ruby</td>\n",
       "    </tr>\n",
       "  </tbody>\n",
       "</table>\n",
       "</div>"
      ],
      "text/plain": [
       "   watchers  stars  forks          type  issues    size  open_issues_count  \\\n",
       "0        59   1883    451          User       3    7954                  3   \n",
       "1         3    407     54          User       0    3462                  0   \n",
       "2       120   2692    612  Organization     211  162886                211   \n",
       "3       104   2036    479          User     112    2639                112   \n",
       "4         2     36      2          User       0     192                  0   \n",
       "5         2     66      5          User       0     156                  0   \n",
       "6         1    239     86          User       2     232                  2   \n",
       "7         2    151     16          User       1     473                  1   \n",
       "8        16   1629    283          User      27    1208                 27   \n",
       "9         7   1036    309          User      37    1008                 37   \n",
       "\n",
       "   num_languages  language_1  \n",
       "0              1        Ruby  \n",
       "1              2        Ruby  \n",
       "2             13        Ruby  \n",
       "3              6        Ruby  \n",
       "4              2  JavaScript  \n",
       "5              1  JavaScript  \n",
       "6              2        Ruby  \n",
       "7              2        Ruby  \n",
       "8              1        Ruby  \n",
       "9              1        Ruby  "
      ]
     },
     "execution_count": 6,
     "metadata": {},
     "output_type": "execute_result"
=======
     "ename": "NameError",
     "evalue": "name 'df' is not defined",
     "output_type": "error",
     "traceback": [
      "\u001b[0;31m---------------------------------------------------------------------------\u001b[0m",
      "\u001b[0;31mNameError\u001b[0m                                 Traceback (most recent call last)",
      "\u001b[0;32m<ipython-input-5-8528b8584ebf>\u001b[0m in \u001b[0;36m<module>\u001b[0;34m()\u001b[0m\n\u001b[0;32m----> 1\u001b[0;31m guess_primary_language = df[['watchers', 'stars', 'forks', 'type', 'issues', 'size', \n\u001b[0m\u001b[1;32m      2\u001b[0m                   'open_issues_count', 'num_languages', 'language_1']]\n\u001b[1;32m      3\u001b[0m \u001b[0mguess_primary_language\u001b[0m\u001b[0;34m.\u001b[0m\u001b[0mhead\u001b[0m\u001b[0;34m(\u001b[0m\u001b[0;36m10\u001b[0m\u001b[0;34m)\u001b[0m\u001b[0;34m\u001b[0m\u001b[0m\n",
      "\u001b[0;31mNameError\u001b[0m: name 'df' is not defined"
     ]
>>>>>>> 318d6753bb545f4de90ba3459fd6d78dd0eb8c11
    }
   ],
   "source": [
    "\n",
    "guess_primary_language.head(10)"
   ]
  },
  {
   "cell_type": "code",
<<<<<<< HEAD
   "execution_count": 25,
=======
   "execution_count": 6,
>>>>>>> 318d6753bb545f4de90ba3459fd6d78dd0eb8c11
   "metadata": {
    "collapsed": false
   },
   "outputs": [
    {
<<<<<<< HEAD
     "data": {
      "text/plain": [
       "(137100, 9)"
      ]
     },
     "execution_count": 25,
     "metadata": {},
     "output_type": "execute_result"
=======
     "ename": "NameError",
     "evalue": "name 'guess_primary_language' is not defined",
     "output_type": "error",
     "traceback": [
      "\u001b[0;31m---------------------------------------------------------------------------\u001b[0m",
      "\u001b[0;31mNameError\u001b[0m                                 Traceback (most recent call last)",
      "\u001b[0;32m<ipython-input-6-ca699eee0ae3>\u001b[0m in \u001b[0;36m<module>\u001b[0;34m()\u001b[0m\n\u001b[0;32m----> 1\u001b[0;31m \u001b[0mguess_primary_language\u001b[0m\u001b[0;34m.\u001b[0m\u001b[0mshape\u001b[0m\u001b[0;34m\u001b[0m\u001b[0m\n\u001b[0m",
      "\u001b[0;31mNameError\u001b[0m: name 'guess_primary_language' is not defined"
     ]
>>>>>>> 318d6753bb545f4de90ba3459fd6d78dd0eb8c11
    }
   ],
   "source": [
    "guess_primary_language.shape"
   ]
  },
  {
   "cell_type": "code",
   "execution_count": 27,
   "metadata": {
    "collapsed": false
   },
   "outputs": [],
   "source": [
    "unique_1st_languages = guess_primary_language_no_na['language_1'].unique()"
   ]
  },
  {
   "cell_type": "code",
   "execution_count": 29,
   "metadata": {
    "collapsed": false
   },
   "outputs": [
    {
     "data": {
      "text/html": [
       "<div>\n",
       "<table border=\"1\" class=\"dataframe\">\n",
       "  <thead>\n",
       "    <tr style=\"text-align: right;\">\n",
       "      <th></th>\n",
       "      <th>language</th>\n",
       "    </tr>\n",
       "  </thead>\n",
       "  <tbody>\n",
       "    <tr>\n",
       "      <th>0</th>\n",
       "      <td>Ruby</td>\n",
       "    </tr>\n",
       "    <tr>\n",
       "      <th>1</th>\n",
       "      <td>JavaScript</td>\n",
       "    </tr>\n",
       "    <tr>\n",
       "      <th>2</th>\n",
       "      <td>ActionScript</td>\n",
       "    </tr>\n",
       "    <tr>\n",
       "      <th>3</th>\n",
       "      <td>C</td>\n",
       "    </tr>\n",
       "    <tr>\n",
       "      <th>4</th>\n",
       "      <td>Erlang</td>\n",
       "    </tr>\n",
       "  </tbody>\n",
       "</table>\n",
       "</div>"
      ],
      "text/plain": [
       "       language\n",
       "0          Ruby\n",
       "1    JavaScript\n",
       "2  ActionScript\n",
       "3             C\n",
       "4        Erlang"
      ]
     },
     "execution_count": 29,
     "metadata": {},
     "output_type": "execute_result"
    }
   ],
   "source": [
    "unique_lang_df = pd.DataFrame(unique_1st_languages)\n",
    "unique_lang_df.columns = ['language']\n",
    "unique_lang_df.head()"
   ]
  },
  {
   "cell_type": "code",
   "execution_count": 30,
   "metadata": {
    "collapsed": false
   },
   "outputs": [
    {
     "data": {
      "text/plain": [
       "(143, 1)"
      ]
     },
     "execution_count": 30,
     "metadata": {},
     "output_type": "execute_result"
    }
   ],
   "source": [
    "unique_lang_df.shape"
   ]
  },
  {
   "cell_type": "code",
   "execution_count": 32,
   "metadata": {
    "collapsed": false
   },
   "outputs": [
    {
     "data": {
      "text/html": [
       "<div>\n",
       "<table border=\"1\" class=\"dataframe\">\n",
       "  <thead>\n",
       "    <tr style=\"text-align: right;\">\n",
       "      <th></th>\n",
       "      <th>watchers</th>\n",
       "      <th>stars</th>\n",
       "      <th>forks</th>\n",
       "      <th>issues</th>\n",
       "      <th>size</th>\n",
       "      <th>open_issues_count</th>\n",
       "      <th>num_languages</th>\n",
       "      <th>type_Organization</th>\n",
       "      <th>type_User</th>\n",
       "    </tr>\n",
       "  </thead>\n",
       "  <tbody>\n",
       "    <tr>\n",
       "      <th>0</th>\n",
       "      <td>59</td>\n",
       "      <td>1883</td>\n",
       "      <td>451</td>\n",
       "      <td>3</td>\n",
       "      <td>7954</td>\n",
       "      <td>3</td>\n",
       "      <td>1</td>\n",
       "      <td>0</td>\n",
       "      <td>1</td>\n",
       "    </tr>\n",
       "    <tr>\n",
       "      <th>1</th>\n",
       "      <td>3</td>\n",
       "      <td>407</td>\n",
       "      <td>54</td>\n",
       "      <td>0</td>\n",
       "      <td>3462</td>\n",
       "      <td>0</td>\n",
       "      <td>2</td>\n",
       "      <td>0</td>\n",
       "      <td>1</td>\n",
       "    </tr>\n",
       "    <tr>\n",
       "      <th>2</th>\n",
       "      <td>120</td>\n",
       "      <td>2692</td>\n",
       "      <td>612</td>\n",
       "      <td>211</td>\n",
       "      <td>162886</td>\n",
       "      <td>211</td>\n",
       "      <td>13</td>\n",
       "      <td>1</td>\n",
       "      <td>0</td>\n",
       "    </tr>\n",
       "    <tr>\n",
       "      <th>3</th>\n",
       "      <td>104</td>\n",
       "      <td>2036</td>\n",
       "      <td>479</td>\n",
       "      <td>112</td>\n",
       "      <td>2639</td>\n",
       "      <td>112</td>\n",
       "      <td>6</td>\n",
       "      <td>0</td>\n",
       "      <td>1</td>\n",
       "    </tr>\n",
       "  </tbody>\n",
       "</table>\n",
       "</div>"
      ],
      "text/plain": [
       "   watchers  stars  forks  issues    size  open_issues_count  num_languages  \\\n",
       "0        59   1883    451       3    7954                  3              1   \n",
       "1         3    407     54       0    3462                  0              2   \n",
       "2       120   2692    612     211  162886                211             13   \n",
       "3       104   2036    479     112    2639                112              6   \n",
       "\n",
       "   type_Organization  type_User  \n",
       "0                  0          1  \n",
       "1                  0          1  \n",
       "2                  1          0  \n",
       "3                  0          1  "
      ]
     },
     "execution_count": 32,
     "metadata": {},
     "output_type": "execute_result"
    }
   ],
   "source": [
    "# Data to predict on\n",
    "estimate_primary_sample = df_dummies_lang.drop(['language_1'], 1)\n",
    "estimate_primary_sample.head(4)"
   ]
  },
  {
   "cell_type": "code",
   "execution_count": 33,
   "metadata": {
    "collapsed": false
   },
   "outputs": [],
   "source": [
    "# Turn language into unique integers\n",
    "df_dummies_lang['language_1_value'] = df_dummies_lang.language_1.map(langs)"
   ]
  },
  {
   "cell_type": "code",
   "execution_count": 34,
   "metadata": {
    "collapsed": false
   },
   "outputs": [
    {
     "data": {
      "text/html": [
       "<div>\n",
       "<table border=\"1\" class=\"dataframe\">\n",
       "  <thead>\n",
       "    <tr style=\"text-align: right;\">\n",
       "      <th></th>\n",
       "      <th>watchers</th>\n",
       "      <th>stars</th>\n",
       "      <th>forks</th>\n",
       "      <th>issues</th>\n",
       "      <th>size</th>\n",
       "      <th>open_issues_count</th>\n",
       "      <th>num_languages</th>\n",
       "      <th>language_1</th>\n",
       "      <th>type_Organization</th>\n",
       "      <th>type_User</th>\n",
       "      <th>language_1_value</th>\n",
       "    </tr>\n",
       "  </thead>\n",
       "  <tbody>\n",
       "    <tr>\n",
       "      <th>0</th>\n",
       "      <td>59</td>\n",
       "      <td>1883</td>\n",
       "      <td>451</td>\n",
       "      <td>3</td>\n",
       "      <td>7954</td>\n",
       "      <td>3</td>\n",
       "      <td>1</td>\n",
       "      <td>Ruby</td>\n",
       "      <td>0</td>\n",
       "      <td>1</td>\n",
       "      <td>0</td>\n",
       "    </tr>\n",
       "    <tr>\n",
       "      <th>1</th>\n",
       "      <td>3</td>\n",
       "      <td>407</td>\n",
       "      <td>54</td>\n",
       "      <td>0</td>\n",
       "      <td>3462</td>\n",
       "      <td>0</td>\n",
       "      <td>2</td>\n",
       "      <td>Ruby</td>\n",
       "      <td>0</td>\n",
       "      <td>1</td>\n",
       "      <td>0</td>\n",
       "    </tr>\n",
       "    <tr>\n",
       "      <th>2</th>\n",
       "      <td>120</td>\n",
       "      <td>2692</td>\n",
       "      <td>612</td>\n",
       "      <td>211</td>\n",
       "      <td>162886</td>\n",
       "      <td>211</td>\n",
       "      <td>13</td>\n",
       "      <td>Ruby</td>\n",
       "      <td>1</td>\n",
       "      <td>0</td>\n",
       "      <td>0</td>\n",
       "    </tr>\n",
       "    <tr>\n",
       "      <th>3</th>\n",
       "      <td>104</td>\n",
       "      <td>2036</td>\n",
       "      <td>479</td>\n",
       "      <td>112</td>\n",
       "      <td>2639</td>\n",
       "      <td>112</td>\n",
       "      <td>6</td>\n",
       "      <td>Ruby</td>\n",
       "      <td>0</td>\n",
       "      <td>1</td>\n",
       "      <td>0</td>\n",
       "    </tr>\n",
       "    <tr>\n",
       "      <th>4</th>\n",
       "      <td>2</td>\n",
       "      <td>36</td>\n",
       "      <td>2</td>\n",
       "      <td>0</td>\n",
       "      <td>192</td>\n",
       "      <td>0</td>\n",
       "      <td>2</td>\n",
       "      <td>JavaScript</td>\n",
       "      <td>0</td>\n",
       "      <td>1</td>\n",
       "      <td>1</td>\n",
       "    </tr>\n",
       "  </tbody>\n",
       "</table>\n",
       "</div>"
      ],
      "text/plain": [
       "   watchers  stars  forks  issues    size  open_issues_count  num_languages  \\\n",
       "0        59   1883    451       3    7954                  3              1   \n",
       "1         3    407     54       0    3462                  0              2   \n",
       "2       120   2692    612     211  162886                211             13   \n",
       "3       104   2036    479     112    2639                112              6   \n",
       "4         2     36      2       0     192                  0              2   \n",
       "\n",
       "   language_1  type_Organization  type_User  language_1_value  \n",
       "0        Ruby                  0          1                 0  \n",
       "1        Ruby                  0          1                 0  \n",
       "2        Ruby                  1          0                 0  \n",
       "3        Ruby                  0          1                 0  \n",
       "4  JavaScript                  0          1                 1  "
      ]
     },
     "execution_count": 34,
     "metadata": {},
     "output_type": "execute_result"
    }
   ],
   "source": [
    "df_dummies_lang.head(5)"
   ]
  },
  {
   "cell_type": "code",
   "execution_count": 35,
   "metadata": {
    "collapsed": false
   },
   "outputs": [
    {
     "data": {
      "text/html": [
       "<div>\n",
       "<table border=\"1\" class=\"dataframe\">\n",
       "  <thead>\n",
       "    <tr style=\"text-align: right;\">\n",
       "      <th></th>\n",
       "      <th>language_1</th>\n",
       "    </tr>\n",
       "  </thead>\n",
       "  <tbody>\n",
       "    <tr>\n",
       "      <th>0</th>\n",
       "      <td>0</td>\n",
       "    </tr>\n",
       "    <tr>\n",
       "      <th>1</th>\n",
       "      <td>0</td>\n",
       "    </tr>\n",
       "    <tr>\n",
       "      <th>2</th>\n",
       "      <td>0</td>\n",
       "    </tr>\n",
       "    <tr>\n",
       "      <th>3</th>\n",
       "      <td>0</td>\n",
       "    </tr>\n",
       "    <tr>\n",
       "      <th>4</th>\n",
       "      <td>1</td>\n",
       "    </tr>\n",
       "  </tbody>\n",
       "</table>\n",
       "</div>"
      ],
      "text/plain": [
       "   language_1\n",
       "0           0\n",
       "1           0\n",
       "2           0\n",
       "3           0\n",
       "4           1"
      ]
     },
     "execution_count": 35,
     "metadata": {},
     "output_type": "execute_result"
    }
   ],
   "source": [
    "language_sample = pd.DataFrame(df_dummies_lang['language_1_value'])\n",
    "language_sample.columns = ['language_1']\n",
    "language_sample.head(5)"
   ]
  },
  {
   "cell_type": "code",
   "execution_count": 22,
   "metadata": {
    "collapsed": false
   },
   "outputs": [
    {
     "name": "stdout",
     "output_type": "stream",
     "text": [
      "(111404, 9)\n",
      "Index(['language_1'], dtype='object')\n"
     ]
    }
   ],
   "source": [
    "print(estimate_primary_sample.shape)\n",
    "print(language_sample.columns)"
   ]
  },
  {
   "cell_type": "code",
   "execution_count": 23,
   "metadata": {
    "collapsed": false
   },
   "outputs": [],
   "source": [
    "estimate_primary_sample = df_dummies_lang.drop(['language_1_value'], 1)\n",
    "estimate_primary_sample = estimate_primary_sample.drop(['language_1'], 1)"
   ]
  },
  {
   "cell_type": "code",
   "execution_count": 24,
   "metadata": {
    "collapsed": false
   },
   "outputs": [
    {
     "data": {
      "text/html": [
       "<div>\n",
       "<table border=\"1\" class=\"dataframe\">\n",
       "  <thead>\n",
       "    <tr style=\"text-align: right;\">\n",
       "      <th></th>\n",
       "      <th>watchers</th>\n",
       "      <th>stars</th>\n",
       "      <th>forks</th>\n",
       "      <th>issues</th>\n",
       "      <th>size</th>\n",
       "      <th>open_issues_count</th>\n",
       "      <th>num_languages</th>\n",
       "      <th>type_Organization</th>\n",
       "      <th>type_User</th>\n",
       "    </tr>\n",
       "  </thead>\n",
       "  <tbody>\n",
       "    <tr>\n",
       "      <th>0</th>\n",
       "      <td>59</td>\n",
       "      <td>1883</td>\n",
       "      <td>451</td>\n",
       "      <td>3</td>\n",
       "      <td>7954</td>\n",
       "      <td>3</td>\n",
       "      <td>1</td>\n",
       "      <td>0</td>\n",
       "      <td>1</td>\n",
       "    </tr>\n",
       "    <tr>\n",
       "      <th>1</th>\n",
       "      <td>3</td>\n",
       "      <td>407</td>\n",
       "      <td>54</td>\n",
       "      <td>0</td>\n",
       "      <td>3462</td>\n",
       "      <td>0</td>\n",
       "      <td>2</td>\n",
       "      <td>0</td>\n",
       "      <td>1</td>\n",
       "    </tr>\n",
       "    <tr>\n",
       "      <th>2</th>\n",
       "      <td>120</td>\n",
       "      <td>2692</td>\n",
       "      <td>612</td>\n",
       "      <td>211</td>\n",
       "      <td>162886</td>\n",
       "      <td>211</td>\n",
       "      <td>13</td>\n",
       "      <td>1</td>\n",
       "      <td>0</td>\n",
       "    </tr>\n",
       "    <tr>\n",
       "      <th>3</th>\n",
       "      <td>104</td>\n",
       "      <td>2036</td>\n",
       "      <td>479</td>\n",
       "      <td>112</td>\n",
       "      <td>2639</td>\n",
       "      <td>112</td>\n",
       "      <td>6</td>\n",
       "      <td>0</td>\n",
       "      <td>1</td>\n",
       "    </tr>\n",
       "    <tr>\n",
       "      <th>4</th>\n",
       "      <td>2</td>\n",
       "      <td>36</td>\n",
       "      <td>2</td>\n",
       "      <td>0</td>\n",
       "      <td>192</td>\n",
       "      <td>0</td>\n",
       "      <td>2</td>\n",
       "      <td>0</td>\n",
       "      <td>1</td>\n",
       "    </tr>\n",
       "    <tr>\n",
       "      <th>5</th>\n",
       "      <td>2</td>\n",
       "      <td>66</td>\n",
       "      <td>5</td>\n",
       "      <td>0</td>\n",
       "      <td>156</td>\n",
       "      <td>0</td>\n",
       "      <td>1</td>\n",
       "      <td>0</td>\n",
       "      <td>1</td>\n",
       "    </tr>\n",
       "    <tr>\n",
       "      <th>6</th>\n",
       "      <td>1</td>\n",
       "      <td>239</td>\n",
       "      <td>86</td>\n",
       "      <td>2</td>\n",
       "      <td>232</td>\n",
       "      <td>2</td>\n",
       "      <td>2</td>\n",
       "      <td>0</td>\n",
       "      <td>1</td>\n",
       "    </tr>\n",
       "    <tr>\n",
       "      <th>7</th>\n",
       "      <td>2</td>\n",
       "      <td>151</td>\n",
       "      <td>16</td>\n",
       "      <td>1</td>\n",
       "      <td>473</td>\n",
       "      <td>1</td>\n",
       "      <td>2</td>\n",
       "      <td>0</td>\n",
       "      <td>1</td>\n",
       "    </tr>\n",
       "    <tr>\n",
       "      <th>8</th>\n",
       "      <td>16</td>\n",
       "      <td>1629</td>\n",
       "      <td>283</td>\n",
       "      <td>27</td>\n",
       "      <td>1208</td>\n",
       "      <td>27</td>\n",
       "      <td>1</td>\n",
       "      <td>0</td>\n",
       "      <td>1</td>\n",
       "    </tr>\n",
       "    <tr>\n",
       "      <th>9</th>\n",
       "      <td>7</td>\n",
       "      <td>1036</td>\n",
       "      <td>309</td>\n",
       "      <td>37</td>\n",
       "      <td>1008</td>\n",
       "      <td>37</td>\n",
       "      <td>1</td>\n",
       "      <td>0</td>\n",
       "      <td>1</td>\n",
       "    </tr>\n",
       "  </tbody>\n",
       "</table>\n",
       "</div>"
      ],
      "text/plain": [
       "   watchers  stars  forks  issues    size  open_issues_count  num_languages  \\\n",
       "0        59   1883    451       3    7954                  3              1   \n",
       "1         3    407     54       0    3462                  0              2   \n",
       "2       120   2692    612     211  162886                211             13   \n",
       "3       104   2036    479     112    2639                112              6   \n",
       "4         2     36      2       0     192                  0              2   \n",
       "5         2     66      5       0     156                  0              1   \n",
       "6         1    239     86       2     232                  2              2   \n",
       "7         2    151     16       1     473                  1              2   \n",
       "8        16   1629    283      27    1208                 27              1   \n",
       "9         7   1036    309      37    1008                 37              1   \n",
       "\n",
       "   type_Organization  type_User  \n",
       "0                  0          1  \n",
       "1                  0          1  \n",
       "2                  1          0  \n",
       "3                  0          1  \n",
       "4                  0          1  \n",
       "5                  0          1  \n",
       "6                  0          1  \n",
       "7                  0          1  \n",
       "8                  0          1  \n",
       "9                  0          1  "
      ]
     },
     "execution_count": 24,
     "metadata": {},
     "output_type": "execute_result"
    }
   ],
   "source": [
    "estimate_primary_sample.head(10)"
   ]
  },
  {
   "cell_type": "code",
   "execution_count": 25,
   "metadata": {
    "collapsed": false
   },
   "outputs": [
    {
     "data": {
      "text/html": [
       "<div>\n",
       "<table border=\"1\" class=\"dataframe\">\n",
       "  <thead>\n",
       "    <tr style=\"text-align: right;\">\n",
       "      <th></th>\n",
       "      <th>language_1</th>\n",
       "    </tr>\n",
       "  </thead>\n",
       "  <tbody>\n",
       "    <tr>\n",
       "      <th>0</th>\n",
       "      <td>0</td>\n",
       "    </tr>\n",
       "    <tr>\n",
       "      <th>1</th>\n",
       "      <td>0</td>\n",
       "    </tr>\n",
       "    <tr>\n",
       "      <th>2</th>\n",
       "      <td>0</td>\n",
       "    </tr>\n",
       "    <tr>\n",
       "      <th>3</th>\n",
       "      <td>0</td>\n",
       "    </tr>\n",
       "    <tr>\n",
       "      <th>4</th>\n",
       "      <td>1</td>\n",
       "    </tr>\n",
       "    <tr>\n",
       "      <th>5</th>\n",
       "      <td>1</td>\n",
       "    </tr>\n",
       "    <tr>\n",
       "      <th>6</th>\n",
       "      <td>0</td>\n",
       "    </tr>\n",
       "    <tr>\n",
       "      <th>7</th>\n",
       "      <td>0</td>\n",
       "    </tr>\n",
       "    <tr>\n",
       "      <th>8</th>\n",
       "      <td>0</td>\n",
       "    </tr>\n",
       "    <tr>\n",
       "      <th>9</th>\n",
       "      <td>0</td>\n",
       "    </tr>\n",
       "  </tbody>\n",
       "</table>\n",
       "</div>"
      ],
      "text/plain": [
       "   language_1\n",
       "0           0\n",
       "1           0\n",
       "2           0\n",
       "3           0\n",
       "4           1\n",
       "5           1\n",
       "6           0\n",
       "7           0\n",
       "8           0\n",
       "9           0"
      ]
     },
     "execution_count": 25,
     "metadata": {},
     "output_type": "execute_result"
    }
   ],
   "source": [
    "language_sample.head(10)"
   ]
  },
  {
   "cell_type": "code",
   "execution_count": 1,
   "metadata": {
    "collapsed": false
   },
   "outputs": [
    {
     "ename": "NameError",
     "evalue": "name 'train_test_split' is not defined",
     "output_type": "error",
     "traceback": [
      "\u001b[0;31m---------------------------------------------------------------------------\u001b[0m",
      "\u001b[0;31mNameError\u001b[0m                                 Traceback (most recent call last)",
      "\u001b[0;32m<ipython-input-1-a67c97ff98c6>\u001b[0m in \u001b[0;36m<module>\u001b[0;34m()\u001b[0m\n\u001b[0;32m----> 1\u001b[0;31m \u001b[0mX_train\u001b[0m\u001b[0;34m,\u001b[0m \u001b[0mX_test\u001b[0m\u001b[0;34m,\u001b[0m \u001b[0my_train\u001b[0m\u001b[0;34m,\u001b[0m \u001b[0my_test\u001b[0m \u001b[0;34m=\u001b[0m \u001b[0mtrain_test_split\u001b[0m\u001b[0;34m(\u001b[0m\u001b[0mestimate_primary_sample\u001b[0m\u001b[0;34m,\u001b[0m \u001b[0mlanguage_sample\u001b[0m\u001b[0;34m,\u001b[0m \u001b[0mtest_size\u001b[0m\u001b[0;34m=\u001b[0m\u001b[0;36m0.4\u001b[0m\u001b[0;34m,\u001b[0m \u001b[0mrandom_state\u001b[0m\u001b[0;34m=\u001b[0m\u001b[0;36m0\u001b[0m\u001b[0;34m)\u001b[0m\u001b[0;34m\u001b[0m\u001b[0m\n\u001b[0m",
      "\u001b[0;31mNameError\u001b[0m: name 'train_test_split' is not defined"
     ]
    }
   ],
   "source": [
    "X_train, X_test, y_train, y_test = train_test_split(estimate_primary_sample, language_sample, test_size=0.4, random_state=0)"
   ]
  },
  {
   "cell_type": "code",
   "execution_count": 27,
   "metadata": {
    "collapsed": false
   },
   "outputs": [
    {
     "name": "stdout",
     "output_type": "stream",
     "text": [
      "KNN test accuracy on prediction of primary language, k = 15, acc = 0.3097257753242673: \n",
      "KNN test accuracy on prediction of primary language, k = 16, acc = 0.313832413266909: \n"
     ]
    },
    {
     "ename": "KeyboardInterrupt",
     "evalue": "",
     "output_type": "error",
     "traceback": [
      "\u001b[0;31m---------------------------------------------------------------------------\u001b[0m",
      "\u001b[0;31mKeyboardInterrupt\u001b[0m                         Traceback (most recent call last)",
      "\u001b[0;32m<ipython-input-27-d44ba489d97c>\u001b[0m in \u001b[0;36m<module>\u001b[0;34m()\u001b[0m\n\u001b[1;32m      5\u001b[0m     \u001b[0my_digits_test_pred\u001b[0m \u001b[0;34m=\u001b[0m \u001b[0mknn_digits\u001b[0m\u001b[0;34m.\u001b[0m\u001b[0mpredict\u001b[0m\u001b[0;34m(\u001b[0m\u001b[0mX_test\u001b[0m\u001b[0;34m)\u001b[0m\u001b[0;34m\u001b[0m\u001b[0m\n\u001b[1;32m      6\u001b[0m     print(\"KNN test accuracy on prediction of primary language, k = {}, acc = {}: \".format(\n\u001b[0;32m----> 7\u001b[0;31m             k,knn_digits.score(X_test, y_test)))\n\u001b[0m\u001b[1;32m      8\u001b[0m     \u001b[0macc\u001b[0m\u001b[0;34m.\u001b[0m\u001b[0mappend\u001b[0m\u001b[0;34m(\u001b[0m\u001b[0mknn_digits\u001b[0m\u001b[0;34m.\u001b[0m\u001b[0mscore\u001b[0m\u001b[0;34m(\u001b[0m\u001b[0mX_test\u001b[0m\u001b[0;34m,\u001b[0m \u001b[0my_test\u001b[0m\u001b[0;34m)\u001b[0m\u001b[0;34m)\u001b[0m\u001b[0;34m\u001b[0m\u001b[0m\n",
      "\u001b[0;32m/home/ubuntu/anaconda3/lib/python3.6/site-packages/sklearn/base.py\u001b[0m in \u001b[0;36mscore\u001b[0;34m(self, X, y, sample_weight)\u001b[0m\n\u001b[1;32m    347\u001b[0m         \"\"\"\n\u001b[1;32m    348\u001b[0m         \u001b[0;32mfrom\u001b[0m \u001b[0;34m.\u001b[0m\u001b[0mmetrics\u001b[0m \u001b[0;32mimport\u001b[0m \u001b[0maccuracy_score\u001b[0m\u001b[0;34m\u001b[0m\u001b[0m\n\u001b[0;32m--> 349\u001b[0;31m         \u001b[0;32mreturn\u001b[0m \u001b[0maccuracy_score\u001b[0m\u001b[0;34m(\u001b[0m\u001b[0my\u001b[0m\u001b[0;34m,\u001b[0m \u001b[0mself\u001b[0m\u001b[0;34m.\u001b[0m\u001b[0mpredict\u001b[0m\u001b[0;34m(\u001b[0m\u001b[0mX\u001b[0m\u001b[0;34m)\u001b[0m\u001b[0;34m,\u001b[0m \u001b[0msample_weight\u001b[0m\u001b[0;34m=\u001b[0m\u001b[0msample_weight\u001b[0m\u001b[0;34m)\u001b[0m\u001b[0;34m\u001b[0m\u001b[0m\n\u001b[0m\u001b[1;32m    350\u001b[0m \u001b[0;34m\u001b[0m\u001b[0m\n\u001b[1;32m    351\u001b[0m \u001b[0;34m\u001b[0m\u001b[0m\n",
      "\u001b[0;32m/home/ubuntu/anaconda3/lib/python3.6/site-packages/sklearn/neighbors/classification.py\u001b[0m in \u001b[0;36mpredict\u001b[0;34m(self, X)\u001b[0m\n\u001b[1;32m    143\u001b[0m         \u001b[0mX\u001b[0m \u001b[0;34m=\u001b[0m \u001b[0mcheck_array\u001b[0m\u001b[0;34m(\u001b[0m\u001b[0mX\u001b[0m\u001b[0;34m,\u001b[0m \u001b[0maccept_sparse\u001b[0m\u001b[0;34m=\u001b[0m\u001b[0;34m'csr'\u001b[0m\u001b[0;34m)\u001b[0m\u001b[0;34m\u001b[0m\u001b[0m\n\u001b[1;32m    144\u001b[0m \u001b[0;34m\u001b[0m\u001b[0m\n\u001b[0;32m--> 145\u001b[0;31m         \u001b[0mneigh_dist\u001b[0m\u001b[0;34m,\u001b[0m \u001b[0mneigh_ind\u001b[0m \u001b[0;34m=\u001b[0m \u001b[0mself\u001b[0m\u001b[0;34m.\u001b[0m\u001b[0mkneighbors\u001b[0m\u001b[0;34m(\u001b[0m\u001b[0mX\u001b[0m\u001b[0;34m)\u001b[0m\u001b[0;34m\u001b[0m\u001b[0m\n\u001b[0m\u001b[1;32m    146\u001b[0m \u001b[0;34m\u001b[0m\u001b[0m\n\u001b[1;32m    147\u001b[0m         \u001b[0mclasses_\u001b[0m \u001b[0;34m=\u001b[0m \u001b[0mself\u001b[0m\u001b[0;34m.\u001b[0m\u001b[0mclasses_\u001b[0m\u001b[0;34m\u001b[0m\u001b[0m\n",
      "\u001b[0;32m/home/ubuntu/anaconda3/lib/python3.6/site-packages/sklearn/neighbors/base.py\u001b[0m in \u001b[0;36mkneighbors\u001b[0;34m(self, X, n_neighbors, return_distance)\u001b[0m\n\u001b[1;32m    379\u001b[0m                 delayed(self._tree.query, check_pickle=False)(\n\u001b[1;32m    380\u001b[0m                     X[s], n_neighbors, return_distance)\n\u001b[0;32m--> 381\u001b[0;31m                 \u001b[0;32mfor\u001b[0m \u001b[0ms\u001b[0m \u001b[0;32min\u001b[0m \u001b[0mgen_even_slices\u001b[0m\u001b[0;34m(\u001b[0m\u001b[0mX\u001b[0m\u001b[0;34m.\u001b[0m\u001b[0mshape\u001b[0m\u001b[0;34m[\u001b[0m\u001b[0;36m0\u001b[0m\u001b[0;34m]\u001b[0m\u001b[0;34m,\u001b[0m \u001b[0mn_jobs\u001b[0m\u001b[0;34m)\u001b[0m\u001b[0;34m\u001b[0m\u001b[0m\n\u001b[0m\u001b[1;32m    382\u001b[0m             )\n\u001b[1;32m    383\u001b[0m             \u001b[0;32mif\u001b[0m \u001b[0mreturn_distance\u001b[0m\u001b[0;34m:\u001b[0m\u001b[0;34m\u001b[0m\u001b[0m\n",
      "\u001b[0;32m/home/ubuntu/anaconda3/lib/python3.6/site-packages/sklearn/externals/joblib/parallel.py\u001b[0m in \u001b[0;36m__call__\u001b[0;34m(self, iterable)\u001b[0m\n\u001b[1;32m    756\u001b[0m             \u001b[0;31m# was dispatched. In particular this covers the edge\u001b[0m\u001b[0;34m\u001b[0m\u001b[0;34m\u001b[0m\u001b[0m\n\u001b[1;32m    757\u001b[0m             \u001b[0;31m# case of Parallel used with an exhausted iterator.\u001b[0m\u001b[0;34m\u001b[0m\u001b[0;34m\u001b[0m\u001b[0m\n\u001b[0;32m--> 758\u001b[0;31m             \u001b[0;32mwhile\u001b[0m \u001b[0mself\u001b[0m\u001b[0;34m.\u001b[0m\u001b[0mdispatch_one_batch\u001b[0m\u001b[0;34m(\u001b[0m\u001b[0miterator\u001b[0m\u001b[0;34m)\u001b[0m\u001b[0;34m:\u001b[0m\u001b[0;34m\u001b[0m\u001b[0m\n\u001b[0m\u001b[1;32m    759\u001b[0m                 \u001b[0mself\u001b[0m\u001b[0;34m.\u001b[0m\u001b[0m_iterating\u001b[0m \u001b[0;34m=\u001b[0m \u001b[0;32mTrue\u001b[0m\u001b[0;34m\u001b[0m\u001b[0m\n\u001b[1;32m    760\u001b[0m             \u001b[0;32melse\u001b[0m\u001b[0;34m:\u001b[0m\u001b[0;34m\u001b[0m\u001b[0m\n",
      "\u001b[0;32m/home/ubuntu/anaconda3/lib/python3.6/site-packages/sklearn/externals/joblib/parallel.py\u001b[0m in \u001b[0;36mdispatch_one_batch\u001b[0;34m(self, iterator)\u001b[0m\n\u001b[1;32m    606\u001b[0m                 \u001b[0;32mreturn\u001b[0m \u001b[0;32mFalse\u001b[0m\u001b[0;34m\u001b[0m\u001b[0m\n\u001b[1;32m    607\u001b[0m             \u001b[0;32melse\u001b[0m\u001b[0;34m:\u001b[0m\u001b[0;34m\u001b[0m\u001b[0m\n\u001b[0;32m--> 608\u001b[0;31m                 \u001b[0mself\u001b[0m\u001b[0;34m.\u001b[0m\u001b[0m_dispatch\u001b[0m\u001b[0;34m(\u001b[0m\u001b[0mtasks\u001b[0m\u001b[0;34m)\u001b[0m\u001b[0;34m\u001b[0m\u001b[0m\n\u001b[0m\u001b[1;32m    609\u001b[0m                 \u001b[0;32mreturn\u001b[0m \u001b[0;32mTrue\u001b[0m\u001b[0;34m\u001b[0m\u001b[0m\n\u001b[1;32m    610\u001b[0m \u001b[0;34m\u001b[0m\u001b[0m\n",
      "\u001b[0;32m/home/ubuntu/anaconda3/lib/python3.6/site-packages/sklearn/externals/joblib/parallel.py\u001b[0m in \u001b[0;36m_dispatch\u001b[0;34m(self, batch)\u001b[0m\n\u001b[1;32m    569\u001b[0m         \u001b[0mdispatch_timestamp\u001b[0m \u001b[0;34m=\u001b[0m \u001b[0mtime\u001b[0m\u001b[0;34m.\u001b[0m\u001b[0mtime\u001b[0m\u001b[0;34m(\u001b[0m\u001b[0;34m)\u001b[0m\u001b[0;34m\u001b[0m\u001b[0m\n\u001b[1;32m    570\u001b[0m         \u001b[0mcb\u001b[0m \u001b[0;34m=\u001b[0m \u001b[0mBatchCompletionCallBack\u001b[0m\u001b[0;34m(\u001b[0m\u001b[0mdispatch_timestamp\u001b[0m\u001b[0;34m,\u001b[0m \u001b[0mlen\u001b[0m\u001b[0;34m(\u001b[0m\u001b[0mbatch\u001b[0m\u001b[0;34m)\u001b[0m\u001b[0;34m,\u001b[0m \u001b[0mself\u001b[0m\u001b[0;34m)\u001b[0m\u001b[0;34m\u001b[0m\u001b[0m\n\u001b[0;32m--> 571\u001b[0;31m         \u001b[0mjob\u001b[0m \u001b[0;34m=\u001b[0m \u001b[0mself\u001b[0m\u001b[0;34m.\u001b[0m\u001b[0m_backend\u001b[0m\u001b[0;34m.\u001b[0m\u001b[0mapply_async\u001b[0m\u001b[0;34m(\u001b[0m\u001b[0mbatch\u001b[0m\u001b[0;34m,\u001b[0m \u001b[0mcallback\u001b[0m\u001b[0;34m=\u001b[0m\u001b[0mcb\u001b[0m\u001b[0;34m)\u001b[0m\u001b[0;34m\u001b[0m\u001b[0m\n\u001b[0m\u001b[1;32m    572\u001b[0m         \u001b[0mself\u001b[0m\u001b[0;34m.\u001b[0m\u001b[0m_jobs\u001b[0m\u001b[0;34m.\u001b[0m\u001b[0mappend\u001b[0m\u001b[0;34m(\u001b[0m\u001b[0mjob\u001b[0m\u001b[0;34m)\u001b[0m\u001b[0;34m\u001b[0m\u001b[0m\n\u001b[1;32m    573\u001b[0m \u001b[0;34m\u001b[0m\u001b[0m\n",
      "\u001b[0;32m/home/ubuntu/anaconda3/lib/python3.6/site-packages/sklearn/externals/joblib/_parallel_backends.py\u001b[0m in \u001b[0;36mapply_async\u001b[0;34m(self, func, callback)\u001b[0m\n\u001b[1;32m    107\u001b[0m     \u001b[0;32mdef\u001b[0m \u001b[0mapply_async\u001b[0m\u001b[0;34m(\u001b[0m\u001b[0mself\u001b[0m\u001b[0;34m,\u001b[0m \u001b[0mfunc\u001b[0m\u001b[0;34m,\u001b[0m \u001b[0mcallback\u001b[0m\u001b[0;34m=\u001b[0m\u001b[0;32mNone\u001b[0m\u001b[0;34m)\u001b[0m\u001b[0;34m:\u001b[0m\u001b[0;34m\u001b[0m\u001b[0m\n\u001b[1;32m    108\u001b[0m         \u001b[0;34m\"\"\"Schedule a func to be run\"\"\"\u001b[0m\u001b[0;34m\u001b[0m\u001b[0m\n\u001b[0;32m--> 109\u001b[0;31m         \u001b[0mresult\u001b[0m \u001b[0;34m=\u001b[0m \u001b[0mImmediateResult\u001b[0m\u001b[0;34m(\u001b[0m\u001b[0mfunc\u001b[0m\u001b[0;34m)\u001b[0m\u001b[0;34m\u001b[0m\u001b[0m\n\u001b[0m\u001b[1;32m    110\u001b[0m         \u001b[0;32mif\u001b[0m \u001b[0mcallback\u001b[0m\u001b[0;34m:\u001b[0m\u001b[0;34m\u001b[0m\u001b[0m\n\u001b[1;32m    111\u001b[0m             \u001b[0mcallback\u001b[0m\u001b[0;34m(\u001b[0m\u001b[0mresult\u001b[0m\u001b[0;34m)\u001b[0m\u001b[0;34m\u001b[0m\u001b[0m\n",
      "\u001b[0;32m/home/ubuntu/anaconda3/lib/python3.6/site-packages/sklearn/externals/joblib/_parallel_backends.py\u001b[0m in \u001b[0;36m__init__\u001b[0;34m(self, batch)\u001b[0m\n\u001b[1;32m    324\u001b[0m         \u001b[0;31m# Don't delay the application, to avoid keeping the input\u001b[0m\u001b[0;34m\u001b[0m\u001b[0;34m\u001b[0m\u001b[0m\n\u001b[1;32m    325\u001b[0m         \u001b[0;31m# arguments in memory\u001b[0m\u001b[0;34m\u001b[0m\u001b[0;34m\u001b[0m\u001b[0m\n\u001b[0;32m--> 326\u001b[0;31m         \u001b[0mself\u001b[0m\u001b[0;34m.\u001b[0m\u001b[0mresults\u001b[0m \u001b[0;34m=\u001b[0m \u001b[0mbatch\u001b[0m\u001b[0;34m(\u001b[0m\u001b[0;34m)\u001b[0m\u001b[0;34m\u001b[0m\u001b[0m\n\u001b[0m\u001b[1;32m    327\u001b[0m \u001b[0;34m\u001b[0m\u001b[0m\n\u001b[1;32m    328\u001b[0m     \u001b[0;32mdef\u001b[0m \u001b[0mget\u001b[0m\u001b[0;34m(\u001b[0m\u001b[0mself\u001b[0m\u001b[0;34m)\u001b[0m\u001b[0;34m:\u001b[0m\u001b[0;34m\u001b[0m\u001b[0m\n",
      "\u001b[0;32m/home/ubuntu/anaconda3/lib/python3.6/site-packages/sklearn/externals/joblib/parallel.py\u001b[0m in \u001b[0;36m__call__\u001b[0;34m(self)\u001b[0m\n\u001b[1;32m    129\u001b[0m \u001b[0;34m\u001b[0m\u001b[0m\n\u001b[1;32m    130\u001b[0m     \u001b[0;32mdef\u001b[0m \u001b[0m__call__\u001b[0m\u001b[0;34m(\u001b[0m\u001b[0mself\u001b[0m\u001b[0;34m)\u001b[0m\u001b[0;34m:\u001b[0m\u001b[0;34m\u001b[0m\u001b[0m\n\u001b[0;32m--> 131\u001b[0;31m         \u001b[0;32mreturn\u001b[0m \u001b[0;34m[\u001b[0m\u001b[0mfunc\u001b[0m\u001b[0;34m(\u001b[0m\u001b[0;34m*\u001b[0m\u001b[0margs\u001b[0m\u001b[0;34m,\u001b[0m \u001b[0;34m**\u001b[0m\u001b[0mkwargs\u001b[0m\u001b[0;34m)\u001b[0m \u001b[0;32mfor\u001b[0m \u001b[0mfunc\u001b[0m\u001b[0;34m,\u001b[0m \u001b[0margs\u001b[0m\u001b[0;34m,\u001b[0m \u001b[0mkwargs\u001b[0m \u001b[0;32min\u001b[0m \u001b[0mself\u001b[0m\u001b[0;34m.\u001b[0m\u001b[0mitems\u001b[0m\u001b[0;34m]\u001b[0m\u001b[0;34m\u001b[0m\u001b[0m\n\u001b[0m\u001b[1;32m    132\u001b[0m \u001b[0;34m\u001b[0m\u001b[0m\n\u001b[1;32m    133\u001b[0m     \u001b[0;32mdef\u001b[0m \u001b[0m__len__\u001b[0m\u001b[0;34m(\u001b[0m\u001b[0mself\u001b[0m\u001b[0;34m)\u001b[0m\u001b[0;34m:\u001b[0m\u001b[0;34m\u001b[0m\u001b[0m\n",
      "\u001b[0;32m/home/ubuntu/anaconda3/lib/python3.6/site-packages/sklearn/externals/joblib/parallel.py\u001b[0m in \u001b[0;36m<listcomp>\u001b[0;34m(.0)\u001b[0m\n\u001b[1;32m    129\u001b[0m \u001b[0;34m\u001b[0m\u001b[0m\n\u001b[1;32m    130\u001b[0m     \u001b[0;32mdef\u001b[0m \u001b[0m__call__\u001b[0m\u001b[0;34m(\u001b[0m\u001b[0mself\u001b[0m\u001b[0;34m)\u001b[0m\u001b[0;34m:\u001b[0m\u001b[0;34m\u001b[0m\u001b[0m\n\u001b[0;32m--> 131\u001b[0;31m         \u001b[0;32mreturn\u001b[0m \u001b[0;34m[\u001b[0m\u001b[0mfunc\u001b[0m\u001b[0;34m(\u001b[0m\u001b[0;34m*\u001b[0m\u001b[0margs\u001b[0m\u001b[0;34m,\u001b[0m \u001b[0;34m**\u001b[0m\u001b[0mkwargs\u001b[0m\u001b[0;34m)\u001b[0m \u001b[0;32mfor\u001b[0m \u001b[0mfunc\u001b[0m\u001b[0;34m,\u001b[0m \u001b[0margs\u001b[0m\u001b[0;34m,\u001b[0m \u001b[0mkwargs\u001b[0m \u001b[0;32min\u001b[0m \u001b[0mself\u001b[0m\u001b[0;34m.\u001b[0m\u001b[0mitems\u001b[0m\u001b[0;34m]\u001b[0m\u001b[0;34m\u001b[0m\u001b[0m\n\u001b[0m\u001b[1;32m    132\u001b[0m \u001b[0;34m\u001b[0m\u001b[0m\n\u001b[1;32m    133\u001b[0m     \u001b[0;32mdef\u001b[0m \u001b[0m__len__\u001b[0m\u001b[0;34m(\u001b[0m\u001b[0mself\u001b[0m\u001b[0;34m)\u001b[0m\u001b[0;34m:\u001b[0m\u001b[0;34m\u001b[0m\u001b[0m\n",
      "\u001b[0;31mKeyboardInterrupt\u001b[0m: "
     ]
    }
   ],
   "source": [
    "acc = []\n",
    "for k in range(15,50):\n",
    "    knn_digits = KNeighborsClassifier(n_neighbors=k)\n",
    "    knn_digits.fit(X_train, pd.Series.ravel(y_train))\n",
    "    y_digits_test_pred = knn_digits.predict(X_test)\n",
    "    print(\"KNN test accuracy on prediction of primary language, k = {}, acc = {}: \".format(\n",
    "            k,knn_digits.score(X_test, y_test)))\n",
    "    acc.append(knn_digits.score(X_test, y_test))"
   ]
  },
  {
   "cell_type": "code",
   "execution_count": 415,
   "metadata": {
    "collapsed": false
   },
   "outputs": [
    {
     "name": "stdout",
     "output_type": "stream",
     "text": [
      "KNN test accuracy on prediction of primary language, k = 50, acc = 0.3274314438310668: \n",
      "KNN test accuracy on prediction of primary language, k = 51, acc = 0.3267133432072169: \n",
      "KNN test accuracy on prediction of primary language, k = 52, acc = 0.3273416812530856: \n",
      "KNN test accuracy on prediction of primary language, k = 53, acc = 0.32767829092051526: \n",
      "KNN test accuracy on prediction of primary language, k = 54, acc = 0.3276334096315246: \n",
      "KNN test accuracy on prediction of primary language, k = 55, acc = 0.32788025672097304: \n",
      "KNN test accuracy on prediction of primary language, k = 56, acc = 0.3283066289663839: \n",
      "KNN test accuracy on prediction of primary language, k = 57, acc = 0.3289125263677573: \n",
      "KNN test accuracy on prediction of primary language, k = 58, acc = 0.32889008572326195: \n",
      "KNN test accuracy on prediction of primary language, k = 59, acc = 0.3289574076567479: \n",
      "KNN test accuracy on prediction of primary language, k = 60, acc = 0.32886764507876665: \n",
      "KNN test accuracy on prediction of primary language, k = 61, acc = 0.3289574076567479: \n",
      "KNN test accuracy on prediction of primary language, k = 62, acc = 0.32866567927830886: \n",
      "KNN test accuracy on prediction of primary language, k = 63, acc = 0.3284861541223464: \n",
      "KNN test accuracy on prediction of primary language, k = 64, acc = 0.32875544185629013: \n",
      "KNN test accuracy on prediction of primary language, k = 65, acc = 0.32873300121179483: \n",
      "KNN test accuracy on prediction of primary language, k = 66, acc = 0.32862079798931826: \n",
      "KNN test accuracy on prediction of primary language, k = 67, acc = 0.32886764507876665: \n",
      "KNN test accuracy on prediction of primary language, k = 68, acc = 0.32877788250078543: \n",
      "KNN test accuracy on prediction of primary language, k = 69, acc = 0.3293613392576635: \n",
      "KNN test accuracy on prediction of primary language, k = 70, acc = 0.3293388986131682: \n",
      "KNN test accuracy on prediction of primary language, k = 71, acc = 0.3294286611911494: \n",
      "KNN test accuracy on prediction of primary language, k = 72, acc = 0.32889008572326195: \n",
      "KNN test accuracy on prediction of primary language, k = 73, acc = 0.3292266953906916: \n",
      "KNN test accuracy on prediction of primary language, k = 74, acc = 0.3293388986131682: \n"
     ]
    }
   ],
   "source": [
    "acc_2 = []\n",
    "for k in range(50,75):\n",
    "    knn_digits = KNeighborsClassifier(n_neighbors=k)\n",
    "    knn_digits.fit(X_train, pd.Series.ravel(y_train))\n",
    "    y_digits_test_pred = knn_digits.predict(X_test)\n",
    "    print(\"KNN test accuracy on prediction of primary language, k = {}, acc = {}: \".format(\n",
    "            k,knn_digits.score(X_test, y_test)))\n",
    "    acc_2.append(knn_digits.score(X_test, y_test))"
   ]
  },
  {
   "cell_type": "code",
   "execution_count": 390,
   "metadata": {
    "collapsed": false
   },
   "outputs": [
    {
     "data": {
      "image/png": "iVBORw0KGgoAAAANSUhEUgAAAiYAAAGJCAYAAAC+bPjgAAAABHNCSVQICAgIfAhkiAAAAAlwSFlz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\nTkSuQmCC\n",
      "text/plain": [
       "<matplotlib.figure.Figure at 0x45f082f98>"
      ]
     },
     "metadata": {},
     "output_type": "display_data"
    }
   ],
   "source": [
    "x_labels = [i for i in range(35)]\n",
    "plt.plot(x_labels, acc, '.')\n",
    "plt.xlabel('k')\n",
    "_=plt.ylabel('Accuracy')\n",
    "plt.title(\"Accuracy of KNeighborsClassifier\")\n",
    "plt.savefig('knn_acc_lang.png')\n",
    "plt.show()"
   ]
  },
  {
   "cell_type": "markdown",
   "metadata": {},
   "source": [
    "## Decision Tree"
   ]
  },
  {
   "cell_type": "code",
   "execution_count": 416,
   "metadata": {
    "collapsed": false
   },
   "outputs": [
    {
     "name": "stdout",
     "output_type": "stream",
     "text": [
      "DT accuracy on test data:  0.262892150263\n",
      "DT accuracy on training data:  0.782651626223\n"
     ]
    }
   ],
   "source": [
    "dtc = tree.DecisionTreeClassifier()\n",
    "dtc.fit(X_train,y_train)\n",
    "y_pred_test = dtc.predict(X_test)\n",
    "print('DT accuracy on test data: ', dtc.score(X_test, y_test))\n",
    "y_pred_train = dtc.predict(X_train)\n",
    "print('DT accuracy on training data: ', dtc.score(X_train, y_train))"
   ]
  },
  {
   "cell_type": "code",
   "execution_count": 446,
   "metadata": {
    "collapsed": false
   },
   "outputs": [
    {
     "name": "stdout",
     "output_type": "stream",
     "text": [
      "emacsmirror\t 1 stars\t459 repos\n",
      "emacsattic\t 1 stars\t184 repos\n",
      "bitweaver\t 5 stars\t156 repos\n",
      "albertobraschi\t 1 stars\t96 repos\n",
      "rafl\t 4 stars\t91 repos\n",
      "nothingmuch\t 6 stars\t90 repos\n",
      "apache\t 172 stars\t85 repos\n",
      "drnic\t 35 stars\t85 repos\n",
      "textmate\t 14 stars\t84 repos\n",
      "edavis10\t 40 stars\t84 repos\n",
      "tokuhirom\t 5 stars\t83 repos\n",
      "rjbs\t 5 stars\t80 repos\n",
      "endevver\t 2 stars\t75 repos\n",
      "kristianmandrup\t 2 stars\t73 repos\n",
      "jrockway\t 7 stars\t72 repos\n",
      "smtlaissezfaire\t 7 stars\t72 repos\n",
      "dustin\t 28 stars\t69 repos\n",
      "avar\t 2 stars\t69 repos\n",
      "bestpractical\t 3 stars\t68 repos\n",
      "miyagawa\t 28 stars\t65 repos\n"
     ]
    },
    {
     "data": {
      "text/plain": [
       "<matplotlib.axes._subplots.AxesSubplot at 0x4678344e0>"
      ]
     },
     "execution_count": 446,
     "metadata": {},
     "output_type": "execute_result"
    },
    {
     "data": {
      "image/png": "iVBORw0KGgoAAAANSUhEUgAAAgUAAAF9CAYAAACUBRs8AAAABHNCSVQICAgIfAhkiAAAAAlwSFlz\nAAAPYQAAD2EBqD+naQAAIABJREFUeJzt3XmYXGWd6PFvVXdSSTrp0GGAhM2AwAs4jiBgQDYBR4dn\nBNHrFfcrKC7gMvg4enEBFXUQcXAZEUWUq4w64ygguF3Ee0G8IGAAF+BVSABJQiQkpEPT6e7qqvvH\nOdWprvRS1V3prj79/TxPnlSd91Sd86uTdP369y4nVy6XkSRJyk/3CUiSpNZgUiBJkgCTAkmSlDIp\nkCRJgEmBJElKmRRIkiTApECSJKVMCiRJEmBSIEmSUu0TfWEIoQDcBZwTY7wl3XYscClwIPAn4J9j\njDdVvebFafu+wG3AWTHG1RM/fUmS1CwTqhSkCcF3gYOrtu0C/Aj4DvC3wPeB60IIu6ftewHXAFcC\nhwMbgGsnc/KSJKl5Gk4KQggHAbcD+9Q0HQ0MxBj/Ncb4cIzxX4CtwJFp+1uBO2OMn48x3g+cASwP\nIRw38dOXJEnNMpFKwfHATcBRQK5q+5PAziGEVwCEEE4DFgK/S9uPBG6p7Bxj7AVWpu8jSZKmWcNj\nCmKMl1cehxCqt/8qhHAZ8F8hhBJJwnFGjPHBdJdlwNqat1sP7NnoOUiSpOZr2uyDEMJCkgGE5wNH\nAJ8CvhRCOCDdZQHQV/OyPqDQrHOQJEkTN+HZByP4IECM8VPp83tCCEcC7wXOIRlfUJsAFIBN9R6g\nXC6Xc7nc+DtKkqRa436BNjMpeD5wb822u4HnpI/XAEtr2pem+9Rl48Ye8vnxk4K2tjydnfPp7u5l\ncLBU79vPSMaaTcaaTcaaTTMl1q6ujnH3aWZSsJaqKYqpA4HKOgS3A8dUGkIIC4BDgQvqPUCpVKZU\nKtd9QoODJYrF1r1AzWSs2WSs2WSs2ZSFWJuZFHwd+FUI4b0k6xW8HHgpcEja/g3g/SGEDwA3kCQD\nD8UYb27iOUiSpAma7EDDoV/bY4y/AV4JvJmkG+H1wMkxxgfS9kfS9jOBO4CdgFdM8viSJKlJJlUp\niDG21Ty/gaQKMNr+PyfpUpAkSS3GGyJJkiTApECSJKVMCiRJEmBSIEmSUiYFkiQJMCmQJGna9Wwd\n4I+rN1Kc5hURTQokSZpmV1x/H5/7j3v45W8fm9bzMCloUStX3sWjjz483achSZoCazf0ALD+qd5p\nPQ+Tghb13ve+k40bN073aUiSpsBgA/f12ZFMCiRJmmatkhQ084ZImoDvf/97/Md//DsbN27k2c9+\nNu9+9/u48MLzAXjPe97BGWecxRlnnMX111/L9753NWvXrqGjo4MTT/x7zj33AwCcd9559PUNEGNk\n48Yn+cpXruSBB+7jyiu/yuOPP84ee+zB2952Nsce+6JpjFSSNJpWueVyZpOCnt4BHlqzeUpHci5b\n0sGCefV/pH/+c+QrX/kin/70JSxfvi/f//53OP/88/jmN7/Dqae+hE996mKOOOJI7rlnJV/4wiVc\ncMEn2X//A4nxPj7+8Y9y+OErOPHEEwH42c9+ykUXXUJX184sWNDBJz95AR/84Ec49NDD+OUvf8HH\nP/4RrrnmpyxatGhHhS9JmqCilYId55mtRd75uZvp6R2Y0uMuKLRz8TtfWHdisG7dOnK5HLvttpSl\nS5dy1llnc/TRx9HZ2QnAokWdzJs3j/nzF3DeeecP/aa/dOlSDjjgalavfghIkoKDDz6Yo446BkiS\njcHBQXbZZVd2220pr33tG9hvv/2ZO3du02OWJE3e4KBJway3YsWR7LvvfrzpTaez//6BY489nlNO\neQVtbcNuPkkIB1IoFLjyyq+yevUqVq16kDVrHmPFiqOG9lm2bPehx/vvHzjqqKP5p386m733fhbH\nHHM8p5xyGoVCYcpikyTVb7Bk98EOs2BeO1d++O+5/6EnWrr7oFCYxxVX/C/uvvu3/PrXv+InP7mB\na6/9AVde+e1h+/3mN7fxoQ+9n5NPfhlHHXU0Z575Nj73uYuG7VNbBfjMZy7lgQfu49Zbb+Hmm3/J\ntdf+F1/+8tfZb7/9Jx6gJKnpSqUy5dYoFGQzKQDomD+HZ++xmGKxNbKvkfzhD79n5co7edObzuTQ\nQw/j7W8/h1NOeQn33nvPsP2uv/5aXvaylw8NLCwWi6xZ8xiHHXbEiO/76KMPc/3113HOOe/lwAMP\n5q1vfQdveMOrueOO20wKJKnFtEqVADKcFMwEhUKBb37zCpYsWcLhh6/g7rt/y9atvey///7Mmzef\nVaseYv/9D2Dx4sX8/ve/Y9WqB4EcV199FRs3PsnAwMhjJhYuXMS11/4XCxcu5CUvOZlVqx5i/fp1\nHHDAgVMboCRpXMUWGU8AJgXTav/9D+C88y7gqquu4NJLP8vSpcs4//xPsvfey3nVq07nssu+wJo1\nj/GWt7ydT37yY7z97WeycOFCjjzyaE477b/xpz/FEd93yZKd+fSnP8tll32Rb3/7m3R1LeEd73gX\nhx/+gimNT5I0vlZZowAgV26Vjow6PPHElrpOtr09T1dXB5s29bR090EzGGs2GWs2GWs2TTbWzT39\nnPulWwE44fl78MaXhGafIgC77LIoN94+rmgoSdI0apWFi8CkQJKkadUqCxeBSYEkSdOqlSoFEx5o\nGEIoAHcB58QYb0m37QV8FTgeWAN8OMb4/arXvBi4FNgXuA04K8a4euKnL0nSzNZKAw0nVClIE4Lv\nAgdXbWsDfgJsBQ4BLgGuDiEcnLbvBVwDXAkcDmwArp3MyUuSNNO1yhLHMIGkIIRwEHA7sE9N0z8C\newBvjDH+Ocb4NeDHwAvT9rcCd8YYPx9jvB84A1geQjhuwmcvSdIMV2yhxYsmUik4HrgJOArI1W6P\nMfZUNsQYXxlj/Hr69Ejglqq2XmBl+j6SJM1KrVQpaHhMQYzx8srjEIbNpdwXWB1C+BfgjcATwMdi\njNel7cuAtTVvtx7Ys9FzkCQpK2b8mIJRLCTpEtgJeBnwbeC/QgjPT9sXAH01r+kDvHWfJGnWysTs\ngxEUgQ0xxnemz+8JIRwLvA14B8kAxNoEoABsqvcA+XyOfH7cBZloa8sP+zvLjDWbjDWbjDWbJhtr\nueprLZ/L0d4+fZ9ZM5OCdUBtuhOB56aP1wBLa9qXAnfXe4AlSzrI5cZPCio6O+fXve9MZ6zZZKzZ\nZKzZNNFY58/fPPS4UGinq6ujWafUsGYmBbcDHw4h5GKMlQ6Sg4CHq9qPqewcQlgAHApcUO8BNm7s\nqbtS0Nk5n+7u3pYqy+wIxppNxppNxppNk411c/fWocd9fUU2beoZY++JqyfZaGZS8F3go8BlIYRL\ngJcC/wBUbs33DeD9IYQPADeQJAMPxRhvrvcApVKZUgMDMgYHS5m/EUeFsWaTsWaTsWbTRGPt7x8c\nelwql6f185psx8XQN3SMcQvw9yTVgd8D7wZeHWO8N21/BHglcCZwB8mAxFdM8viSJM1orbROwaQq\nBTHGtprnDwAvGmP/nwMHTuaYkiRlSVanJEqSpAa10uJFJgWSJE2jVhqIaVIgSdI0svtAkiQBUDQp\nkCRJYPeBJElK2X0gSZIAZx9IkqRUKy1eZFIgSdI0slIgSZIAGLRSIEmSwEqBJElKOftAkiQBUHSd\nAkmSBFYKJElSyqRAkiQBLnMsSZJSRWcfSJIksPtAkiSlXLxIkiQBLl4kSZJSRbsPJEkSOPtAkiSl\nWmmgYftEXxhCKAB3AefEGG+paesE7gM+FGP8VtX2FwOXAvsCtwFnxRhXT/QcJEma6VopKZhQpSBN\nCL4LHDzKLhcDy2pesxdwDXAlcDiwAbh2IseXJCkrZvS9D0IIBwG3A/uM0n4McCLweE3TW4E7Y4yf\njzHeD5wBLA8hHNfoOUiSlBUzffbB8cBNwFFArrohhDAX+BpwNtBf87ojgaFuhhhjL7AyfR9Jkmal\nVuo+aHhMQYzx8srjEEJt84eB38YYfzFC2zJgbc229cCejZ6DJElZ0UqLF014oGGtEMLBwNuA546y\nywKgr2ZbH1Co9xj5fI58Pjfufm1t+WF/Z5mxZpOxZpOxZtNkYi2Xy8PufZDP5Whvn77PrGlJAUm3\nwfkxxg2jtG9l+wSgAGyq9wBLlnSQy42fFFR0ds6ve9+ZzlizyVizyVizaSKx1q5RUCi009XV0axT\nalhTkoIQwt7AC4G/CyH8a7p5AfDVEMLpMcZ/BNYAS2teuhS4u97jbNzYU3eloLNzPt3dvS21KMSO\nYKzZZKzZZKzZNJlY+wcGhz3v6yuyaVNPM09vSD3JRrMqBY8B+9Vsuxn4AvDv6fPbgWMqjSGEBcCh\nwAX1HqRUKlNqYEDG4GCJYjHb/xgrjDWbjDWbjDWbJhLr1r7hSUGpXJ7Wz6spSUGMsQSsqt4WQigC\nf40xrks3fQN4fwjhA8ANJMnAQzHGm5txDpIkzTStNMgQJr/M8Vi/tg9rizE+ArwSOBO4A9gJeMUk\njy9J0ozVStMRYZKVghhj2xht+46w7efAgZM5piRJWdFKCxeBN0SSJGnaFDPWfSBJkibISoEkSQJa\nb0yBSYEkSdMka7MPJEnSBBXtPpAkSbD9MsfTzaRAkqRp4pgCSZIEmBRIkqRU0e4DSZIErlMgSZJS\ndh9IkiTAdQokSVLKdQokSRJg94EkSUq5eJEkSQKsFEiSpJTrFEiSJMBKgSRJSrl4kSRJAqwUSJKk\nlGMKJEkS0HqVgvaJvjCEUADuAs6JMd6SbjsS+Bzwd8BjwCUxxiurXvNi4FJgX+A24KwY4+qJn74k\nSTNXqyUFE6oUpAnBd4GDq7btBvwE+CVwCPAx4EshhJPT9r2Ba4ArgcOBDcC1kzh3SZJmtFbrPmi4\nUhBCOAj4zghNpwHrYowfTZ8/FEI4AXgd8FPgrcCdMcbPp+9zBvB4COG4SqVBkqTZJAuzD44HbgKO\nAnJV238KnDHC/ovTv1cAQ1/+McZeYGX6PpIkzTqtdpfEhisFMcbLK49DCNXbHwUerWrbFXgNcH66\naRmwtubt1gN7NnoOkiRlQSbGFIwnhDAP+AFJEvC1dPMCoK9m1z6gsCPOQZKkVtdq3QcTnn0wmhBC\nB/AjYD/g6Bjj1rRpK9snAAVgU73vnc/nyOdz4+7X1pYf9neWGWs2GWs2GWs2TSbWUnl4UpDP5Whv\nn77PrKlJQQhhEfAzkimHJ8QYV1U1rwGW1rxkKXB3ve+/ZEkHudz4SUFFZ+f8uved6Yw1m4w1m4w1\nmyYSa67mF91CoZ2uro5mnVLDmpYUhBByJFMOlwPHxRj/XLPL7cAxVfsvAA4FLqj3GBs39tRdKejs\nnE93d2/L3au62Yw1m4w1m4w1myYT69a+4rDnfX1FNm3qaebpDakn2WhmpeCtwIuAU4DudN0CgP4Y\n4ybgG8D7QwgfAG4gSQYeijHeXO8BSqUypQYGZQwOligWs/2PscJYs8lYs8lYs2kisdbuXyqXp/Xz\nmmzHRTn9A/BKkimKN5AMMKz8+QFAjPGRdJ8zgTuAnYBXTPL4kiTNWMUWm30wqUpBjLGt6vHJdez/\nc+DAyRxTkqSsaLXZB9kfFipJUotqtcWLTAokSZomVgokSRJgpUCSJKVabaChSYEkSdPE7gNJkgTY\nfSBJklJWCiRJEjBLbp0sSZLGVi6XTQokSVLrVQnApECSpGnRauMJwKRAkqRp0WozD8CkQJKkadFq\nCxeBSYEkSdPC7gNJkgTA4KDdB5IkCWcfSJKkVNFKgSRJAisFkiQpZVIgSZIAZx9IkqSUYwokSRJg\n94EkSUpVL3Ocm8bzqNY+0ReGEArAXcA5McZb0m3LgSuAo4CHgXNjjDdWvebFwKXAvsBtwFkxxtUT\nPQdJkmaq6jEFbW05ii0wxmBClYI0IfgucHBN07XAWuAw4GrgmhDCnulr9gKuAa4EDgc2pPtLkjTr\nVN/7oK2tNQr3DZ9FCOEg4HZgn5rtJ5JUAN4eExeRVAPOTHc5C7gzxvj5GOP9wBnA8hDCcZMJQJKk\nmah6meP2fGt0IEwkNTkeuImki6A6ihXAyhjj1qptt6b7VdpvqTTEGHuBlVXtkiTNGtUDDdtaJClo\neExBjPHyyuMQQnXTMpKug2rrgT3rbJckadYYbMHugwkPNBzBAqCvZlsfUKizfVz5fI58HdlU5cNt\nlQ95RzLWbDLWbDLWbJporKXytqSgPX1tPpejvX36PrNmJgVbgSU12wrAM1XttQlAAdhU7wGWLOkg\nl6u/xNLZOb/ufWc6Y80mY80mY82mRmMtFOYMPZ6TJgKFQjtdXR1NPa9GNDMpWMP2sxGWAuuq2peO\n0H53vQfYuLGn7kpBZ+d8urt7W/J+1c1krNlkrNlkrNk00Vi3PJ0Uz9vyOUppV0JfX5FNm3p2yHnW\nk2w0Mym4HfhgCKEQY6x0ExwD/Kqq/ZjKziGEBcChwAX1HqBUKg99cPUYHCxRLGb7H2OFsWaTsWaT\nsWZTo7EOFAeBJCmofLOVyuVp/byamRTcDPwFuCqEcCFwKnAE8Oa0/RvA+0MIHwBuIEkGHoox3tzE\nc5AkaUaoLFbUSuMuJnsmQ7+2xxhLwMtJugTuAl4HnBZjfCxtfwR4Jcm6BXcAOwGvmOTxJUmakSrL\nHLfKdESYZKUgxthW83wVcMIY+/8cOHAyx5QkKQsGhyoFrZMUtE7NQpKkWaSyTkGrrGYIJgWSJE2L\nYjpTIUtjCiRJ0gRUKgWtNKbApECSpGkwNKYg3zpfxa1zJpIkzSKV2QftDjSUJGl2Kzr7QJIkQfWY\ngtb5Km6dM5EkaRap3CfBgYaSJM1yQ+sUOCVRkqTZrWilQJIkQdWYAgcaSpI0u7l4kSRJArZ1Hzim\nQJKkWc5KgSRJAqpvndw6X8WtcyaSJM0ilWWOrRRIkjTLVZY59t4HkiTNci5zLEmSAJc5liRJKRcv\nkiRJQPWYgtb5Km6dM5EkaRZpxdkH7c18sxDCnsBXgOOAJ4EvxBi/kLYtB64AjgIeBs6NMd7YzONL\nkjQTlMplykmhoKWSgmZXCr4PbAGeD/wT8KkQwsvTtuuAtcBhwNXANWkSIUnSrFJZuAhaa/GiplUK\nQgg7ASuAt8QYHwIeCiH8DDgphNAN7AOsiDFuBS4KIZwEnAl8olnnIEnSTFC57wFAe0YrBb1AD3BG\nCKE9hBCAo4G7gSOBlWlCUHErSVeCJEmzSmXmAWR09kGMsQ94F/AOkgThfuAnMcZvAstIug6qrQfs\nPpAkzTrDkoIML150EPAj4AXAm4FXhRBeBywA+mr27QMKTT6+JEktb7Cq+6CVBho2c0zBScBbgD3T\nqsHd6UDCjwA3ATvXvKQAPNPIMfL5HPk6PrzKoI1WGryxoxhrNhlrNhlrNk0o1qqvssLctqGn+VyO\n9vbp+8yaOSXx+cCf04Sg4m7gQ8Aa4Dk1+y8F1jVygCVLOsjl6s+oOjvnN/L2M5qxZpOxZpOxZlMj\nsfYMbKsULF48f2hcQaHQTldXR9PPrV7NTArWAvuFENpjjMV020HAauB24LwQQqEqaTgG+FUjB9i4\nsafuSkFn53y6u3uHlWiyyFizyVizyVizaSKxbtq0rVDe+0z/0BTFvr4imzb17JDzrCfZaGZScD1w\nMfD1EMKngAOB89I/twB/Aa4KIVwInAocQTLuoG6lUplS1eCM8QwOligWs/2PscJYs8lYs8lYs6mR\nWPv6B7c9KZepfLOVyuVp/byaOfugGziJZKbBHcDngE/EGL8eYyyRJAJLgbuA1wGnxRgfa9bxJUma\nKYqlqnUKWmjcRVOXOY4xPgC8dJS2VcAJzTyeJEkz0fAVDVtn9kHrpCeSJM0Ss2WdAkmSNI7BYd0H\nVgokSZq1itXdBy20eJFJgSRJU2zYmAK7DyRJmr2quw8caChJ0ixWXSlopSmJrXMmkiTNEtXrFDim\nQJKkWWz4lESTAkmSZi0XL5IkSQBDN07KkdwuuVWYFEiSNMUq3QdtbTlyJgWSJM1exUpS0EJrFIBJ\ngSRJU67SfdBKgwzBpECSpClX6T5opfsegEmBJElTrjL7oK2FFi4CkwJJkqZcZfEiuw8kSZrlhmYf\nmBRIkjS7VQYattJ9D8CkQJKkKTc0psBKgSRJs1v14kWtxKRAkqQp5uJFkiQJqB5TYKVAkqRZrVVn\nH7Q3881CCHOBS4HXAn3AN2KMH07blgNXAEcBDwPnxhhvbObxJUmaCYaWOc747IMvAicBfw+8Djgr\nhHBW2nYdsBY4DLgauCaEsGeTjy9JUsvLfKUghNAFnAmcGGP8bbrtEmBFCOFBYB9gRYxxK3BRCOGk\ndP9PNOscJEmaCYotusxxM7sPjgGeijHeWtkQY7wYIIRwHrAyTQgqbiXpSpAkaVYZTJc5bs9qpQDY\nF3g4hPBG4EPAXOCbwKeAZSRdB9XWA3YfSJJmnVZdvKiZScFC4ADgbcCbSRKBrwLPAAtIBh5W6wMK\njRwgn8+Rr+MDrJRjWq0ssyMYazYZazYZazZNJNbBcnrr5PY87e15Kt9s+VyO9vbp+8yamRQUgUXA\na2OMjwGEEJ4FnA38b2Dnmv0LJAlD3ZYs6SCXqz+r6uyc38jbz2jGmk3Gmk3Gmk2NxJrmBHQsmEtX\nV8fQyoaFQjtdXR074vTq0sykYB2wtZIQpCJJF8Ea4Dk1+y9NX1O3jRt76q4UdHbOp7u7d2jaR1YZ\nazYZazYZazZNJNb+gUEAisVBNm3qGepO6OsrsmlTzw45z3qSjWYmBbcD80II+8UYH0y3HUyyJsHt\nwHkhhEKMsdKNcAzwq0YOUCqVKaXTOOoxOFiiWMz2P8YKY80mY80mY82mRmKtTEnMk6NYLFH5ZiuV\ny9P6eTUtKYgx/imE8GPgqhDC2SRjCj5IMuXwFuAvaduFwKnAESRjDyRJmlWKQ4sXtdZAw2aPZng9\n8CBJBeAq4Isxxi/HGEskicBS4C6ShY1Oq+lqkCRpVpgNsw+IMW4h+e3/zSO0rQJOaObxJEmaibbd\nOrm1Zme01tlIkjQLtOriRSYFkiRNoXK53LLLHLfW2UiSlHGl8rZZdK02psCkQJKkKVQZZAjZn30g\nSZLGMFiyUiBJkti2RgFAu2MKJEmavawUSJIkoGZMQb61voZb62wkScq4yhoF4EBDSZJmtWJVpaDd\npECSpNlr+JiC1voabq2zkSQp44Z1HzjQUJKk2cvFiyRJElCzToHdB5IkzV7DxhRYKZAkafZy8SJJ\nkgTUjilora/h1jobSZIybviYAisFkiTNWsPHFLTW13BrnY0kSRnnOgWSJAmovSGSSYEkSbNWsVR9\n74PW+hpu31FvHEL4MbA+xnhm+nw5cAVwFPAwcG6M8cYddXxJklrR4OAsu0tiCOE1wMk1m68F1gKH\nAVcD14QQ9twRx5ckqVVVBhrmcpDPZTwpCCF0ARcDd1RtOxHYF3h7TFwE3Aac2ezjS5LUyipTElvt\nDomwY7oPLgG+BexRtW0FsDLGuLVq260kXQmSJM0alUpBe4t1HUCTKwVpReBY4MKapmUkXQfV1gN2\nH0iSZpXK7INWm3kATawUhBAKwOXA2THGvhBCdfMCoK/mJX1AoZFj5PM58nV8iJXFIFptUYgdwViz\nyVizyVizqdFYK3MP2tvytLcnr6l8s/2flWtYcfBuHLx8SZPPsj7N7D74GHBnjPEXI7RtBWojLADP\nNHKAJUs6yDUwKKOzc34jbz+jGWs2GWs2GWs21Rtr+5w2AObMaaOrqwMYPgvhoqtXcv3nXt78E6zn\n3Jr4XqcDu4UQtqTPCwAhhFcBnwYOrtl/KbCukQNs3NhTd6Wgs3M+3d29w6Z+ZJGxZpOxZpOxZlOj\nsfY80w8k/febNvUAwxc0omp7M1USkLE0Myk4HphT9fxikirJB4DlwP8MIRRijJVuhGOAXzVygFKp\nTKlUHn/H1OBgiWIx2/8YK4w1m4w1m4w1m+qNdSDdJ5/PDe1f+802XZ9Z05KCGONfqp+nFYNyjHF1\nCOER4C/AVSGEC4FTgSOANzfr+JIkzQSVakKrLVwEU7TMcYyxBLycpMvgLuB1wGkxxsem4viSJLWK\nYtpV0D5L1ikAIMZ4Rs3zVcAJO+p4kiTNBJW7JM7aSoEkSUpUFi9qxXUKTAokSZpCrbx4kUmBJElT\nqJh2H1TfNrlV0gOTAkmSptBIlYI57a3xddwaZyFJ0iwxNKagqlJgUiBJ0iw0NPugqlIw16RAkqTZ\nZ2idgqopie01SUG5XP/qvc1kUiBJ0hTaNqagqvug5g6Lgw0s6d9MJgWSJE2hkRYvmpveOXFon0GT\nAkmSMm+kxYu2rxRMzw2RTAokSZpClRsiVa9TMGfO8K/jot0HkiRlX7GeSoHdB5IkZd/QQMO20Rcv\nmkz3wc33rOHffvh7nnq6r+HXmhRIkjSFto0p2PYVXLtOwUQrBeVyme/e9GdW/ukJ7rz/r0Pbfnzb\nw3W93qRAkqQptG1MQXWlYPjsg4mOKejZWqR/IHn/gfQ4Dz++hR/cvKqu15sUSJI0hUaqFGzXfTA4\nse6DzT392217cvPWul9vUiBJ0hQpl8sjT0ncbkzBxCoFm0cYR7Dlme0ThdGYFEiSNEWqv+zHHmg4\nwaRghErBlmcG6n69SYEkSVOkegBh9ToF2w80nGD3wdMmBZIkzQjVUw13RPdB90iVgl67DyRJajnV\nswrGXuZ4ot0HI40psFIgSVLLqe4+aBu2zHFzbog08pgCKwWSJLWc6rEC7TvghkiTHWjYPqGjjiKE\nsDvwReAE4BngP4HzYoz9IYTlwBXAUcDDwLkxxhubeXxJklpZvbMPihOtFNQMNCyXyzzdO33dBz8A\n5gFHA68BTgEuTNuuA9YChwFXA9eEEPZs8vElSWpZw8cUjDH7YAKVguJgabsE4Jm+YkPjE5pWKQgh\nBOAFwG4xxg3ptvOBz4YQfgbsA6yIMW4FLgohnAScCXyiWecgSVIrG9Z9MNY6BROoFIzUTdBI1wE0\nt1LwOPAPlYSgymLgSGBlmhBU3ErSlSBJ0qwwOEqloPbeBxOZfTDyzIP6BxlCEysFMcbNwNAYgRBC\nDngXcBOeZXeBAAATtUlEQVSwjKTroNp6wO4DSdKsMXz2QXPXKZjswkXQ5IGGNT4LHAocAbwPqE1h\n+oBCI2+Yz+fIV43WHE1lmkdbW/YnVxhrNhlrNhlrNjUUa9VX2Nw5bbS3V147/LutTHmorV614wny\n+Rw9W4sNvccOSQpCCJ8B3gO8OsZ4XwhhK7CkZrcCyQyFui1Z0kEuN35SUNHZOb+Rt5/RjDWbjDWb\njDWb6ol13l97hh4v6VpAV1fHiPvNnTtn1LbR9NVUF+bPnzs0sLG2EjGapicFIYQvAW8HXh9jvDbd\nvAY4uGbXpcC6Rt5748aeuisFnZ3z6e7unfD60TOFsWaTsWaTsWZTI7Fu7u4detzT08emTT0j7vf0\nGG2jefyJp4c97+3tH7pr4qL5c+p6j2avU3AB8Dbg9BjjNVVNtwMfDCEUYoyVboRjgF818v6lUplS\nA/0sg4MlisVs/2OsMNZsMtZsMtZsqifW/v7BbU9K5VH37x8YbPhze2rL8F76Uqk8tJjRwgVTnBSE\nEA4CPgJ8Gvh/IYTdqppvBv4CXBVCuBA4lWSswZubdXxJklrd8MWLRi/pT2z2wegDDRctmFvXezRz\nBMip6ft9hGSmwVqS7oG1McYScBpJl8FdwOuA02KMjzXx+JIktbRiVfdC7eDCahNZp2Dk2QfJtkVT\nXSmIMX4G+MwY7Q+RLH8sSdKsVF0BaB9jjFxxAisajlkpmD/1lQJJkjSG0RYvGmu/emztL9I3MDhs\nW/V9D+qtFJgUSJI0RQZ3UPfBSFWCvoESA+lgRZMCSZJaTPXdD9vG6D5o9IZII40neLpqiePpGGgo\nSZLGUOkWaMvntluMb7eu+dvtV6/uMcYTgJUCSZJaTqUCMFKV4J9fe+i2/SbRfZBPk40tVgokSWpd\nlS/7kcYTLOmcxwF77ZTs12CloHKHxI557UPvvaXXSoEkSS2rOFQpGPnrt1JBKDa4NHRlTMHihdvu\nM1jpPmjL51hQqG8FApMCSZKmyFiVgurtjVcK0qSgY1s3QWU64sL5c+q+maBJgSRJU6TyZT/awkXt\naQWh0ZtIjZQUVNR73wMwKZAkacoMVQpG6z6YYKWgMvugc4SkoN47JIJJgSRJU2ZoTMFo3Qf5xpOC\nUrk8lBQsXjhCUlDnzAMwKZAkacqMWykY6j6oPyno6R0YSiJG6j6od+YBmBRIkjRlBserFAx1H9Q/\npqB6jYLFHYXt2q0USJLUgirLHI8+0LDx7oPhSYGVAkmSZoShZY7bmtd98PiTzww97nRMgSRJM0Nl\nquFoN0OaSPfBv9/4p6HHC0eYaeDsA0mSWtC2SsHYsw+KDd77oCI/wiJFdh9IktSCBopJBaB9nHUK\nevuL3PaHx3nk8S30DQyO+Z7Lly4C4DnLu0Zsb6T7oL7FkCVJs153Tz+r13Wzel03q9Z1s3ZDD4U5\nbSzumEtnx1w6F6R/d8ylq7PAnkv7yZVKdBTamNPeNt2nP+2e2TrAqnXdAOyy0/wR95k3N/la7h8o\nccUN9wEwtz3PKUcv5+QVzyI/QrfDE0/1ArB8Wed2bTlG7lIYjUmBJGk7ff2DPLJ+C6vWdg8lAhs2\nbx1x33VVA91GM7/QniYOc4YSh8VVSUT1tsLcbCYQdzzw16FKwQv/dumI+xx58G488MgmHlrbTW9f\nEYD+Yokf3LyKex98kre87CB261owtP/TvQP0bE3223WERKNj/pwRE4nRmBRI0iw3WCqx5omebVWA\ntVtYs+FpyqN0a89pz/Os3Rax124LKRZLdPf00/1MP909/WzuGRjxDn+9fUV6+4qs3zj++RTmtNHZ\nMWeo+rC4OnFIE4nKtnlz2+q+2c902ti9lRvv/AsAe+zSwd67LRxxvyWd83jf6YdQLpd56ul+1jzx\nNNfeuppVa7t5cM1mLvjGHZx+wn686NA9yOVyrN+0LSHbtWv7pKCR8QRgUiBJs0q5XGbD5q3pl3+S\nBDzy+Bb6iyOPds8Bu+/SwT7LOtl3WSf7LOtkj106aB9lSl25XKa3b5CevgHK+TYee3wzT23pSxKH\nnn42VyUQ3T0DI/aX9w0M8sRTgzzx1MiViWpz2vM1icKcEZOHzo65LCi0T0sC8cfVG/nqj/44dNfC\nFx2yx7jnkcvl6FpUoGtRgYOWd/GT2x/lR7eupn+gxLf/959Y+ecNnHHygfx1U+/Qa3atqiBUNDLz\nAKY4KQghFIDLgFcCzwCfizH+61SegyTNJlue6Wf1ui1VVYDuoS+nkezcWWCfZZ3ss3uSBOy92yLm\nF+r/qsjlciyY107nwrl0dXWwe9c8iqMkHJB0U2weShK2/dlu2zP99PZtn0AMFEs82b2VJ7vHTyDa\n23Isqk4WhnVfzGHxgrksSp8vnD9nxJH8jSiVy9zw64e57tbVlEkSrJe9cDknPH+Pht6nLZ/nlBcu\n5+/23Zmv33Afazb08MfVG/nw13/DTuliRXPn5NkpXaNgoOrzXtjAIEOY+krBJcDzgRcBy4FvhRAe\njjH+cIrPQ5Iyp29gkEfXb2H12mQg4Op13WP+tr2g0M4+u3dWVQEWsXjh9svk7kiFuW3sOnf+iP3h\ntfoHBtMqw8BQorC5Z/vkobunf6ifvVpxsMymLX1s2tI37rHyuRyLqsY/DO/GGN610dU5b7vXb3mm\nnyuuv48/rE76SzrmtfO2U5/Dc/fduY5PZWTPWrqI8998ONf8ajU//82j9PUPsr4/qRTsutOCEasP\nKw7eraFjTFlSEEJYALwFeGmM8V7g3hDCxcC7AJMCSWpAqVRm7YaeoS//1Wu7eeyJHkqjDARob8vz\nrN0WDqsC7No1f0b0x1fMndPG3yyez98sHj+BKA7WjnXY1mXRXVWF2NzTT0/vALWfWqlcZnPaPp4c\nyUqCi+bPYVGaKMS/PDWUfOyzrJOzT/tbdl68ffLQqDntbbz6hP044sBd+fXv13HPgxvY2N3Hkc/Z\n9uX/goN25d4Hn+T0k5L9GpErjzaSpMlCCEcBNwMLYozFdNvxwE9ijB31vMcbLvhpXSebA/L5HKVS\nebsLXbep+VgmfagckMvnKNcb6xRdb9gxH2Hlum53rCm8XlMll8slP+AzGNywkHJJrOVyeYf8o5na\nT2/8ow3FOkkDxfKIA/og+bmw7G862GfZoqQCsHsne+6ycNRxADtCe3uerq4ONm3qGbP7oBUMlkps\neWZgu3EPW3oGasZAJI8buXwnHbYnp5+43w777MvlMv3FEoU5bcO2FQdL200D3WWXReNmgFPZfbAM\n2FBJCFLrgXkhhJ1jjE+O9wabnx4/Y5Ok2aZrUWHoy3+fZZ0sX9rYOIDZri2fZ6eFBXaqo+ukVC7z\ndO/AsC6Lp7cO0Fcs89cne3jq6WRbLgf/sGJvXnBQY+X7RuVyuWEJQWXbRNeFmMp/NQuA2o6cyvO6\nOrFOPnLvugZ+5HI5CoV2+vqKjWfkU1BJyzXxIKPFOiUFwSn5rKoe53MUCnPo6xug3MAdxMY/yI4P\npNEj5PM55hba6e8rjlgZGfEYM6cKPEy+6rqWSuUpKWdP1/+PfC5HYd4c+rYOjFrmr1c+l2OPXTrY\nd/fFdC2a2nEA9ajc8Ge0G//MZEvmtLGkahxBW1uezs75dHf3Dt3bYKaayqRgK9t/+Veej7/yBXD2\nfz90hv7Yk6TZqbNz/P7/rMhCrFOZwq0B/iaEUH3MpUBvjPGpKTwPSZI0gqlMCu4BBoAjq7YdC9w5\nhecgSZJGMWWzDwBCCF8BjgbOBPYErgL+R4zxuik7CUmSNKKpHp76PpIVDX8JbAY+akIgSVJrmNJK\ngSRJal3ZmysiSZImxKRAkiQBJgWSJCllUiBJkgCTAkmSlJqxd8wIIfwYWB9jPDN9/gXg3SS3Kcul\nf787xnhZ2v5i4FJgX+A24KwY4+rpOPdGjRDrcuAK4CjgYeDcGOONVfvPuFhDCM8GvkyyjsWTwL/F\nGC9J2zJ1bceJdTkZubYhhN2BLwInkCxl/p/AeTHG/gxe07FiXU5GrmmtEEIBuAs4J8Z4S7otU9e2\nYpRYl5OxazsjKwUhhNcAJ9dsPgj4IMndGJemf38j3X8v4BrgSuBwYANw7VSd72SMEuu1wFrgMOBq\n4JoQwp7p/jMu1hBCDvgxyV0zDwHeAXwkjR0ydG3riPU6snNtfwDMI0l+XgOcAlyYtmXmmqbGijVL\n13RI+iX5XeDgmqasXduxYs3Uz2KYgZWCEEIXcDFwR03TQcDFMca/jvCytwJ3xhg/n77HGcDjIYTj\nKhlfKxop1hDCiSRZ55Exxq3ARSGEk0hWifwEcBYzL9bdgLuBs2OMPcBDIYSbgGOA75GtaztqrCGE\n9cA+wIqZfm1DCAF4AbBbjHFDuu184LMkXxiZuaZjxRpC+BkZuabVQggHAd8ZpTkz1xZGjzWjP4tn\nZKXgEuBbwP2VDSGERcAewJ9Gec2RwNBFiDH2AitJSj6tbLtYgRXAyvQfYcWtbItlBTMs1hjj4zHG\n16ZfkoQQjgaOA/5P1q7tKLEeC/xfkliycm0fB/6h8iWZygGLs3ZNGTlWgMVk65pWOx64ieQ8h+5e\nm8FrC6PESgZ/FsMMqxSkmdmxwHOBy6uaDibpt/pICOFkkn7af40xfittX0ZS4qm2nuT+Cy1pjFjH\ni2XGxVothPAwsBdwA/BDkt/AMnVtK0aI9fNk5NrGGDcD1X2rOeBdwC9IfpPMzDUdI9abyOj/1xjj\n0M+kpFAyJFPXFsaMNZPXdsZUCtI+nctJyq59tc1ACbiPpP/968DXQggvT9sXALWv6QMKO+6MJ26c\nWMeLZUbFOoJXkvTHHkryJZmpa1ujEushJIORsnxtP0sS50eAA8nuNYUk1kOBD5PtazqSrF/bapm8\ntjOpUvAxkv6ZX9Q2xBi/FUL4UYzxqXTTH0IIBwDvJBnks5XtL0QB2LQDz3cyPsYosZLEsqRmW4Fk\nxHOlfSbFOkyMcSVACOFckoE7nUCWru2QqljfB/w7yYCkrprdZvy1DSF8BngP8OoY433AfRn7/zqk\nNtYQQqb/v9bK4M/isWTy2s6YSgFwOnBaCGFLCGEL8HrgDSGEboCqf4QV95P0bQGsIRkFW20psG4H\nnu9kjBXrY4wdy0yLlRDCrlW/SVTcB8wFFmXp2o4T6zqyd22/BJwLvD7GODTyOkvXtGKUWMeLZUbG\nOpYsXttRZPLazqSk4HiS/vXnpX9+RJJ5HhJC+HgI4caa/Q8FHkgf304ykh2AEMKCtP32HX3SEzRa\nrM8DfgM8P+1iqDiGbbHMtFghGZ39wxDCsqpthwNPAO/N2LUdLda/kgxSOiwr1zaEcAHwNuD0GOP3\nq7Zn7f/rqLGSnHPW/r+OKovXdgyZvLYz9tbJIYRvAuUY45khhMOBXwPnkcwDfSnwOeBFMcY7QgjP\nIvlt7OMkg7ouAPaPMT5/es6+MTWx5oF7gT+QzIM+lSTu58QYH5uJsaYx3QZsBN5H8sV5JfApkv9A\nmbm248R6GfA74PfM8GubTuP6HfBpkriq7UW2rulYsT5Bxv6/1gohlEiu3S2z4GdxdayZ+1kMM6tS\nMKoY413Aq4A3kfxAfRfw2hjjHWn7IySDus4kmfO/E/CK6TnbyYkxloCXk5Sh7gJeB5wWY3wsbZ9x\nsVbF1AP8P+BrwOdjjP+WtWs7Tqwlkh8sWbi2p5L8fPkIyQjstSRl07VZu6aMHWsJOI1sXNPRDP1m\nmcFrW6s61sz9LIYZXCmQJEnNlYlKgSRJmjyTAkmSBJgUSJKklEmBJEkCTAokSVLKpECSJAEmBZIk\nKWVSIEmSAJMCSZKUMimQJEmASYEkSUqZFEiSJADap/sEJE2v9HawnwDeDMwBjgMeBT4JvB5YTHLH\nuwtijDemr/kfafvH0z+LgF8A58QY16X7zAM+THL3uN2BB4ALY4w/TNvzwL8ArwV2BVaT3DHyqzs8\naEkjslIgCeCdJLd1fUWM8SHgfwEvJvnCPgT4T+D6EMLJVa/ZFXgvya1yTwD2An6WftkDfA94I3AO\n8FzgWuD7IYRT0/ZzgP8G/Hdgf+BLwGUhhBfuqCAljc1KgSSAb8UY7wYIITwbeA1wSIzxd2n750MI\nhwD/DPw03dYOvDHGeE/6ujcA9wMnhRD+ApwK/GOM8Wfp/h8PITwP+BDwI2BfoAd4JMb4OElC8ADw\npx0cq6RRmBRIAniw6vGh6d+3hhByVdvbgU1Vz7dUEgKAGGMMIWwiqQrsBJSBX9cc52bg0+njLwOn\nAY+FEO4GbgS+F2PcMNlgJE2M3QeSAHqrHudJvtCPAZ5X9ec5wFFV+w2M8D5twCCQG6Gt8t4DADHG\nB4H9gJcCNwH/CNwdQnjjhKOQNCkmBZJq/YHkS333GOOqyh/gLcAZVfstCSEsrzwJITwH6AR+C/wu\nfY9jat77OOC+dP93A6+KMd4UY/yfMcbnkSQHp++YsCSNx+4DScPEGO8LIdwAXB5CeBfwR5LBgB8k\nmaFQkQOuDiG8B5hL0h3w6xjjrQDpe1wWQjgb+DPJoMVT0vcC2AX4aAjhGeBe4CCSQY2X7tgIJY3G\npEBSeYRtrwY+BVwOLAEeAs6MMV5d87qrgZ+QJAXXAf9U1X46yfiBr5OMMfg98MoY44/S9o+RTIH8\nIrAUeJwksbioGUFJalyuXB7p54EkjS5dp+AbMca26T4XSc3jmAJJkgSYFEiSpJTdB5IkCbBSIEmS\nUiYFkiQJMCmQJEkpkwJJkgSYFEiSpJRJgSRJAkwKJElSyqRAkiQB8P8BaxDtvmyG+YEAAAAASUVO\nRK5CYII=\n",
      "text/plain": [
       "<matplotlib.figure.Figure at 0x468342eb8>"
      ]
     },
     "metadata": {},
     "output_type": "display_data"
    }
   ],
   "source": [
    "most_repos = df.owner.value_counts()[:20]\n",
    "d = []\n",
    "for person, repos in zip(most_repos.index, most_repos.values):\n",
    "    print(\"%s\\t %d stars\\t%d repos\" % (person, np.mean(df[df.owner == person].stars), repos))\n",
    "    d.append({'stars': np.mean(df[df.owner == person].stars), 'repos': repos})\n",
    "new_df = pd.DataFrame(d)\n",
    "new_df.plot(x='repos', y='stars')"
   ]
  },
  {
   "cell_type": "code",
   "execution_count": 454,
   "metadata": {
    "collapsed": false
   },
   "outputs": [
    {
     "ename": "TypeError",
     "evalue": "'function' object is not iterable",
     "output_type": "error",
     "traceback": [
      "\u001b[0;31m---------------------------------------------------------------------------\u001b[0m",
      "\u001b[0;31mTypeError\u001b[0m                                 Traceback (most recent call last)",
      "\u001b[0;32m<ipython-input-454-b5bb2a9704b2>\u001b[0m in \u001b[0;36m<module>\u001b[0;34m()\u001b[0m\n\u001b[1;32m      2\u001b[0m \u001b[0mnum_orgs\u001b[0m \u001b[0;34m=\u001b[0m \u001b[0mlen\u001b[0m\u001b[0;34m(\u001b[0m\u001b[0mdf\u001b[0m\u001b[0;34m[\u001b[0m\u001b[0mdf\u001b[0m\u001b[0;34m.\u001b[0m\u001b[0mtype\u001b[0m \u001b[0;34m==\u001b[0m \u001b[0;34m'Organization'\u001b[0m\u001b[0;34m]\u001b[0m\u001b[0;34m)\u001b[0m\u001b[0;34m\u001b[0m\u001b[0m\n\u001b[1;32m      3\u001b[0m \u001b[0;34m\u001b[0m\u001b[0m\n\u001b[0;32m----> 4\u001b[0;31m \u001b[0mprint\u001b[0m\u001b[0;34m(\u001b[0m\u001b[0mmap\u001b[0m\u001b[0;34m(\u001b[0m\u001b[0mdf\u001b[0m\u001b[0;34m[\u001b[0m\u001b[0mdf\u001b[0m\u001b[0;34m.\u001b[0m\u001b[0mtype\u001b[0m \u001b[0;34m==\u001b[0m \u001b[0;34m'User'\u001b[0m\u001b[0;34m]\u001b[0m\u001b[0;34m.\u001b[0m\u001b[0mlanguage_1\u001b[0m\u001b[0;34m.\u001b[0m\u001b[0mvalue_counts\u001b[0m\u001b[0;34m(\u001b[0m\u001b[0;34m)\u001b[0m\u001b[0;34m,\u001b[0m \u001b[0;32mlambda\u001b[0m \u001b[0mx\u001b[0m\u001b[0;34m:\u001b[0m \u001b[0mx\u001b[0m\u001b[0;34m/\u001b[0m\u001b[0mnum_users\u001b[0m\u001b[0;34m)\u001b[0m\u001b[0;34m)\u001b[0m\u001b[0;34m\u001b[0m\u001b[0m\n\u001b[0m\u001b[1;32m      5\u001b[0m \u001b[0mprint\u001b[0m\u001b[0;34m(\u001b[0m\u001b[0mdf\u001b[0m\u001b[0;34m[\u001b[0m\u001b[0mdf\u001b[0m\u001b[0;34m.\u001b[0m\u001b[0mtype\u001b[0m \u001b[0;34m==\u001b[0m \u001b[0;34m'Organization'\u001b[0m\u001b[0;34m]\u001b[0m\u001b[0;34m.\u001b[0m\u001b[0mlanguage_1\u001b[0m\u001b[0;34m.\u001b[0m\u001b[0mvalue_counts\u001b[0m\u001b[0;34m(\u001b[0m\u001b[0;34m)\u001b[0m\u001b[0;34m[\u001b[0m\u001b[0;34m:\u001b[0m\u001b[0;36m5\u001b[0m\u001b[0;34m]\u001b[0m\u001b[0;34m)\u001b[0m\u001b[0;34m\u001b[0m\u001b[0m\n",
      "\u001b[0;31mTypeError\u001b[0m: 'function' object is not iterable"
     ]
    }
   ],
   "source": [
    "num_users = len(df[df.type == 'User'])\n",
    "num_orgs = len(df[df.type == 'Organization'])\n",
    "\n",
    "print(map(df[df.type == 'User'].language_1.value_counts(), lambda x: x/num_users))\n",
    "print(df[df.type == 'Organization'].language_1.value_counts()[:5])"
   ]
  },
  {
   "cell_type": "markdown",
   "metadata": {},
   "source": [
    "# REPORT AND PRESENTATION NEED TO HAVES\n",
    "Presentation:\n",
    "\n",
    "1. How we obtained our data and how we incorporated it /combined it.\n",
    "\n",
    "2. Data Analysis: info from project report; analysis of data; getting to know your data; statistics\n",
    "\n",
    "3. Application of techniques learned in class; took results of techniques and gave intuitive interpretation of results. Techniques used. Conclusions. Surprises, Analysis. Has hypothesis(es) and results supported one another or did not verify hypothesis. If results did not support hypothesis, why? Lack of data, type of data, hypothesis incorrect?\n",
    "\n",
    "Report:\n",
    "\n",
    "- What we are going to say and figures in our poster. Script/touch points."
   ]
  },
  {
   "cell_type": "markdown",
   "metadata": {},
   "source": [
    "# Conclusions"
   ]
  },
  {
   "cell_type": "code",
   "execution_count": 272,
   "metadata": {
    "collapsed": true
   },
   "outputs": [],
   "source": [
    "# SOMETHING INTELLIGENT"
   ]
  },
  {
   "cell_type": "code",
   "execution_count": null,
   "metadata": {
    "collapsed": true
   },
   "outputs": [],
   "source": []
  },
  {
   "cell_type": "code",
   "execution_count": null,
   "metadata": {
    "collapsed": true
   },
   "outputs": [],
   "source": []
  },
  {
   "cell_type": "code",
   "execution_count": null,
   "metadata": {
    "collapsed": true
   },
   "outputs": [],
   "source": []
  },
  {
   "cell_type": "code",
   "execution_count": null,
   "metadata": {
    "collapsed": true
   },
   "outputs": [],
   "source": []
  },
  {
   "cell_type": "code",
   "execution_count": null,
   "metadata": {
    "collapsed": true
   },
   "outputs": [],
   "source": []
  },
  {
   "cell_type": "code",
   "execution_count": null,
   "metadata": {
    "collapsed": true
   },
   "outputs": [],
   "source": []
  }
 ],
 "metadata": {
  "anaconda-cloud": {},
  "kernelspec": {
   "display_name": "Python [conda root]",
   "language": "python",
   "name": "conda-root-py"
  },
  "language_info": {
   "codemirror_mode": {
    "name": "ipython",
    "version": 2
   },
   "file_extension": ".py",
   "mimetype": "text/x-python",
   "name": "python",
   "nbconvert_exporter": "python",
   "pygments_lexer": "ipython2",
   "version": "2.7.12"
  }
 },
 "nbformat": 4,
 "nbformat_minor": 1
}
